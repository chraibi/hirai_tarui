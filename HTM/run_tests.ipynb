{
 "cells": [
  {
   "cell_type": "code",
   "execution_count": 2,
   "metadata": {},
   "outputs": [],
   "source": [
    "from src.agents import Agent\n",
    "from src.utils import normalize, extract_walls_from_geometry\n",
    "from shapely.geometry import Polygon, Point\n",
    "import numpy as np\n",
    "import pandas as pd\n",
    "import pedpy\n",
    "import jupedsim as jps\n",
    "from jupedsim.internal.notebook_utils import animate\n",
    "from src.parameters import ForceParameters, C1Parameters, H1Parameters, C2H2Parameters\n",
    "import matplotlib.pyplot as plt\n",
    "from matplotlib.patches import Wedge\n",
    "# Sign parameters\n",
    "from shapely import wkt\n",
    "import shapely\n",
    "import matplotlib.pyplot as plt\n",
    "import matplotlib.patches as mpatches"
   ]
  },
  {
   "cell_type": "code",
   "execution_count": 2,
   "metadata": {},
   "outputs": [],
   "source": [
    "y = 2\n",
    "area = Polygon([(0, 0), (12, 0), (12, 12), (10, 12), (10, y), (0, y)])\n",
    "obstacle = Polygon([[7.5, 0.7], [8.5, 0.7], [8.5, 1.2], [7.5, 1.2]])\n",
    "#area = shapely.difference(area, obstacle)\n",
    "\n",
    "spawning_area = Polygon([(2, 0), (6, 0), (6, y), (2, y)])\n",
    "exit_polygons = [Polygon([(10, 11), (12, 11), (12, 12), (10, 12)])]\n",
    "walkable_area = pedpy.WalkableArea(area)\n",
    "sign_points = [(11, y/2)]\n",
    "sign_orientations = [(-1,0)]"
   ]
  },
  {
   "cell_type": "code",
   "execution_count": 3,
   "metadata": {},
   "outputs": [],
   "source": [
    "def plot_simulation_configuration(\n",
    "    walkable_area,\n",
    "    spawning_area,\n",
    "    exit_areas,\n",
    "    vision_radius=20.0,\n",
    "    sign_fov_angle=np.pi,\n",
    "    sign_points=[],\n",
    "    sign_orientations=[]\n",
    "):\n",
    "    axes = pedpy.plot_walkable_area(walkable_area=walkable_area)\n",
    "    axes.fill(*spawning_area.exterior.xy, color=\"orange\")\n",
    "    for exit_area in exit_areas:\n",
    "        axes.fill(*exit_area.exterior.xy, color=\"indianred\")        \n",
    "    axes.set_xlabel(\"x/m\")\n",
    "    axes.set_ylabel(\"y/m\")\n",
    "    axes.set_aspect(\"equal\")\n",
    "\n",
    "    for i, (pos, orient) in enumerate(zip(sign_points, sign_orientations)):\n",
    "        # Normalize orientation\n",
    "        orient = orient / np.linalg.norm(orient)\n",
    "        # Sign point and direction\n",
    "        axes.plot(*pos, \"bo\")\n",
    "        axes.arrow(*pos, *(orient * 2), head_width=0.2, color=\"blue\")\n",
    "        # Draw vision wedge for each sign\n",
    "        angle_deg = np.degrees(np.arctan2(orient[1], orient[0]))\n",
    "        wedge = plt.matplotlib.patches.Wedge(\n",
    "            pos,\n",
    "            vision_radius,\n",
    "            theta1=angle_deg - np.degrees(sign_fov_angle) / 2,\n",
    "            theta2=angle_deg + np.degrees(sign_fov_angle) / 2,\n",
    "            facecolor=\"lightblue\",\n",
    "            alpha=0.3,\n",
    "            edgecolor=\"blue\",\n",
    "        )\n",
    "        axes.add_patch(wedge)\n",
    "        axes.text(pos[0] + 0.4, pos[1] + 0.4, rf\"$S_{i}$\", fontsize=12)\n",
    "\n",
    "   "
   ]
  },
  {
   "cell_type": "code",
   "execution_count": 4,
   "metadata": {},
   "outputs": [
    {
     "data": {
      "image/png": "[encoded data removed]",
      "text/plain": [
       "<Figure size 640x480 with 1 Axes>"
      ]
     },
     "metadata": {},
     "output_type": "display_data"
    }
   ],
   "source": [
    "sign_vision_radius = 1\n",
    "plot_simulation_configuration(\n",
    "    walkable_area,\n",
    "    spawning_area,\n",
    "    exit_areas=exit_polygons,\n",
    "    vision_radius=sign_vision_radius,\n",
    "    sign_fov_angle=np.pi,\n",
    "    sign_points=sign_points,\n",
    "    sign_orientations=sign_orientations\n",
    ")"
   ]
  },
  {
   "cell_type": "code",
   "execution_count": 5,
   "metadata": {},
   "outputs": [],
   "source": [
    "mass = 1\n",
    "damping = 1\n",
    "params = ForceParameters(\n",
    "    a=1.2,\n",
    "    wall_distance=1,\n",
    "    wall_strength_always=3.,\n",
    "    wall_strength_into=4.,\n",
    "    exit_strength=1,\n",
    "    exit_domain_radius = 20.0,\n",
    "    q1=0,\n",
    "    q2=0., # q2< q1\n",
    "    eta_mem=0.4,\n",
    "    eta_sign=2,\n",
    "    hi=1,\n",
    "    cutoff_hi=30,\n",
    "    sign_vision_radius= sign_vision_radius,\n",
    "    fov_angle= np.pi * 2 / 3,  # 120 degrees\n",
    ")\n",
    "steps = 200\n",
    "num_agents = 2\n",
    "\n",
    "dt = 0.01\n",
    "pos_panic=[0, 1]"
   ]
  },
  {
   "cell_type": "code",
   "execution_count": null,
   "metadata": {},
   "outputs": [],
   "source": [
    "\n",
    "c1params = C1Parameters(\n",
    "    cn0=-0.5,\n",
    "    cr0= 1.0,\n",
    "    beta = 0.5,\n",
    "    nu= 1.0,\n",
    "    gamma = 2.0,\n",
    "    epsilon = 3.0)\n",
    "\n",
    "h1params = H1Parameters(\n",
    "    hr0 =1.0,\n",
    "    lam = 1.5,\n",
    "    sigma = 2.5,\n",
    ")\n",
    "c2h2params =  C2H2Parameters(\n",
    "    phi1= np.pi / 6,\n",
    "    phi2 = np.pi / 3,\n",
    "    phi3 = 2 * np.pi / 3,\n",
    "    phi4= 5 * np.pi / 6,\n",
    "    cphi1 = 1.0,\n",
    "    cphi2 = 0.5,\n",
    "    hphi1 = 1.0,\n",
    "    hphi2 = 0.5,)"
   ]
  },
  {
   "cell_type": "code",
   "execution_count": 6,
   "metadata": {},
   "outputs": [
    {
     "name": "stdout",
     "output_type": "stream",
     "text": [
      "frame = 199\r"
     ]
    }
   ],
   "source": [
    "# Run simulation\n",
    "distribution = spawning_area\n",
    "walls = extract_walls_from_geometry(area)\n",
    "exits = exit_polygons\n",
    "positions = jps.distribute_by_number(\n",
    "    polygon=Polygon(distribution),\n",
    "    number_of_agents=num_agents,\n",
    "    distance_to_agents=0.4,\n",
    "    distance_to_polygon=0.2,\n",
    ")\n",
    "positions[0] = (5, y/2)\n",
    "positions[1] = positions[0] + np.array([2, 0])\n",
    "agents = []\n",
    "for idx, position in enumerate(positions):\n",
    "    agent = Agent(\n",
    "        position=position,\n",
    "        agent_id=idx,\n",
    "        velocity=[1.0, 0.0],\n",
    "        mass=mass,\n",
    "        damping=damping,\n",
    "        params=params,\n",
    "    )\n",
    "    agents.append(agent)\n",
    "\n",
    "active_agents = list(range(len(agents)))  # keep track of active agent indices\n",
    "\n",
    "sign_position_orientation = [\n",
    "    (position, orientation)\n",
    "    for position, orientation in zip(sign_points, sign_orientations)\n",
    "]\n",
    "# Simulation\n",
    "trajectories = []\n",
    "for frame in range(steps):\n",
    "    # Store next state separately to avoid updates affecting other agents' inputs\n",
    "    next_positions = []\n",
    "    next_velocities = []\n",
    "    # for agent1 in agents: calculate the influnce of all other agents\n",
    "    print(f\"{frame = }\", end=\"\\r\")\n",
    "    for i in active_agents:\n",
    "        agent = agents[i]\n",
    "        # Gather others (positions and velocities)\n",
    "        others = [(agents[j].x, agents[j].v) for j in active_agents if j != i]\n",
    "\n",
    "        # Compute forces and update\n",
    "        agent.compute_forces(\n",
    "            others,\n",
    "            walls,\n",
    "            signs=sign_position_orientation,\n",
    "            exits=exits,\n",
    "            x_panic=pos_panic,\n",
    "        )\n",
    "        if agent.id !=1:\n",
    "           agent.update(dt)\n",
    "\n",
    "        o = normalize(agent.v)\n",
    "        trajectories.append(\n",
    "            {\n",
    "                \"frame\": frame,\n",
    "                \"id\": i,\n",
    "                \"x\": agent.x[0],\n",
    "                \"y\": agent.x[1],\n",
    "                \"ox\": o[0],\n",
    "                \"oy\": o[1],\n",
    "            }\n",
    "        )\n",
    "\n",
    "    # Remove agents who have reached the exit\n",
    "    still_active = []\n",
    "    for i in active_agents:\n",
    "        if not any(Point(agents[i].x).within(exit) for exit in exits):\n",
    "            still_active.append(i)\n",
    "\n",
    "\n",
    "    active_agents = still_active\n",
    "\n",
    "    # Stop early if all agents are done\n",
    "    if not active_agents:\n",
    "        break\n",
    "# Convert to DataFrame\n",
    "df = pd.DataFrame(trajectories)"
   ]
  },
  {
   "cell_type": "code",
   "execution_count": 7,
   "metadata": {},
   "outputs": [
    {
     "data": {
      "text/plain": [
       "<Axes: xlabel='x/m', ylabel='y/m'>"
      ]
     },
     "execution_count": 7,
     "metadata": {},
     "output_type": "execute_result"
    },
    {
     "data": {
      "image/png": "[encoded data removed]",
      "text/plain": [
       "<Figure size 640x480 with 1 Axes>"
      ]
     },
     "metadata": {},
     "output_type": "display_data"
    }
   ],
   "source": [
    "traj = pedpy.TrajectoryData(data=df, frame_rate=1/dt)\n",
    "walkable_area = pedpy.WalkableArea(polygon=area)\n",
    "pedpy.plot_trajectories(walkable_area=walkable_area, traj=traj)"
   ]
  },
  {
   "cell_type": "code",
   "execution_count": 8,
   "metadata": {},
   "outputs": [
    {
     "data": {
      "application/vnd.plotly.v1+json": {
       "config": {
        "plotlyServerURL": "https://plot.ly"
       },
       "data": [
        {
         "hoverinfo": "name",
         "line": {
          "color": "grey"
         },
         "mode": "lines",
         "name": "Exterior",
         "showlegend": false,
         "type": "scatter",
         "x": {
          "bdata": "AAAAAAAAAAAAAAAAAAAoQAAAAAAAAChAAAAAAAAAJEAAAAAAAAAkQAAAAAAAAAAAAAAAAAAAAAA=",
          "dtype": "f8"
         },
         "y": {
          "bdata": "AAAAAAAAAAAAAAAAAAAAAAAAAAAAAChAAAAAAAAAKEAAAAAAAAAAQAAAAAAAAABAAAAAAAAAAAA=",
          "dtype": "f8"
         }
        },
        {
         "hoverinfo": "none",
         "marker": {
          "cmax": 1.9338757611136876,
          "cmin": 0,
          "color": {
           "bdata": "sUOniw5u8D8AAAAAAAAAAA==",
           "dtype": "f8"
          },
          "colorbar": {
           "title": {
            "text": "Speed [m/s]"
           }
          },
          "colorscale": [
           [
            0,
            "rgb(128,0,0)"
           ],
           [
            0.2,
            "rgb(250,0,0)"
           ],
           [
            0.4,
            "rgb(255,255,0)"
           ],
           [
            0.6,
            "rgb(5,255,255)"
           ],
           [
            0.8,
            "rgb(0,60,170)"
           ],
           [
            1,
            "rgb(0,0,131)"
           ]
          ],
          "size": {
           "bdata": "mpmZmZmZ2T+amZmZmZnZPw==",
           "dtype": "f8"
          }
         },
         "mode": "markers",
         "showlegend": false,
         "text": {
          "bdata": "sUOniw5u8D8AAAAAAAAAAA==",
          "dtype": "f8"
         },
         "type": "scatter",
         "x": {
          "bdata": "821ZsE8KFEAAAAAAAAAcQA==",
          "dtype": "f8"
         },
         "y": {
          "bdata": "znC5ClsA8D8AAAAAAADwPw==",
          "dtype": "f8"
         }
        },
        {
         "hoverinfo": "text",
         "marker": {
          "opacity": 1,
          "size": 1
         },
         "mode": "markers",
         "showlegend": false,
         "text": [
          "ID: 0, Pos(5.01,1.00)"
         ],
         "type": "scatter",
         "x": [
          5.010069613893836
         ],
         "y": [
          1.0000868243142125
         ]
        },
        {
         "hoverinfo": "text",
         "marker": {
          "opacity": 1,
          "size": 1
         },
         "mode": "markers",
         "showlegend": false,
         "text": [
          "ID: 1, Pos(7.00,1.00)"
         ],
         "type": "scatter",
         "x": [
          7
         ],
         "y": [
          1
         ]
        }
       ],
       "frames": [
        {
         "data": [
          {
           "hoverinfo": "name",
           "line": {
            "color": "grey"
           },
           "mode": "lines",
           "name": "Exterior",
           "showlegend": false,
           "type": "scatter",
           "x": {
            "bdata": "AAAAAAAAAAAAAAAAAAAoQAAAAAAAAChAAAAAAAAAJEAAAAAAAAAkQAAAAAAAAAAAAAAAAAAAAAA=",
            "dtype": "f8"
           },
           "y": {
            "bdata": "AAAAAAAAAAAAAAAAAAAAAAAAAAAAAChAAAAAAAAAKEAAAAAAAAAAQAAAAAAAAABAAAAAAAAAAAA=",
            "dtype": "f8"
           }
          },
          {
           "hoverinfo": "text",
           "marker": {
            "opacity": 1,
            "size": 1
           },
           "mode": "markers",
           "showlegend": false,
           "text": [
            "ID: 0, Pos(5.01,1.00)"
           ],
           "type": "scatter",
           "x": [
            5.010069613893836
           ],
           "y": [
            1.0000868243142125
           ]
          },
          {
           "hoverinfo": "text",
           "marker": {
            "opacity": 1,
            "size": 1
           },
           "mode": "markers",
           "showlegend": false,
           "text": [
            "ID: 1, Pos(7.00,1.00)"
           ],
           "type": "scatter",
           "x": [
            7
           ],
           "y": [
            1
           ]
          }
         ],
         "layout": {
          "shapes": [
           {
            "fillcolor": "rgba(99, 255, 148, 0.5)",
            "line": {
             "color": "rgba(99, 255, 148, 0.5)"
            },
            "type": "circle",
            "x0": 4.810069613893836,
            "x1": 5.210069613893836,
            "xref": "x",
            "y0": 0.8000868243142125,
            "y1": 1.2000868243142124,
            "yref": "y"
           },
           {
            "fillcolor": "rgba(128, 0, 0, 0.5)",
            "line": {
             "color": "rgba(128, 0, 0, 0.5)"
            },
            "type": "circle",
            "x0": 6.8,
            "x1": 7.2,
            "xref": "x",
            "y0": 0.8,
            "y1": 1.2,
            "yref": "y"
           },
           {
            "line": {
             "color": "black",
             "width": 3
            },
            "type": "line",
            "x0": 5.010069613893836,
            "x1": 5.210062179717275,
            "y0": 1.0000868243142125,
            "y1": 1.0018112417107758
           },
           {
            "line": {
             "color": "white",
             "width": 3
            },
            "type": "line",
            "x0": 7,
            "x1": 7.2,
            "y0": 1,
            "y1": 1
           }
          ],
          "title": {
           "text": "<b>Hirai & Tarui, 1975  |  Number of Agents: 2</b>",
           "x": 0.5
          }
         },
         "name": "0"
        },
        {
         "data": [
          {
           "hoverinfo": "name",
           "line": {
            "color": "grey"
           },
           "mode": "lines",
           "name": "Exterior",
           "showlegend": false,
           "type": "scatter",
           "x": {
            "bdata": "AAAAAAAAAAAAAAAAAAAoQAAAAAAAAChAAAAAAAAAJEAAAAAAAAAkQAAAAAAAAAAAAAAAAAAAAAA=",
            "dtype": "f8"
           },
           "y": {
            "bdata": "AAAAAAAAAAAAAAAAAAAAAAAAAAAAAChAAAAAAAAAKEAAAAAAAAAAQAAAAAAAAABAAAAAAAAAAAA=",
            "dtype": "f8"
           }
          },
          {
           "hoverinfo": "text",
           "marker": {
            "opacity": 1,
            "size": 1
           },
           "mode": "markers",
           "showlegend": false,
           "text": [
            "ID: 0, Pos(5.02,1.00)"
           ],
           "type": "scatter",
           "x": [
            5.020207382444093
           ],
           "y": [
            0.999959812585383
           ]
          },
          {
           "hoverinfo": "text",
           "marker": {
            "opacity": 1,
            "size": 1
           },
           "mode": "markers",
           "showlegend": false,
           "text": [
            "ID: 1, Pos(7.00,1.00)"
           ],
           "type": "scatter",
           "x": [
            7
           ],
           "y": [
            1
           ]
          }
         ],
         "layout": {
          "shapes": [
           {
            "fillcolor": "rgba(96, 255, 151, 0.5)",
            "line": {
             "color": "rgba(96, 255, 151, 0.5)"
            },
            "type": "circle",
            "x0": 4.820207382444093,
            "x1": 5.2202073824440935,
            "xref": "x",
            "y0": 0.7999598125853831,
            "y1": 1.199959812585383,
            "yref": "y"
           },
           {
            "fillcolor": "rgba(128, 0, 0, 0.5)",
            "line": {
             "color": "rgba(128, 0, 0, 0.5)"
            },
            "type": "circle",
            "x0": 6.8,
            "x1": 7.2,
            "xref": "x",
            "y0": 0.8,
            "y1": 1.2,
            "yref": "y"
           },
           {
            "line": {
             "color": "black",
             "width": 3
            },
            "type": "line",
            "x0": 5.020207382444093,
            "x1": 5.220191687788563,
            "y0": 0.999959812585383,
            "y1": 0.9974542954950455
           },
           {
            "line": {
             "color": "white",
             "width": 3
            },
            "type": "line",
            "x0": 7,
            "x1": 7.2,
            "y0": 1,
            "y1": 1
           }
          ],
          "title": {
           "text": "<b>Hirai & Tarui, 1975  |  Number of Agents: 2</b>",
           "x": 0.5
          }
         },
         "name": "1"
        },
        {
         "data": [
          {
           "hoverinfo": "name",
           "line": {
            "color": "grey"
           },
           "mode": "lines",
           "name": "Exterior",
           "showlegend": false,
           "type": "scatter",
           "x": {
            "bdata": "AAAAAAAAAAAAAAAAAAAoQAAAAAAAAChAAAAAAAAAJEAAAAAAAAAkQAAAAAAAAAAAAAAAAAAAAAA=",
            "dtype": "f8"
           },
           "y": {
            "bdata": "AAAAAAAAAAAAAAAAAAAAAAAAAAAAAChAAAAAAAAAKEAAAAAAAAAAQAAAAAAAAABAAAAAAAAAAAA=",
            "dtype": "f8"
           }
          },
          {
           "hoverinfo": "text",
           "marker": {
            "opacity": 1,
            "size": 1
           },
           "mode": "markers",
           "showlegend": false,
           "text": [
            "ID: 0, Pos(5.03,1.00)"
           ],
           "type": "scatter",
           "x": [
            5.030411873837167
           ],
           "y": [
            1.0002207314976024
           ]
          },
          {
           "hoverinfo": "text",
           "marker": {
            "opacity": 1,
            "size": 1
           },
           "mode": "markers",
           "showlegend": false,
           "text": [
            "ID: 1, Pos(7.00,1.00)"
           ],
           "type": "scatter",
           "x": [
            7
           ],
           "y": [
            1
           ]
          }
         ],
         "layout": {
          "shapes": [
           {
            "fillcolor": "rgba(93, 255, 154, 0.5)",
            "line": {
             "color": "rgba(93, 255, 154, 0.5)"
            },
            "type": "circle",
            "x0": 4.830411873837167,
            "x1": 5.230411873837167,
            "xref": "x",
            "y0": 0.8002207314976024,
            "y1": 1.2002207314976023,
            "yref": "y"
           },
           {
            "fillcolor": "rgba(128, 0, 0, 0.5)",
            "line": {
             "color": "rgba(128, 0, 0, 0.5)"
            },
            "type": "circle",
            "x0": 6.8,
            "x1": 7.2,
            "xref": "x",
            "y0": 0.8,
            "y1": 1.2,
            "yref": "y"
           },
           {
            "line": {
             "color": "black",
             "width": 3
            },
            "type": "line",
            "x0": 5.030411873837167,
            "x1": 5.230346528364053,
            "y0": 1.0002207314976024,
            "y1": 1.0053328660043264
           },
           {
            "line": {
             "color": "white",
             "width": 3
            },
            "type": "line",
            "x0": 7,
            "x1": 7.2,
            "y0": 1,
            "y1": 1
           }
          ],
          "title": {
           "text": "<b>Hirai & Tarui, 1975  |  Number of Agents: 2</b>",
           "x": 0.5
          }
         },
         "name": "2"
        },
        {
         "data": [
          {
           "hoverinfo": "name",
           "line": {
            "color": "grey"
           },
           "mode": "lines",
           "name": "Exterior",
           "showlegend": false,
           "type": "scatter",
           "x": {
            "bdata": "AAAAAAAAAAAAAAAAAAAoQAAAAAAAAChAAAAAAAAAJEAAAAAAAAAkQAAAAAAAAAAAAAAAAAAAAAA=",
            "dtype": "f8"
           },
           "y": {
            "bdata": "AAAAAAAAAAAAAAAAAAAAAAAAAAAAAChAAAAAAAAAKEAAAAAAAAAAQAAAAAAAAABAAAAAAAAAAAA=",
            "dtype": "f8"
           }
          },
          {
           "hoverinfo": "text",
           "marker": {
            "opacity": 1,
            "size": 1
           },
           "mode": "markers",
           "showlegend": false,
           "text": [
            "ID: 0, Pos(5.04,1.00)"
           ],
           "type": "scatter",
           "x": [
            5.040681660946097
           ],
           "y": [
            1.0002664447266714
           ]
          },
          {
           "hoverinfo": "text",
           "marker": {
            "opacity": 1,
            "size": 1
           },
           "mode": "markers",
           "showlegend": false,
           "text": [
            "ID: 1, Pos(7.00,1.00)"
           ],
           "type": "scatter",
           "x": [
            7
           ],
           "y": [
            1
           ]
          }
         ],
         "layout": {
          "shapes": [
           {
            "fillcolor": "rgba(90, 255, 157, 0.5)",
            "line": {
             "color": "rgba(90, 255, 157, 0.5)"
            },
            "type": "circle",
            "x0": 4.840681660946097,
            "x1": 5.240681660946097,
            "xref": "x",
            "y0": 0.8002664447266714,
            "y1": 1.2002664447266713,
            "yref": "y"
           },
           {
            "fillcolor": "rgba(128, 0, 0, 0.5)",
            "line": {
             "color": "rgba(128, 0, 0, 0.5)"
            },
            "type": "circle",
            "x0": 6.8,
            "x1": 7.2,
            "xref": "x",
            "y0": 0.8,
            "y1": 1.2,
            "yref": "y"
           },
           {
            "line": {
             "color": "black",
             "width": 3
            },
            "type": "line",
            "x0": 5.040681660946097,
            "x1": 5.2406796796268225,
            "y0": 1.0002664447266714,
            "y1": 1.0011566827758456
           },
           {
            "line": {
             "color": "white",
             "width": 3
            },
            "type": "line",
            "x0": 7,
            "x1": 7.2,
            "y0": 1,
            "y1": 1
           }
          ],
          "title": {
           "text": "<b>Hirai & Tarui, 1975  |  Number of Agents: 2</b>",
           "x": 0.5
          }
         },
         "name": "3"
        },
        {
         "data": [
          {
           "hoverinfo": "name",
           "line": {
            "color": "grey"
           },
           "mode": "lines",
           "name": "Exterior",
           "showlegend": false,
           "type": "scatter",
           "x": {
            "bdata": "AAAAAAAAAAAAAAAAAAAoQAAAAAAAAChAAAAAAAAAJEAAAAAAAAAkQAAAAAAAAAAAAAAAAAAAAAA=",
            "dtype": "f8"
           },
           "y": {
            "bdata": "AAAAAAAAAAAAAAAAAAAAAAAAAAAAAChAAAAAAAAAKEAAAAAAAAAAQAAAAAAAAABAAAAAAAAAAAA=",
            "dtype": "f8"
           }
          },
          {
           "hoverinfo": "text",
           "marker": {
            "opacity": 1,
            "size": 1
           },
           "mode": "markers",
           "showlegend": false,
           "text": [
            "ID: 0, Pos(5.05,1.00)"
           ],
           "type": "scatter",
           "x": [
            5.051015411740093
           ],
           "y": [
            1.0000987647871145
           ]
          },
          {
           "hoverinfo": "text",
           "marker": {
            "opacity": 1,
            "size": 1
           },
           "mode": "markers",
           "showlegend": false,
           "text": [
            "ID: 1, Pos(7.00,1.00)"
           ],
           "type": "scatter",
           "x": [
            7
           ],
           "y": [
            1
           ]
          }
         ],
         "layout": {
          "shapes": [
           {
            "fillcolor": "rgba(86, 255, 160, 0.5)",
            "line": {
             "color": "rgba(86, 255, 160, 0.5)"
            },
            "type": "circle",
            "x0": 4.851015411740093,
            "x1": 5.251015411740093,
            "xref": "x",
            "y0": 0.8000987647871145,
            "y1": 1.2000987647871144,
            "yref": "y"
           },
           {
            "fillcolor": "rgba(128, 0, 0, 0.5)",
            "line": {
             "color": "rgba(128, 0, 0, 0.5)"
            },
            "type": "circle",
            "x0": 6.8,
            "x1": 7.2,
            "xref": "x",
            "y0": 0.8,
            "y1": 1.2,
            "yref": "y"
           },
           {
            "line": {
             "color": "black",
             "width": 3
            },
            "type": "line",
            "x0": 5.051015411740093,
            "x1": 5.250989087217825,
            "y0": 1.0000987647871145,
            "y1": 0.9968539048630163
           },
           {
            "line": {
             "color": "white",
             "width": 3
            },
            "type": "line",
            "x0": 7,
            "x1": 7.2,
            "y0": 1,
            "y1": 1
           }
          ],
          "title": {
           "text": "<b>Hirai & Tarui, 1975  |  Number of Agents: 2</b>",
           "x": 0.5
          }
         },
         "name": "4"
        },
        {
         "data": [
          {
           "hoverinfo": "name",
           "line": {
            "color": "grey"
           },
           "mode": "lines",
           "name": "Exterior",
           "showlegend": false,
           "type": "scatter",
           "x": {
            "bdata": "AAAAAAAAAAAAAAAAAAAoQAAAAAAAAChAAAAAAAAAJEAAAAAAAAAkQAAAAAAAAAAAAAAAAAAAAAA=",
            "dtype": "f8"
           },
           "y": {
            "bdata": "AAAAAAAAAAAAAAAAAAAAAAAAAAAAAChAAAAAAAAAKEAAAAAAAAAAQAAAAAAAAABAAAAAAAAAAAA=",
            "dtype": "f8"
           }
          },
          {
           "hoverinfo": "text",
           "marker": {
            "opacity": 1,
            "size": 1
           },
           "mode": "markers",
           "showlegend": false,
           "text": [
            "ID: 0, Pos(5.06,1.00)"
           ],
           "type": "scatter",
           "x": [
            5.061411766962815
           ],
           "y": [
            0.9997195041817429
           ]
          },
          {
           "hoverinfo": "text",
           "marker": {
            "opacity": 1,
            "size": 1
           },
           "mode": "markers",
           "showlegend": false,
           "text": [
            "ID: 1, Pos(7.00,1.00)"
           ],
           "type": "scatter",
           "x": [
            7
           ],
           "y": [
            1
           ]
          }
         ],
         "layout": {
          "shapes": [
           {
            "fillcolor": "rgba(93, 255, 154, 0.5)",
            "line": {
             "color": "rgba(93, 255, 154, 0.5)"
            },
            "type": "circle",
            "x0": 4.8614117669628145,
            "x1": 5.261411766962815,
            "xref": "x",
            "y0": 0.7997195041817429,
            "y1": 1.199719504181743,
            "yref": "y"
           },
           {
            "fillcolor": "rgba(128, 0, 0, 0.5)",
            "line": {
             "color": "rgba(128, 0, 0, 0.5)"
            },
            "type": "circle",
            "x0": 6.8,
            "x1": 7.2,
            "xref": "x",
            "y0": 0.8,
            "y1": 1.2,
            "yref": "y"
           },
           {
            "line": {
             "color": "black",
             "width": 3
            },
            "type": "line",
            "x0": 5.061411766962815,
            "x1": 5.2612788195035165,
            "y0": 0.9997195041817429,
            "y1": 0.9924283239828642
           },
           {
            "line": {
             "color": "white",
             "width": 3
            },
            "type": "line",
            "x0": 7,
            "x1": 7.2,
            "y0": 1,
            "y1": 1
           }
          ],
          "title": {
           "text": "<b>Hirai & Tarui, 1975  |  Number of Agents: 2</b>",
           "x": 0.5
          }
         },
         "name": "5"
        },
        {
         "data": [
          {
           "hoverinfo": "name",
           "line": {
            "color": "grey"
           },
           "mode": "lines",
           "name": "Exterior",
           "showlegend": false,
           "type": "scatter",
           "x": {
            "bdata": "AAAAAAAAAAAAAAAAAAAoQAAAAAAAAChAAAAAAAAAJEAAAAAAAAAkQAAAAAAAAAAAAAAAAAAAAAA=",
            "dtype": "f8"
           },
           "y": {
            "bdata": "AAAAAAAAAAAAAAAAAAAAAAAAAAAAAChAAAAAAAAAKEAAAAAAAAAAQAAAAAAAAABAAAAAAAAAAAA=",
            "dtype": "f8"
           }
          },
          {
           "hoverinfo": "text",
           "marker": {
            "opacity": 1,
            "size": 1
           },
           "mode": "markers",
           "showlegend": false,
           "text": [
            "ID: 0, Pos(5.07,1.00)"
           ],
           "type": "scatter",
           "x": [
            5.071869343950386
           ],
           "y": [
            0.9997304816547475
           ]
          },
          {
           "hoverinfo": "text",
           "marker": {
            "opacity": 1,
            "size": 1
           },
           "mode": "markers",
           "showlegend": false,
           "text": [
            "ID: 1, Pos(7.00,1.00)"
           ],
           "type": "scatter",
           "x": [
            7
           ],
           "y": [
            1
           ]
          }
         ],
         "layout": {
          "shapes": [
           {
            "fillcolor": "rgba(90, 255, 157, 0.5)",
            "line": {
             "color": "rgba(90, 255, 157, 0.5)"
            },
            "type": "circle",
            "x0": 4.871869343950386,
            "x1": 5.271869343950386,
            "xref": "x",
            "y0": 0.7997304816547475,
            "y1": 1.1997304816547476,
            "yref": "y"
           },
           {
            "fillcolor": "rgba(128, 0, 0, 0.5)",
            "line": {
             "color": "rgba(128, 0, 0, 0.5)"
            },
            "type": "circle",
            "x0": 6.8,
            "x1": 7.2,
            "xref": "x",
            "y0": 0.8,
            "y1": 1.2,
            "yref": "y"
           },
           {
            "line": {
             "color": "black",
             "width": 3
            },
            "type": "line",
            "x0": 5.071869343950386,
            "x1": 5.271869233760367,
            "y0": 0.9997304816547475,
            "y1": 0.9999404244927407
           },
           {
            "line": {
             "color": "white",
             "width": 3
            },
            "type": "line",
            "x0": 7,
            "x1": 7.2,
            "y0": 1,
            "y1": 1
           }
          ],
          "title": {
           "text": "<b>Hirai & Tarui, 1975  |  Number of Agents: 2</b>",
           "x": 0.5
          }
         },
         "name": "6"
        },
        {
         "data": [
          {
           "hoverinfo": "name",
           "line": {
            "color": "grey"
           },
           "mode": "lines",
           "name": "Exterior",
           "showlegend": false,
           "type": "scatter",
           "x": {
            "bdata": "AAAAAAAAAAAAAAAAAAAoQAAAAAAAAChAAAAAAAAAJEAAAAAAAAAkQAAAAAAAAAAAAAAAAAAAAAA=",
            "dtype": "f8"
           },
           "y": {
            "bdata": "AAAAAAAAAAAAAAAAAAAAAAAAAAAAAChAAAAAAAAAKEAAAAAAAAAAQAAAAAAAAABAAAAAAAAAAAA=",
            "dtype": "f8"
           }
          },
          {
           "hoverinfo": "text",
           "marker": {
            "opacity": 1,
            "size": 1
           },
           "mode": "markers",
           "showlegend": false,
           "text": [
            "ID: 0, Pos(5.08,1.00)"
           ],
           "type": "scatter",
           "x": [
            5.082386932286207
           ],
           "y": [
            1.0001284266974995
           ]
          },
          {
           "hoverinfo": "text",
           "marker": {
            "opacity": 1,
            "size": 1
           },
           "mode": "markers",
           "showlegend": false,
           "text": [
            "ID: 1, Pos(7.00,1.00)"
           ],
           "type": "scatter",
           "x": [
            7
           ],
           "y": [
            1
           ]
          }
         ],
         "layout": {
          "shapes": [
           {
            "fillcolor": "rgba(86, 255, 160, 0.5)",
            "line": {
             "color": "rgba(86, 255, 160, 0.5)"
            },
            "type": "circle",
            "x0": 4.882386932286207,
            "x1": 5.282386932286207,
            "xref": "x",
            "y0": 0.8001284266974995,
            "y1": 1.2001284266974994,
            "yref": "y"
           },
           {
            "fillcolor": "rgba(128, 0, 0, 0.5)",
            "line": {
             "color": "rgba(128, 0, 0, 0.5)"
            },
            "type": "circle",
            "x0": 6.8,
            "x1": 7.2,
            "xref": "x",
            "y0": 0.8,
            "y1": 1.2,
            "yref": "y"
           },
           {
            "line": {
             "color": "black",
             "width": 3
            },
            "type": "line",
            "x0": 5.082386932286207,
            "x1": 5.28224392838889,
            "y0": 1.0001284266974995,
            "y1": 1.007690245844526
           },
           {
            "line": {
             "color": "white",
             "width": 3
            },
            "type": "line",
            "x0": 7,
            "x1": 7.2,
            "y0": 1,
            "y1": 1
           }
          ],
          "title": {
           "text": "<b>Hirai & Tarui, 1975  |  Number of Agents: 2</b>",
           "x": 0.5
          }
         },
         "name": "7"
        },
        {
         "data": [
          {
           "hoverinfo": "name",
           "line": {
            "color": "grey"
           },
           "mode": "lines",
           "name": "Exterior",
           "showlegend": false,
           "type": "scatter",
           "x": {
            "bdata": "AAAAAAAAAAAAAAAAAAAoQAAAAAAAAChAAAAAAAAAJEAAAAAAAAAkQAAAAAAAAAAAAAAAAAAAAAA=",
            "dtype": "f8"
           },
           "y": {
            "bdata": "AAAAAAAAAAAAAAAAAAAAAAAAAAAAAChAAAAAAAAAKEAAAAAAAAAAQAAAAAAAAABAAAAAAAAAAAA=",
            "dtype": "f8"
           }
          },
          {
           "hoverinfo": "text",
           "marker": {
            "opacity": 1,
            "size": 1
           },
           "mode": "markers",
           "showlegend": false,
           "text": [
            "ID: 0, Pos(5.09,1.00)"
           ],
           "type": "scatter",
           "x": [
            5.092963181234056
           ],
           "y": [
            1.0003100740931892
           ]
          },
          {
           "hoverinfo": "text",
           "marker": {
            "opacity": 1,
            "size": 1
           },
           "mode": "markers",
           "showlegend": false,
           "text": [
            "ID: 1, Pos(7.00,1.00)"
           ],
           "type": "scatter",
           "x": [
            7
           ],
           "y": [
            1
           ]
          }
         ],
         "layout": {
          "shapes": [
           {
            "fillcolor": "rgba(83, 255, 164, 0.5)",
            "line": {
             "color": "rgba(83, 255, 164, 0.5)"
            },
            "type": "circle",
            "x0": 4.892963181234056,
            "x1": 5.2929631812340565,
            "xref": "x",
            "y0": 0.8003100740931892,
            "y1": 1.2003100740931891,
            "yref": "y"
           },
           {
            "fillcolor": "rgba(128, 0, 0, 0.5)",
            "line": {
             "color": "rgba(128, 0, 0, 0.5)"
            },
            "type": "circle",
            "x0": 6.8,
            "x1": 7.2,
            "xref": "x",
            "y0": 0.8,
            "y1": 1.2,
            "yref": "y"
           },
           {
            "line": {
             "color": "black",
             "width": 3
            },
            "type": "line",
            "x0": 5.092963181234056,
            "x1": 5.292933689592082,
            "y0": 1.0003100740931892,
            "y1": 1.0037445736248385
           },
           {
            "line": {
             "color": "white",
             "width": 3
            },
            "type": "line",
            "x0": 7,
            "x1": 7.2,
            "y0": 1,
            "y1": 1
           }
          ],
          "title": {
           "text": "<b>Hirai & Tarui, 1975  |  Number of Agents: 2</b>",
           "x": 0.5
          }
         },
         "name": "8"
        },
        {
         "data": [
          {
           "hoverinfo": "name",
           "line": {
            "color": "grey"
           },
           "mode": "lines",
           "name": "Exterior",
           "showlegend": false,
           "type": "scatter",
           "x": {
            "bdata": "AAAAAAAAAAAAAAAAAAAoQAAAAAAAAChAAAAAAAAAJEAAAAAAAAAkQAAAAAAAAAAAAAAAAAAAAAA=",
            "dtype": "f8"
           },
           "y": {
            "bdata": "AAAAAAAAAAAAAAAAAAAAAAAAAAAAAChAAAAAAAAAKEAAAAAAAAAAQAAAAAAAAABAAAAAAAAAAAA=",
            "dtype": "f8"
           }
          },
          {
           "hoverinfo": "text",
           "marker": {
            "opacity": 1,
            "size": 1
           },
           "mode": "markers",
           "showlegend": false,
           "text": [
            "ID: 0, Pos(5.10,1.00)"
           ],
           "type": "scatter",
           "x": [
            5.103596919694044
           ],
           "y": [
            1.0002773234796065
           ]
          },
          {
           "hoverinfo": "text",
           "marker": {
            "opacity": 1,
            "size": 1
           },
           "mode": "markers",
           "showlegend": false,
           "text": [
            "ID: 1, Pos(7.00,1.00)"
           ],
           "type": "scatter",
           "x": [
            7
           ],
           "y": [
            1
           ]
          }
         ],
         "layout": {
          "shapes": [
           {
            "fillcolor": "rgba(80, 255, 167, 0.5)",
            "line": {
             "color": "rgba(80, 255, 167, 0.5)"
            },
            "type": "circle",
            "x0": 4.903596919694044,
            "x1": 5.303596919694044,
            "xref": "x",
            "y0": 0.8002773234796066,
            "y1": 1.2002773234796065,
            "yref": "y"
           },
           {
            "fillcolor": "rgba(128, 0, 0, 0.5)",
            "line": {
             "color": "rgba(128, 0, 0, 0.5)"
            },
            "type": "circle",
            "x0": 6.8,
            "x1": 7.2,
            "xref": "x",
            "y0": 0.8,
            "y1": 1.2,
            "yref": "y"
           },
           {
            "line": {
             "color": "black",
             "width": 3
            },
            "type": "line",
            "x0": 5.103596919694044,
            "x1": 5.303595971136149,
            "y0": 1.0002773234796065,
            "y1": 0.9996613508679667
           },
           {
            "line": {
             "color": "white",
             "width": 3
            },
            "type": "line",
            "x0": 7,
            "x1": 7.2,
            "y0": 1,
            "y1": 1
           }
          ],
          "title": {
           "text": "<b>Hirai & Tarui, 1975  |  Number of Agents: 2</b>",
           "x": 0.5
          }
         },
         "name": "9"
        },
        {
         "data": [
          {
           "hoverinfo": "name",
           "line": {
            "color": "grey"
           },
           "mode": "lines",
           "name": "Exterior",
           "showlegend": false,
           "type": "scatter",
           "x": {
            "bdata": "AAAAAAAAAAAAAAAAAAAoQAAAAAAAAChAAAAAAAAAJEAAAAAAAAAkQAAAAAAAAAAAAAAAAAAAAAA=",
            "dtype": "f8"
           },
           "y": {
            "bdata": "AAAAAAAAAAAAAAAAAAAAAAAAAAAAAChAAAAAAAAAKEAAAAAAAAAAQAAAAAAAAABAAAAAAAAAAAA=",
            "dtype": "f8"
           }
          },
          {
           "hoverinfo": "text",
           "marker": {
            "opacity": 1,
            "size": 1
           },
           "mode": "markers",
           "showlegend": false,
           "text": [
            "ID: 0, Pos(5.11,1.00)"
           ],
           "type": "scatter",
           "x": [
            5.114286947795803
           ],
           "y": [
            1.000032070271696
           ]
          },
          {
           "hoverinfo": "text",
           "marker": {
            "opacity": 1,
            "size": 1
           },
           "mode": "markers",
           "showlegend": false,
           "text": [
            "ID: 1, Pos(7.00,1.00)"
           ],
           "type": "scatter",
           "x": [
            7
           ],
           "y": [
            1
           ]
          }
         ],
         "layout": {
          "shapes": [
           {
            "fillcolor": "rgba(80, 255, 167, 0.5)",
            "line": {
             "color": "rgba(80, 255, 167, 0.5)"
            },
            "type": "circle",
            "x0": 4.914286947795802,
            "x1": 5.314286947795803,
            "xref": "x",
            "y0": 0.8000320702716961,
            "y1": 1.200032070271696,
            "yref": "y"
           },
           {
            "fillcolor": "rgba(128, 0, 0, 0.5)",
            "line": {
             "color": "rgba(128, 0, 0, 0.5)"
            },
            "type": "circle",
            "x0": 6.8,
            "x1": 7.2,
            "xref": "x",
            "y0": 0.8,
            "y1": 1.2,
            "yref": "y"
           },
           {
            "line": {
             "color": "black",
             "width": 3
            },
            "type": "line",
            "x0": 5.114286947795803,
            "x1": 5.314234333919564,
            "y0": 1.000032070271696,
            "y1": 0.9954448290228057
           },
           {
            "line": {
             "color": "white",
             "width": 3
            },
            "type": "line",
            "x0": 7,
            "x1": 7.2,
            "y0": 1,
            "y1": 1
           }
          ],
          "title": {
           "text": "<b>Hirai & Tarui, 1975  |  Number of Agents: 2</b>",
           "x": 0.5
          }
         },
         "name": "10"
        },
        {
         "data": [
          {
           "hoverinfo": "name",
           "line": {
            "color": "grey"
           },
           "mode": "lines",
           "name": "Exterior",
           "showlegend": false,
           "type": "scatter",
           "x": {
            "bdata": "AAAAAAAAAAAAAAAAAAAoQAAAAAAAAChAAAAAAAAAJEAAAAAAAAAkQAAAAAAAAAAAAAAAAAAAAAA=",
            "dtype": "f8"
           },
           "y": {
            "bdata": "AAAAAAAAAAAAAAAAAAAAAAAAAAAAAChAAAAAAAAAKEAAAAAAAAAAQAAAAAAAAABAAAAAAAAAAAA=",
            "dtype": "f8"
           }
          },
          {
           "hoverinfo": "text",
           "marker": {
            "opacity": 1,
            "size": 1
           },
           "mode": "markers",
           "showlegend": false,
           "text": [
            "ID: 0, Pos(5.13,1.00)"
           ],
           "type": "scatter",
           "x": [
            5.125032040344841
           ],
           "y": [
            0.9995762024078577
           ]
          },
          {
           "hoverinfo": "text",
           "marker": {
            "opacity": 1,
            "size": 1
           },
           "mode": "markers",
           "showlegend": false,
           "text": [
            "ID: 1, Pos(7.00,1.00)"
           ],
           "type": "scatter",
           "x": [
            7
           ],
           "y": [
            1
           ]
          }
         ],
         "layout": {
          "shapes": [
           {
            "fillcolor": "rgba(77, 255, 170, 0.5)",
            "line": {
             "color": "rgba(77, 255, 170, 0.5)"
            },
            "type": "circle",
            "x0": 4.925032040344841,
            "x1": 5.3250320403448415,
            "xref": "x",
            "y0": 0.7995762024078577,
            "y1": 1.1995762024078578,
            "yref": "y"
           },
           {
            "fillcolor": "rgba(128, 0, 0, 0.5)",
            "line": {
             "color": "rgba(128, 0, 0, 0.5)"
            },
            "type": "circle",
            "x0": 6.8,
            "x1": 7.2,
            "xref": "x",
            "y0": 0.8,
            "y1": 1.2,
            "yref": "y"
           },
           {
            "line": {
             "color": "black",
             "width": 3
            },
            "type": "line",
            "x0": 5.125032040344841,
            "x1": 5.324852289127399,
            "y0": 0.9995762024078577,
            "y1": 0.9910986923679571
           },
           {
            "line": {
             "color": "white",
             "width": 3
            },
            "type": "line",
            "x0": 7,
            "x1": 7.2,
            "y0": 1,
            "y1": 1
           }
          ],
          "title": {
           "text": "<b>Hirai & Tarui, 1975  |  Number of Agents: 2</b>",
           "x": 0.5
          }
         },
         "name": "11"
        },
        {
         "data": [
          {
           "hoverinfo": "name",
           "line": {
            "color": "grey"
           },
           "mode": "lines",
           "name": "Exterior",
           "showlegend": false,
           "type": "scatter",
           "x": {
            "bdata": "AAAAAAAAAAAAAAAAAAAoQAAAAAAAAChAAAAAAAAAJEAAAAAAAAAkQAAAAAAAAAAAAAAAAAAAAAA=",
            "dtype": "f8"
           },
           "y": {
            "bdata": "AAAAAAAAAAAAAAAAAAAAAAAAAAAAAChAAAAAAAAAKEAAAAAAAAAAQAAAAAAAAABAAAAAAAAAAAA=",
            "dtype": "f8"
           }
          },
          {
           "hoverinfo": "text",
           "marker": {
            "opacity": 1,
            "size": 1
           },
           "mode": "markers",
           "showlegend": false,
           "text": [
            "ID: 0, Pos(5.14,1.00)"
           ],
           "type": "scatter",
           "x": [
            5.135830950188921
           ],
           "y": [
            0.9995116115159532
           ]
          },
          {
           "hoverinfo": "text",
           "marker": {
            "opacity": 1,
            "size": 1
           },
           "mode": "markers",
           "showlegend": false,
           "text": [
            "ID: 1, Pos(7.00,1.00)"
           ],
           "type": "scatter",
           "x": [
            7
           ],
           "y": [
            1
           ]
          }
         ],
         "layout": {
          "shapes": [
           {
            "fillcolor": "rgba(73, 255, 173, 0.5)",
            "line": {
             "color": "rgba(73, 255, 173, 0.5)"
            },
            "type": "circle",
            "x0": 4.935830950188921,
            "x1": 5.335830950188921,
            "xref": "x",
            "y0": 0.7995116115159533,
            "y1": 1.1995116115159532,
            "yref": "y"
           },
           {
            "fillcolor": "rgba(128, 0, 0, 0.5)",
            "line": {
             "color": "rgba(128, 0, 0, 0.5)"
            },
            "type": "circle",
            "x0": 6.8,
            "x1": 7.2,
            "xref": "x",
            "y0": 0.8,
            "y1": 1.2,
            "yref": "y"
           },
           {
            "line": {
             "color": "black",
             "width": 3
            },
            "type": "line",
            "x0": 5.135830950188921,
            "x1": 5.335827372759455,
            "y0": 0.9995116115159532,
            "y1": 0.9983153845358187
           },
           {
            "line": {
             "color": "white",
             "width": 3
            },
            "type": "line",
            "x0": 7,
            "x1": 7.2,
            "y0": 1,
            "y1": 1
           }
          ],
          "title": {
           "text": "<b>Hirai & Tarui, 1975  |  Number of Agents: 2</b>",
           "x": 0.5
          }
         },
         "name": "12"
        },
        {
         "data": [
          {
           "hoverinfo": "name",
           "line": {
            "color": "grey"
           },
           "mode": "lines",
           "name": "Exterior",
           "showlegend": false,
           "type": "scatter",
           "x": {
            "bdata": "AAAAAAAAAAAAAAAAAAAoQAAAAAAAAChAAAAAAAAAJEAAAAAAAAAkQAAAAAAAAAAAAAAAAAAAAAA=",
            "dtype": "f8"
           },
           "y": {
            "bdata": "AAAAAAAAAAAAAAAAAAAAAAAAAAAAAChAAAAAAAAAKEAAAAAAAAAAQAAAAAAAAABAAAAAAAAAAAA=",
            "dtype": "f8"
           }
          },
          {
           "hoverinfo": "text",
           "marker": {
            "opacity": 1,
            "size": 1
           },
           "mode": "markers",
           "showlegend": false,
           "text": [
            "ID: 0, Pos(5.15,1.00)"
           ],
           "type": "scatter",
           "x": [
            5.146682638060707
           ],
           "y": [
            0.9998348678852785
           ]
          },
          {
           "hoverinfo": "text",
           "marker": {
            "opacity": 1,
            "size": 1
           },
           "mode": "markers",
           "showlegend": false,
           "text": [
            "ID: 1, Pos(7.00,1.00)"
           ],
           "type": "scatter",
           "x": [
            7
           ],
           "y": [
            1
           ]
          }
         ],
         "layout": {
          "shapes": [
           {
            "fillcolor": "rgba(73, 255, 173, 0.5)",
            "line": {
             "color": "rgba(73, 255, 173, 0.5)"
            },
            "type": "circle",
            "x0": 4.9466826380607065,
            "x1": 5.346682638060707,
            "xref": "x",
            "y0": 0.7998348678852785,
            "y1": 1.1998348678852786,
            "yref": "y"
           },
           {
            "fillcolor": "rgba(128, 0, 0, 0.5)",
            "line": {
             "color": "rgba(128, 0, 0, 0.5)"
            },
            "type": "circle",
            "x0": 6.8,
            "x1": 7.2,
            "xref": "x",
            "y0": 0.8,
            "y1": 1.2,
            "yref": "y"
           },
           {
            "line": {
             "color": "black",
             "width": 3
            },
            "type": "line",
            "x0": 5.146682638060707,
            "x1": 5.346593961124379,
            "y0": 0.9998348678852785,
            "y1": 1.0057899422703973
           },
           {
            "line": {
             "color": "white",
             "width": 3
            },
            "type": "line",
            "x0": 7,
            "x1": 7.2,
            "y0": 1,
            "y1": 1
           }
          ],
          "title": {
           "text": "<b>Hirai & Tarui, 1975  |  Number of Agents: 2</b>",
           "x": 0.5
          }
         },
         "name": "13"
        },
        {
         "data": [
          {
           "hoverinfo": "name",
           "line": {
            "color": "grey"
           },
           "mode": "lines",
           "name": "Exterior",
           "showlegend": false,
           "type": "scatter",
           "x": {
            "bdata": "AAAAAAAAAAAAAAAAAAAoQAAAAAAAAChAAAAAAAAAJEAAAAAAAAAkQAAAAAAAAAAAAAAAAAAAAAA=",
            "dtype": "f8"
           },
           "y": {
            "bdata": "AAAAAAAAAAAAAAAAAAAAAAAAAAAAAChAAAAAAAAAKEAAAAAAAAAAQAAAAAAAAABAAAAAAAAAAAA=",
            "dtype": "f8"
           }
          },
          {
           "hoverinfo": "text",
           "marker": {
            "opacity": 1,
            "size": 1
           },
           "mode": "markers",
           "showlegend": false,
           "text": [
            "ID: 0, Pos(5.16,1.00)"
           ],
           "type": "scatter",
           "x": [
            5.1575859296583255
           ],
           "y": [
            1.0005425654412017
           ]
          },
          {
           "hoverinfo": "text",
           "marker": {
            "opacity": 1,
            "size": 1
           },
           "mode": "markers",
           "showlegend": false,
           "text": [
            "ID: 1, Pos(7.00,1.00)"
           ],
           "type": "scatter",
           "x": [
            7
           ],
           "y": [
            1
           ]
          }
         ],
         "layout": {
          "shapes": [
           {
            "fillcolor": "rgba(70, 255, 177, 0.5)",
            "line": {
             "color": "rgba(70, 255, 177, 0.5)"
            },
            "type": "circle",
            "x0": 4.957585929658325,
            "x1": 5.357585929658326,
            "xref": "x",
            "y0": 0.8005425654412017,
            "y1": 1.2005425654412016,
            "yref": "y"
           },
           {
            "fillcolor": "rgba(128, 0, 0, 0.5)",
            "line": {
             "color": "rgba(128, 0, 0, 0.5)"
            },
            "type": "circle",
            "x0": 6.8,
            "x1": 7.2,
            "xref": "x",
            "y0": 0.8,
            "y1": 1.2,
            "yref": "y"
           },
           {
            "line": {
             "color": "black",
             "width": 3
            },
            "type": "line",
            "x0": 5.1575859296583255,
            "x1": 5.357165967118256,
            "y0": 1.0005425654412017,
            "y1": 1.0134966631516866
           },
           {
            "line": {
             "color": "white",
             "width": 3
            },
            "type": "line",
            "x0": 7,
            "x1": 7.2,
            "y0": 1,
            "y1": 1
           }
          ],
          "title": {
           "text": "<b>Hirai & Tarui, 1975  |  Number of Agents: 2</b>",
           "x": 0.5
          }
         },
         "name": "14"
        },
        {
         "data": [
          {
           "hoverinfo": "name",
           "line": {
            "color": "grey"
           },
           "mode": "lines",
           "name": "Exterior",
           "showlegend": false,
           "type": "scatter",
           "x": {
            "bdata": "AAAAAAAAAAAAAAAAAAAoQAAAAAAAAChAAAAAAAAAJEAAAAAAAAAkQAAAAAAAAAAAAAAAAAAAAAA=",
            "dtype": "f8"
           },
           "y": {
            "bdata": "AAAAAAAAAAAAAAAAAAAAAAAAAAAAAChAAAAAAAAAKEAAAAAAAAAAQAAAAAAAAABAAAAAAAAAAAA=",
            "dtype": "f8"
           }
          },
          {
           "hoverinfo": "text",
           "marker": {
            "opacity": 1,
            "size": 1
           },
           "mode": "markers",
           "showlegend": false,
           "text": [
            "ID: 0, Pos(5.17,1.00)"
           ],
           "type": "scatter",
           "x": [
            5.168539527399851
           ],
           "y": [
            1.0010312886725865
           ]
          },
          {
           "hoverinfo": "text",
           "marker": {
            "opacity": 1,
            "size": 1
           },
           "mode": "markers",
           "showlegend": false,
           "text": [
            "ID: 1, Pos(7.00,1.00)"
           ],
           "type": "scatter",
           "x": [
            7
           ],
           "y": [
            1
           ]
          }
         ],
         "layout": {
          "shapes": [
           {
            "fillcolor": "rgba(67, 255, 180, 0.5)",
            "line": {
             "color": "rgba(67, 255, 180, 0.5)"
            },
            "type": "circle",
            "x0": 4.968539527399851,
            "x1": 5.368539527399851,
            "xref": "x",
            "y0": 0.8010312886725865,
            "y1": 1.2010312886725865,
            "yref": "y"
           },
           {
            "fillcolor": "rgba(128, 0, 0, 0.5)",
            "line": {
             "color": "rgba(128, 0, 0, 0.5)"
            },
            "type": "circle",
            "x0": 6.8,
            "x1": 7.2,
            "xref": "x",
            "y0": 0.8,
            "y1": 1.2,
            "yref": "y"
           },
           {
            "line": {
             "color": "black",
             "width": 3
            },
            "type": "line",
            "x0": 5.168539527399851,
            "x1": 5.368340751119269,
            "y0": 1.0010312886725865,
            "y1": 1.009945939547579
           },
           {
            "line": {
             "color": "white",
             "width": 3
            },
            "type": "line",
            "x0": 7,
            "x1": 7.2,
            "y0": 1,
            "y1": 1
           }
          ],
          "title": {
           "text": "<b>Hirai & Tarui, 1975  |  Number of Agents: 2</b>",
           "x": 0.5
          }
         },
         "name": "15"
        },
        {
         "data": [
          {
           "hoverinfo": "name",
           "line": {
            "color": "grey"
           },
           "mode": "lines",
           "name": "Exterior",
           "showlegend": false,
           "type": "scatter",
           "x": {
            "bdata": "AAAAAAAAAAAAAAAAAAAoQAAAAAAAAChAAAAAAAAAJEAAAAAAAAAkQAAAAAAAAAAAAAAAAAAAAAA=",
            "dtype": "f8"
           },
           "y": {
            "bdata": "AAAAAAAAAAAAAAAAAAAAAAAAAAAAAChAAAAAAAAAKEAAAAAAAAAAQAAAAAAAAABAAAAAAAAAAAA=",
            "dtype": "f8"
           }
          },
          {
           "hoverinfo": "text",
           "marker": {
            "opacity": 1,
            "size": 1
           },
           "mode": "markers",
           "showlegend": false,
           "text": [
            "ID: 0, Pos(5.18,1.00)"
           ],
           "type": "scatter",
           "x": [
            5.179542489956457
           ],
           "y": [
            1.0013030626543635
           ]
          },
          {
           "hoverinfo": "text",
           "marker": {
            "opacity": 1,
            "size": 1
           },
           "mode": "markers",
           "showlegend": false,
           "text": [
            "ID: 1, Pos(7.00,1.00)"
           ],
           "type": "scatter",
           "x": [
            7
           ],
           "y": [
            1
           ]
          }
         ],
         "layout": {
          "shapes": [
           {
            "fillcolor": "rgba(67, 255, 180, 0.5)",
            "line": {
             "color": "rgba(67, 255, 180, 0.5)"
            },
            "type": "circle",
            "x0": 4.979542489956457,
            "x1": 5.3795424899564575,
            "xref": "x",
            "y0": 0.8013030626543636,
            "y1": 1.2013030626543635,
            "yref": "y"
           },
           {
            "fillcolor": "rgba(128, 0, 0, 0.5)",
            "line": {
             "color": "rgba(128, 0, 0, 0.5)"
            },
            "type": "circle",
            "x0": 6.8,
            "x1": 7.2,
            "xref": "x",
            "y0": 0.8,
            "y1": 1.2,
            "yref": "y"
           },
           {
            "line": {
             "color": "black",
             "width": 3
            },
            "type": "line",
            "x0": 5.179542489956457,
            "x1": 5.379481508496187,
            "y0": 1.0013030626543635,
            "y1": 1.0062415710698533
           },
           {
            "line": {
             "color": "white",
             "width": 3
            },
            "type": "line",
            "x0": 7,
            "x1": 7.2,
            "y0": 1,
            "y1": 1
           }
          ],
          "title": {
           "text": "<b>Hirai & Tarui, 1975  |  Number of Agents: 2</b>",
           "x": 0.5
          }
         },
         "name": "16"
        },
        {
         "data": [
          {
           "hoverinfo": "name",
           "line": {
            "color": "grey"
           },
           "mode": "lines",
           "name": "Exterior",
           "showlegend": false,
           "type": "scatter",
           "x": {
            "bdata": "AAAAAAAAAAAAAAAAAAAoQAAAAAAAAChAAAAAAAAAJEAAAAAAAAAkQAAAAAAAAAAAAAAAAAAAAAA=",
            "dtype": "f8"
           },
           "y": {
            "bdata": "AAAAAAAAAAAAAAAAAAAAAAAAAAAAAChAAAAAAAAAKEAAAAAAAAAAQAAAAAAAAABAAAAAAAAAAAA=",
            "dtype": "f8"
           }
          },
          {
           "hoverinfo": "text",
           "marker": {
            "opacity": 1,
            "size": 1
           },
           "mode": "markers",
           "showlegend": false,
           "text": [
            "ID: 0, Pos(5.19,1.00)"
           ],
           "type": "scatter",
           "x": [
            5.1905938436141845
           ],
           "y": [
            1.0013599055013445
           ]
          },
          {
           "hoverinfo": "text",
           "marker": {
            "opacity": 1,
            "size": 1
           },
           "mode": "markers",
           "showlegend": false,
           "text": [
            "ID: 1, Pos(7.00,1.00)"
           ],
           "type": "scatter",
           "x": [
            7
           ],
           "y": [
            1
           ]
          }
         ],
         "layout": {
          "shapes": [
           {
            "fillcolor": "rgba(64, 255, 183, 0.5)",
            "line": {
             "color": "rgba(64, 255, 183, 0.5)"
            },
            "type": "circle",
            "x0": 4.990593843614184,
            "x1": 5.390593843614185,
            "xref": "x",
            "y0": 0.8013599055013445,
            "y1": 1.2013599055013444,
            "yref": "y"
           },
           {
            "fillcolor": "rgba(128, 0, 0, 0.5)",
            "line": {
             "color": "rgba(128, 0, 0, 0.5)"
            },
            "type": "circle",
            "x0": 6.8,
            "x1": 7.2,
            "xref": "x",
            "y0": 0.8,
            "y1": 1.2,
            "yref": "y"
           },
           {
            "line": {
             "color": "black",
             "width": 3
            },
            "type": "line",
            "x0": 5.1905938436141845,
            "x1": 5.3905911980879555,
            "y0": 1.0013599055013445,
            "y1": 1.002388595684379
           },
           {
            "line": {
             "color": "white",
             "width": 3
            },
            "type": "line",
            "x0": 7,
            "x1": 7.2,
            "y0": 1,
            "y1": 1
           }
          ],
          "title": {
           "text": "<b>Hirai & Tarui, 1975  |  Number of Agents: 2</b>",
           "x": 0.5
          }
         },
         "name": "17"
        },
        {
         "data": [
          {
           "hoverinfo": "name",
           "line": {
            "color": "grey"
           },
           "mode": "lines",
           "name": "Exterior",
           "showlegend": false,
           "type": "scatter",
           "x": {
            "bdata": "AAAAAAAAAAAAAAAAAAAoQAAAAAAAAChAAAAAAAAAJEAAAAAAAAAkQAAAAAAAAAAAAAAAAAAAAAA=",
            "dtype": "f8"
           },
           "y": {
            "bdata": "AAAAAAAAAAAAAAAAAAAAAAAAAAAAAChAAAAAAAAAKEAAAAAAAAAAQAAAAAAAAABAAAAAAAAAAAA=",
            "dtype": "f8"
           }
          },
          {
           "hoverinfo": "text",
           "marker": {
            "opacity": 1,
            "size": 1
           },
           "mode": "markers",
           "showlegend": false,
           "text": [
            "ID: 0, Pos(5.20,1.00)"
           ],
           "type": "scatter",
           "x": [
            5.201692585289657
           ],
           "y": [
            1.0012038245570873
           ]
          },
          {
           "hoverinfo": "text",
           "marker": {
            "opacity": 1,
            "size": 1
           },
           "mode": "markers",
           "showlegend": false,
           "text": [
            "ID: 1, Pos(7.00,1.00)"
           ],
           "type": "scatter",
           "x": [
            7
           ],
           "y": [
            1
           ]
          }
         ],
         "layout": {
          "shapes": [
           {
            "fillcolor": "rgba(60, 255, 186, 0.5)",
            "line": {
             "color": "rgba(60, 255, 186, 0.5)"
            },
            "type": "circle",
            "x0": 5.001692585289657,
            "x1": 5.401692585289657,
            "xref": "x",
            "y0": 0.8012038245570874,
            "y1": 1.2012038245570873,
            "yref": "y"
           },
           {
            "fillcolor": "rgba(128, 0, 0, 0.5)",
            "line": {
             "color": "rgba(128, 0, 0, 0.5)"
            },
            "type": "circle",
            "x0": 6.8,
            "x1": 7.2,
            "xref": "x",
            "y0": 0.8,
            "y1": 1.2,
            "yref": "y"
           },
           {
            "line": {
             "color": "black",
             "width": 3
            },
            "type": "line",
            "x0": 5.201692585289657,
            "x1": 5.4016728115928725,
            "y0": 1.0012038245570873,
            "y1": 0.9983915145252978
           },
           {
            "line": {
             "color": "white",
             "width": 3
            },
            "type": "line",
            "x0": 7,
            "x1": 7.2,
            "y0": 1,
            "y1": 1
           }
          ],
          "title": {
           "text": "<b>Hirai & Tarui, 1975  |  Number of Agents: 2</b>",
           "x": 0.5
          }
         },
         "name": "18"
        },
        {
         "data": [
          {
           "hoverinfo": "name",
           "line": {
            "color": "grey"
           },
           "mode": "lines",
           "name": "Exterior",
           "showlegend": false,
           "type": "scatter",
           "x": {
            "bdata": "AAAAAAAAAAAAAAAAAAAoQAAAAAAAAChAAAAAAAAAJEAAAAAAAAAkQAAAAAAAAAAAAAAAAAAAAAA=",
            "dtype": "f8"
           },
           "y": {
            "bdata": "AAAAAAAAAAAAAAAAAAAAAAAAAAAAAChAAAAAAAAAKEAAAAAAAAAAQAAAAAAAAABAAAAAAAAAAAA=",
            "dtype": "f8"
           }
          },
          {
           "hoverinfo": "text",
           "marker": {
            "opacity": 1,
            "size": 1
           },
           "mode": "markers",
           "showlegend": false,
           "text": [
            "ID: 0, Pos(5.21,1.00)"
           ],
           "type": "scatter",
           "x": [
            5.212837685526614
           ],
           "y": [
            1.000836804996112
           ]
          },
          {
           "hoverinfo": "text",
           "marker": {
            "opacity": 1,
            "size": 1
           },
           "mode": "markers",
           "showlegend": false,
           "text": [
            "ID: 1, Pos(7.00,1.00)"
           ],
           "type": "scatter",
           "x": [
            7
           ],
           "y": [
            1
           ]
          }
         ],
         "layout": {
          "shapes": [
           {
            "fillcolor": "rgba(60, 255, 186, 0.5)",
            "line": {
             "color": "rgba(60, 255, 186, 0.5)"
            },
            "type": "circle",
            "x0": 5.0128376855266135,
            "x1": 5.412837685526614,
            "xref": "x",
            "y0": 0.8008368049961121,
            "y1": 1.200836804996112,
            "yref": "y"
           },
           {
            "fillcolor": "rgba(128, 0, 0, 0.5)",
            "line": {
             "color": "rgba(128, 0, 0, 0.5)"
            },
            "type": "circle",
            "x0": 6.8,
            "x1": 7.2,
            "xref": "x",
            "y0": 0.8,
            "y1": 1.2,
            "yref": "y"
           },
           {
            "line": {
             "color": "black",
             "width": 3
            },
            "type": "line",
            "x0": 5.212837685526614,
            "x1": 5.412729328416999,
            "y0": 1.000836804996112,
            "y1": 0.9942541685499184
           },
           {
            "line": {
             "color": "white",
             "width": 3
            },
            "type": "line",
            "x0": 7,
            "x1": 7.2,
            "y0": 1,
            "y1": 1
           }
          ],
          "title": {
           "text": "<b>Hirai & Tarui, 1975  |  Number of Agents: 2</b>",
           "x": 0.5
          }
         },
         "name": "19"
        },
        {
         "data": [
          {
           "hoverinfo": "name",
           "line": {
            "color": "grey"
           },
           "mode": "lines",
           "name": "Exterior",
           "showlegend": false,
           "type": "scatter",
           "x": {
            "bdata": "AAAAAAAAAAAAAAAAAAAoQAAAAAAAAChAAAAAAAAAJEAAAAAAAAAkQAAAAAAAAAAAAAAAAAAAAAA=",
            "dtype": "f8"
           },
           "y": {
            "bdata": "AAAAAAAAAAAAAAAAAAAAAAAAAAAAAChAAAAAAAAAKEAAAAAAAAAAQAAAAAAAAABAAAAAAAAAAAA=",
            "dtype": "f8"
           }
          },
          {
           "hoverinfo": "text",
           "marker": {
            "opacity": 1,
            "size": 1
           },
           "mode": "markers",
           "showlegend": false,
           "text": [
            "ID: 0, Pos(5.22,1.00)"
           ],
           "type": "scatter",
           "x": [
            5.224028091444827
           ],
           "y": [
            1.000260816214081
           ]
          },
          {
           "hoverinfo": "text",
           "marker": {
            "opacity": 1,
            "size": 1
           },
           "mode": "markers",
           "showlegend": false,
           "text": [
            "ID: 1, Pos(7.00,1.00)"
           ],
           "type": "scatter",
           "x": [
            7
           ],
           "y": [
            1
           ]
          }
         ],
         "layout": {
          "shapes": [
           {
            "fillcolor": "rgba(57, 255, 190, 0.5)",
            "line": {
             "color": "rgba(57, 255, 190, 0.5)"
            },
            "type": "circle",
            "x0": 5.024028091444827,
            "x1": 5.424028091444828,
            "xref": "x",
            "y0": 0.800260816214081,
            "y1": 1.2002608162140809,
            "yref": "y"
           },
           {
            "fillcolor": "rgba(128, 0, 0, 0.5)",
            "line": {
             "color": "rgba(128, 0, 0, 0.5)"
            },
            "type": "circle",
            "x0": 6.8,
            "x1": 7.2,
            "xref": "x",
            "y0": 0.8,
            "y1": 1.2,
            "yref": "y"
           },
           {
            "line": {
             "color": "black",
             "width": 3
            },
            "type": "line",
            "x0": 5.224028091444827,
            "x1": 5.423763683516666,
            "y0": 1.000260816214081,
            "y1": 0.9899800934908345
           },
           {
            "line": {
             "color": "white",
             "width": 3
            },
            "type": "line",
            "x0": 7,
            "x1": 7.2,
            "y0": 1,
            "y1": 1
           }
          ],
          "title": {
           "text": "<b>Hirai & Tarui, 1975  |  Number of Agents: 2</b>",
           "x": 0.5
          }
         },
         "name": "20"
        },
        {
         "data": [
          {
           "hoverinfo": "name",
           "line": {
            "color": "grey"
           },
           "mode": "lines",
           "name": "Exterior",
           "showlegend": false,
           "type": "scatter",
           "x": {
            "bdata": "AAAAAAAAAAAAAAAAAAAoQAAAAAAAAChAAAAAAAAAJEAAAAAAAAAkQAAAAAAAAAAAAAAAAAAAAAA=",
            "dtype": "f8"
           },
           "y": {
            "bdata": "AAAAAAAAAAAAAAAAAAAAAAAAAAAAAChAAAAAAAAAKEAAAAAAAAAAQAAAAAAAAABAAAAAAAAAAAA=",
            "dtype": "f8"
           }
          },
          {
           "hoverinfo": "text",
           "marker": {
            "opacity": 1,
            "size": 1
           },
           "mode": "markers",
           "showlegend": false,
           "text": [
            "ID: 0, Pos(5.24,1.00)"
           ],
           "type": "scatter",
           "x": [
            5.235262729621468
           ],
           "y": [
            0.9994778161129114
           ]
          },
          {
           "hoverinfo": "text",
           "marker": {
            "opacity": 1,
            "size": 1
           },
           "mode": "markers",
           "showlegend": false,
           "text": [
            "ID: 1, Pos(7.00,1.00)"
           ],
           "type": "scatter",
           "x": [
            7
           ],
           "y": [
            1
           ]
          }
         ],
         "layout": {
          "shapes": [
           {
            "fillcolor": "rgba(57, 255, 190, 0.5)",
            "line": {
             "color": "rgba(57, 255, 190, 0.5)"
            },
            "type": "circle",
            "x0": 5.035262729621468,
            "x1": 5.435262729621468,
            "xref": "x",
            "y0": 0.7994778161129115,
            "y1": 1.1994778161129114,
            "yref": "y"
           },
           {
            "fillcolor": "rgba(128, 0, 0, 0.5)",
            "line": {
             "color": "rgba(128, 0, 0, 0.5)"
            },
            "type": "circle",
            "x0": 6.8,
            "x1": 7.2,
            "xref": "x",
            "y0": 0.8,
            "y1": 1.2,
            "yref": "y"
           },
           {
            "line": {
             "color": "black",
             "width": 3
            },
            "type": "line",
            "x0": 5.235262729621468,
            "x1": 5.434778750300994,
            "y0": 0.9994778161129114,
            "y1": 0.9855725116499848
           },
           {
            "line": {
             "color": "white",
             "width": 3
            },
            "type": "line",
            "x0": 7,
            "x1": 7.2,
            "y0": 1,
            "y1": 1
           }
          ],
          "title": {
           "text": "<b>Hirai & Tarui, 1975  |  Number of Agents: 2</b>",
           "x": 0.5
          }
         },
         "name": "21"
        },
        {
         "data": [
          {
           "hoverinfo": "name",
           "line": {
            "color": "grey"
           },
           "mode": "lines",
           "name": "Exterior",
           "showlegend": false,
           "type": "scatter",
           "x": {
            "bdata": "AAAAAAAAAAAAAAAAAAAoQAAAAAAAAChAAAAAAAAAJEAAAAAAAAAkQAAAAAAAAAAAAAAAAAAAAAA=",
            "dtype": "f8"
           },
           "y": {
            "bdata": "AAAAAAAAAAAAAAAAAAAAAAAAAAAAAChAAAAAAAAAKEAAAAAAAAAAQAAAAAAAAABAAAAAAAAAAAA=",
            "dtype": "f8"
           }
          },
          {
           "hoverinfo": "text",
           "marker": {
            "opacity": 1,
            "size": 1
           },
           "mode": "markers",
           "showlegend": false,
           "text": [
            "ID: 0, Pos(5.25,1.00)"
           ],
           "type": "scatter",
           "x": [
            5.246540508894433
           ],
           "y": [
            0.9990897683757977
           ]
          },
          {
           "hoverinfo": "text",
           "marker": {
            "opacity": 1,
            "size": 1
           },
           "mode": "markers",
           "showlegend": false,
           "text": [
            "ID: 1, Pos(7.00,1.00)"
           ],
           "type": "scatter",
           "x": [
            7
           ],
           "y": [
            1
           ]
          }
         ],
         "layout": {
          "shapes": [
           {
            "fillcolor": "rgba(54, 255, 193, 0.5)",
            "line": {
             "color": "rgba(54, 255, 193, 0.5)"
            },
            "type": "circle",
            "x0": 5.046540508894433,
            "x1": 5.446540508894433,
            "xref": "x",
            "y0": 0.7990897683757976,
            "y1": 1.1990897683757977,
            "yref": "y"
           },
           {
            "fillcolor": "rgba(128, 0, 0, 0.5)",
            "line": {
             "color": "rgba(128, 0, 0, 0.5)"
            },
            "type": "circle",
            "x0": 6.8,
            "x1": 7.2,
            "xref": "x",
            "y0": 0.8,
            "y1": 1.2,
            "yref": "y"
           },
           {
            "line": {
             "color": "black",
             "width": 3
            },
            "type": "line",
            "x0": 5.246540508894433,
            "x1": 5.4464222217056095,
            "y0": 0.9990897683757977,
            "y1": 0.9922122045869112
           },
           {
            "line": {
             "color": "white",
             "width": 3
            },
            "type": "line",
            "x0": 7,
            "x1": 7.2,
            "y0": 1,
            "y1": 1
           }
          ],
          "title": {
           "text": "<b>Hirai & Tarui, 1975  |  Number of Agents: 2</b>",
           "x": 0.5
          }
         },
         "name": "22"
        },
        {
         "data": [
          {
           "hoverinfo": "name",
           "line": {
            "color": "grey"
           },
           "mode": "lines",
           "name": "Exterior",
           "showlegend": false,
           "type": "scatter",
           "x": {
            "bdata": "AAAAAAAAAAAAAAAAAAAoQAAAAAAAAChAAAAAAAAAJEAAAAAAAAAkQAAAAAAAAAAAAAAAAAAAAAA=",
            "dtype": "f8"
           },
           "y": {
            "bdata": "AAAAAAAAAAAAAAAAAAAAAAAAAAAAAChAAAAAAAAAKEAAAAAAAAAAQAAAAAAAAABAAAAAAAAAAAA=",
            "dtype": "f8"
           }
          },
          {
           "hoverinfo": "text",
           "marker": {
            "opacity": 1,
            "size": 1
           },
           "mode": "markers",
           "showlegend": false,
           "text": [
            "ID: 0, Pos(5.26,1.00)"
           ],
           "type": "scatter",
           "x": [
            5.257860712106941
           ],
           "y": [
            0.9990929991306112
           ]
          },
          {
           "hoverinfo": "text",
           "marker": {
            "opacity": 1,
            "size": 1
           },
           "mode": "markers",
           "showlegend": false,
           "text": [
            "ID: 1, Pos(7.00,1.00)"
           ],
           "type": "scatter",
           "x": [
            7
           ],
           "y": [
            1
           ]
          }
         ],
         "layout": {
          "shapes": [
           {
            "fillcolor": "rgba(51, 255, 196, 0.5)",
            "line": {
             "color": "rgba(51, 255, 196, 0.5)"
            },
            "type": "circle",
            "x0": 5.057860712106941,
            "x1": 5.457860712106942,
            "xref": "x",
            "y0": 0.7990929991306113,
            "y1": 1.1990929991306112,
            "yref": "y"
           },
           {
            "fillcolor": "rgba(128, 0, 0, 0.5)",
            "line": {
             "color": "rgba(128, 0, 0, 0.5)"
            },
            "type": "circle",
            "x0": 6.8,
            "x1": 7.2,
            "xref": "x",
            "y0": 0.8,
            "y1": 1.2,
            "yref": "y"
           },
           {
            "line": {
             "color": "black",
             "width": 3
            },
            "type": "line",
            "x0": 5.257860712106941,
            "x1": 5.457860703961783,
            "y0": 0.9990929991306112,
            "y1": 0.9991500785773559
           },
           {
            "line": {
             "color": "white",
             "width": 3
            },
            "type": "line",
            "x0": 7,
            "x1": 7.2,
            "y0": 1,
            "y1": 1
           }
          ],
          "title": {
           "text": "<b>Hirai & Tarui, 1975  |  Number of Agents: 2</b>",
           "x": 0.5
          }
         },
         "name": "23"
        },
        {
         "data": [
          {
           "hoverinfo": "name",
           "line": {
            "color": "grey"
           },
           "mode": "lines",
           "name": "Exterior",
           "showlegend": false,
           "type": "scatter",
           "x": {
            "bdata": "AAAAAAAAAAAAAAAAAAAoQAAAAAAAAChAAAAAAAAAJEAAAAAAAAAkQAAAAAAAAAAAAAAAAAAAAAA=",
            "dtype": "f8"
           },
           "y": {
            "bdata": "AAAAAAAAAAAAAAAAAAAAAAAAAAAAAChAAAAAAAAAKEAAAAAAAAAAQAAAAAAAAABAAAAAAAAAAAA=",
            "dtype": "f8"
           }
          },
          {
           "hoverinfo": "text",
           "marker": {
            "opacity": 1,
            "size": 1
           },
           "mode": "markers",
           "showlegend": false,
           "text": [
            "ID: 0, Pos(5.27,1.00)"
           ],
           "type": "scatter",
           "x": [
            5.2692224889961645
           ],
           "y": [
            0.9994838692332977
           ]
          },
          {
           "hoverinfo": "text",
           "marker": {
            "opacity": 1,
            "size": 1
           },
           "mode": "markers",
           "showlegend": false,
           "text": [
            "ID: 1, Pos(7.00,1.00)"
           ],
           "type": "scatter",
           "x": [
            7
           ],
           "y": [
            1
           ]
          }
         ],
         "layout": {
          "shapes": [
           {
            "fillcolor": "rgba(51, 255, 196, 0.5)",
            "line": {
             "color": "rgba(51, 255, 196, 0.5)"
            },
            "type": "circle",
            "x0": 5.069222488996164,
            "x1": 5.469222488996165,
            "xref": "x",
            "y0": 0.7994838692332977,
            "y1": 1.1994838692332976,
            "yref": "y"
           },
           {
            "fillcolor": "rgba(128, 0, 0, 0.5)",
            "line": {
             "color": "rgba(128, 0, 0, 0.5)"
            },
            "type": "circle",
            "x0": 6.8,
            "x1": 7.2,
            "xref": "x",
            "y0": 0.8,
            "y1": 1.2,
            "yref": "y"
           },
           {
            "line": {
             "color": "black",
             "width": 3
            },
            "type": "line",
            "x0": 5.2692224889961645,
            "x1": 5.469104242819625,
            "y0": 0.9994838692332977,
            "y1": 1.0063602409842887
           },
           {
            "line": {
             "color": "white",
             "width": 3
            },
            "type": "line",
            "x0": 7,
            "x1": 7.2,
            "y0": 1,
            "y1": 1
           }
          ],
          "title": {
           "text": "<b>Hirai & Tarui, 1975  |  Number of Agents: 2</b>",
           "x": 0.5
          }
         },
         "name": "24"
        },
        {
         "data": [
          {
           "hoverinfo": "name",
           "line": {
            "color": "grey"
           },
           "mode": "lines",
           "name": "Exterior",
           "showlegend": false,
           "type": "scatter",
           "x": {
            "bdata": "AAAAAAAAAAAAAAAAAAAoQAAAAAAAAChAAAAAAAAAJEAAAAAAAAAkQAAAAAAAAAAAAAAAAAAAAAA=",
            "dtype": "f8"
           },
           "y": {
            "bdata": "AAAAAAAAAAAAAAAAAAAAAAAAAAAAAChAAAAAAAAAKEAAAAAAAAAAQAAAAAAAAABAAAAAAAAAAAA=",
            "dtype": "f8"
           }
          },
          {
           "hoverinfo": "text",
           "marker": {
            "opacity": 1,
            "size": 1
           },
           "mode": "markers",
           "showlegend": false,
           "text": [
            "ID: 0, Pos(5.28,1.00)"
           ],
           "type": "scatter",
           "x": [
            5.280624865381788
           ],
           "y": [
            1.0002587863688583
           ]
          },
          {
           "hoverinfo": "text",
           "marker": {
            "opacity": 1,
            "size": 1
           },
           "mode": "markers",
           "showlegend": false,
           "text": [
            "ID: 1, Pos(7.00,1.00)"
           ],
           "type": "scatter",
           "x": [
            7
           ],
           "y": [
            1
           ]
          }
         ],
         "layout": {
          "shapes": [
           {
            "fillcolor": "rgba(48, 255, 199, 0.5)",
            "line": {
             "color": "rgba(48, 255, 199, 0.5)"
            },
            "type": "circle",
            "x0": 5.080624865381788,
            "x1": 5.480624865381788,
            "xref": "x",
            "y0": 0.8002587863688584,
            "y1": 1.2002587863688583,
            "yref": "y"
           },
           {
            "fillcolor": "rgba(128, 0, 0, 0.5)",
            "line": {
             "color": "rgba(128, 0, 0, 0.5)"
            },
            "type": "circle",
            "x0": 6.8,
            "x1": 7.2,
            "xref": "x",
            "y0": 0.8,
            "y1": 1.2,
            "yref": "y"
           },
           {
            "line": {
             "color": "black",
             "width": 3
            },
            "type": "line",
            "x0": 5.280624865381788,
            "x1": 5.480164589146958,
            "y0": 1.0002587863688583,
            "y1": 1.0138197096309272
           },
           {
            "line": {
             "color": "white",
             "width": 3
            },
            "type": "line",
            "x0": 7,
            "x1": 7.2,
            "y0": 1,
            "y1": 1
           }
          ],
          "title": {
           "text": "<b>Hirai & Tarui, 1975  |  Number of Agents: 2</b>",
           "x": 0.5
          }
         },
         "name": "25"
        },
        {
         "data": [
          {
           "hoverinfo": "name",
           "line": {
            "color": "grey"
           },
           "mode": "lines",
           "name": "Exterior",
           "showlegend": false,
           "type": "scatter",
           "x": {
            "bdata": "AAAAAAAAAAAAAAAAAAAoQAAAAAAAAChAAAAAAAAAJEAAAAAAAAAkQAAAAAAAAAAAAAAAAAAAAAA=",
            "dtype": "f8"
           },
           "y": {
            "bdata": "AAAAAAAAAAAAAAAAAAAAAAAAAAAAAChAAAAAAAAAKEAAAAAAAAAAQAAAAAAAAABAAAAAAAAAAAA=",
            "dtype": "f8"
           }
          },
          {
           "hoverinfo": "text",
           "marker": {
            "opacity": 1,
            "size": 1
           },
           "mode": "markers",
           "showlegend": false,
           "text": [
            "ID: 0, Pos(5.29,1.00)"
           ],
           "type": "scatter",
           "x": [
            5.292066753282917
           ],
           "y": [
            1.0008141704603488
           ]
          },
          {
           "hoverinfo": "text",
           "marker": {
            "opacity": 1,
            "size": 1
           },
           "mode": "markers",
           "showlegend": false,
           "text": [
            "ID: 1, Pos(7.00,1.00)"
           ],
           "type": "scatter",
           "x": [
            7
           ],
           "y": [
            1
           ]
          }
         ],
         "layout": {
          "shapes": [
           {
            "fillcolor": "rgba(48, 255, 199, 0.5)",
            "line": {
             "color": "rgba(48, 255, 199, 0.5)"
            },
            "type": "circle",
            "x0": 5.092066753282917,
            "x1": 5.492066753282917,
            "xref": "x",
            "y0": 0.8008141704603489,
            "y1": 1.2008141704603488,
            "yref": "y"
           },
           {
            "fillcolor": "rgba(128, 0, 0, 0.5)",
            "line": {
             "color": "rgba(128, 0, 0, 0.5)"
            },
            "type": "circle",
            "x0": 6.8,
            "x1": 7.2,
            "xref": "x",
            "y0": 0.8,
            "y1": 1.2,
            "yref": "y"
           },
           {
            "line": {
             "color": "black",
             "width": 3
            },
            "type": "line",
            "x0": 5.292066753282917,
            "x1": 5.491831560010642,
            "y0": 1.0008141704603488,
            "y1": 1.0105106643130202
           },
           {
            "line": {
             "color": "white",
             "width": 3
            },
            "type": "line",
            "x0": 7,
            "x1": 7.2,
            "y0": 1,
            "y1": 1
           }
          ],
          "title": {
           "text": "<b>Hirai & Tarui, 1975  |  Number of Agents: 2</b>",
           "x": 0.5
          }
         },
         "name": "26"
        },
        {
         "data": [
          {
           "hoverinfo": "name",
           "line": {
            "color": "grey"
           },
           "mode": "lines",
           "name": "Exterior",
           "showlegend": false,
           "type": "scatter",
           "x": {
            "bdata": "AAAAAAAAAAAAAAAAAAAoQAAAAAAAAChAAAAAAAAAJEAAAAAAAAAkQAAAAAAAAAAAAAAAAAAAAAA=",
            "dtype": "f8"
           },
           "y": {
            "bdata": "AAAAAAAAAAAAAAAAAAAAAAAAAAAAAChAAAAAAAAAKEAAAAAAAAAAQAAAAAAAAABAAAAAAAAAAAA=",
            "dtype": "f8"
           }
          },
          {
           "hoverinfo": "text",
           "marker": {
            "opacity": 1,
            "size": 1
           },
           "mode": "markers",
           "showlegend": false,
           "text": [
            "ID: 0, Pos(5.30,1.00)"
           ],
           "type": "scatter",
           "x": [
            5.303547425628336
           ],
           "y": [
            1.0011521656750548
           ]
          },
          {
           "hoverinfo": "text",
           "marker": {
            "opacity": 1,
            "size": 1
           },
           "mode": "markers",
           "showlegend": false,
           "text": [
            "ID: 1, Pos(7.00,1.00)"
           ],
           "type": "scatter",
           "x": [
            7
           ],
           "y": [
            1
           ]
          }
         ],
         "layout": {
          "shapes": [
           {
            "fillcolor": "rgba(44, 255, 202, 0.5)",
            "line": {
             "color": "rgba(44, 255, 202, 0.5)"
            },
            "type": "circle",
            "x0": 5.103547425628336,
            "x1": 5.503547425628336,
            "xref": "x",
            "y0": 0.8011521656750549,
            "y1": 1.2011521656750548,
            "yref": "y"
           },
           {
            "fillcolor": "rgba(128, 0, 0, 0.5)",
            "line": {
             "color": "rgba(128, 0, 0, 0.5)"
            },
            "type": "circle",
            "x0": 6.8,
            "x1": 7.2,
            "xref": "x",
            "y0": 0.8,
            "y1": 1.2,
            "yref": "y"
           },
           {
            "line": {
             "color": "black",
             "width": 3
            },
            "type": "line",
            "x0": 5.303547425628336,
            "x1": 5.503460808405191,
            "y0": 1.0011521656750548,
            "y1": 1.0070376891619457
           },
           {
            "line": {
             "color": "white",
             "width": 3
            },
            "type": "line",
            "x0": 7,
            "x1": 7.2,
            "y0": 1,
            "y1": 1
           }
          ],
          "title": {
           "text": "<b>Hirai & Tarui, 1975  |  Number of Agents: 2</b>",
           "x": 0.5
          }
         },
         "name": "27"
        },
        {
         "data": [
          {
           "hoverinfo": "name",
           "line": {
            "color": "grey"
           },
           "mode": "lines",
           "name": "Exterior",
           "showlegend": false,
           "type": "scatter",
           "x": {
            "bdata": "AAAAAAAAAAAAAAAAAAAoQAAAAAAAAChAAAAAAAAAJEAAAAAAAAAkQAAAAAAAAAAAAAAAAAAAAAA=",
            "dtype": "f8"
           },
           "y": {
            "bdata": "AAAAAAAAAAAAAAAAAAAAAAAAAAAAAChAAAAAAAAAKEAAAAAAAAAAQAAAAAAAAABAAAAAAAAAAAA=",
            "dtype": "f8"
           }
          },
          {
           "hoverinfo": "text",
           "marker": {
            "opacity": 1,
            "size": 1
           },
           "mode": "markers",
           "showlegend": false,
           "text": [
            "ID: 0, Pos(5.32,1.00)"
           ],
           "type": "scatter",
           "x": [
            5.315066122867996
           ],
           "y": [
            1.001274901961191
           ]
          },
          {
           "hoverinfo": "text",
           "marker": {
            "opacity": 1,
            "size": 1
           },
           "mode": "markers",
           "showlegend": false,
           "text": [
            "ID: 1, Pos(7.00,1.00)"
           ],
           "type": "scatter",
           "x": [
            7
           ],
           "y": [
            1
           ]
          }
         ],
         "layout": {
          "shapes": [
           {
            "fillcolor": "rgba(44, 255, 202, 0.5)",
            "line": {
             "color": "rgba(44, 255, 202, 0.5)"
            },
            "type": "circle",
            "x0": 5.1150661228679954,
            "x1": 5.515066122867996,
            "xref": "x",
            "y0": 0.8012749019611911,
            "y1": 1.201274901961191,
            "yref": "y"
           },
           {
            "fillcolor": "rgba(128, 0, 0, 0.5)",
            "line": {
             "color": "rgba(128, 0, 0, 0.5)"
            },
            "type": "circle",
            "x0": 6.8,
            "x1": 7.2,
            "xref": "x",
            "y0": 0.8,
            "y1": 1.2,
            "yref": "y"
           },
           {
            "line": {
             "color": "black",
             "width": 3
            },
            "type": "line",
            "x0": 5.315066122867996,
            "x1": 5.515054770087275,
            "y0": 1.001274901961191,
            "y1": 1.0034058602907996
           },
           {
            "line": {
             "color": "white",
             "width": 3
            },
            "type": "line",
            "x0": 7,
            "x1": 7.2,
            "y0": 1,
            "y1": 1
           }
          ],
          "title": {
           "text": "<b>Hirai & Tarui, 1975  |  Number of Agents: 2</b>",
           "x": 0.5
          }
         },
         "name": "28"
        },
        {
         "data": [
          {
           "hoverinfo": "name",
           "line": {
            "color": "grey"
           },
           "mode": "lines",
           "name": "Exterior",
           "showlegend": false,
           "type": "scatter",
           "x": {
            "bdata": "AAAAAAAAAAAAAAAAAAAoQAAAAAAAAChAAAAAAAAAJEAAAAAAAAAkQAAAAAAAAAAAAAAAAAAAAAA=",
            "dtype": "f8"
           },
           "y": {
            "bdata": "AAAAAAAAAAAAAAAAAAAAAAAAAAAAAChAAAAAAAAAKEAAAAAAAAAAQAAAAAAAAABAAAAAAAAAAAA=",
            "dtype": "f8"
           }
          },
          {
           "hoverinfo": "text",
           "marker": {
            "opacity": 1,
            "size": 1
           },
           "mode": "markers",
           "showlegend": false,
           "text": [
            "ID: 0, Pos(5.33,1.00)"
           ],
           "type": "scatter",
           "x": [
            5.326622055545599
           ],
           "y": [
            1.001184491263645
           ]
          },
          {
           "hoverinfo": "text",
           "marker": {
            "opacity": 1,
            "size": 1
           },
           "mode": "markers",
           "showlegend": false,
           "text": [
            "ID: 1, Pos(7.00,1.00)"
           ],
           "type": "scatter",
           "x": [
            7
           ],
           "y": [
            1
           ]
          }
         ],
         "layout": {
          "shapes": [
           {
            "fillcolor": "rgba(41, 255, 206, 0.5)",
            "line": {
             "color": "rgba(41, 255, 206, 0.5)"
            },
            "type": "circle",
            "x0": 5.126622055545599,
            "x1": 5.526622055545599,
            "xref": "x",
            "y0": 0.801184491263645,
            "y1": 1.201184491263645,
            "yref": "y"
           },
           {
            "fillcolor": "rgba(128, 0, 0, 0.5)",
            "line": {
             "color": "rgba(128, 0, 0, 0.5)"
            },
            "type": "circle",
            "x0": 6.8,
            "x1": 7.2,
            "xref": "x",
            "y0": 0.8,
            "y1": 1.2,
            "yref": "y"
           },
           {
            "line": {
             "color": "black",
             "width": 3
            },
            "type": "line",
            "x0": 5.326622055545599,
            "x1": 5.52661593472435,
            "y0": 1.001184491263645,
            "y1": 0.9996197896834291
           },
           {
            "line": {
             "color": "white",
             "width": 3
            },
            "type": "line",
            "x0": 7,
            "x1": 7.2,
            "y0": 1,
            "y1": 1
           }
          ],
          "title": {
           "text": "<b>Hirai & Tarui, 1975  |  Number of Agents: 2</b>",
           "x": 0.5
          }
         },
         "name": "29"
        },
        {
         "data": [
          {
           "hoverinfo": "name",
           "line": {
            "color": "grey"
           },
           "mode": "lines",
           "name": "Exterior",
           "showlegend": false,
           "type": "scatter",
           "x": {
            "bdata": "AAAAAAAAAAAAAAAAAAAoQAAAAAAAAChAAAAAAAAAJEAAAAAAAAAkQAAAAAAAAAAAAAAAAAAAAAA=",
            "dtype": "f8"
           },
           "y": {
            "bdata": "AAAAAAAAAAAAAAAAAAAAAAAAAAAAAChAAAAAAAAAKEAAAAAAAAAAQAAAAAAAAABAAAAAAAAAAAA=",
            "dtype": "f8"
           }
          },
          {
           "hoverinfo": "text",
           "marker": {
            "opacity": 1,
            "size": 1
           },
           "mode": "markers",
           "showlegend": false,
           "text": [
            "ID: 0, Pos(5.34,1.00)"
           ],
           "type": "scatter",
           "x": [
            5.338214406874356
           ],
           "y": [
            1.000883019441401
           ]
          },
          {
           "hoverinfo": "text",
           "marker": {
            "opacity": 1,
            "size": 1
           },
           "mode": "markers",
           "showlegend": false,
           "text": [
            "ID: 1, Pos(7.00,1.00)"
           ],
           "type": "scatter",
           "x": [
            7
           ],
           "y": [
            1
           ]
          }
         ],
         "layout": {
          "shapes": [
           {
            "fillcolor": "rgba(41, 255, 206, 0.5)",
            "line": {
             "color": "rgba(41, 255, 206, 0.5)"
            },
            "type": "circle",
            "x0": 5.138214406874356,
            "x1": 5.538214406874356,
            "xref": "x",
            "y0": 0.800883019441401,
            "y1": 1.2008830194414009,
            "yref": "y"
           },
           {
            "fillcolor": "rgba(128, 0, 0, 0.5)",
            "line": {
             "color": "rgba(128, 0, 0, 0.5)"
            },
            "type": "circle",
            "x0": 6.8,
            "x1": 7.2,
            "xref": "x",
            "y0": 0.8,
            "y1": 1.2,
            "yref": "y"
           },
           {
            "line": {
             "color": "black",
             "width": 3
            },
            "type": "line",
            "x0": 5.338214406874356,
            "x1": 5.538146809448183,
            "y0": 1.000883019441401,
            "y1": 0.995683557829155
           },
           {
            "line": {
             "color": "white",
             "width": 3
            },
            "type": "line",
            "x0": 7,
            "x1": 7.2,
            "y0": 1,
            "y1": 1
           }
          ],
          "title": {
           "text": "<b>Hirai & Tarui, 1975  |  Number of Agents: 2</b>",
           "x": 0.5
          }
         },
         "name": "30"
        },
        {
         "data": [
          {
           "hoverinfo": "name",
           "line": {
            "color": "grey"
           },
           "mode": "lines",
           "name": "Exterior",
           "showlegend": false,
           "type": "scatter",
           "x": {
            "bdata": "AAAAAAAAAAAAAAAAAAAoQAAAAAAAAChAAAAAAAAAJEAAAAAAAAAkQAAAAAAAAAAAAAAAAAAAAAA=",
            "dtype": "f8"
           },
           "y": {
            "bdata": "AAAAAAAAAAAAAAAAAAAAAAAAAAAAAChAAAAAAAAAKEAAAAAAAAAAQAAAAAAAAABAAAAAAAAAAAA=",
            "dtype": "f8"
           }
          },
          {
           "hoverinfo": "text",
           "marker": {
            "opacity": 1,
            "size": 1
           },
           "mode": "markers",
           "showlegend": false,
           "text": [
            "ID: 0, Pos(5.35,1.00)"
           ],
           "type": "scatter",
           "x": [
            5.34984233529258
           ],
           "y": [
            1.0003725447021934
           ]
          },
          {
           "hoverinfo": "text",
           "marker": {
            "opacity": 1,
            "size": 1
           },
           "mode": "markers",
           "showlegend": false,
           "text": [
            "ID: 1, Pos(7.00,1.00)"
           ],
           "type": "scatter",
           "x": [
            7
           ],
           "y": [
            1
           ]
          }
         ],
         "layout": {
          "shapes": [
           {
            "fillcolor": "rgba(38, 255, 209, 0.5)",
            "line": {
             "color": "rgba(38, 255, 209, 0.5)"
            },
            "type": "circle",
            "x0": 5.14984233529258,
            "x1": 5.54984233529258,
            "xref": "x",
            "y0": 0.8003725447021934,
            "y1": 1.2003725447021933,
            "yref": "y"
           },
           {
            "fillcolor": "rgba(128, 0, 0, 0.5)",
            "line": {
             "color": "rgba(128, 0, 0, 0.5)"
            },
            "type": "circle",
            "x0": 6.8,
            "x1": 7.2,
            "xref": "x",
            "y0": 0.8,
            "y1": 1.2,
            "yref": "y"
           },
           {
            "line": {
             "color": "black",
             "width": 3
            },
            "type": "line",
            "x0": 5.34984233529258,
            "x1": 5.549649885869865,
            "y0": 1.0003725447021934,
            "y1": 0.991600844051477
           },
           {
            "line": {
             "color": "white",
             "width": 3
            },
            "type": "line",
            "x0": 7,
            "x1": 7.2,
            "y0": 1,
            "y1": 1
           }
          ],
          "title": {
           "text": "<b>Hirai & Tarui, 1975  |  Number of Agents: 2</b>",
           "x": 0.5
          }
         },
         "name": "31"
        },
        {
         "data": [
          {
           "hoverinfo": "name",
           "line": {
            "color": "grey"
           },
           "mode": "lines",
           "name": "Exterior",
           "showlegend": false,
           "type": "scatter",
           "x": {
            "bdata": "AAAAAAAAAAAAAAAAAAAoQAAAAAAAAChAAAAAAAAAJEAAAAAAAAAkQAAAAAAAAAAAAAAAAAAAAAA=",
            "dtype": "f8"
           },
           "y": {
            "bdata": "AAAAAAAAAAAAAAAAAAAAAAAAAAAAAChAAAAAAAAAKEAAAAAAAAAAQAAAAAAAAABAAAAAAAAAAAA=",
            "dtype": "f8"
           }
          },
          {
           "hoverinfo": "text",
           "marker": {
            "opacity": 1,
            "size": 1
           },
           "mode": "markers",
           "showlegend": false,
           "text": [
            "ID: 0, Pos(5.36,1.00)"
           ],
           "type": "scatter",
           "x": [
            5.361504976978375
           ],
           "y": [
            0.9996551052953517
           ]
          },
          {
           "hoverinfo": "text",
           "marker": {
            "opacity": 1,
            "size": 1
           },
           "mode": "markers",
           "showlegend": false,
           "text": [
            "ID: 1, Pos(7.00,1.00)"
           ],
           "type": "scatter",
           "x": [
            7
           ],
           "y": [
            1
           ]
          }
         ],
         "layout": {
          "shapes": [
           {
            "fillcolor": "rgba(38, 255, 209, 0.5)",
            "line": {
             "color": "rgba(38, 255, 209, 0.5)"
            },
            "type": "circle",
            "x0": 5.1615049769783745,
            "x1": 5.561504976978375,
            "xref": "x",
            "y0": 0.7996551052953518,
            "y1": 1.1996551052953517,
            "yref": "y"
           },
           {
            "fillcolor": "rgba(128, 0, 0, 0.5)",
            "line": {
             "color": "rgba(128, 0, 0, 0.5)"
            },
            "type": "circle",
            "x0": 6.8,
            "x1": 7.2,
            "xref": "x",
            "y0": 0.8,
            "y1": 1.2,
            "yref": "y"
           },
           {
            "line": {
             "color": "black",
             "width": 3
            },
            "type": "line",
            "x0": 5.361504976978375,
            "x1": 5.561127625442499,
            "y0": 0.9996551052953517,
            "y1": 0.9873751126174749
           },
           {
            "line": {
             "color": "white",
             "width": 3
            },
            "type": "line",
            "x0": 7,
            "x1": 7.2,
            "y0": 1,
            "y1": 1
           }
          ],
          "title": {
           "text": "<b>Hirai & Tarui, 1975  |  Number of Agents: 2</b>",
           "x": 0.5
          }
         },
         "name": "32"
        },
        {
         "data": [
          {
           "hoverinfo": "name",
           "line": {
            "color": "grey"
           },
           "mode": "lines",
           "name": "Exterior",
           "showlegend": false,
           "type": "scatter",
           "x": {
            "bdata": "AAAAAAAAAAAAAAAAAAAoQAAAAAAAAChAAAAAAAAAJEAAAAAAAAAkQAAAAAAAAAAAAAAAAAAAAAA=",
            "dtype": "f8"
           },
           "y": {
            "bdata": "AAAAAAAAAAAAAAAAAAAAAAAAAAAAAChAAAAAAAAAKEAAAAAAAAAAQAAAAAAAAABAAAAAAAAAAAA=",
            "dtype": "f8"
           }
          },
          {
           "hoverinfo": "text",
           "marker": {
            "opacity": 1,
            "size": 1
           },
           "mode": "markers",
           "showlegend": false,
           "text": [
            "ID: 0, Pos(5.37,1.00)"
           ],
           "type": "scatter",
           "x": [
            5.373201448314177
           ],
           "y": [
            0.9993327305644826
           ]
          },
          {
           "hoverinfo": "text",
           "marker": {
            "opacity": 1,
            "size": 1
           },
           "mode": "markers",
           "showlegend": false,
           "text": [
            "ID: 1, Pos(7.00,1.00)"
           ],
           "type": "scatter",
           "x": [
            7
           ],
           "y": [
            1
           ]
          }
         ],
         "layout": {
          "shapes": [
           {
            "fillcolor": "rgba(35, 255, 212, 0.5)",
            "line": {
             "color": "rgba(35, 255, 212, 0.5)"
            },
            "type": "circle",
            "x0": 5.173201448314177,
            "x1": 5.573201448314177,
            "xref": "x",
            "y0": 0.7993327305644826,
            "y1": 1.1993327305644825,
            "yref": "y"
           },
           {
            "fillcolor": "rgba(128, 0, 0, 0.5)",
            "line": {
             "color": "rgba(128, 0, 0, 0.5)"
            },
            "type": "circle",
            "x0": 6.8,
            "x1": 7.2,
            "xref": "x",
            "y0": 0.8,
            "y1": 1.2,
            "yref": "y"
           },
           {
            "line": {
             "color": "black",
             "width": 3
            },
            "type": "line",
            "x0": 5.373201448314177,
            "x1": 5.573125526790317,
            "y0": 0.9993327305644826,
            "y1": 0.9938224814352669
           },
           {
            "line": {
             "color": "white",
             "width": 3
            },
            "type": "line",
            "x0": 7,
            "x1": 7.2,
            "y0": 1,
            "y1": 1
           }
          ],
          "title": {
           "text": "<b>Hirai & Tarui, 1975  |  Number of Agents: 2</b>",
           "x": 0.5
          }
         },
         "name": "33"
        },
        {
         "data": [
          {
           "hoverinfo": "name",
           "line": {
            "color": "grey"
           },
           "mode": "lines",
           "name": "Exterior",
           "showlegend": false,
           "type": "scatter",
           "x": {
            "bdata": "AAAAAAAAAAAAAAAAAAAoQAAAAAAAAChAAAAAAAAAJEAAAAAAAAAkQAAAAAAAAAAAAAAAAAAAAAA=",
            "dtype": "f8"
           },
           "y": {
            "bdata": "AAAAAAAAAAAAAAAAAAAAAAAAAAAAAChAAAAAAAAAKEAAAAAAAAAAQAAAAAAAAABAAAAAAAAAAAA=",
            "dtype": "f8"
           }
          },
          {
           "hoverinfo": "text",
           "marker": {
            "opacity": 1,
            "size": 1
           },
           "mode": "markers",
           "showlegend": false,
           "text": [
            "ID: 0, Pos(5.38,1.00)"
           ],
           "type": "scatter",
           "x": [
            5.384931176218057
           ],
           "y": [
            0.9994015953086606
           ]
          },
          {
           "hoverinfo": "text",
           "marker": {
            "opacity": 1,
            "size": 1
           },
           "mode": "markers",
           "showlegend": false,
           "text": [
            "ID: 1, Pos(7.00,1.00)"
           ],
           "type": "scatter",
           "x": [
            7
           ],
           "y": [
            1
           ]
          }
         ],
         "layout": {
          "shapes": [
           {
            "fillcolor": "rgba(35, 255, 212, 0.5)",
            "line": {
             "color": "rgba(35, 255, 212, 0.5)"
            },
            "type": "circle",
            "x0": 5.184931176218057,
            "x1": 5.584931176218057,
            "xref": "x",
            "y0": 0.7994015953086606,
            "y1": 1.1994015953086605,
            "yref": "y"
           },
           {
            "fillcolor": "rgba(128, 0, 0, 0.5)",
            "line": {
             "color": "rgba(128, 0, 0, 0.5)"
            },
            "type": "circle",
            "x0": 6.8,
            "x1": 7.2,
            "xref": "x",
            "y0": 0.8,
            "y1": 1.2,
            "yref": "y"
           },
           {
            "line": {
             "color": "black",
             "width": 3
            },
            "type": "line",
            "x0": 5.384931176218057,
            "x1": 5.584927729491944,
            "y0": 0.9994015953086606,
            "y1": 1.0005757667464419
           },
           {
            "line": {
             "color": "white",
             "width": 3
            },
            "type": "line",
            "x0": 7,
            "x1": 7.2,
            "y0": 1,
            "y1": 1
           }
          ],
          "title": {
           "text": "<b>Hirai & Tarui, 1975  |  Number of Agents: 2</b>",
           "x": 0.5
          }
         },
         "name": "34"
        },
        {
         "data": [
          {
           "hoverinfo": "name",
           "line": {
            "color": "grey"
           },
           "mode": "lines",
           "name": "Exterior",
           "showlegend": false,
           "type": "scatter",
           "x": {
            "bdata": "AAAAAAAAAAAAAAAAAAAoQAAAAAAAAChAAAAAAAAAJEAAAAAAAAAkQAAAAAAAAAAAAAAAAAAAAAA=",
            "dtype": "f8"
           },
           "y": {
            "bdata": "AAAAAAAAAAAAAAAAAAAAAAAAAAAAAChAAAAAAAAAKEAAAAAAAAAAQAAAAAAAAABAAAAAAAAAAAA=",
            "dtype": "f8"
           }
          },
          {
           "hoverinfo": "text",
           "marker": {
            "opacity": 1,
            "size": 1
           },
           "mode": "markers",
           "showlegend": false,
           "text": [
            "ID: 0, Pos(5.40,1.00)"
           ],
           "type": "scatter",
           "x": [
            5.396693462734099
           ],
           "y": [
            0.9998579229054599
           ]
          },
          {
           "hoverinfo": "text",
           "marker": {
            "opacity": 1,
            "size": 1
           },
           "mode": "markers",
           "showlegend": false,
           "text": [
            "ID: 1, Pos(7.00,1.00)"
           ],
           "type": "scatter",
           "x": [
            7
           ],
           "y": [
            1
           ]
          }
         ],
         "layout": {
          "shapes": [
           {
            "fillcolor": "rgba(35, 255, 212, 0.5)",
            "line": {
             "color": "rgba(35, 255, 212, 0.5)"
            },
            "type": "circle",
            "x0": 5.196693462734099,
            "x1": 5.596693462734099,
            "xref": "x",
            "y0": 0.7998579229054599,
            "y1": 1.19985792290546,
            "yref": "y"
           },
           {
            "fillcolor": "rgba(128, 0, 0, 0.5)",
            "line": {
             "color": "rgba(128, 0, 0, 0.5)"
            },
            "type": "circle",
            "x0": 6.8,
            "x1": 7.2,
            "xref": "x",
            "y0": 0.8,
            "y1": 1.2,
            "yref": "y"
           },
           {
            "line": {
             "color": "black",
             "width": 3
            },
            "type": "line",
            "x0": 5.396693462734099,
            "x1": 5.596543120828817,
            "y0": 0.9998579229054599,
            "y1": 1.007611255055221
           },
           {
            "line": {
             "color": "white",
             "width": 3
            },
            "type": "line",
            "x0": 7,
            "x1": 7.2,
            "y0": 1,
            "y1": 1
           }
          ],
          "title": {
           "text": "<b>Hirai & Tarui, 1975  |  Number of Agents: 2</b>",
           "x": 0.5
          }
         },
         "name": "35"
        },
        {
         "data": [
          {
           "hoverinfo": "name",
           "line": {
            "color": "grey"
           },
           "mode": "lines",
           "name": "Exterior",
           "showlegend": false,
           "type": "scatter",
           "x": {
            "bdata": "AAAAAAAAAAAAAAAAAAAoQAAAAAAAAChAAAAAAAAAJEAAAAAAAAAkQAAAAAAAAAAAAAAAAAAAAAA=",
            "dtype": "f8"
           },
           "y": {
            "bdata": "AAAAAAAAAAAAAAAAAAAAAAAAAAAAAChAAAAAAAAAKEAAAAAAAAAAQAAAAAAAAABAAAAAAAAAAAA=",
            "dtype": "f8"
           }
          },
          {
           "hoverinfo": "text",
           "marker": {
            "opacity": 1,
            "size": 1
           },
           "mode": "markers",
           "showlegend": false,
           "text": [
            "ID: 0, Pos(5.41,1.00)"
           ],
           "type": "scatter",
           "x": [
            5.408487493271201
           ],
           "y": [
            1.0006979884755658
           ]
          },
          {
           "hoverinfo": "text",
           "marker": {
            "opacity": 1,
            "size": 1
           },
           "mode": "markers",
           "showlegend": false,
           "text": [
            "ID: 1, Pos(7.00,1.00)"
           ],
           "type": "scatter",
           "x": [
            7
           ],
           "y": [
            1
           ]
          }
         ],
         "layout": {
          "shapes": [
           {
            "fillcolor": "rgba(31, 255, 215, 0.5)",
            "line": {
             "color": "rgba(31, 255, 215, 0.5)"
            },
            "type": "circle",
            "x0": 5.208487493271201,
            "x1": 5.608487493271201,
            "xref": "x",
            "y0": 0.8006979884755658,
            "y1": 1.2006979884755657,
            "yref": "y"
           },
           {
            "fillcolor": "rgba(128, 0, 0, 0.5)",
            "line": {
             "color": "rgba(128, 0, 0, 0.5)"
            },
            "type": "circle",
            "x0": 6.8,
            "x1": 7.2,
            "xref": "x",
            "y0": 0.8,
            "y1": 1.2,
            "yref": "y"
           },
           {
            "line": {
             "color": "black",
             "width": 3
            },
            "type": "line",
            "x0": 5.408487493271201,
            "x1": 5.6079820723873075,
            "y0": 1.0006979884755658,
            "y1": 1.0149075944971044
           },
           {
            "line": {
             "color": "white",
             "width": 3
            },
            "type": "line",
            "x0": 7,
            "x1": 7.2,
            "y0": 1,
            "y1": 1
           }
          ],
          "title": {
           "text": "<b>Hirai & Tarui, 1975  |  Number of Agents: 2</b>",
           "x": 0.5
          }
         },
         "name": "36"
        },
        {
         "data": [
          {
           "hoverinfo": "name",
           "line": {
            "color": "grey"
           },
           "mode": "lines",
           "name": "Exterior",
           "showlegend": false,
           "type": "scatter",
           "x": {
            "bdata": "AAAAAAAAAAAAAAAAAAAoQAAAAAAAAChAAAAAAAAAJEAAAAAAAAAkQAAAAAAAAAAAAAAAAAAAAAA=",
            "dtype": "f8"
           },
           "y": {
            "bdata": "AAAAAAAAAAAAAAAAAAAAAAAAAAAAAChAAAAAAAAAKEAAAAAAAAAAQAAAAAAAAABAAAAAAAAAAAA=",
            "dtype": "f8"
           }
          },
          {
           "hoverinfo": "text",
           "marker": {
            "opacity": 1,
            "size": 1
           },
           "mode": "markers",
           "showlegend": false,
           "text": [
            "ID: 0, Pos(5.42,1.00)"
           ],
           "type": "scatter",
           "x": [
            5.420312345655077
           ],
           "y": [
            1.00131807541145
           ]
          },
          {
           "hoverinfo": "text",
           "marker": {
            "opacity": 1,
            "size": 1
           },
           "mode": "markers",
           "showlegend": false,
           "text": [
            "ID: 1, Pos(7.00,1.00)"
           ],
           "type": "scatter",
           "x": [
            7
           ],
           "y": [
            1
           ]
          }
         ],
         "layout": {
          "shapes": [
           {
            "fillcolor": "rgba(31, 255, 215, 0.5)",
            "line": {
             "color": "rgba(31, 255, 215, 0.5)"
            },
            "type": "circle",
            "x0": 5.220312345655077,
            "x1": 5.620312345655077,
            "xref": "x",
            "y0": 0.80131807541145,
            "y1": 1.2013180754114499,
            "yref": "y"
           },
           {
            "fillcolor": "rgba(128, 0, 0, 0.5)",
            "line": {
             "color": "rgba(128, 0, 0, 0.5)"
            },
            "type": "circle",
            "x0": 6.8,
            "x1": 7.2,
            "xref": "x",
            "y0": 0.8,
            "y1": 1.2,
            "yref": "y"
           },
           {
            "line": {
             "color": "black",
             "width": 3
            },
            "type": "line",
            "x0": 5.420312345655077,
            "x1": 5.6200379235185824,
            "y0": 1.00131807541145,
            "y1": 1.0117915441343188
           },
           {
            "line": {
             "color": "white",
             "width": 3
            },
            "type": "line",
            "x0": 7,
            "x1": 7.2,
            "y0": 1,
            "y1": 1
           }
          ],
          "title": {
           "text": "<b>Hirai & Tarui, 1975  |  Number of Agents: 2</b>",
           "x": 0.5
          }
         },
         "name": "37"
        },
        {
         "data": [
          {
           "hoverinfo": "name",
           "line": {
            "color": "grey"
           },
           "mode": "lines",
           "name": "Exterior",
           "showlegend": false,
           "type": "scatter",
           "x": {
            "bdata": "AAAAAAAAAAAAAAAAAAAoQAAAAAAAAChAAAAAAAAAJEAAAAAAAAAkQAAAAAAAAAAAAAAAAAAAAAA=",
            "dtype": "f8"
           },
           "y": {
            "bdata": "AAAAAAAAAAAAAAAAAAAAAAAAAAAAAChAAAAAAAAAKEAAAAAAAAAAQAAAAAAAAABAAAAAAAAAAAA=",
            "dtype": "f8"
           }
          },
          {
           "hoverinfo": "text",
           "marker": {
            "opacity": 1,
            "size": 1
           },
           "mode": "markers",
           "showlegend": false,
           "text": [
            "ID: 0, Pos(5.43,1.00)"
           ],
           "type": "scatter",
           "x": [
            5.4321674667354465
           ],
           "y": [
            1.0017204234382897
           ]
          },
          {
           "hoverinfo": "text",
           "marker": {
            "opacity": 1,
            "size": 1
           },
           "mode": "markers",
           "showlegend": false,
           "text": [
            "ID: 1, Pos(7.00,1.00)"
           ],
           "type": "scatter",
           "x": [
            7
           ],
           "y": [
            1
           ]
          }
         ],
         "layout": {
          "shapes": [
           {
            "fillcolor": "rgba(28, 255, 219, 0.5)",
            "line": {
             "color": "rgba(28, 255, 219, 0.5)"
            },
            "type": "circle",
            "x0": 5.232167466735446,
            "x1": 5.632167466735447,
            "xref": "x",
            "y0": 0.8017204234382898,
            "y1": 1.2017204234382897,
            "yref": "y"
           },
           {
            "fillcolor": "rgba(128, 0, 0, 0.5)",
            "line": {
             "color": "rgba(128, 0, 0, 0.5)"
            },
            "type": "circle",
            "x0": 6.8,
            "x1": 7.2,
            "xref": "x",
            "y0": 0.8,
            "y1": 1.2,
            "yref": "y"
           },
           {
            "line": {
             "color": "black",
             "width": 3
            },
            "type": "line",
            "x0": 5.4321674667354465,
            "x1": 5.63205238224908,
            "y0": 1.0017204234382897,
            "y1": 1.008504268226271
           },
           {
            "line": {
             "color": "white",
             "width": 3
            },
            "type": "line",
            "x0": 7,
            "x1": 7.2,
            "y0": 1,
            "y1": 1
           }
          ],
          "title": {
           "text": "<b>Hirai & Tarui, 1975  |  Number of Agents: 2</b>",
           "x": 0.5
          }
         },
         "name": "38"
        },
        {
         "data": [
          {
           "hoverinfo": "name",
           "line": {
            "color": "grey"
           },
           "mode": "lines",
           "name": "Exterior",
           "showlegend": false,
           "type": "scatter",
           "x": {
            "bdata": "AAAAAAAAAAAAAAAAAAAoQAAAAAAAAChAAAAAAAAAJEAAAAAAAAAkQAAAAAAAAAAAAAAAAAAAAAA=",
            "dtype": "f8"
           },
           "y": {
            "bdata": "AAAAAAAAAAAAAAAAAAAAAAAAAAAAAChAAAAAAAAAKEAAAAAAAAAAQAAAAAAAAABAAAAAAAAAAAA=",
            "dtype": "f8"
           }
          },
          {
           "hoverinfo": "text",
           "marker": {
            "opacity": 1,
            "size": 1
           },
           "mode": "markers",
           "showlegend": false,
           "text": [
            "ID: 0, Pos(5.44,1.00)"
           ],
           "type": "scatter",
           "x": [
            5.4440522703598635
           ],
           "y": [
            1.0019072527756305
           ]
          },
          {
           "hoverinfo": "text",
           "marker": {
            "opacity": 1,
            "size": 1
           },
           "mode": "markers",
           "showlegend": false,
           "text": [
            "ID: 1, Pos(7.00,1.00)"
           ],
           "type": "scatter",
           "x": [
            7
           ],
           "y": [
            1
           ]
          }
         ],
         "layout": {
          "shapes": [
           {
            "fillcolor": "rgba(28, 255, 219, 0.5)",
            "line": {
             "color": "rgba(28, 255, 219, 0.5)"
            },
            "type": "circle",
            "x0": 5.244052270359863,
            "x1": 5.644052270359864,
            "xref": "x",
            "y0": 0.8019072527756306,
            "y1": 1.2019072527756305,
            "yref": "y"
           },
           {
            "fillcolor": "rgba(128, 0, 0, 0.5)",
            "line": {
             "color": "rgba(128, 0, 0, 0.5)"
            },
            "type": "circle",
            "x0": 6.8,
            "x1": 7.2,
            "xref": "x",
            "y0": 0.8,
            "y1": 1.2,
            "yref": "y"
           },
           {
            "line": {
             "color": "black",
             "width": 3
            },
            "type": "line",
            "x0": 5.4440522703598635,
            "x1": 5.644027563039652,
            "y0": 1.0019072527756305,
            "y1": 1.0050508681517534
           },
           {
            "line": {
             "color": "white",
             "width": 3
            },
            "type": "line",
            "x0": 7,
            "x1": 7.2,
            "y0": 1,
            "y1": 1
           }
          ],
          "title": {
           "text": "<b>Hirai & Tarui, 1975  |  Number of Agents: 2</b>",
           "x": 0.5
          }
         },
         "name": "39"
        },
        {
         "data": [
          {
           "hoverinfo": "name",
           "line": {
            "color": "grey"
           },
           "mode": "lines",
           "name": "Exterior",
           "showlegend": false,
           "type": "scatter",
           "x": {
            "bdata": "AAAAAAAAAAAAAAAAAAAoQAAAAAAAAChAAAAAAAAAJEAAAAAAAAAkQAAAAAAAAAAAAAAAAAAAAAA=",
            "dtype": "f8"
           },
           "y": {
            "bdata": "AAAAAAAAAAAAAAAAAAAAAAAAAAAAAChAAAAAAAAAKEAAAAAAAAAAQAAAAAAAAABAAAAAAAAAAAA=",
            "dtype": "f8"
           }
          },
          {
           "hoverinfo": "text",
           "marker": {
            "opacity": 1,
            "size": 1
           },
           "mode": "markers",
           "showlegend": false,
           "text": [
            "ID: 0, Pos(5.46,1.00)"
           ],
           "type": "scatter",
           "x": [
            5.455966139656544
           ],
           "y": [
            1.0018807603414515
           ]
          },
          {
           "hoverinfo": "text",
           "marker": {
            "opacity": 1,
            "size": 1
           },
           "mode": "markers",
           "showlegend": false,
           "text": [
            "ID: 1, Pos(7.00,1.00)"
           ],
           "type": "scatter",
           "x": [
            7
           ],
           "y": [
            1
           ]
          }
         ],
         "layout": {
          "shapes": [
           {
            "fillcolor": "rgba(28, 255, 219, 0.5)",
            "line": {
             "color": "rgba(28, 255, 219, 0.5)"
            },
            "type": "circle",
            "x0": 5.255966139656544,
            "x1": 5.655966139656544,
            "xref": "x",
            "y0": 0.8018807603414515,
            "y1": 1.2018807603414514,
            "yref": "y"
           },
           {
            "fillcolor": "rgba(128, 0, 0, 0.5)",
            "line": {
             "color": "rgba(128, 0, 0, 0.5)"
            },
            "type": "circle",
            "x0": 6.8,
            "x1": 7.2,
            "xref": "x",
            "y0": 0.8,
            "y1": 1.2,
            "yref": "y"
           },
           {
            "line": {
             "color": "black",
             "width": 3
            },
            "type": "line",
            "x0": 5.455966139656544,
            "x1": 5.655965645190521,
            "y0": 1.0018807603414515,
            "y1": 1.0014360287765627
           },
           {
            "line": {
             "color": "white",
             "width": 3
            },
            "type": "line",
            "x0": 7,
            "x1": 7.2,
            "y0": 1,
            "y1": 1
           }
          ],
          "title": {
           "text": "<b>Hirai & Tarui, 1975  |  Number of Agents: 2</b>",
           "x": 0.5
          }
         },
         "name": "40"
        },
        {
         "data": [
          {
           "hoverinfo": "name",
           "line": {
            "color": "grey"
           },
           "mode": "lines",
           "name": "Exterior",
           "showlegend": false,
           "type": "scatter",
           "x": {
            "bdata": "AAAAAAAAAAAAAAAAAAAoQAAAAAAAAChAAAAAAAAAJEAAAAAAAAAkQAAAAAAAAAAAAAAAAAAAAAA=",
            "dtype": "f8"
           },
           "y": {
            "bdata": "AAAAAAAAAAAAAAAAAAAAAAAAAAAAAChAAAAAAAAAKEAAAAAAAAAAQAAAAAAAAABAAAAAAAAAAAA=",
            "dtype": "f8"
           }
          },
          {
           "hoverinfo": "text",
           "marker": {
            "opacity": 1,
            "size": 1
           },
           "mode": "markers",
           "showlegend": false,
           "text": [
            "ID: 0, Pos(5.47,1.00)"
           ],
           "type": "scatter",
           "x": [
            5.46790842933389
           ],
           "y": [
            1.0016431139871806
           ]
          },
          {
           "hoverinfo": "text",
           "marker": {
            "opacity": 1,
            "size": 1
           },
           "mode": "markers",
           "showlegend": false,
           "text": [
            "ID: 1, Pos(7.00,1.00)"
           ],
           "type": "scatter",
           "x": [
            7
           ],
           "y": [
            1
           ]
          }
         ],
         "layout": {
          "shapes": [
           {
            "fillcolor": "rgba(25, 255, 222, 0.5)",
            "line": {
             "color": "rgba(25, 255, 222, 0.5)"
            },
            "type": "circle",
            "x0": 5.26790842933389,
            "x1": 5.66790842933389,
            "xref": "x",
            "y0": 0.8016431139871807,
            "y1": 1.2016431139871806,
            "yref": "y"
           },
           {
            "fillcolor": "rgba(128, 0, 0, 0.5)",
            "line": {
             "color": "rgba(128, 0, 0, 0.5)"
            },
            "type": "circle",
            "x0": 6.8,
            "x1": 7.2,
            "xref": "x",
            "y0": 0.8,
            "y1": 1.2,
            "yref": "y"
           },
           {
            "line": {
             "color": "black",
             "width": 3
            },
            "type": "line",
            "x0": 5.46790842933389,
            "x1": 5.6678688418271905,
            "y0": 1.0016431139871806,
            "y1": 0.997663989019405
           },
           {
            "line": {
             "color": "white",
             "width": 3
            },
            "type": "line",
            "x0": 7,
            "x1": 7.2,
            "y0": 1,
            "y1": 1
           }
          ],
          "title": {
           "text": "<b>Hirai & Tarui, 1975  |  Number of Agents: 2</b>",
           "x": 0.5
          }
         },
         "name": "41"
        },
        {
         "data": [
          {
           "hoverinfo": "name",
           "line": {
            "color": "grey"
           },
           "mode": "lines",
           "name": "Exterior",
           "showlegend": false,
           "type": "scatter",
           "x": {
            "bdata": "AAAAAAAAAAAAAAAAAAAoQAAAAAAAAChAAAAAAAAAJEAAAAAAAAAkQAAAAAAAAAAAAAAAAAAAAAA=",
            "dtype": "f8"
           },
           "y": {
            "bdata": "AAAAAAAAAAAAAAAAAAAAAAAAAAAAAChAAAAAAAAAKEAAAAAAAAAAQAAAAAAAAABAAAAAAAAAAAA=",
            "dtype": "f8"
           }
          },
          {
           "hoverinfo": "text",
           "marker": {
            "opacity": 1,
            "size": 1
           },
           "mode": "markers",
           "showlegend": false,
           "text": [
            "ID: 0, Pos(5.48,1.00)"
           ],
           "type": "scatter",
           "x": [
            5.479878467976592
           ],
           "y": [
            1.0011964391293373
           ]
          },
          {
           "hoverinfo": "text",
           "marker": {
            "opacity": 1,
            "size": 1
           },
           "mode": "markers",
           "showlegend": false,
           "text": [
            "ID: 1, Pos(7.00,1.00)"
           ],
           "type": "scatter",
           "x": [
            7
           ],
           "y": [
            1
           ]
          }
         ],
         "layout": {
          "shapes": [
           {
            "fillcolor": "rgba(25, 255, 222, 0.5)",
            "line": {
             "color": "rgba(25, 255, 222, 0.5)"
            },
            "type": "circle",
            "x0": 5.279878467976592,
            "x1": 5.679878467976592,
            "xref": "x",
            "y0": 0.8011964391293374,
            "y1": 1.2011964391293373,
            "yref": "y"
           },
           {
            "fillcolor": "rgba(128, 0, 0, 0.5)",
            "line": {
             "color": "rgba(128, 0, 0, 0.5)"
            },
            "type": "circle",
            "x0": 6.8,
            "x1": 7.2,
            "xref": "x",
            "y0": 0.8,
            "y1": 1.2,
            "yref": "y"
           },
           {
            "line": {
             "color": "black",
             "width": 3
            },
            "type": "line",
            "x0": 5.479878467976592,
            "x1": 5.6797393642909,
            "y0": 1.0011964391293373,
            "y1": 0.9937384149646399
           },
           {
            "line": {
             "color": "white",
             "width": 3
            },
            "type": "line",
            "x0": 7,
            "x1": 7.2,
            "y0": 1,
            "y1": 1
           }
          ],
          "title": {
           "text": "<b>Hirai & Tarui, 1975  |  Number of Agents: 2</b>",
           "x": 0.5
          }
         },
         "name": "42"
        },
        {
         "data": [
          {
           "hoverinfo": "name",
           "line": {
            "color": "grey"
           },
           "mode": "lines",
           "name": "Exterior",
           "showlegend": false,
           "type": "scatter",
           "x": {
            "bdata": "AAAAAAAAAAAAAAAAAAAoQAAAAAAAAChAAAAAAAAAJEAAAAAAAAAkQAAAAAAAAAAAAAAAAAAAAAA=",
            "dtype": "f8"
           },
           "y": {
            "bdata": "AAAAAAAAAAAAAAAAAAAAAAAAAAAAAChAAAAAAAAAKEAAAAAAAAAAQAAAAAAAAABAAAAAAAAAAAA=",
            "dtype": "f8"
           }
          },
          {
           "hoverinfo": "text",
           "marker": {
            "opacity": 1,
            "size": 1
           },
           "mode": "markers",
           "showlegend": false,
           "text": [
            "ID: 0, Pos(5.49,1.00)"
           ],
           "type": "scatter",
           "x": [
            5.491875560315849
           ],
           "y": [
            1.0005428346437257
           ]
          },
          {
           "hoverinfo": "text",
           "marker": {
            "opacity": 1,
            "size": 1
           },
           "mode": "markers",
           "showlegend": false,
           "text": [
            "ID: 1, Pos(7.00,1.00)"
           ],
           "type": "scatter",
           "x": [
            7
           ],
           "y": [
            1
           ]
          }
         ],
         "layout": {
          "shapes": [
           {
            "fillcolor": "rgba(25, 255, 222, 0.5)",
            "line": {
             "color": "rgba(25, 255, 222, 0.5)"
            },
            "type": "circle",
            "x0": 5.291875560315849,
            "x1": 5.691875560315849,
            "xref": "x",
            "y0": 0.8005428346437258,
            "y1": 1.2005428346437257,
            "yref": "y"
           },
           {
            "fillcolor": "rgba(128, 0, 0, 0.5)",
            "line": {
             "color": "rgba(128, 0, 0, 0.5)"
            },
            "type": "circle",
            "x0": 6.8,
            "x1": 7.2,
            "xref": "x",
            "y0": 0.8,
            "y1": 1.2,
            "yref": "y"
           },
           {
            "line": {
             "color": "black",
             "width": 3
            },
            "type": "line",
            "x0": 5.491875560315849,
            "x1": 5.6915794097364225,
            "y0": 1.0005428346437257,
            "y1": 0.989662920737582
           },
           {
            "line": {
             "color": "white",
             "width": 3
            },
            "type": "line",
            "x0": 7,
            "x1": 7.2,
            "y0": 1,
            "y1": 1
           }
          ],
          "title": {
           "text": "<b>Hirai & Tarui, 1975  |  Number of Agents: 2</b>",
           "x": 0.5
          }
         },
         "name": "43"
        },
        {
         "data": [
          {
           "hoverinfo": "name",
           "line": {
            "color": "grey"
           },
           "mode": "lines",
           "name": "Exterior",
           "showlegend": false,
           "type": "scatter",
           "x": {
            "bdata": "AAAAAAAAAAAAAAAAAAAoQAAAAAAAAChAAAAAAAAAJEAAAAAAAAAkQAAAAAAAAAAAAAAAAAAAAAA=",
            "dtype": "f8"
           },
           "y": {
            "bdata": "AAAAAAAAAAAAAAAAAAAAAAAAAAAAAChAAAAAAAAAKEAAAAAAAAAAQAAAAAAAAABAAAAAAAAAAAA=",
            "dtype": "f8"
           }
          },
          {
           "hoverinfo": "text",
           "marker": {
            "opacity": 1,
            "size": 1
           },
           "mode": "markers",
           "showlegend": false,
           "text": [
            "ID: 0, Pos(5.50,1.00)"
           ],
           "type": "scatter",
           "x": [
            5.50389898946574
           ],
           "y": [
            0.9996843741631026
           ]
          },
          {
           "hoverinfo": "text",
           "marker": {
            "opacity": 1,
            "size": 1
           },
           "mode": "markers",
           "showlegend": false,
           "text": [
            "ID: 1, Pos(7.00,1.00)"
           ],
           "type": "scatter",
           "x": [
            7
           ],
           "y": [
            1
           ]
          }
         ],
         "layout": {
          "shapes": [
           {
            "fillcolor": "rgba(22, 255, 225, 0.5)",
            "line": {
             "color": "rgba(22, 255, 225, 0.5)"
            },
            "type": "circle",
            "x0": 5.30389898946574,
            "x1": 5.70389898946574,
            "xref": "x",
            "y0": 0.7996843741631026,
            "y1": 1.1996843741631027,
            "yref": "y"
           },
           {
            "fillcolor": "rgba(128, 0, 0, 0.5)",
            "line": {
             "color": "rgba(128, 0, 0, 0.5)"
            },
            "type": "circle",
            "x0": 6.8,
            "x1": 7.2,
            "xref": "x",
            "y0": 0.8,
            "y1": 1.2,
            "yref": "y"
           },
           {
            "line": {
             "color": "black",
             "width": 3
            },
            "type": "line",
            "x0": 5.50389898946574,
            "x1": 5.703391148980371,
            "y0": 0.9996843741631026,
            "y1": 0.9854408390615527
           },
           {
            "line": {
             "color": "white",
             "width": 3
            },
            "type": "line",
            "x0": 7,
            "x1": 7.2,
            "y0": 1,
            "y1": 1
           }
          ],
          "title": {
           "text": "<b>Hirai & Tarui, 1975  |  Number of Agents: 2</b>",
           "x": 0.5
          }
         },
         "name": "44"
        },
        {
         "data": [
          {
           "hoverinfo": "name",
           "line": {
            "color": "grey"
           },
           "mode": "lines",
           "name": "Exterior",
           "showlegend": false,
           "type": "scatter",
           "x": {
            "bdata": "AAAAAAAAAAAAAAAAAAAoQAAAAAAAAChAAAAAAAAAJEAAAAAAAAAkQAAAAAAAAAAAAAAAAAAAAAA=",
            "dtype": "f8"
           },
           "y": {
            "bdata": "AAAAAAAAAAAAAAAAAAAAAAAAAAAAAChAAAAAAAAAKEAAAAAAAAAAQAAAAAAAAABAAAAAAAAAAAA=",
            "dtype": "f8"
           }
          },
          {
           "hoverinfo": "text",
           "marker": {
            "opacity": 1,
            "size": 1
           },
           "mode": "markers",
           "showlegend": false,
           "text": [
            "ID: 0, Pos(5.52,1.00)"
           ],
           "type": "scatter",
           "x": [
            5.515948019118097
           ],
           "y": [
            0.99922311802294
           ]
          },
          {
           "hoverinfo": "text",
           "marker": {
            "opacity": 1,
            "size": 1
           },
           "mode": "markers",
           "showlegend": false,
           "text": [
            "ID: 1, Pos(7.00,1.00)"
           ],
           "type": "scatter",
           "x": [
            7
           ],
           "y": [
            1
           ]
          }
         ],
         "layout": {
          "shapes": [
           {
            "fillcolor": "rgba(22, 255, 225, 0.5)",
            "line": {
             "color": "rgba(22, 255, 225, 0.5)"
            },
            "type": "circle",
            "x0": 5.315948019118097,
            "x1": 5.715948019118097,
            "xref": "x",
            "y0": 0.7992231180229399,
            "y1": 1.19922311802294,
            "yref": "y"
           },
           {
            "fillcolor": "rgba(128, 0, 0, 0.5)",
            "line": {
             "color": "rgba(128, 0, 0, 0.5)"
            },
            "type": "circle",
            "x0": 6.8,
            "x1": 7.2,
            "xref": "x",
            "y0": 0.8,
            "y1": 1.2,
            "yref": "y"
           },
           {
            "line": {
             "color": "black",
             "width": 3
            },
            "type": "line",
            "x0": 5.515948019118097,
            "x1": 5.715801631900156,
            "y0": 0.99922311802294,
            "y1": 0.9915724018500093
           },
           {
            "line": {
             "color": "white",
             "width": 3
            },
            "type": "line",
            "x0": 7,
            "x1": 7.2,
            "y0": 1,
            "y1": 1
           }
          ],
          "title": {
           "text": "<b>Hirai & Tarui, 1975  |  Number of Agents: 2</b>",
           "x": 0.5
          }
         },
         "name": "45"
        },
        {
         "data": [
          {
           "hoverinfo": "name",
           "line": {
            "color": "grey"
           },
           "mode": "lines",
           "name": "Exterior",
           "showlegend": false,
           "type": "scatter",
           "x": {
            "bdata": "AAAAAAAAAAAAAAAAAAAoQAAAAAAAAChAAAAAAAAAJEAAAAAAAAAkQAAAAAAAAAAAAAAAAAAAAAA=",
            "dtype": "f8"
           },
           "y": {
            "bdata": "AAAAAAAAAAAAAAAAAAAAAAAAAAAAAChAAAAAAAAAKEAAAAAAAAAAQAAAAAAAAABAAAAAAAAAAAA=",
            "dtype": "f8"
           }
          },
          {
           "hoverinfo": "text",
           "marker": {
            "opacity": 1,
            "size": 1
           },
           "mode": "markers",
           "showlegend": false,
           "text": [
            "ID: 0, Pos(5.53,1.00)"
           ],
           "type": "scatter",
           "x": [
            5.528022272689951
           ],
           "y": [
            0.9991550843094916
           ]
          },
          {
           "hoverinfo": "text",
           "marker": {
            "opacity": 1,
            "size": 1
           },
           "mode": "markers",
           "showlegend": false,
           "text": [
            "ID: 1, Pos(7.00,1.00)"
           ],
           "type": "scatter",
           "x": [
            7
           ],
           "y": [
            1
           ]
          }
         ],
         "layout": {
          "shapes": [
           {
            "fillcolor": "rgba(22, 255, 225, 0.5)",
            "line": {
             "color": "rgba(22, 255, 225, 0.5)"
            },
            "type": "circle",
            "x0": 5.32802227268995,
            "x1": 5.728022272689951,
            "xref": "x",
            "y0": 0.7991550843094917,
            "y1": 1.1991550843094916,
            "yref": "y"
           },
           {
            "fillcolor": "rgba(128, 0, 0, 0.5)",
            "line": {
             "color": "rgba(128, 0, 0, 0.5)"
            },
            "type": "circle",
            "x0": 6.8,
            "x1": 7.2,
            "xref": "x",
            "y0": 0.8,
            "y1": 1.2,
            "yref": "y"
           },
           {
            "line": {
             "color": "black",
             "width": 3
            },
            "type": "line",
            "x0": 5.528022272689951,
            "x1": 5.728019097882233,
            "y0": 0.9991550843094916,
            "y1": 0.9980281801398277
           },
           {
            "line": {
             "color": "white",
             "width": 3
            },
            "type": "line",
            "x0": 7,
            "x1": 7.2,
            "y0": 1,
            "y1": 1
           }
          ],
          "title": {
           "text": "<b>Hirai & Tarui, 1975  |  Number of Agents: 2</b>",
           "x": 0.5
          }
         },
         "name": "46"
        },
        {
         "data": [
          {
           "hoverinfo": "name",
           "line": {
            "color": "grey"
           },
           "mode": "lines",
           "name": "Exterior",
           "showlegend": false,
           "type": "scatter",
           "x": {
            "bdata": "AAAAAAAAAAAAAAAAAAAoQAAAAAAAAChAAAAAAAAAJEAAAAAAAAAkQAAAAAAAAAAAAAAAAAAAAAA=",
            "dtype": "f8"
           },
           "y": {
            "bdata": "AAAAAAAAAAAAAAAAAAAAAAAAAAAAAChAAAAAAAAAKEAAAAAAAAAAQAAAAAAAAABAAAAAAAAAAAA=",
            "dtype": "f8"
           }
          },
          {
           "hoverinfo": "text",
           "marker": {
            "opacity": 1,
            "size": 1
           },
           "mode": "markers",
           "showlegend": false,
           "text": [
            "ID: 0, Pos(5.54,1.00)"
           ],
           "type": "scatter",
           "x": [
            5.540121251260517
           ],
           "y": [
            0.9994763465041147
           ]
          },
          {
           "hoverinfo": "text",
           "marker": {
            "opacity": 1,
            "size": 1
           },
           "mode": "markers",
           "showlegend": false,
           "text": [
            "ID: 1, Pos(7.00,1.00)"
           ],
           "type": "scatter",
           "x": [
            7
           ],
           "y": [
            1
           ]
          }
         ],
         "layout": {
          "shapes": [
           {
            "fillcolor": "rgba(19, 252, 228, 0.5)",
            "line": {
             "color": "rgba(19, 252, 228, 0.5)"
            },
            "type": "circle",
            "x0": 5.340121251260517,
            "x1": 5.7401212512605175,
            "xref": "x",
            "y0": 0.7994763465041146,
            "y1": 1.1994763465041147,
            "yref": "y"
           },
           {
            "fillcolor": "rgba(128, 0, 0, 0.5)",
            "line": {
             "color": "rgba(128, 0, 0, 0.5)"
            },
            "type": "circle",
            "x0": 6.8,
            "x1": 7.2,
            "xref": "x",
            "y0": 0.8,
            "y1": 1.2,
            "yref": "y"
           },
           {
            "line": {
             "color": "black",
             "width": 3
            },
            "type": "line",
            "x0": 5.540121251260517,
            "x1": 5.74005078321077,
            "y0": 0.9994763465041147,
            "y1": 1.004785042591944
           },
           {
            "line": {
             "color": "white",
             "width": 3
            },
            "type": "line",
            "x0": 7,
            "x1": 7.2,
            "y0": 1,
            "y1": 1
           }
          ],
          "title": {
           "text": "<b>Hirai & Tarui, 1975  |  Number of Agents: 2</b>",
           "x": 0.5
          }
         },
         "name": "47"
        },
        {
         "data": [
          {
           "hoverinfo": "name",
           "line": {
            "color": "grey"
           },
           "mode": "lines",
           "name": "Exterior",
           "showlegend": false,
           "type": "scatter",
           "x": {
            "bdata": "AAAAAAAAAAAAAAAAAAAoQAAAAAAAAChAAAAAAAAAJEAAAAAAAAAkQAAAAAAAAAAAAAAAAAAAAAA=",
            "dtype": "f8"
           },
           "y": {
            "bdata": "AAAAAAAAAAAAAAAAAAAAAAAAAAAAAChAAAAAAAAAKEAAAAAAAAAAQAAAAAAAAABAAAAAAAAAAAA=",
            "dtype": "f8"
           }
          },
          {
           "hoverinfo": "text",
           "marker": {
            "opacity": 1,
            "size": 1
           },
           "mode": "markers",
           "showlegend": false,
           "text": [
            "ID: 0, Pos(5.55,1.00)"
           ],
           "type": "scatter",
           "x": [
            5.552244340640977
           ],
           "y": [
            1.0001830463920043
           ]
          },
          {
           "hoverinfo": "text",
           "marker": {
            "opacity": 1,
            "size": 1
           },
           "mode": "markers",
           "showlegend": false,
           "text": [
            "ID: 1, Pos(7.00,1.00)"
           ],
           "type": "scatter",
           "x": [
            7
           ],
           "y": [
            1
           ]
          }
         ],
         "layout": {
          "shapes": [
           {
            "fillcolor": "rgba(19, 252, 228, 0.5)",
            "line": {
             "color": "rgba(19, 252, 228, 0.5)"
            },
            "type": "circle",
            "x0": 5.3522443406409765,
            "x1": 5.752244340640977,
            "xref": "x",
            "y0": 0.8001830463920043,
            "y1": 1.2001830463920042,
            "yref": "y"
           },
           {
            "fillcolor": "rgba(128, 0, 0, 0.5)",
            "line": {
             "color": "rgba(128, 0, 0, 0.5)"
            },
            "type": "circle",
            "x0": 6.8,
            "x1": 7.2,
            "xref": "x",
            "y0": 0.8,
            "y1": 1.2,
            "yref": "y"
           },
           {
            "line": {
             "color": "black",
             "width": 3
            },
            "type": "line",
            "x0": 5.552244340640977,
            "x1": 5.751905388563426,
            "y0": 1.0001830463920043,
            "y1": 1.0118220301324143
           },
           {
            "line": {
             "color": "white",
             "width": 3
            },
            "type": "line",
            "x0": 7,
            "x1": 7.2,
            "y0": 1,
            "y1": 1
           }
          ],
          "title": {
           "text": "<b>Hirai & Tarui, 1975  |  Number of Agents: 2</b>",
           "x": 0.5
          }
         },
         "name": "48"
        },
        {
         "data": [
          {
           "hoverinfo": "name",
           "line": {
            "color": "grey"
           },
           "mode": "lines",
           "name": "Exterior",
           "showlegend": false,
           "type": "scatter",
           "x": {
            "bdata": "AAAAAAAAAAAAAAAAAAAoQAAAAAAAAChAAAAAAAAAJEAAAAAAAAAkQAAAAAAAAAAAAAAAAAAAAAA=",
            "dtype": "f8"
           },
           "y": {
            "bdata": "AAAAAAAAAAAAAAAAAAAAAAAAAAAAAChAAAAAAAAAKEAAAAAAAAAAQAAAAAAAAABAAAAAAAAAAAA=",
            "dtype": "f8"
           }
          },
          {
           "hoverinfo": "text",
           "marker": {
            "opacity": 1,
            "size": 1
           },
           "mode": "markers",
           "showlegend": false,
           "text": [
            "ID: 0, Pos(5.56,1.00)"
           ],
           "type": "scatter",
           "x": [
            5.564390819271707
           ],
           "y": [
            1.0006713701215602
           ]
          },
          {
           "hoverinfo": "text",
           "marker": {
            "opacity": 1,
            "size": 1
           },
           "mode": "markers",
           "showlegend": false,
           "text": [
            "ID: 1, Pos(7.00,1.00)"
           ],
           "type": "scatter",
           "x": [
            7
           ],
           "y": [
            1
           ]
          }
         ],
         "layout": {
          "shapes": [
           {
            "fillcolor": "rgba(19, 252, 228, 0.5)",
            "line": {
             "color": "rgba(19, 252, 228, 0.5)"
            },
            "type": "circle",
            "x0": 5.364390819271707,
            "x1": 5.764390819271707,
            "xref": "x",
            "y0": 0.8006713701215602,
            "y1": 1.20067137012156,
            "yref": "y"
           },
           {
            "fillcolor": "rgba(128, 0, 0, 0.5)",
            "line": {
             "color": "rgba(128, 0, 0, 0.5)"
            },
            "type": "circle",
            "x0": 6.8,
            "x1": 7.2,
            "xref": "x",
            "y0": 0.8,
            "y1": 1.2,
            "yref": "y"
           },
           {
            "line": {
             "color": "black",
             "width": 3
            },
            "type": "line",
            "x0": 5.564390819271707,
            "x1": 5.7642293875746295,
            "y0": 1.0006713701215602,
            "y1": 1.0087054611490531
           },
           {
            "line": {
             "color": "white",
             "width": 3
            },
            "type": "line",
            "x0": 7,
            "x1": 7.2,
            "y0": 1,
            "y1": 1
           }
          ],
          "title": {
           "text": "<b>Hirai & Tarui, 1975  |  Number of Agents: 2</b>",
           "x": 0.5
          }
         },
         "name": "49"
        },
        {
         "data": [
          {
           "hoverinfo": "name",
           "line": {
            "color": "grey"
           },
           "mode": "lines",
           "name": "Exterior",
           "showlegend": false,
           "type": "scatter",
           "x": {
            "bdata": "AAAAAAAAAAAAAAAAAAAoQAAAAAAAAChAAAAAAAAAJEAAAAAAAAAkQAAAAAAAAAAAAAAAAAAAAAA=",
            "dtype": "f8"
           },
           "y": {
            "bdata": "AAAAAAAAAAAAAAAAAAAAAAAAAAAAAChAAAAAAAAAKEAAAAAAAAAAQAAAAAAAAABAAAAAAAAAAAA=",
            "dtype": "f8"
           }
          },
          {
           "hoverinfo": "text",
           "marker": {
            "opacity": 1,
            "size": 1
           },
           "mode": "markers",
           "showlegend": false,
           "text": [
            "ID: 0, Pos(5.58,1.00)"
           ],
           "type": "scatter",
           "x": [
            5.576560246613414
           ],
           "y": [
            1.0009435983184387
           ]
          },
          {
           "hoverinfo": "text",
           "marker": {
            "opacity": 1,
            "size": 1
           },
           "mode": "markers",
           "showlegend": false,
           "text": [
            "ID: 1, Pos(7.00,1.00)"
           ],
           "type": "scatter",
           "x": [
            7
           ],
           "y": [
            1
           ]
          }
         ],
         "layout": {
          "shapes": [
           {
            "fillcolor": "rgba(15, 248, 231, 0.5)",
            "line": {
             "color": "rgba(15, 248, 231, 0.5)"
            },
            "type": "circle",
            "x0": 5.376560246613414,
            "x1": 5.776560246613414,
            "xref": "x",
            "y0": 0.8009435983184388,
            "y1": 1.2009435983184387,
            "yref": "y"
           },
           {
            "fillcolor": "rgba(128, 0, 0, 0.5)",
            "line": {
             "color": "rgba(128, 0, 0, 0.5)"
            },
            "type": "circle",
            "x0": 6.8,
            "x1": 7.2,
            "xref": "x",
            "y0": 0.8,
            "y1": 1.2,
            "yref": "y"
           },
           {
            "line": {
             "color": "black",
             "width": 3
            },
            "type": "line",
            "x0": 5.576560246613414,
            "x1": 5.776510224392199,
            "y0": 1.0009435983184387,
            "y1": 1.0054164482223995
           },
           {
            "line": {
             "color": "white",
             "width": 3
            },
            "type": "line",
            "x0": 7,
            "x1": 7.2,
            "y0": 1,
            "y1": 1
           }
          ],
          "title": {
           "text": "<b>Hirai & Tarui, 1975  |  Number of Agents: 2</b>",
           "x": 0.5
          }
         },
         "name": "50"
        },
        {
         "data": [
          {
           "hoverinfo": "name",
           "line": {
            "color": "grey"
           },
           "mode": "lines",
           "name": "Exterior",
           "showlegend": false,
           "type": "scatter",
           "x": {
            "bdata": "AAAAAAAAAAAAAAAAAAAoQAAAAAAAAChAAAAAAAAAJEAAAAAAAAAkQAAAAAAAAAAAAAAAAAAAAAA=",
            "dtype": "f8"
           },
           "y": {
            "bdata": "AAAAAAAAAAAAAAAAAAAAAAAAAAAAAChAAAAAAAAAKEAAAAAAAAAAQAAAAAAAAABAAAAAAAAAAAA=",
            "dtype": "f8"
           }
          },
          {
           "hoverinfo": "text",
           "marker": {
            "opacity": 1,
            "size": 1
           },
           "mode": "markers",
           "showlegend": false,
           "text": [
            "ID: 0, Pos(5.59,1.00)"
           ],
           "type": "scatter",
           "x": [
            5.5887521502555
           ],
           "y": [
            1.0010019848894771
           ]
          },
          {
           "hoverinfo": "text",
           "marker": {
            "opacity": 1,
            "size": 1
           },
           "mode": "markers",
           "showlegend": false,
           "text": [
            "ID: 1, Pos(7.00,1.00)"
           ],
           "type": "scatter",
           "x": [
            7
           ],
           "y": [
            1
           ]
          }
         ],
         "layout": {
          "shapes": [
           {
            "fillcolor": "rgba(15, 248, 231, 0.5)",
            "line": {
             "color": "rgba(15, 248, 231, 0.5)"
            },
            "type": "circle",
            "x0": 5.3887521502555,
            "x1": 5.7887521502555,
            "xref": "x",
            "y0": 0.8010019848894772,
            "y1": 1.201001984889477,
            "yref": "y"
           },
           {
            "fillcolor": "rgba(128, 0, 0, 0.5)",
            "line": {
             "color": "rgba(128, 0, 0, 0.5)"
            },
            "type": "circle",
            "x0": 6.8,
            "x1": 7.2,
            "xref": "x",
            "y0": 0.8,
            "y1": 1.2,
            "yref": "y"
           },
           {
            "line": {
             "color": "black",
             "width": 3
            },
            "type": "line",
            "x0": 5.5887521502555,
            "x1": 5.788749856878632,
            "y0": 1.0010019848894771,
            "y1": 1.0019597664343507
           },
           {
            "line": {
             "color": "white",
             "width": 3
            },
            "type": "line",
            "x0": 7,
            "x1": 7.2,
            "y0": 1,
            "y1": 1
           }
          ],
          "title": {
           "text": "<b>Hirai & Tarui, 1975  |  Number of Agents: 2</b>",
           "x": 0.5
          }
         },
         "name": "51"
        },
        {
         "data": [
          {
           "hoverinfo": "name",
           "line": {
            "color": "grey"
           },
           "mode": "lines",
           "name": "Exterior",
           "showlegend": false,
           "type": "scatter",
           "x": {
            "bdata": "AAAAAAAAAAAAAAAAAAAoQAAAAAAAAChAAAAAAAAAJEAAAAAAAAAkQAAAAAAAAAAAAAAAAAAAAAA=",
            "dtype": "f8"
           },
           "y": {
            "bdata": "AAAAAAAAAAAAAAAAAAAAAAAAAAAAAChAAAAAAAAAKEAAAAAAAAAAQAAAAAAAAABAAAAAAAAAAAA=",
            "dtype": "f8"
           }
          },
          {
           "hoverinfo": "text",
           "marker": {
            "opacity": 1,
            "size": 1
           },
           "mode": "markers",
           "showlegend": false,
           "text": [
            "ID: 0, Pos(5.60,1.00)"
           ],
           "type": "scatter",
           "x": [
            5.600966028015511
           ],
           "y": [
            1.0008487532267047
           ]
          },
          {
           "hoverinfo": "text",
           "marker": {
            "opacity": 1,
            "size": 1
           },
           "mode": "markers",
           "showlegend": false,
           "text": [
            "ID: 1, Pos(7.00,1.00)"
           ],
           "type": "scatter",
           "x": [
            7
           ],
           "y": [
            1
           ]
          }
         ],
         "layout": {
          "shapes": [
           {
            "fillcolor": "rgba(15, 248, 231, 0.5)",
            "line": {
             "color": "rgba(15, 248, 231, 0.5)"
            },
            "type": "circle",
            "x0": 5.400966028015511,
            "x1": 5.8009660280155115,
            "xref": "x",
            "y0": 0.8008487532267048,
            "y1": 1.2008487532267047,
            "yref": "y"
           },
           {
            "fillcolor": "rgba(128, 0, 0, 0.5)",
            "line": {
             "color": "rgba(128, 0, 0, 0.5)"
            },
            "type": "circle",
            "x0": 6.8,
            "x1": 7.2,
            "xref": "x",
            "y0": 0.8,
            "y1": 1.2,
            "yref": "y"
           },
           {
            "line": {
             "color": "black",
             "width": 3
            },
            "type": "line",
            "x0": 5.600966028015511,
            "x1": 5.800950290410997,
            "y0": 1.0008487532267047,
            "y1": 0.9983398103948463
           },
           {
            "line": {
             "color": "white",
             "width": 3
            },
            "type": "line",
            "x0": 7,
            "x1": 7.2,
            "y0": 1,
            "y1": 1
           }
          ],
          "title": {
           "text": "<b>Hirai & Tarui, 1975  |  Number of Agents: 2</b>",
           "x": 0.5
          }
         },
         "name": "52"
        },
        {
         "data": [
          {
           "hoverinfo": "name",
           "line": {
            "color": "grey"
           },
           "mode": "lines",
           "name": "Exterior",
           "showlegend": false,
           "type": "scatter",
           "x": {
            "bdata": "AAAAAAAAAAAAAAAAAAAoQAAAAAAAAChAAAAAAAAAJEAAAAAAAAAkQAAAAAAAAAAAAAAAAAAAAAA=",
            "dtype": "f8"
           },
           "y": {
            "bdata": "AAAAAAAAAAAAAAAAAAAAAAAAAAAAAChAAAAAAAAAKEAAAAAAAAAAQAAAAAAAAABAAAAAAAAAAAA=",
            "dtype": "f8"
           }
          },
          {
           "hoverinfo": "text",
           "marker": {
            "opacity": 1,
            "size": 1
           },
           "mode": "markers",
           "showlegend": false,
           "text": [
            "ID: 0, Pos(5.61,1.00)"
           ],
           "type": "scatter",
           "x": [
            5.613201350049174
           ],
           "y": [
            1.0004860872566295
           ]
          },
          {
           "hoverinfo": "text",
           "marker": {
            "opacity": 1,
            "size": 1
           },
           "mode": "markers",
           "showlegend": false,
           "text": [
            "ID: 1, Pos(7.00,1.00)"
           ],
           "type": "scatter",
           "x": [
            7
           ],
           "y": [
            1
           ]
          }
         ],
         "layout": {
          "shapes": [
           {
            "fillcolor": "rgba(12, 244, 235, 0.5)",
            "line": {
             "color": "rgba(12, 244, 235, 0.5)"
            },
            "type": "circle",
            "x0": 5.413201350049174,
            "x1": 5.813201350049174,
            "xref": "x",
            "y0": 0.8004860872566295,
            "y1": 1.2004860872566294,
            "yref": "y"
           },
           {
            "fillcolor": "rgba(128, 0, 0, 0.5)",
            "line": {
             "color": "rgba(128, 0, 0, 0.5)"
            },
            "type": "circle",
            "x0": 6.8,
            "x1": 7.2,
            "xref": "x",
            "y0": 0.8,
            "y1": 1.2,
            "yref": "y"
           },
           {
            "line": {
             "color": "black",
             "width": 3
            },
            "type": "line",
            "x0": 5.613201350049174,
            "x1": 5.813113549598248,
            "y0": 1.0004860872566295,
            "y1": 0.9945605095252149
           },
           {
            "line": {
             "color": "white",
             "width": 3
            },
            "type": "line",
            "x0": 7,
            "x1": 7.2,
            "y0": 1,
            "y1": 1
           }
          ],
          "title": {
           "text": "<b>Hirai & Tarui, 1975  |  Number of Agents: 2</b>",
           "x": 0.5
          }
         },
         "name": "53"
        },
        {
         "data": [
          {
           "hoverinfo": "name",
           "line": {
            "color": "grey"
           },
           "mode": "lines",
           "name": "Exterior",
           "showlegend": false,
           "type": "scatter",
           "x": {
            "bdata": "AAAAAAAAAAAAAAAAAAAoQAAAAAAAAChAAAAAAAAAJEAAAAAAAAAkQAAAAAAAAAAAAAAAAAAAAAA=",
            "dtype": "f8"
           },
           "y": {
            "bdata": "AAAAAAAAAAAAAAAAAAAAAAAAAAAAAChAAAAAAAAAKEAAAAAAAAAAQAAAAAAAAABAAAAAAAAAAAA=",
            "dtype": "f8"
           }
          },
          {
           "hoverinfo": "text",
           "marker": {
            "opacity": 1,
            "size": 1
           },
           "mode": "markers",
           "showlegend": false,
           "text": [
            "ID: 0, Pos(5.63,1.00)"
           ],
           "type": "scatter",
           "x": [
            5.625457560952881
           ],
           "y": [
            0.9999161363449866
           ]
          },
          {
           "hoverinfo": "text",
           "marker": {
            "opacity": 1,
            "size": 1
           },
           "mode": "markers",
           "showlegend": false,
           "text": [
            "ID: 1, Pos(7.00,1.00)"
           ],
           "type": "scatter",
           "x": [
            7
           ],
           "y": [
            1
           ]
          }
         ],
         "layout": {
          "shapes": [
           {
            "fillcolor": "rgba(12, 244, 235, 0.5)",
            "line": {
             "color": "rgba(12, 244, 235, 0.5)"
            },
            "type": "circle",
            "x0": 5.425457560952881,
            "x1": 5.825457560952882,
            "xref": "x",
            "y0": 0.7999161363449865,
            "y1": 1.1999161363449866,
            "yref": "y"
           },
           {
            "fillcolor": "rgba(128, 0, 0, 0.5)",
            "line": {
             "color": "rgba(128, 0, 0, 0.5)"
            },
            "type": "circle",
            "x0": 6.8,
            "x1": 7.2,
            "xref": "x",
            "y0": 0.8,
            "y1": 1.2,
            "yref": "y"
           },
           {
            "line": {
             "color": "black",
             "width": 3
            },
            "type": "line",
            "x0": 5.625457560952881,
            "x1": 5.825241657906844,
            "y0": 0.9999161363449866,
            "y1": 0.9906255710075199
           },
           {
            "line": {
             "color": "white",
             "width": 3
            },
            "type": "line",
            "x0": 7,
            "x1": 7.2,
            "y0": 1,
            "y1": 1
           }
          ],
          "title": {
           "text": "<b>Hirai & Tarui, 1975  |  Number of Agents: 2</b>",
           "x": 0.5
          }
         },
         "name": "54"
        },
        {
         "data": [
          {
           "hoverinfo": "name",
           "line": {
            "color": "grey"
           },
           "mode": "lines",
           "name": "Exterior",
           "showlegend": false,
           "type": "scatter",
           "x": {
            "bdata": "AAAAAAAAAAAAAAAAAAAoQAAAAAAAAChAAAAAAAAAJEAAAAAAAAAkQAAAAAAAAAAAAAAAAAAAAAA=",
            "dtype": "f8"
           },
           "y": {
            "bdata": "AAAAAAAAAAAAAAAAAAAAAAAAAAAAAChAAAAAAAAAKEAAAAAAAAAAQAAAAAAAAABAAAAAAAAAAAA=",
            "dtype": "f8"
           }
          },
          {
           "hoverinfo": "text",
           "marker": {
            "opacity": 1,
            "size": 1
           },
           "mode": "markers",
           "showlegend": false,
           "text": [
            "ID: 0, Pos(5.64,1.00)"
           ],
           "type": "scatter",
           "x": [
            5.637734081845707
           ],
           "y": [
            0.9997410209745409
           ]
          },
          {
           "hoverinfo": "text",
           "marker": {
            "opacity": 1,
            "size": 1
           },
           "mode": "markers",
           "showlegend": false,
           "text": [
            "ID: 1, Pos(7.00,1.00)"
           ],
           "type": "scatter",
           "x": [
            7
           ],
           "y": [
            1
           ]
          }
         ],
         "layout": {
          "shapes": [
           {
            "fillcolor": "rgba(12, 244, 235, 0.5)",
            "line": {
             "color": "rgba(12, 244, 235, 0.5)"
            },
            "type": "circle",
            "x0": 5.437734081845707,
            "x1": 5.837734081845707,
            "xref": "x",
            "y0": 0.7997410209745408,
            "y1": 1.199741020974541,
            "yref": "y"
           },
           {
            "fillcolor": "rgba(128, 0, 0, 0.5)",
            "line": {
             "color": "rgba(128, 0, 0, 0.5)"
            },
            "type": "circle",
            "x0": 6.8,
            "x1": 7.2,
            "xref": "x",
            "y0": 0.8,
            "y1": 1.2,
            "yref": "y"
           },
           {
            "line": {
             "color": "black",
             "width": 3
            },
            "type": "line",
            "x0": 5.637734081845707,
            "x1": 5.837713738065646,
            "y0": 0.9997410209745409,
            "y1": 0.9968884610443887
           },
           {
            "line": {
             "color": "white",
             "width": 3
            },
            "type": "line",
            "x0": 7,
            "x1": 7.2,
            "y0": 1,
            "y1": 1
           }
          ],
          "title": {
           "text": "<b>Hirai & Tarui, 1975  |  Number of Agents: 2</b>",
           "x": 0.5
          }
         },
         "name": "55"
        },
        {
         "data": [
          {
           "hoverinfo": "name",
           "line": {
            "color": "grey"
           },
           "mode": "lines",
           "name": "Exterior",
           "showlegend": false,
           "type": "scatter",
           "x": {
            "bdata": "AAAAAAAAAAAAAAAAAAAoQAAAAAAAAChAAAAAAAAAJEAAAAAAAAAkQAAAAAAAAAAAAAAAAAAAAAA=",
            "dtype": "f8"
           },
           "y": {
            "bdata": "AAAAAAAAAAAAAAAAAAAAAAAAAAAAAChAAAAAAAAAKEAAAAAAAAAAQAAAAAAAAABAAAAAAAAAAAA=",
            "dtype": "f8"
           }
          },
          {
           "hoverinfo": "text",
           "marker": {
            "opacity": 1,
            "size": 1
           },
           "mode": "markers",
           "showlegend": false,
           "text": [
            "ID: 0, Pos(5.65,1.00)"
           ],
           "type": "scatter",
           "x": [
            5.650030540734931
           ],
           "y": [
            0.9999567336289847
           ]
          },
          {
           "hoverinfo": "text",
           "marker": {
            "opacity": 1,
            "size": 1
           },
           "mode": "markers",
           "showlegend": false,
           "text": [
            "ID: 1, Pos(7.00,1.00)"
           ],
           "type": "scatter",
           "x": [
            7
           ],
           "y": [
            1
           ]
          }
         ],
         "layout": {
          "shapes": [
           {
            "fillcolor": "rgba(12, 244, 235, 0.5)",
            "line": {
             "color": "rgba(12, 244, 235, 0.5)"
            },
            "type": "circle",
            "x0": 5.4500305407349305,
            "x1": 5.850030540734931,
            "xref": "x",
            "y0": 0.7999567336289848,
            "y1": 1.1999567336289847,
            "yref": "y"
           },
           {
            "fillcolor": "rgba(128, 0, 0, 0.5)",
            "line": {
             "color": "rgba(128, 0, 0, 0.5)"
            },
            "type": "circle",
            "x0": 6.8,
            "x1": 7.2,
            "xref": "x",
            "y0": 0.8,
            "y1": 1.2,
            "yref": "y"
           },
           {
            "line": {
             "color": "black",
             "width": 3
            },
            "type": "line",
            "x0": 5.650030540734931,
            "x1": 5.849999773327902,
            "y0": 0.9999567336289847,
            "y1": 1.0034647268129029
           },
           {
            "line": {
             "color": "white",
             "width": 3
            },
            "type": "line",
            "x0": 7,
            "x1": 7.2,
            "y0": 1,
            "y1": 1
           }
          ],
          "title": {
           "text": "<b>Hirai & Tarui, 1975  |  Number of Agents: 2</b>",
           "x": 0.5
          }
         },
         "name": "56"
        },
        {
         "data": [
          {
           "hoverinfo": "name",
           "line": {
            "color": "grey"
           },
           "mode": "lines",
           "name": "Exterior",
           "showlegend": false,
           "type": "scatter",
           "x": {
            "bdata": "AAAAAAAAAAAAAAAAAAAoQAAAAAAAAChAAAAAAAAAJEAAAAAAAAAkQAAAAAAAAAAAAAAAAAAAAAA=",
            "dtype": "f8"
           },
           "y": {
            "bdata": "AAAAAAAAAAAAAAAAAAAAAAAAAAAAAChAAAAAAAAAKEAAAAAAAAAAQAAAAAAAAABAAAAAAAAAAAA=",
            "dtype": "f8"
           }
          },
          {
           "hoverinfo": "text",
           "marker": {
            "opacity": 1,
            "size": 1
           },
           "mode": "markers",
           "showlegend": false,
           "text": [
            "ID: 0, Pos(5.66,1.00)"
           ],
           "type": "scatter",
           "x": [
            5.662346450565681
           ],
           "y": [
            1.0005593337475192
           ]
          },
          {
           "hoverinfo": "text",
           "marker": {
            "opacity": 1,
            "size": 1
           },
           "mode": "markers",
           "showlegend": false,
           "text": [
            "ID: 1, Pos(7.00,1.00)"
           ],
           "type": "scatter",
           "x": [
            7
           ],
           "y": [
            1
           ]
          }
         ],
         "layout": {
          "shapes": [
           {
            "fillcolor": "rgba(9, 240, 238, 0.5)",
            "line": {
             "color": "rgba(9, 240, 238, 0.5)"
            },
            "type": "circle",
            "x0": 5.462346450565681,
            "x1": 5.862346450565681,
            "xref": "x",
            "y0": 0.8005593337475192,
            "y1": 1.200559333747519,
            "yref": "y"
           },
           {
            "fillcolor": "rgba(128, 0, 0, 0.5)",
            "line": {
             "color": "rgba(128, 0, 0, 0.5)"
            },
            "type": "circle",
            "x0": 6.8,
            "x1": 7.2,
            "xref": "x",
            "y0": 0.8,
            "y1": 1.2,
            "yref": "y"
           },
           {
            "line": {
             "color": "black",
             "width": 3
            },
            "type": "line",
            "x0": 5.662346450565681,
            "x1": 5.862107478850549,
            "y0": 1.0005593337475192,
            "y1": 1.0103333594571302
           },
           {
            "line": {
             "color": "white",
             "width": 3
            },
            "type": "line",
            "x0": 7,
            "x1": 7.2,
            "y0": 1,
            "y1": 1
           }
          ],
          "title": {
           "text": "<b>Hirai & Tarui, 1975  |  Number of Agents: 2</b>",
           "x": 0.5
          }
         },
         "name": "57"
        },
        {
         "data": [
          {
           "hoverinfo": "name",
           "line": {
            "color": "grey"
           },
           "mode": "lines",
           "name": "Exterior",
           "showlegend": false,
           "type": "scatter",
           "x": {
            "bdata": "AAAAAAAAAAAAAAAAAAAoQAAAAAAAAChAAAAAAAAAJEAAAAAAAAAkQAAAAAAAAAAAAAAAAAAAAAA=",
            "dtype": "f8"
           },
           "y": {
            "bdata": "AAAAAAAAAAAAAAAAAAAAAAAAAAAAAChAAAAAAAAAKEAAAAAAAAAAQAAAAAAAAABAAAAAAAAAAAA=",
            "dtype": "f8"
           }
          },
          {
           "hoverinfo": "text",
           "marker": {
            "opacity": 1,
            "size": 1
           },
           "mode": "markers",
           "showlegend": false,
           "text": [
            "ID: 0, Pos(5.67,1.00)"
           ],
           "type": "scatter",
           "x": [
            5.674681216442313
           ],
           "y": [
            1.0009449265871955
           ]
          },
          {
           "hoverinfo": "text",
           "marker": {
            "opacity": 1,
            "size": 1
           },
           "mode": "markers",
           "showlegend": false,
           "text": [
            "ID: 1, Pos(7.00,1.00)"
           ],
           "type": "scatter",
           "x": [
            7
           ],
           "y": [
            1
           ]
          }
         ],
         "layout": {
          "shapes": [
           {
            "fillcolor": "rgba(9, 240, 238, 0.5)",
            "line": {
             "color": "rgba(9, 240, 238, 0.5)"
            },
            "type": "circle",
            "x0": 5.474681216442312,
            "x1": 5.874681216442313,
            "xref": "x",
            "y0": 0.8009449265871955,
            "y1": 1.2009449265871954,
            "yref": "y"
           },
           {
            "fillcolor": "rgba(128, 0, 0, 0.5)",
            "line": {
             "color": "rgba(128, 0, 0, 0.5)"
            },
            "type": "circle",
            "x0": 6.8,
            "x1": 7.2,
            "xref": "x",
            "y0": 0.8,
            "y1": 1.2,
            "yref": "y"
           },
           {
            "line": {
             "color": "black",
             "width": 3
            },
            "type": "line",
            "x0": 5.674681216442313,
            "x1": 5.874583565162683,
            "y0": 1.0009449265871955,
            "y1": 1.0071940046055363
           },
           {
            "line": {
             "color": "white",
             "width": 3
            },
            "type": "line",
            "x0": 7,
            "x1": 7.2,
            "y0": 1,
            "y1": 1
           }
          ],
          "title": {
           "text": "<b>Hirai & Tarui, 1975  |  Number of Agents: 2</b>",
           "x": 0.5
          }
         },
         "name": "58"
        },
        {
         "data": [
          {
           "hoverinfo": "name",
           "line": {
            "color": "grey"
           },
           "mode": "lines",
           "name": "Exterior",
           "showlegend": false,
           "type": "scatter",
           "x": {
            "bdata": "AAAAAAAAAAAAAAAAAAAoQAAAAAAAAChAAAAAAAAAJEAAAAAAAAAkQAAAAAAAAAAAAAAAAAAAAAA=",
            "dtype": "f8"
           },
           "y": {
            "bdata": "AAAAAAAAAAAAAAAAAAAAAAAAAAAAAChAAAAAAAAAKEAAAAAAAAAAQAAAAAAAAABAAAAAAAAAAAA=",
            "dtype": "f8"
           }
          },
          {
           "hoverinfo": "text",
           "marker": {
            "opacity": 1,
            "size": 1
           },
           "mode": "markers",
           "showlegend": false,
           "text": [
            "ID: 0, Pos(5.69,1.00)"
           ],
           "type": "scatter",
           "x": [
            5.687034464096821
           ],
           "y": [
            1.0011158141064314
           ]
          },
          {
           "hoverinfo": "text",
           "marker": {
            "opacity": 1,
            "size": 1
           },
           "mode": "markers",
           "showlegend": false,
           "text": [
            "ID: 1, Pos(7.00,1.00)"
           ],
           "type": "scatter",
           "x": [
            7
           ],
           "y": [
            1
           ]
          }
         ],
         "layout": {
          "shapes": [
           {
            "fillcolor": "rgba(9, 240, 238, 0.5)",
            "line": {
             "color": "rgba(9, 240, 238, 0.5)"
            },
            "type": "circle",
            "x0": 5.487034464096821,
            "x1": 5.887034464096821,
            "xref": "x",
            "y0": 0.8011158141064314,
            "y1": 1.2011158141064313,
            "yref": "y"
           },
           {
            "fillcolor": "rgba(128, 0, 0, 0.5)",
            "line": {
             "color": "rgba(128, 0, 0, 0.5)"
            },
            "type": "circle",
            "x0": 6.8,
            "x1": 7.2,
            "xref": "x",
            "y0": 0.8,
            "y1": 1.2,
            "yref": "y"
           },
           {
            "line": {
             "color": "black",
             "width": 3
            },
            "type": "line",
            "x0": 5.687034464096821,
            "x1": 5.887015330524219,
            "y0": 1.0011158141064314,
            "y1": 1.0038822310936215
           },
           {
            "line": {
             "color": "white",
             "width": 3
            },
            "type": "line",
            "x0": 7,
            "x1": 7.2,
            "y0": 1,
            "y1": 1
           }
          ],
          "title": {
           "text": "<b>Hirai & Tarui, 1975  |  Number of Agents: 2</b>",
           "x": 0.5
          }
         },
         "name": "59"
        },
        {
         "data": [
          {
           "hoverinfo": "name",
           "line": {
            "color": "grey"
           },
           "mode": "lines",
           "name": "Exterior",
           "showlegend": false,
           "type": "scatter",
           "x": {
            "bdata": "AAAAAAAAAAAAAAAAAAAoQAAAAAAAAChAAAAAAAAAJEAAAAAAAAAkQAAAAAAAAAAAAAAAAAAAAAA=",
            "dtype": "f8"
           },
           "y": {
            "bdata": "AAAAAAAAAAAAAAAAAAAAAAAAAAAAAChAAAAAAAAAKEAAAAAAAAAAQAAAAAAAAABAAAAAAAAAAAA=",
            "dtype": "f8"
           }
          },
          {
           "hoverinfo": "text",
           "marker": {
            "opacity": 1,
            "size": 1
           },
           "mode": "markers",
           "showlegend": false,
           "text": [
            "ID: 0, Pos(5.70,1.00)"
           ],
           "type": "scatter",
           "x": [
            5.699405788078327
           ],
           "y": [
            1.0010742664353234
           ]
          },
          {
           "hoverinfo": "text",
           "marker": {
            "opacity": 1,
            "size": 1
           },
           "mode": "markers",
           "showlegend": false,
           "text": [
            "ID: 1, Pos(7.00,1.00)"
           ],
           "type": "scatter",
           "x": [
            7
           ],
           "y": [
            1
           ]
          }
         ],
         "layout": {
          "shapes": [
           {
            "fillcolor": "rgba(9, 240, 238, 0.5)",
            "line": {
             "color": "rgba(9, 240, 238, 0.5)"
            },
            "type": "circle",
            "x0": 5.4994057880783265,
            "x1": 5.899405788078327,
            "xref": "x",
            "y0": 0.8010742664353234,
            "y1": 1.2010742664353233,
            "yref": "y"
           },
           {
            "fillcolor": "rgba(128, 0, 0, 0.5)",
            "line": {
             "color": "rgba(128, 0, 0, 0.5)"
            },
            "type": "circle",
            "x0": 6.8,
            "x1": 7.2,
            "xref": "x",
            "y0": 0.8,
            "y1": 1.2,
            "yref": "y"
           },
           {
            "line": {
             "color": "black",
             "width": 3
            },
            "type": "line",
            "x0": 5.699405788078327,
            "x1": 5.899404660212766,
            "y0": 1.0010742664353234,
            "y1": 1.0004025931872675
           },
           {
            "line": {
             "color": "white",
             "width": 3
            },
            "type": "line",
            "x0": 7,
            "x1": 7.2,
            "y0": 1,
            "y1": 1
           }
          ],
          "title": {
           "text": "<b>Hirai & Tarui, 1975  |  Number of Agents: 2</b>",
           "x": 0.5
          }
         },
         "name": "60"
        },
        {
         "data": [
          {
           "hoverinfo": "name",
           "line": {
            "color": "grey"
           },
           "mode": "lines",
           "name": "Exterior",
           "showlegend": false,
           "type": "scatter",
           "x": {
            "bdata": "AAAAAAAAAAAAAAAAAAAoQAAAAAAAAChAAAAAAAAAJEAAAAAAAAAkQAAAAAAAAAAAAAAAAAAAAAA=",
            "dtype": "f8"
           },
           "y": {
            "bdata": "AAAAAAAAAAAAAAAAAAAAAAAAAAAAAChAAAAAAAAAKEAAAAAAAAAAQAAAAAAAAABAAAAAAAAAAAA=",
            "dtype": "f8"
           }
          },
          {
           "hoverinfo": "text",
           "marker": {
            "opacity": 1,
            "size": 1
           },
           "mode": "markers",
           "showlegend": false,
           "text": [
            "ID: 0, Pos(5.71,1.00)"
           ],
           "type": "scatter",
           "x": [
            5.711794753756673
           ],
           "y": [
            1.0008225163037099
           ]
          },
          {
           "hoverinfo": "text",
           "marker": {
            "opacity": 1,
            "size": 1
           },
           "mode": "markers",
           "showlegend": false,
           "text": [
            "ID: 1, Pos(7.00,1.00)"
           ],
           "type": "scatter",
           "x": [
            7
           ],
           "y": [
            1
           ]
          }
         ],
         "layout": {
          "shapes": [
           {
            "fillcolor": "rgba(6, 237, 241, 0.5)",
            "line": {
             "color": "rgba(6, 237, 241, 0.5)"
            },
            "type": "circle",
            "x0": 5.511794753756673,
            "x1": 5.9117947537566735,
            "xref": "x",
            "y0": 0.8008225163037099,
            "y1": 1.2008225163037098,
            "yref": "y"
           },
           {
            "fillcolor": "rgba(128, 0, 0, 0.5)",
            "line": {
             "color": "rgba(128, 0, 0, 0.5)"
            },
            "type": "circle",
            "x0": 6.8,
            "x1": 7.2,
            "xref": "x",
            "y0": 0.8,
            "y1": 1.2,
            "yref": "y"
           },
           {
            "line": {
             "color": "black",
             "width": 3
            },
            "type": "line",
            "x0": 5.711794753756673,
            "x1": 5.9117534742174715,
            "y0": 1.0008225163037099,
            "y1": 0.9967592526301932
           },
           {
            "line": {
             "color": "white",
             "width": 3
            },
            "type": "line",
            "x0": 7,
            "x1": 7.2,
            "y0": 1,
            "y1": 1
           }
          ],
          "title": {
           "text": "<b>Hirai & Tarui, 1975  |  Number of Agents: 2</b>",
           "x": 0.5
          }
         },
         "name": "61"
        },
        {
         "data": [
          {
           "hoverinfo": "name",
           "line": {
            "color": "grey"
           },
           "mode": "lines",
           "name": "Exterior",
           "showlegend": false,
           "type": "scatter",
           "x": {
            "bdata": "AAAAAAAAAAAAAAAAAAAoQAAAAAAAAChAAAAAAAAAJEAAAAAAAAAkQAAAAAAAAAAAAAAAAAAAAAA=",
            "dtype": "f8"
           },
           "y": {
            "bdata": "AAAAAAAAAAAAAAAAAAAAAAAAAAAAAChAAAAAAAAAKEAAAAAAAAAAQAAAAAAAAABAAAAAAAAAAAA=",
            "dtype": "f8"
           }
          },
          {
           "hoverinfo": "text",
           "marker": {
            "opacity": 1,
            "size": 1
           },
           "mode": "markers",
           "showlegend": false,
           "text": [
            "ID: 0, Pos(5.72,1.00)"
           ],
           "type": "scatter",
           "x": [
            5.724200899331703
           ],
           "y": [
            1.000362752403602
           ]
          },
          {
           "hoverinfo": "text",
           "marker": {
            "opacity": 1,
            "size": 1
           },
           "mode": "markers",
           "showlegend": false,
           "text": [
            "ID: 1, Pos(7.00,1.00)"
           ],
           "type": "scatter",
           "x": [
            7
           ],
           "y": [
            1
           ]
          }
         ],
         "layout": {
          "shapes": [
           {
            "fillcolor": "rgba(6, 237, 241, 0.5)",
            "line": {
             "color": "rgba(6, 237, 241, 0.5)"
            },
            "type": "circle",
            "x0": 5.524200899331703,
            "x1": 5.924200899331703,
            "xref": "x",
            "y0": 0.8003627524036021,
            "y1": 1.200362752403602,
            "yref": "y"
           },
           {
            "fillcolor": "rgba(128, 0, 0, 0.5)",
            "line": {
             "color": "rgba(128, 0, 0, 0.5)"
            },
            "type": "circle",
            "x0": 6.8,
            "x1": 7.2,
            "xref": "x",
            "y0": 0.8,
            "y1": 1.2,
            "yref": "y"
           },
           {
            "line": {
             "color": "black",
             "width": 3
            },
            "type": "line",
            "x0": 5.724200899331703,
            "x1": 5.92406370096921,
            "y0": 1.000362752403602,
            "y1": 0.9929559635172718
           },
           {
            "line": {
             "color": "white",
             "width": 3
            },
            "type": "line",
            "x0": 7,
            "x1": 7.2,
            "y0": 1,
            "y1": 1
           }
          ],
          "title": {
           "text": "<b>Hirai & Tarui, 1975  |  Number of Agents: 2</b>",
           "x": 0.5
          }
         },
         "name": "62"
        },
        {
         "data": [
          {
           "hoverinfo": "name",
           "line": {
            "color": "grey"
           },
           "mode": "lines",
           "name": "Exterior",
           "showlegend": false,
           "type": "scatter",
           "x": {
            "bdata": "AAAAAAAAAAAAAAAAAAAoQAAAAAAAAChAAAAAAAAAJEAAAAAAAAAkQAAAAAAAAAAAAAAAAAAAAAA=",
            "dtype": "f8"
           },
           "y": {
            "bdata": "AAAAAAAAAAAAAAAAAAAAAAAAAAAAAChAAAAAAAAAKEAAAAAAAAAAQAAAAAAAAABAAAAAAAAAAAA=",
            "dtype": "f8"
           }
          },
          {
           "hoverinfo": "text",
           "marker": {
            "opacity": 1,
            "size": 1
           },
           "mode": "markers",
           "showlegend": false,
           "text": [
            "ID: 0, Pos(5.74,1.00)"
           ],
           "type": "scatter",
           "x": [
            5.736623737831583
           ],
           "y": [
            0.9996971285831745
           ]
          },
          {
           "hoverinfo": "text",
           "marker": {
            "opacity": 1,
            "size": 1
           },
           "mode": "markers",
           "showlegend": false,
           "text": [
            "ID: 1, Pos(7.00,1.00)"
           ],
           "type": "scatter",
           "x": [
            7
           ],
           "y": [
            1
           ]
          }
         ],
         "layout": {
          "shapes": [
           {
            "fillcolor": "rgba(6, 237, 241, 0.5)",
            "line": {
             "color": "rgba(6, 237, 241, 0.5)"
            },
            "type": "circle",
            "x0": 5.536623737831583,
            "x1": 5.936623737831583,
            "xref": "x",
            "y0": 0.7996971285831744,
            "y1": 1.1996971285831746,
            "yref": "y"
           },
           {
            "fillcolor": "rgba(128, 0, 0, 0.5)",
            "line": {
             "color": "rgba(128, 0, 0, 0.5)"
            },
            "type": "circle",
            "x0": 6.8,
            "x1": 7.2,
            "xref": "x",
            "y0": 0.8,
            "y1": 1.2,
            "yref": "y"
           },
           {
            "line": {
             "color": "black",
             "width": 3
            },
            "type": "line",
            "x0": 5.736623737831583,
            "x1": 5.93633726584952,
            "y0": 0.9996971285831745,
            "y1": 0.988996346993553
           },
           {
            "line": {
             "color": "white",
             "width": 3
            },
            "type": "line",
            "x0": 7,
            "x1": 7.2,
            "y0": 1,
            "y1": 1
           }
          ],
          "title": {
           "text": "<b>Hirai & Tarui, 1975  |  Number of Agents: 2</b>",
           "x": 0.5
          }
         },
         "name": "63"
        },
        {
         "data": [
          {
           "hoverinfo": "name",
           "line": {
            "color": "grey"
           },
           "mode": "lines",
           "name": "Exterior",
           "showlegend": false,
           "type": "scatter",
           "x": {
            "bdata": "AAAAAAAAAAAAAAAAAAAoQAAAAAAAAChAAAAAAAAAJEAAAAAAAAAkQAAAAAAAAAAAAAAAAAAAAAA=",
            "dtype": "f8"
           },
           "y": {
            "bdata": "AAAAAAAAAAAAAAAAAAAAAAAAAAAAAChAAAAAAAAAKEAAAAAAAAAAQAAAAAAAAABAAAAAAAAAAAA=",
            "dtype": "f8"
           }
          },
          {
           "hoverinfo": "text",
           "marker": {
            "opacity": 1,
            "size": 1
           },
           "mode": "markers",
           "showlegend": false,
           "text": [
            "ID: 0, Pos(5.75,1.00)"
           ],
           "type": "scatter",
           "x": [
            5.749062759092864
           ],
           "y": [
            0.9994277732176062
           ]
          },
          {
           "hoverinfo": "text",
           "marker": {
            "opacity": 1,
            "size": 1
           },
           "mode": "markers",
           "showlegend": false,
           "text": [
            "ID: 1, Pos(7.00,1.00)"
           ],
           "type": "scatter",
           "x": [
            7
           ],
           "y": [
            1
           ]
          }
         ],
         "layout": {
          "shapes": [
           {
            "fillcolor": "rgba(6, 237, 241, 0.5)",
            "line": {
             "color": "rgba(6, 237, 241, 0.5)"
            },
            "type": "circle",
            "x0": 5.549062759092863,
            "x1": 5.949062759092864,
            "xref": "x",
            "y0": 0.7994277732176063,
            "y1": 1.1994277732176062,
            "yref": "y"
           },
           {
            "fillcolor": "rgba(128, 0, 0, 0.5)",
            "line": {
             "color": "rgba(128, 0, 0, 0.5)"
            },
            "type": "circle",
            "x0": 6.8,
            "x1": 7.2,
            "xref": "x",
            "y0": 0.8,
            "y1": 1.2,
            "yref": "y"
           },
           {
            "line": {
             "color": "black",
             "width": 3
            },
            "type": "line",
            "x0": 5.749062759092864,
            "x1": 5.9490158857265145,
            "y0": 0.9994277732176062,
            "y1": 0.9950979753669842
           },
           {
            "line": {
             "color": "white",
             "width": 3
            },
            "type": "line",
            "x0": 7,
            "x1": 7.2,
            "y0": 1,
            "y1": 1
           }
          ],
          "title": {
           "text": "<b>Hirai & Tarui, 1975  |  Number of Agents: 2</b>",
           "x": 0.5
          }
         },
         "name": "64"
        },
        {
         "data": [
          {
           "hoverinfo": "name",
           "line": {
            "color": "grey"
           },
           "mode": "lines",
           "name": "Exterior",
           "showlegend": false,
           "type": "scatter",
           "x": {
            "bdata": "AAAAAAAAAAAAAAAAAAAoQAAAAAAAAChAAAAAAAAAJEAAAAAAAAAkQAAAAAAAAAAAAAAAAAAAAAA=",
            "dtype": "f8"
           },
           "y": {
            "bdata": "AAAAAAAAAAAAAAAAAAAAAAAAAAAAAChAAAAAAAAAKEAAAAAAAAAAQAAAAAAAAABAAAAAAAAAAAA=",
            "dtype": "f8"
           }
          },
          {
           "hoverinfo": "text",
           "marker": {
            "opacity": 1,
            "size": 1
           },
           "mode": "markers",
           "showlegend": false,
           "text": [
            "ID: 0, Pos(5.76,1.00)"
           ],
           "type": "scatter",
           "x": [
            5.761517697611237
           ],
           "y": [
            0.9995505980492532
           ]
          },
          {
           "hoverinfo": "text",
           "marker": {
            "opacity": 1,
            "size": 1
           },
           "mode": "markers",
           "showlegend": false,
           "text": [
            "ID: 1, Pos(7.00,1.00)"
           ],
           "type": "scatter",
           "x": [
            7
           ],
           "y": [
            1
           ]
          }
         ],
         "layout": {
          "shapes": [
           {
            "fillcolor": "rgba(6, 237, 241, 0.5)",
            "line": {
             "color": "rgba(6, 237, 241, 0.5)"
            },
            "type": "circle",
            "x0": 5.561517697611237,
            "x1": 5.961517697611237,
            "xref": "x",
            "y0": 0.7995505980492532,
            "y1": 1.1995505980492531,
            "yref": "y"
           },
           {
            "fillcolor": "rgba(128, 0, 0, 0.5)",
            "line": {
             "color": "rgba(128, 0, 0, 0.5)"
            },
            "type": "circle",
            "x0": 6.8,
            "x1": 7.2,
            "xref": "x",
            "y0": 0.8,
            "y1": 1.2,
            "yref": "y"
           },
           {
            "line": {
             "color": "black",
             "width": 3
            },
            "type": "line",
            "x0": 5.761517697611237,
            "x1": 5.961507973330147,
            "y0": 0.9995505980492532,
            "y1": 1.0015228094664321
           },
           {
            "line": {
             "color": "white",
             "width": 3
            },
            "type": "line",
            "x0": 7,
            "x1": 7.2,
            "y0": 1,
            "y1": 1
           }
          ],
          "title": {
           "text": "<b>Hirai & Tarui, 1975  |  Number of Agents: 2</b>",
           "x": 0.5
          }
         },
         "name": "65"
        },
        {
         "data": [
          {
           "hoverinfo": "name",
           "line": {
            "color": "grey"
           },
           "mode": "lines",
           "name": "Exterior",
           "showlegend": false,
           "type": "scatter",
           "x": {
            "bdata": "AAAAAAAAAAAAAAAAAAAoQAAAAAAAAChAAAAAAAAAJEAAAAAAAAAkQAAAAAAAAAAAAAAAAAAAAAA=",
            "dtype": "f8"
           },
           "y": {
            "bdata": "AAAAAAAAAAAAAAAAAAAAAAAAAAAAAChAAAAAAAAAKEAAAAAAAAAAQAAAAAAAAABAAAAAAAAAAAA=",
            "dtype": "f8"
           }
          },
          {
           "hoverinfo": "text",
           "marker": {
            "opacity": 1,
            "size": 1
           },
           "mode": "markers",
           "showlegend": false,
           "text": [
            "ID: 0, Pos(5.77,1.00)"
           ],
           "type": "scatter",
           "x": [
            5.773988172819511
           ],
           "y": [
            1.0000615883343678
           ]
          },
          {
           "hoverinfo": "text",
           "marker": {
            "opacity": 1,
            "size": 1
           },
           "mode": "markers",
           "showlegend": false,
           "text": [
            "ID: 1, Pos(7.00,1.00)"
           ],
           "type": "scatter",
           "x": [
            7
           ],
           "y": [
            1
           ]
          }
         ],
         "layout": {
          "shapes": [
           {
            "fillcolor": "rgba(2, 232, 244, 0.5)",
            "line": {
             "color": "rgba(2, 232, 244, 0.5)"
            },
            "type": "circle",
            "x0": 5.573988172819511,
            "x1": 5.973988172819511,
            "xref": "x",
            "y0": 0.8000615883343678,
            "y1": 1.2000615883343677,
            "yref": "y"
           },
           {
            "fillcolor": "rgba(128, 0, 0, 0.5)",
            "line": {
             "color": "rgba(128, 0, 0, 0.5)"
            },
            "type": "circle",
            "x0": 6.8,
            "x1": 7.2,
            "xref": "x",
            "y0": 0.8,
            "y1": 1.2,
            "yref": "y"
           },
           {
            "line": {
             "color": "black",
             "width": 3
            },
            "type": "line",
            "x0": 5.773988172819511,
            "x1": 5.973820480641834,
            "y0": 1.0000615883343678,
            "y1": 1.0082499184696514
           },
           {
            "line": {
             "color": "white",
             "width": 3
            },
            "type": "line",
            "x0": 7,
            "x1": 7.2,
            "y0": 1,
            "y1": 1
           }
          ],
          "title": {
           "text": "<b>Hirai & Tarui, 1975  |  Number of Agents: 2</b>",
           "x": 0.5
          }
         },
         "name": "66"
        },
        {
         "data": [
          {
           "hoverinfo": "name",
           "line": {
            "color": "grey"
           },
           "mode": "lines",
           "name": "Exterior",
           "showlegend": false,
           "type": "scatter",
           "x": {
            "bdata": "AAAAAAAAAAAAAAAAAAAoQAAAAAAAAChAAAAAAAAAJEAAAAAAAAAkQAAAAAAAAAAAAAAAAAAAAAA=",
            "dtype": "f8"
           },
           "y": {
            "bdata": "AAAAAAAAAAAAAAAAAAAAAAAAAAAAAChAAAAAAAAAKEAAAAAAAAAAQAAAAAAAAABAAAAAAAAAAAA=",
            "dtype": "f8"
           }
          },
          {
           "hoverinfo": "text",
           "marker": {
            "opacity": 1,
            "size": 1
           },
           "mode": "markers",
           "showlegend": false,
           "text": [
            "ID: 0, Pos(5.79,1.00)"
           ],
           "type": "scatter",
           "x": [
            5.786473695781569
           ],
           "y": [
            1.000356800918852
           ]
          },
          {
           "hoverinfo": "text",
           "marker": {
            "opacity": 1,
            "size": 1
           },
           "mode": "markers",
           "showlegend": false,
           "text": [
            "ID: 1, Pos(7.00,1.00)"
           ],
           "type": "scatter",
           "x": [
            7
           ],
           "y": [
            1
           ]
          }
         ],
         "layout": {
          "shapes": [
           {
            "fillcolor": "rgba(2, 232, 244, 0.5)",
            "line": {
             "color": "rgba(2, 232, 244, 0.5)"
            },
            "type": "circle",
            "x0": 5.586473695781569,
            "x1": 5.986473695781569,
            "xref": "x",
            "y0": 0.800356800918852,
            "y1": 1.2003568009188519,
            "yref": "y"
           },
           {
            "fillcolor": "rgba(128, 0, 0, 0.5)",
            "line": {
             "color": "rgba(128, 0, 0, 0.5)"
            },
            "type": "circle",
            "x0": 6.8,
            "x1": 7.2,
            "xref": "x",
            "y0": 0.8,
            "y1": 1.2,
            "yref": "y"
           },
           {
            "line": {
             "color": "black",
             "width": 3
            },
            "type": "line",
            "x0": 5.786473695781569,
            "x1": 5.986417813489811,
            "y0": 1.000356800918852,
            "y1": 1.0050843577797393
           },
           {
            "line": {
             "color": "white",
             "width": 3
            },
            "type": "line",
            "x0": 7,
            "x1": 7.2,
            "y0": 1,
            "y1": 1
           }
          ],
          "title": {
           "text": "<b>Hirai & Tarui, 1975  |  Number of Agents: 2</b>",
           "x": 0.5
          }
         },
         "name": "67"
        },
        {
         "data": [
          {
           "hoverinfo": "name",
           "line": {
            "color": "grey"
           },
           "mode": "lines",
           "name": "Exterior",
           "showlegend": false,
           "type": "scatter",
           "x": {
            "bdata": "AAAAAAAAAAAAAAAAAAAoQAAAAAAAAChAAAAAAAAAJEAAAAAAAAAkQAAAAAAAAAAAAAAAAAAAAAA=",
            "dtype": "f8"
           },
           "y": {
            "bdata": "AAAAAAAAAAAAAAAAAAAAAAAAAAAAAChAAAAAAAAAKEAAAAAAAAAAQAAAAAAAAABAAAAAAAAAAAA=",
            "dtype": "f8"
           }
          },
          {
           "hoverinfo": "text",
           "marker": {
            "opacity": 1,
            "size": 1
           },
           "mode": "markers",
           "showlegend": false,
           "text": [
            "ID: 0, Pos(5.80,1.00)"
           ],
           "type": "scatter",
           "x": [
            5.7989739482563225
           ],
           "y": [
            1.000438543362173
           ]
          },
          {
           "hoverinfo": "text",
           "marker": {
            "opacity": 1,
            "size": 1
           },
           "mode": "markers",
           "showlegend": false,
           "text": [
            "ID: 1, Pos(7.00,1.00)"
           ],
           "type": "scatter",
           "x": [
            7
           ],
           "y": [
            1
           ]
          }
         ],
         "layout": {
          "shapes": [
           {
            "fillcolor": "rgba(2, 232, 244, 0.5)",
            "line": {
             "color": "rgba(2, 232, 244, 0.5)"
            },
            "type": "circle",
            "x0": 5.598973948256322,
            "x1": 5.998973948256323,
            "xref": "x",
            "y0": 0.800438543362173,
            "y1": 1.200438543362173,
            "yref": "y"
           },
           {
            "fillcolor": "rgba(128, 0, 0, 0.5)",
            "line": {
             "color": "rgba(128, 0, 0, 0.5)"
            },
            "type": "circle",
            "x0": 6.8,
            "x1": 7.2,
            "xref": "x",
            "y0": 0.8,
            "y1": 1.2,
            "yref": "y"
           },
           {
            "line": {
             "color": "black",
             "width": 3
            },
            "type": "line",
            "x0": 5.7989739482563225,
            "x1": 5.998969672196899,
            "y0": 1.000438543362173,
            "y1": 1.001746368077049
           },
           {
            "line": {
             "color": "white",
             "width": 3
            },
            "type": "line",
            "x0": 7,
            "x1": 7.2,
            "y0": 1,
            "y1": 1
           }
          ],
          "title": {
           "text": "<b>Hirai & Tarui, 1975  |  Number of Agents: 2</b>",
           "x": 0.5
          }
         },
         "name": "68"
        },
        {
         "data": [
          {
           "hoverinfo": "name",
           "line": {
            "color": "grey"
           },
           "mode": "lines",
           "name": "Exterior",
           "showlegend": false,
           "type": "scatter",
           "x": {
            "bdata": "AAAAAAAAAAAAAAAAAAAoQAAAAAAAAChAAAAAAAAAJEAAAAAAAAAkQAAAAAAAAAAAAAAAAAAAAAA=",
            "dtype": "f8"
           },
           "y": {
            "bdata": "AAAAAAAAAAAAAAAAAAAAAAAAAAAAAChAAAAAAAAAKEAAAAAAAAAAQAAAAAAAAABAAAAAAAAAAAA=",
            "dtype": "f8"
           }
          },
          {
           "hoverinfo": "text",
           "marker": {
            "opacity": 1,
            "size": 1
           },
           "mode": "markers",
           "showlegend": false,
           "text": [
            "ID: 0, Pos(5.81,1.00)"
           ],
           "type": "scatter",
           "x": [
            5.811488581294613
           ],
           "y": [
            1.0003090868324773
           ]
          },
          {
           "hoverinfo": "text",
           "marker": {
            "opacity": 1,
            "size": 1
           },
           "mode": "markers",
           "showlegend": false,
           "text": [
            "ID: 1, Pos(7.00,1.00)"
           ],
           "type": "scatter",
           "x": [
            7
           ],
           "y": [
            1
           ]
          }
         ],
         "layout": {
          "shapes": [
           {
            "fillcolor": "rgba(2, 232, 244, 0.5)",
            "line": {
             "color": "rgba(2, 232, 244, 0.5)"
            },
            "type": "circle",
            "x0": 5.611488581294613,
            "x1": 6.011488581294613,
            "xref": "x",
            "y0": 0.8003090868324774,
            "y1": 1.2003090868324773,
            "yref": "y"
           },
           {
            "fillcolor": "rgba(128, 0, 0, 0.5)",
            "line": {
             "color": "rgba(128, 0, 0, 0.5)"
            },
            "type": "circle",
            "x0": 6.8,
            "x1": 7.2,
            "xref": "x",
            "y0": 0.8,
            "y1": 1.2,
            "yref": "y"
           },
           {
            "line": {
             "color": "black",
             "width": 3
            },
            "type": "line",
            "x0": 5.811488581294613,
            "x1": 6.011477881465786,
            "y0": 1.0003090868324773,
            "y1": 0.9982403149638018
           },
           {
            "line": {
             "color": "white",
             "width": 3
            },
            "type": "line",
            "x0": 7,
            "x1": 7.2,
            "y0": 1,
            "y1": 1
           }
          ],
          "title": {
           "text": "<b>Hirai & Tarui, 1975  |  Number of Agents: 2</b>",
           "x": 0.5
          }
         },
         "name": "69"
        },
        {
         "data": [
          {
           "hoverinfo": "name",
           "line": {
            "color": "grey"
           },
           "mode": "lines",
           "name": "Exterior",
           "showlegend": false,
           "type": "scatter",
           "x": {
            "bdata": "AAAAAAAAAAAAAAAAAAAoQAAAAAAAAChAAAAAAAAAJEAAAAAAAAAkQAAAAAAAAAAAAAAAAAAAAAA=",
            "dtype": "f8"
           },
           "y": {
            "bdata": "AAAAAAAAAAAAAAAAAAAAAAAAAAAAAChAAAAAAAAAKEAAAAAAAAAAQAAAAAAAAABAAAAAAAAAAAA=",
            "dtype": "f8"
           }
          },
          {
           "hoverinfo": "text",
           "marker": {
            "opacity": 1,
            "size": 1
           },
           "mode": "markers",
           "showlegend": false,
           "text": [
            "ID: 0, Pos(5.82,1.00)"
           ],
           "type": "scatter",
           "x": [
            5.82401721716571
           ],
           "y": [
            0.9999706607122422
           ]
          },
          {
           "hoverinfo": "text",
           "marker": {
            "opacity": 1,
            "size": 1
           },
           "mode": "markers",
           "showlegend": false,
           "text": [
            "ID: 1, Pos(7.00,1.00)"
           ],
           "type": "scatter",
           "x": [
            7
           ],
           "y": [
            1
           ]
          }
         ],
         "layout": {
          "shapes": [
           {
            "fillcolor": "rgba(2, 232, 244, 0.5)",
            "line": {
             "color": "rgba(2, 232, 244, 0.5)"
            },
            "type": "circle",
            "x0": 5.62401721716571,
            "x1": 6.02401721716571,
            "xref": "x",
            "y0": 0.7999706607122421,
            "y1": 1.1999706607122422,
            "yref": "y"
           },
           {
            "fillcolor": "rgba(128, 0, 0, 0.5)",
            "line": {
             "color": "rgba(128, 0, 0, 0.5)"
            },
            "type": "circle",
            "x0": 6.8,
            "x1": 7.2,
            "xref": "x",
            "y0": 0.8,
            "y1": 1.2,
            "yref": "y"
           },
           {
            "line": {
             "color": "black",
             "width": 3
            },
            "type": "line",
            "x0": 5.82401721716571,
            "x1": 6.023944291132636,
            "y0": 0.9999706607122422,
            "y1": 0.994570188971445
           },
           {
            "line": {
             "color": "white",
             "width": 3
            },
            "type": "line",
            "x0": 7,
            "x1": 7.2,
            "y0": 1,
            "y1": 1
           }
          ],
          "title": {
           "text": "<b>Hirai & Tarui, 1975  |  Number of Agents: 2</b>",
           "x": 0.5
          }
         },
         "name": "70"
        },
        {
         "data": [
          {
           "hoverinfo": "name",
           "line": {
            "color": "grey"
           },
           "mode": "lines",
           "name": "Exterior",
           "showlegend": false,
           "type": "scatter",
           "x": {
            "bdata": "AAAAAAAAAAAAAAAAAAAoQAAAAAAAAChAAAAAAAAAJEAAAAAAAAAkQAAAAAAAAAAAAAAAAAAAAAA=",
            "dtype": "f8"
           },
           "y": {
            "bdata": "AAAAAAAAAAAAAAAAAAAAAAAAAAAAAChAAAAAAAAAKEAAAAAAAAAAQAAAAAAAAABAAAAAAAAAAAA=",
            "dtype": "f8"
           }
          },
          {
           "hoverinfo": "text",
           "marker": {
            "opacity": 1,
            "size": 1
           },
           "mode": "markers",
           "showlegend": false,
           "text": [
            "ID: 0, Pos(5.84,1.00)"
           ],
           "type": "scatter",
           "x": [
            5.836559451286706
           ],
           "y": [
            1.000025454478753
           ]
          },
          {
           "hoverinfo": "text",
           "marker": {
            "opacity": 1,
            "size": 1
           },
           "mode": "markers",
           "showlegend": false,
           "text": [
            "ID: 1, Pos(7.00,1.00)"
           ],
           "type": "scatter",
           "x": [
            7
           ],
           "y": [
            1
           ]
          }
         ],
         "layout": {
          "shapes": [
           {
            "fillcolor": "rgba(0, 228, 248, 0.5)",
            "line": {
             "color": "rgba(0, 228, 248, 0.5)"
            },
            "type": "circle",
            "x0": 5.636559451286706,
            "x1": 6.036559451286706,
            "xref": "x",
            "y0": 0.8000254544787531,
            "y1": 1.200025454478753,
            "yref": "y"
           },
           {
            "fillcolor": "rgba(128, 0, 0, 0.5)",
            "line": {
             "color": "rgba(128, 0, 0, 0.5)"
            },
            "type": "circle",
            "x0": 6.8,
            "x1": 7.2,
            "xref": "x",
            "y0": 0.8,
            "y1": 1.2,
            "yref": "y"
           },
           {
            "line": {
             "color": "black",
             "width": 3
            },
            "type": "line",
            "x0": 5.836559451286706,
            "x1": 6.036557542724646,
            "y0": 1.000025454478753,
            "y1": 1.0008991942462562
           },
           {
            "line": {
             "color": "white",
             "width": 3
            },
            "type": "line",
            "x0": 7,
            "x1": 7.2,
            "y0": 1,
            "y1": 1
           }
          ],
          "title": {
           "text": "<b>Hirai & Tarui, 1975  |  Number of Agents: 2</b>",
           "x": 0.5
          }
         },
         "name": "71"
        },
        {
         "data": [
          {
           "hoverinfo": "name",
           "line": {
            "color": "grey"
           },
           "mode": "lines",
           "name": "Exterior",
           "showlegend": false,
           "type": "scatter",
           "x": {
            "bdata": "AAAAAAAAAAAAAAAAAAAoQAAAAAAAAChAAAAAAAAAJEAAAAAAAAAkQAAAAAAAAAAAAAAAAAAAAAA=",
            "dtype": "f8"
           },
           "y": {
            "bdata": "AAAAAAAAAAAAAAAAAAAAAAAAAAAAAChAAAAAAAAAKEAAAAAAAAAAQAAAAAAAAABAAAAAAAAAAAA=",
            "dtype": "f8"
           }
          },
          {
           "hoverinfo": "text",
           "marker": {
            "opacity": 1,
            "size": 1
           },
           "mode": "markers",
           "showlegend": false,
           "text": [
            "ID: 0, Pos(5.85,1.00)"
           ],
           "type": "scatter",
           "x": [
            5.849114968233045
           ],
           "y": [
            0.9998694158077059
           ]
          },
          {
           "hoverinfo": "text",
           "marker": {
            "opacity": 1,
            "size": 1
           },
           "mode": "markers",
           "showlegend": false,
           "text": [
            "ID: 1, Pos(7.00,1.00)"
           ],
           "type": "scatter",
           "x": [
            7
           ],
           "y": [
            1
           ]
          }
         ],
         "layout": {
          "shapes": [
           {
            "fillcolor": "rgba(0, 228, 248, 0.5)",
            "line": {
             "color": "rgba(0, 228, 248, 0.5)"
            },
            "type": "circle",
            "x0": 5.649114968233045,
            "x1": 6.049114968233045,
            "xref": "x",
            "y0": 0.799869415807706,
            "y1": 1.199869415807706,
            "yref": "y"
           },
           {
            "fillcolor": "rgba(128, 0, 0, 0.5)",
            "line": {
             "color": "rgba(128, 0, 0, 0.5)"
            },
            "type": "circle",
            "x0": 6.8,
            "x1": 7.2,
            "xref": "x",
            "y0": 0.8,
            "y1": 1.2,
            "yref": "y"
           },
           {
            "line": {
             "color": "black",
             "width": 3
            },
            "type": "line",
            "x0": 5.849114968233045,
            "x1": 6.0490995247596695,
            "y0": 0.9998694158077059,
            "y1": 0.9973840283430784
           },
           {
            "line": {
             "color": "white",
             "width": 3
            },
            "type": "line",
            "x0": 7,
            "x1": 7.2,
            "y0": 1,
            "y1": 1
           }
          ],
          "title": {
           "text": "<b>Hirai & Tarui, 1975  |  Number of Agents: 2</b>",
           "x": 0.5
          }
         },
         "name": "72"
        },
        {
         "data": [
          {
           "hoverinfo": "name",
           "line": {
            "color": "grey"
           },
           "mode": "lines",
           "name": "Exterior",
           "showlegend": false,
           "type": "scatter",
           "x": {
            "bdata": "AAAAAAAAAAAAAAAAAAAoQAAAAAAAAChAAAAAAAAAJEAAAAAAAAAkQAAAAAAAAAAAAAAAAAAAAAA=",
            "dtype": "f8"
           },
           "y": {
            "bdata": "AAAAAAAAAAAAAAAAAAAAAAAAAAAAAChAAAAAAAAAKEAAAAAAAAAAQAAAAAAAAABAAAAAAAAAAAA=",
            "dtype": "f8"
           }
          },
          {
           "hoverinfo": "text",
           "marker": {
            "opacity": 1,
            "size": 1
           },
           "mode": "markers",
           "showlegend": false,
           "text": [
            "ID: 0, Pos(5.86,1.00)"
           ],
           "type": "scatter",
           "x": [
            5.861683407230633
           ],
           "y": [
            1.000104773268599
           ]
          },
          {
           "hoverinfo": "text",
           "marker": {
            "opacity": 1,
            "size": 1
           },
           "mode": "markers",
           "showlegend": false,
           "text": [
            "ID: 1, Pos(7.00,1.00)"
           ],
           "type": "scatter",
           "x": [
            7
           ],
           "y": [
            1
           ]
          }
         ],
         "layout": {
          "shapes": [
           {
            "fillcolor": "rgba(0, 228, 248, 0.5)",
            "line": {
             "color": "rgba(0, 228, 248, 0.5)"
            },
            "type": "circle",
            "x0": 5.661683407230633,
            "x1": 6.061683407230634,
            "xref": "x",
            "y0": 0.8001047732685991,
            "y1": 1.200104773268599,
            "yref": "y"
           },
           {
            "fillcolor": "rgba(128, 0, 0, 0.5)",
            "line": {
             "color": "rgba(128, 0, 0, 0.5)"
            },
            "type": "circle",
            "x0": 6.8,
            "x1": 7.2,
            "xref": "x",
            "y0": 0.8,
            "y1": 1.2,
            "yref": "y"
           },
           {
            "line": {
             "color": "black",
             "width": 3
            },
            "type": "line",
            "x0": 5.861683407230633,
            "x1": 6.061648349882911,
            "y0": 1.000104773268599,
            "y1": 1.0038493306618688
           },
           {
            "line": {
             "color": "white",
             "width": 3
            },
            "type": "line",
            "x0": 7,
            "x1": 7.2,
            "y0": 1,
            "y1": 1
           }
          ],
          "title": {
           "text": "<b>Hirai & Tarui, 1975  |  Number of Agents: 2</b>",
           "x": 0.5
          }
         },
         "name": "73"
        },
        {
         "data": [
          {
           "hoverinfo": "name",
           "line": {
            "color": "grey"
           },
           "mode": "lines",
           "name": "Exterior",
           "showlegend": false,
           "type": "scatter",
           "x": {
            "bdata": "AAAAAAAAAAAAAAAAAAAoQAAAAAAAAChAAAAAAAAAJEAAAAAAAAAkQAAAAAAAAAAAAAAAAAAAAAA=",
            "dtype": "f8"
           },
           "y": {
            "bdata": "AAAAAAAAAAAAAAAAAAAAAAAAAAAAAChAAAAAAAAAKEAAAAAAAAAAQAAAAAAAAABAAAAAAAAAAAA=",
            "dtype": "f8"
           }
          },
          {
           "hoverinfo": "text",
           "marker": {
            "opacity": 1,
            "size": 1
           },
           "mode": "markers",
           "showlegend": false,
           "text": [
            "ID: 0, Pos(5.87,1.00)"
           ],
           "type": "scatter",
           "x": [
            5.874264412183735
           ],
           "y": [
            1.0001275017558073
           ]
          },
          {
           "hoverinfo": "text",
           "marker": {
            "opacity": 1,
            "size": 1
           },
           "mode": "markers",
           "showlegend": false,
           "text": [
            "ID: 1, Pos(7.00,1.00)"
           ],
           "type": "scatter",
           "x": [
            7
           ],
           "y": [
            1
           ]
          }
         ],
         "layout": {
          "shapes": [
           {
            "fillcolor": "rgba(0, 228, 248, 0.5)",
            "line": {
             "color": "rgba(0, 228, 248, 0.5)"
            },
            "type": "circle",
            "x0": 5.674264412183735,
            "x1": 6.0742644121837355,
            "xref": "x",
            "y0": 0.8001275017558074,
            "y1": 1.2001275017558073,
            "yref": "y"
           },
           {
            "fillcolor": "rgba(128, 0, 0, 0.5)",
            "line": {
             "color": "rgba(128, 0, 0, 0.5)"
            },
            "type": "circle",
            "x0": 6.8,
            "x1": 7.2,
            "xref": "x",
            "y0": 0.8,
            "y1": 1.2,
            "yref": "y"
           },
           {
            "line": {
             "color": "black",
             "width": 3
            },
            "type": "line",
            "x0": 5.874264412183735,
            "x1": 6.074264085814412,
            "y0": 1.0001275017558073,
            "y1": 1.0004888155014666
           },
           {
            "line": {
             "color": "white",
             "width": 3
            },
            "type": "line",
            "x0": 7,
            "x1": 7.2,
            "y0": 1,
            "y1": 1
           }
          ],
          "title": {
           "text": "<b>Hirai & Tarui, 1975  |  Number of Agents: 2</b>",
           "x": 0.5
          }
         },
         "name": "74"
        },
        {
         "data": [
          {
           "hoverinfo": "name",
           "line": {
            "color": "grey"
           },
           "mode": "lines",
           "name": "Exterior",
           "showlegend": false,
           "type": "scatter",
           "x": {
            "bdata": "AAAAAAAAAAAAAAAAAAAoQAAAAAAAAChAAAAAAAAAJEAAAAAAAAAkQAAAAAAAAAAAAAAAAAAAAAA=",
            "dtype": "f8"
           },
           "y": {
            "bdata": "AAAAAAAAAAAAAAAAAAAAAAAAAAAAAChAAAAAAAAAKEAAAAAAAAAAQAAAAAAAAABAAAAAAAAAAAA=",
            "dtype": "f8"
           }
          },
          {
           "hoverinfo": "text",
           "marker": {
            "opacity": 1,
            "size": 1
           },
           "mode": "markers",
           "showlegend": false,
           "text": [
            "ID: 0, Pos(5.89,1.00)"
           ],
           "type": "scatter",
           "x": [
            5.886857665797
           ],
           "y": [
            0.999939869710564
           ]
          },
          {
           "hoverinfo": "text",
           "marker": {
            "opacity": 1,
            "size": 1
           },
           "mode": "markers",
           "showlegend": false,
           "text": [
            "ID: 1, Pos(7.00,1.00)"
           ],
           "type": "scatter",
           "x": [
            7
           ],
           "y": [
            1
           ]
          }
         ],
         "layout": {
          "shapes": [
           {
            "fillcolor": "rgba(0, 228, 248, 0.5)",
            "line": {
             "color": "rgba(0, 228, 248, 0.5)"
            },
            "type": "circle",
            "x0": 5.686857665797,
            "x1": 6.086857665797,
            "xref": "x",
            "y0": 0.799939869710564,
            "y1": 1.199939869710564,
            "yref": "y"
           },
           {
            "fillcolor": "rgba(128, 0, 0, 0.5)",
            "line": {
             "color": "rgba(128, 0, 0, 0.5)"
            },
            "type": "circle",
            "x0": 6.8,
            "x1": 7.2,
            "xref": "x",
            "y0": 0.8,
            "y1": 1.2,
            "yref": "y"
           },
           {
            "line": {
             "color": "black",
             "width": 3
            },
            "type": "line",
            "x0": 5.886857665797,
            "x1": 6.0868354702513745,
            "y0": 0.999939869710564,
            "y1": 0.9969603184678635
           },
           {
            "line": {
             "color": "white",
             "width": 3
            },
            "type": "line",
            "x0": 7,
            "x1": 7.2,
            "y0": 1,
            "y1": 1
           }
          ],
          "title": {
           "text": "<b>Hirai & Tarui, 1975  |  Number of Agents: 2</b>",
           "x": 0.5
          }
         },
         "name": "75"
        },
        {
         "data": [
          {
           "hoverinfo": "name",
           "line": {
            "color": "grey"
           },
           "mode": "lines",
           "name": "Exterior",
           "showlegend": false,
           "type": "scatter",
           "x": {
            "bdata": "AAAAAAAAAAAAAAAAAAAoQAAAAAAAAChAAAAAAAAAJEAAAAAAAAAkQAAAAAAAAAAAAAAAAAAAAAA=",
            "dtype": "f8"
           },
           "y": {
            "bdata": "AAAAAAAAAAAAAAAAAAAAAAAAAAAAAChAAAAAAAAAKEAAAAAAAAAAQAAAAAAAAABAAAAAAAAAAAA=",
            "dtype": "f8"
           }
          },
          {
           "hoverinfo": "text",
           "marker": {
            "opacity": 1,
            "size": 1
           },
           "mode": "markers",
           "showlegend": false,
           "text": [
            "ID: 0, Pos(5.90,1.00)"
           ],
           "type": "scatter",
           "x": [
            5.899462822243042
           ],
           "y": [
            1.0001441032471836
           ]
          },
          {
           "hoverinfo": "text",
           "marker": {
            "opacity": 1,
            "size": 1
           },
           "mode": "markers",
           "showlegend": false,
           "text": [
            "ID: 1, Pos(7.00,1.00)"
           ],
           "type": "scatter",
           "x": [
            7
           ],
           "y": [
            1
           ]
          }
         ],
         "layout": {
          "shapes": [
           {
            "fillcolor": "rgba(0, 228, 248, 0.5)",
            "line": {
             "color": "rgba(0, 228, 248, 0.5)"
            },
            "type": "circle",
            "x0": 5.699462822243042,
            "x1": 6.0994628222430425,
            "xref": "x",
            "y0": 0.8001441032471837,
            "y1": 1.2001441032471836,
            "yref": "y"
           },
           {
            "fillcolor": "rgba(128, 0, 0, 0.5)",
            "line": {
             "color": "rgba(128, 0, 0, 0.5)"
            },
            "type": "circle",
            "x0": 6.8,
            "x1": 7.2,
            "xref": "x",
            "y0": 0.8,
            "y1": 1.2,
            "yref": "y"
           },
           {
            "line": {
             "color": "black",
             "width": 3
            },
            "type": "line",
            "x0": 5.899462822243042,
            "x1": 6.099436575698294,
            "y0": 1.0001441032471836,
            "y1": 1.003384154021174
           },
           {
            "line": {
             "color": "white",
             "width": 3
            },
            "type": "line",
            "x0": 7,
            "x1": 7.2,
            "y0": 1,
            "y1": 1
           }
          ],
          "title": {
           "text": "<b>Hirai & Tarui, 1975  |  Number of Agents: 2</b>",
           "x": 0.5
          }
         },
         "name": "76"
        },
        {
         "data": [
          {
           "hoverinfo": "name",
           "line": {
            "color": "grey"
           },
           "mode": "lines",
           "name": "Exterior",
           "showlegend": false,
           "type": "scatter",
           "x": {
            "bdata": "AAAAAAAAAAAAAAAAAAAoQAAAAAAAAChAAAAAAAAAJEAAAAAAAAAkQAAAAAAAAAAAAAAAAAAAAAA=",
            "dtype": "f8"
           },
           "y": {
            "bdata": "AAAAAAAAAAAAAAAAAAAAAAAAAAAAAChAAAAAAAAAKEAAAAAAAAAAQAAAAAAAAABAAAAAAAAAAAA=",
            "dtype": "f8"
           }
          },
          {
           "hoverinfo": "text",
           "marker": {
            "opacity": 1,
            "size": 1
           },
           "mode": "markers",
           "showlegend": false,
           "text": [
            "ID: 0, Pos(5.91,1.00)"
           ],
           "type": "scatter",
           "x": [
            5.912079554417844
           ],
           "y": [
            1.0001361592744618
           ]
          },
          {
           "hoverinfo": "text",
           "marker": {
            "opacity": 1,
            "size": 1
           },
           "mode": "markers",
           "showlegend": false,
           "text": [
            "ID: 1, Pos(7.00,1.00)"
           ],
           "type": "scatter",
           "x": [
            7
           ],
           "y": [
            1
           ]
          }
         ],
         "layout": {
          "shapes": [
           {
            "fillcolor": "rgba(0, 224, 251, 0.5)",
            "line": {
             "color": "rgba(0, 224, 251, 0.5)"
            },
            "type": "circle",
            "x0": 5.712079554417844,
            "x1": 6.112079554417845,
            "xref": "x",
            "y0": 0.8001361592744618,
            "y1": 1.2001361592744617,
            "yref": "y"
           },
           {
            "fillcolor": "rgba(128, 0, 0, 0.5)",
            "line": {
             "color": "rgba(128, 0, 0, 0.5)"
            },
            "type": "circle",
            "x0": 6.8,
            "x1": 7.2,
            "xref": "x",
            "y0": 0.8,
            "y1": 1.2,
            "yref": "y"
           },
           {
            "line": {
             "color": "black",
             "width": 3
            },
            "type": "line",
            "x0": 5.912079554417844,
            "x1": 6.112079514773468,
            "y0": 1.0001361592744618,
            "y1": 1.000010231719892
           },
           {
            "line": {
             "color": "white",
             "width": 3
            },
            "type": "line",
            "x0": 7,
            "x1": 7.2,
            "y0": 1,
            "y1": 1
           }
          ],
          "title": {
           "text": "<b>Hirai & Tarui, 1975  |  Number of Agents: 2</b>",
           "x": 0.5
          }
         },
         "name": "77"
        },
        {
         "data": [
          {
           "hoverinfo": "name",
           "line": {
            "color": "grey"
           },
           "mode": "lines",
           "name": "Exterior",
           "showlegend": false,
           "type": "scatter",
           "x": {
            "bdata": "AAAAAAAAAAAAAAAAAAAoQAAAAAAAAChAAAAAAAAAJEAAAAAAAAAkQAAAAAAAAAAAAAAAAAAAAAA=",
            "dtype": "f8"
           },
           "y": {
            "bdata": "AAAAAAAAAAAAAAAAAAAAAAAAAAAAAChAAAAAAAAAKEAAAAAAAAAAQAAAAAAAAABAAAAAAAAAAAA=",
            "dtype": "f8"
           }
          },
          {
           "hoverinfo": "text",
           "marker": {
            "opacity": 1,
            "size": 1
           },
           "mode": "markers",
           "showlegend": false,
           "text": [
            "ID: 0, Pos(5.92,1.00)"
           ],
           "type": "scatter",
           "x": [
            5.924707558994363
           ],
           "y": [
            0.9999183046850771
           ]
          },
          {
           "hoverinfo": "text",
           "marker": {
            "opacity": 1,
            "size": 1
           },
           "mode": "markers",
           "showlegend": false,
           "text": [
            "ID: 1, Pos(7.00,1.00)"
           ],
           "type": "scatter",
           "x": [
            7
           ],
           "y": [
            1
           ]
          }
         ],
         "layout": {
          "shapes": [
           {
            "fillcolor": "rgba(0, 224, 251, 0.5)",
            "line": {
             "color": "rgba(0, 224, 251, 0.5)"
            },
            "type": "circle",
            "x0": 5.724707558994363,
            "x1": 6.124707558994364,
            "xref": "x",
            "y0": 0.7999183046850771,
            "y1": 1.1999183046850772,
            "yref": "y"
           },
           {
            "fillcolor": "rgba(128, 0, 0, 0.5)",
            "line": {
             "color": "rgba(128, 0, 0, 0.5)"
            },
            "type": "circle",
            "x0": 6.8,
            "x1": 7.2,
            "xref": "x",
            "y0": 0.8,
            "y1": 1.2,
            "yref": "y"
           },
           {
            "line": {
             "color": "black",
             "width": 3
            },
            "type": "line",
            "x0": 5.924707558994363,
            "x1": 6.124677803509106,
            "y0": 0.9999183046850771,
            "y1": 0.9964684773395193
           },
           {
            "line": {
             "color": "white",
             "width": 3
            },
            "type": "line",
            "x0": 7,
            "x1": 7.2,
            "y0": 1,
            "y1": 1
           }
          ],
          "title": {
           "text": "<b>Hirai & Tarui, 1975  |  Number of Agents: 2</b>",
           "x": 0.5
          }
         },
         "name": "78"
        },
        {
         "data": [
          {
           "hoverinfo": "name",
           "line": {
            "color": "grey"
           },
           "mode": "lines",
           "name": "Exterior",
           "showlegend": false,
           "type": "scatter",
           "x": {
            "bdata": "AAAAAAAAAAAAAAAAAAAoQAAAAAAAAChAAAAAAAAAJEAAAAAAAAAkQAAAAAAAAAAAAAAAAAAAAAA=",
            "dtype": "f8"
           },
           "y": {
            "bdata": "AAAAAAAAAAAAAAAAAAAAAAAAAAAAAChAAAAAAAAAKEAAAAAAAAAAQAAAAAAAAABAAAAAAAAAAAA=",
            "dtype": "f8"
           }
          },
          {
           "hoverinfo": "text",
           "marker": {
            "opacity": 1,
            "size": 1
           },
           "mode": "markers",
           "showlegend": false,
           "text": [
            "ID: 0, Pos(5.94,1.00)"
           ],
           "type": "scatter",
           "x": [
            5.937346504250629
           ],
           "y": [
            1.0000927630720409
           ]
          },
          {
           "hoverinfo": "text",
           "marker": {
            "opacity": 1,
            "size": 1
           },
           "mode": "markers",
           "showlegend": false,
           "text": [
            "ID: 1, Pos(7.00,1.00)"
           ],
           "type": "scatter",
           "x": [
            7
           ],
           "y": [
            1
           ]
          }
         ],
         "layout": {
          "shapes": [
           {
            "fillcolor": "rgba(0, 224, 251, 0.5)",
            "line": {
             "color": "rgba(0, 224, 251, 0.5)"
            },
            "type": "circle",
            "x0": 5.737346504250628,
            "x1": 6.137346504250629,
            "xref": "x",
            "y0": 0.8000927630720409,
            "y1": 1.2000927630720408,
            "yref": "y"
           },
           {
            "fillcolor": "rgba(128, 0, 0, 0.5)",
            "line": {
             "color": "rgba(128, 0, 0, 0.5)"
            },
            "type": "circle",
            "x0": 6.8,
            "x1": 7.2,
            "xref": "x",
            "y0": 0.8,
            "y1": 1.2,
            "yref": "y"
           },
           {
            "line": {
             "color": "black",
             "width": 3
            },
            "type": "line",
            "x0": 5.937346504250629,
            "x1": 6.13732745403105,
            "y0": 1.0000927630720409,
            "y1": 1.0028531479945797
           },
           {
            "line": {
             "color": "white",
             "width": 3
            },
            "type": "line",
            "x0": 7,
            "x1": 7.2,
            "y0": 1,
            "y1": 1
           }
          ],
          "title": {
           "text": "<b>Hirai & Tarui, 1975  |  Number of Agents: 2</b>",
           "x": 0.5
          }
         },
         "name": "79"
        },
        {
         "data": [
          {
           "hoverinfo": "name",
           "line": {
            "color": "grey"
           },
           "mode": "lines",
           "name": "Exterior",
           "showlegend": false,
           "type": "scatter",
           "x": {
            "bdata": "AAAAAAAAAAAAAAAAAAAoQAAAAAAAAChAAAAAAAAAJEAAAAAAAAAkQAAAAAAAAAAAAAAAAAAAAAA=",
            "dtype": "f8"
           },
           "y": {
            "bdata": "AAAAAAAAAAAAAAAAAAAAAAAAAAAAAChAAAAAAAAAKEAAAAAAAAAAQAAAAAAAAABAAAAAAAAAAAA=",
            "dtype": "f8"
           }
          },
          {
           "hoverinfo": "text",
           "marker": {
            "opacity": 1,
            "size": 1
           },
           "mode": "markers",
           "showlegend": false,
           "text": [
            "ID: 0, Pos(5.95,1.00)"
           ],
           "type": "scatter",
           "x": [
            5.949996090470316
           ],
           "y": [
            1.0000554743695236
           ]
          },
          {
           "hoverinfo": "text",
           "marker": {
            "opacity": 1,
            "size": 1
           },
           "mode": "markers",
           "showlegend": false,
           "text": [
            "ID: 1, Pos(7.00,1.00)"
           ],
           "type": "scatter",
           "x": [
            7
           ],
           "y": [
            1
           ]
          }
         ],
         "layout": {
          "shapes": [
           {
            "fillcolor": "rgba(0, 224, 251, 0.5)",
            "line": {
             "color": "rgba(0, 224, 251, 0.5)"
            },
            "type": "circle",
            "x0": 5.749996090470316,
            "x1": 6.149996090470316,
            "xref": "x",
            "y0": 0.8000554743695236,
            "y1": 1.2000554743695235,
            "yref": "y"
           },
           {
            "fillcolor": "rgba(128, 0, 0, 0.5)",
            "line": {
             "color": "rgba(128, 0, 0, 0.5)"
            },
            "type": "circle",
            "x0": 6.8,
            "x1": 7.2,
            "xref": "x",
            "y0": 0.8,
            "y1": 1.2,
            "yref": "y"
           },
           {
            "line": {
             "color": "black",
             "width": 3
            },
            "type": "line",
            "x0": 5.949996090470316,
            "x1": 6.149995221511738,
            "y0": 1.0000554743695236,
            "y1": 0.9994659129426439
           },
           {
            "line": {
             "color": "white",
             "width": 3
            },
            "type": "line",
            "x0": 7,
            "x1": 7.2,
            "y0": 1,
            "y1": 1
           }
          ],
          "title": {
           "text": "<b>Hirai & Tarui, 1975  |  Number of Agents: 2</b>",
           "x": 0.5
          }
         },
         "name": "80"
        },
        {
         "data": [
          {
           "hoverinfo": "name",
           "line": {
            "color": "grey"
           },
           "mode": "lines",
           "name": "Exterior",
           "showlegend": false,
           "type": "scatter",
           "x": {
            "bdata": "AAAAAAAAAAAAAAAAAAAoQAAAAAAAAChAAAAAAAAAJEAAAAAAAAAkQAAAAAAAAAAAAAAAAAAAAAA=",
            "dtype": "f8"
           },
           "y": {
            "bdata": "AAAAAAAAAAAAAAAAAAAAAAAAAAAAAChAAAAAAAAAKEAAAAAAAAAAQAAAAAAAAABAAAAAAAAAAAA=",
            "dtype": "f8"
           }
          },
          {
           "hoverinfo": "text",
           "marker": {
            "opacity": 1,
            "size": 1
           },
           "mode": "markers",
           "showlegend": false,
           "text": [
            "ID: 0, Pos(5.96,1.00)"
           ],
           "type": "scatter",
           "x": [
            5.962656027507109
           ],
           "y": [
            0.999808702613265
           ]
          },
          {
           "hoverinfo": "text",
           "marker": {
            "opacity": 1,
            "size": 1
           },
           "mode": "markers",
           "showlegend": false,
           "text": [
            "ID: 1, Pos(7.00,1.00)"
           ],
           "type": "scatter",
           "x": [
            7
           ],
           "y": [
            1
           ]
          }
         ],
         "layout": {
          "shapes": [
           {
            "fillcolor": "rgba(0, 224, 251, 0.5)",
            "line": {
             "color": "rgba(0, 224, 251, 0.5)"
            },
            "type": "circle",
            "x0": 5.762656027507109,
            "x1": 6.16265602750711,
            "xref": "x",
            "y0": 0.799808702613265,
            "y1": 1.199808702613265,
            "yref": "y"
           },
           {
            "fillcolor": "rgba(128, 0, 0, 0.5)",
            "line": {
             "color": "rgba(128, 0, 0, 0.5)"
            },
            "type": "circle",
            "x0": 6.8,
            "x1": 7.2,
            "xref": "x",
            "y0": 0.8,
            "y1": 1.2,
            "yref": "y"
           },
           {
            "line": {
             "color": "black",
             "width": 3
            },
            "type": "line",
            "x0": 5.962656027507109,
            "x1": 6.1626180432116096,
            "y0": 0.999808702613265,
            "y1": 0.9959109756611492
           },
           {
            "line": {
             "color": "white",
             "width": 3
            },
            "type": "line",
            "x0": 7,
            "x1": 7.2,
            "y0": 1,
            "y1": 1
           }
          ],
          "title": {
           "text": "<b>Hirai & Tarui, 1975  |  Number of Agents: 2</b>",
           "x": 0.5
          }
         },
         "name": "81"
        },
        {
         "data": [
          {
           "hoverinfo": "name",
           "line": {
            "color": "grey"
           },
           "mode": "lines",
           "name": "Exterior",
           "showlegend": false,
           "type": "scatter",
           "x": {
            "bdata": "AAAAAAAAAAAAAAAAAAAoQAAAAAAAAChAAAAAAAAAJEAAAAAAAAAkQAAAAAAAAAAAAAAAAAAAAAA=",
            "dtype": "f8"
           },
           "y": {
            "bdata": "AAAAAAAAAAAAAAAAAAAAAAAAAAAAAChAAAAAAAAAKEAAAAAAAAAAQAAAAAAAAABAAAAAAAAAAAA=",
            "dtype": "f8"
           }
          },
          {
           "hoverinfo": "text",
           "marker": {
            "opacity": 1,
            "size": 1
           },
           "mode": "markers",
           "showlegend": false,
           "text": [
            "ID: 0, Pos(5.98,1.00)"
           ],
           "type": "scatter",
           "x": [
            5.975325996943458
           ],
           "y": [
            0.9999546694033548
           ]
          },
          {
           "hoverinfo": "text",
           "marker": {
            "opacity": 1,
            "size": 1
           },
           "mode": "markers",
           "showlegend": false,
           "text": [
            "ID: 1, Pos(7.00,1.00)"
           ],
           "type": "scatter",
           "x": [
            7
           ],
           "y": [
            1
           ]
          }
         ],
         "layout": {
          "shapes": [
           {
            "fillcolor": "rgba(0, 224, 251, 0.5)",
            "line": {
             "color": "rgba(0, 224, 251, 0.5)"
            },
            "type": "circle",
            "x0": 5.775325996943458,
            "x1": 6.175325996943458,
            "xref": "x",
            "y0": 0.7999546694033548,
            "y1": 1.1999546694033547,
            "yref": "y"
           },
           {
            "fillcolor": "rgba(128, 0, 0, 0.5)",
            "line": {
             "color": "rgba(128, 0, 0, 0.5)"
            },
            "type": "circle",
            "x0": 6.8,
            "x1": 7.2,
            "xref": "x",
            "y0": 0.8,
            "y1": 1.2,
            "yref": "y"
           },
           {
            "line": {
             "color": "black",
             "width": 3
            },
            "type": "line",
            "x0": 5.975325996943458,
            "x1": 6.175312725634742,
            "y0": 0.9999546694033548,
            "y1": 1.002258654507206
           },
           {
            "line": {
             "color": "white",
             "width": 3
            },
            "type": "line",
            "x0": 7,
            "x1": 7.2,
            "y0": 1,
            "y1": 1
           }
          ],
          "title": {
           "text": "<b>Hirai & Tarui, 1975  |  Number of Agents: 2</b>",
           "x": 0.5
          }
         },
         "name": "82"
        },
        {
         "data": [
          {
           "hoverinfo": "name",
           "line": {
            "color": "grey"
           },
           "mode": "lines",
           "name": "Exterior",
           "showlegend": false,
           "type": "scatter",
           "x": {
            "bdata": "AAAAAAAAAAAAAAAAAAAoQAAAAAAAAChAAAAAAAAAJEAAAAAAAAAkQAAAAAAAAAAAAAAAAAAAAAA=",
            "dtype": "f8"
           },
           "y": {
            "bdata": "AAAAAAAAAAAAAAAAAAAAAAAAAAAAAChAAAAAAAAAKEAAAAAAAAAAQAAAAAAAAABAAAAAAAAAAAA=",
            "dtype": "f8"
           }
          },
          {
           "hoverinfo": "text",
           "marker": {
            "opacity": 1,
            "size": 1
           },
           "mode": "markers",
           "showlegend": false,
           "text": [
            "ID: 0, Pos(5.99,1.00)"
           ],
           "type": "scatter",
           "x": [
            5.988005724944844
           ],
           "y": [
            1.0004892977449025
           ]
          },
          {
           "hoverinfo": "text",
           "marker": {
            "opacity": 1,
            "size": 1
           },
           "mode": "markers",
           "showlegend": false,
           "text": [
            "ID: 1, Pos(7.00,1.00)"
           ],
           "type": "scatter",
           "x": [
            7
           ],
           "y": [
            1
           ]
          }
         ],
         "layout": {
          "shapes": [
           {
            "fillcolor": "rgba(0, 224, 251, 0.5)",
            "line": {
             "color": "rgba(0, 224, 251, 0.5)"
            },
            "type": "circle",
            "x0": 5.788005724944844,
            "x1": 6.188005724944844,
            "xref": "x",
            "y0": 0.8004892977449025,
            "y1": 1.2004892977449024,
            "yref": "y"
           },
           {
            "fillcolor": "rgba(128, 0, 0, 0.5)",
            "line": {
             "color": "rgba(128, 0, 0, 0.5)"
            },
            "type": "circle",
            "x0": 6.8,
            "x1": 7.2,
            "xref": "x",
            "y0": 0.8,
            "y1": 1.2,
            "yref": "y"
           },
           {
            "line": {
             "color": "black",
             "width": 3
            },
            "type": "line",
            "x0": 5.988005724944844,
            "x1": 6.187828181155925,
            "y0": 1.0004892977449025,
            "y1": 1.0089146163602905
           },
           {
            "line": {
             "color": "white",
             "width": 3
            },
            "type": "line",
            "x0": 7,
            "x1": 7.2,
            "y0": 1,
            "y1": 1
           }
          ],
          "title": {
           "text": "<b>Hirai & Tarui, 1975  |  Number of Agents: 2</b>",
           "x": 0.5
          }
         },
         "name": "83"
        },
        {
         "data": [
          {
           "hoverinfo": "name",
           "line": {
            "color": "grey"
           },
           "mode": "lines",
           "name": "Exterior",
           "showlegend": false,
           "type": "scatter",
           "x": {
            "bdata": "AAAAAAAAAAAAAAAAAAAoQAAAAAAAAChAAAAAAAAAJEAAAAAAAAAkQAAAAAAAAAAAAAAAAAAAAAA=",
            "dtype": "f8"
           },
           "y": {
            "bdata": "AAAAAAAAAAAAAAAAAAAAAAAAAAAAAChAAAAAAAAAKEAAAAAAAAAAQAAAAAAAAABAAAAAAAAAAAA=",
            "dtype": "f8"
           }
          },
          {
           "hoverinfo": "text",
           "marker": {
            "opacity": 1,
            "size": 1
           },
           "mode": "markers",
           "showlegend": false,
           "text": [
            "ID: 0, Pos(6.00,1.00)"
           ],
           "type": "scatter",
           "x": [
            6.000694830879442
           ],
           "y": [
            1.000808579984486
           ]
          },
          {
           "hoverinfo": "text",
           "marker": {
            "opacity": 1,
            "size": 1
           },
           "mode": "markers",
           "showlegend": false,
           "text": [
            "ID: 1, Pos(7.00,1.00)"
           ],
           "type": "scatter",
           "x": [
            7
           ],
           "y": [
            1
           ]
          }
         ],
         "layout": {
          "shapes": [
           {
            "fillcolor": "rgba(0, 220, 254, 0.5)",
            "line": {
             "color": "rgba(0, 220, 254, 0.5)"
            },
            "type": "circle",
            "x0": 5.800694830879442,
            "x1": 6.200694830879442,
            "xref": "x",
            "y0": 0.800808579984486,
            "y1": 1.2008085799844859,
            "yref": "y"
           },
           {
            "fillcolor": "rgba(128, 0, 0, 0.5)",
            "line": {
             "color": "rgba(128, 0, 0, 0.5)"
            },
            "type": "circle",
            "x0": 6.8,
            "x1": 7.2,
            "xref": "x",
            "y0": 0.8,
            "y1": 1.2,
            "yref": "y"
           },
           {
            "line": {
             "color": "black",
             "width": 3
            },
            "type": "line",
            "x0": 6.000694830879442,
            "x1": 6.200631548716478,
            "y0": 1.000808579984486,
            "y1": 1.005839371229749
           },
           {
            "line": {
             "color": "white",
             "width": 3
            },
            "type": "line",
            "x0": 7,
            "x1": 7.2,
            "y0": 1,
            "y1": 1
           }
          ],
          "title": {
           "text": "<b>Hirai & Tarui, 1975  |  Number of Agents: 2</b>",
           "x": 0.5
          }
         },
         "name": "84"
        },
        {
         "data": [
          {
           "hoverinfo": "name",
           "line": {
            "color": "grey"
           },
           "mode": "lines",
           "name": "Exterior",
           "showlegend": false,
           "type": "scatter",
           "x": {
            "bdata": "AAAAAAAAAAAAAAAAAAAoQAAAAAAAAChAAAAAAAAAJEAAAAAAAAAkQAAAAAAAAAAAAAAAAAAAAAA=",
            "dtype": "f8"
           },
           "y": {
            "bdata": "AAAAAAAAAAAAAAAAAAAAAAAAAAAAAChAAAAAAAAAKEAAAAAAAAAAQAAAAAAAAABAAAAAAAAAAAA=",
            "dtype": "f8"
           }
          },
          {
           "hoverinfo": "text",
           "marker": {
            "opacity": 1,
            "size": 1
           },
           "mode": "markers",
           "showlegend": false,
           "text": [
            "ID: 0, Pos(6.01,1.00)"
           ],
           "type": "scatter",
           "x": [
            6.01339321211982
           ],
           "y": [
            1.0009148661180467
           ]
          },
          {
           "hoverinfo": "text",
           "marker": {
            "opacity": 1,
            "size": 1
           },
           "mode": "markers",
           "showlegend": false,
           "text": [
            "ID: 1, Pos(7.00,1.00)"
           ],
           "type": "scatter",
           "x": [
            7
           ],
           "y": [
            1
           ]
          }
         ],
         "layout": {
          "shapes": [
           {
            "fillcolor": "rgba(0, 220, 254, 0.5)",
            "line": {
             "color": "rgba(0, 220, 254, 0.5)"
            },
            "type": "circle",
            "x0": 5.81339321211982,
            "x1": 6.21339321211982,
            "xref": "x",
            "y0": 0.8009148661180467,
            "y1": 1.2009148661180467,
            "yref": "y"
           },
           {
            "fillcolor": "rgba(128, 0, 0, 0.5)",
            "line": {
             "color": "rgba(128, 0, 0, 0.5)"
            },
            "type": "circle",
            "x0": 6.8,
            "x1": 7.2,
            "xref": "x",
            "y0": 0.8,
            "y1": 1.2,
            "yref": "y"
           },
           {
            "line": {
             "color": "black",
             "width": 3
            },
            "type": "line",
            "x0": 6.01339321211982,
            "x1": 6.213386206707923,
            "y0": 1.0009148661180467,
            "y1": 1.0025888182330174
           },
           {
            "line": {
             "color": "white",
             "width": 3
            },
            "type": "line",
            "x0": 7,
            "x1": 7.2,
            "y0": 1,
            "y1": 1
           }
          ],
          "title": {
           "text": "<b>Hirai & Tarui, 1975  |  Number of Agents: 2</b>",
           "x": 0.5
          }
         },
         "name": "85"
        },
        {
         "data": [
          {
           "hoverinfo": "name",
           "line": {
            "color": "grey"
           },
           "mode": "lines",
           "name": "Exterior",
           "showlegend": false,
           "type": "scatter",
           "x": {
            "bdata": "AAAAAAAAAAAAAAAAAAAoQAAAAAAAAChAAAAAAAAAJEAAAAAAAAAkQAAAAAAAAAAAAAAAAAAAAAA=",
            "dtype": "f8"
           },
           "y": {
            "bdata": "AAAAAAAAAAAAAAAAAAAAAAAAAAAAAChAAAAAAAAAKEAAAAAAAAAAQAAAAAAAAABAAAAAAAAAAAA=",
            "dtype": "f8"
           }
          },
          {
           "hoverinfo": "text",
           "marker": {
            "opacity": 1,
            "size": 1
           },
           "mode": "markers",
           "showlegend": false,
           "text": [
            "ID: 0, Pos(6.03,1.00)"
           ],
           "type": "scatter",
           "x": [
            6.02610253295314
           ],
           "y": [
            1.0008104623698622
           ]
          },
          {
           "hoverinfo": "text",
           "marker": {
            "opacity": 1,
            "size": 1
           },
           "mode": "markers",
           "showlegend": false,
           "text": [
            "ID: 1, Pos(7.00,1.00)"
           ],
           "type": "scatter",
           "x": [
            7
           ],
           "y": [
            1
           ]
          }
         ],
         "layout": {
          "shapes": [
           {
            "fillcolor": "rgba(0, 220, 254, 0.5)",
            "line": {
             "color": "rgba(0, 220, 254, 0.5)"
            },
            "type": "circle",
            "x0": 5.82610253295314,
            "x1": 6.22610253295314,
            "xref": "x",
            "y0": 0.8008104623698622,
            "y1": 1.200810462369862,
            "yref": "y"
           },
           {
            "fillcolor": "rgba(128, 0, 0, 0.5)",
            "line": {
             "color": "rgba(128, 0, 0, 0.5)"
            },
            "type": "circle",
            "x0": 6.8,
            "x1": 7.2,
            "xref": "x",
            "y0": 0.8,
            "y1": 1.2,
            "yref": "y"
           },
           {
            "line": {
             "color": "black",
             "width": 3
            },
            "type": "line",
            "x0": 6.02610253295314,
            "x1": 6.226095785101662,
            "y0": 1.0008104623698622,
            "y1": 0.9991675700855495
           },
           {
            "line": {
             "color": "white",
             "width": 3
            },
            "type": "line",
            "x0": 7,
            "x1": 7.2,
            "y0": 1,
            "y1": 1
           }
          ],
          "title": {
           "text": "<b>Hirai & Tarui, 1975  |  Number of Agents: 2</b>",
           "x": 0.5
          }
         },
         "name": "86"
        },
        {
         "data": [
          {
           "hoverinfo": "name",
           "line": {
            "color": "grey"
           },
           "mode": "lines",
           "name": "Exterior",
           "showlegend": false,
           "type": "scatter",
           "x": {
            "bdata": "AAAAAAAAAAAAAAAAAAAoQAAAAAAAAChAAAAAAAAAJEAAAAAAAAAkQAAAAAAAAAAAAAAAAAAAAAA=",
            "dtype": "f8"
           },
           "y": {
            "bdata": "AAAAAAAAAAAAAAAAAAAAAAAAAAAAAChAAAAAAAAAKEAAAAAAAAAAQAAAAAAAAABAAAAAAAAAAAA=",
            "dtype": "f8"
           }
          },
          {
           "hoverinfo": "text",
           "marker": {
            "opacity": 1,
            "size": 1
           },
           "mode": "markers",
           "showlegend": false,
           "text": [
            "ID: 0, Pos(6.04,1.00)"
           ],
           "type": "scatter",
           "x": [
            6.038824391515334
           ],
           "y": [
            1.0004976261658314
           ]
          },
          {
           "hoverinfo": "text",
           "marker": {
            "opacity": 1,
            "size": 1
           },
           "mode": "markers",
           "showlegend": false,
           "text": [
            "ID: 1, Pos(7.00,1.00)"
           ],
           "type": "scatter",
           "x": [
            7
           ],
           "y": [
            1
           ]
          }
         ],
         "layout": {
          "shapes": [
           {
            "fillcolor": "rgba(0, 220, 254, 0.5)",
            "line": {
             "color": "rgba(0, 220, 254, 0.5)"
            },
            "type": "circle",
            "x0": 5.838824391515334,
            "x1": 6.238824391515334,
            "xref": "x",
            "y0": 0.8004976261658314,
            "y1": 1.2004976261658313,
            "yref": "y"
           },
           {
            "fillcolor": "rgba(128, 0, 0, 0.5)",
            "line": {
             "color": "rgba(128, 0, 0, 0.5)"
            },
            "type": "circle",
            "x0": 6.8,
            "x1": 7.2,
            "xref": "x",
            "y0": 0.8,
            "y1": 1.2,
            "yref": "y"
           },
           {
            "line": {
             "color": "black",
             "width": 3
            },
            "type": "line",
            "x0": 6.038824391515334,
            "x1": 6.238763949910998,
            "y0": 1.0004976261658314,
            "y1": 0.995581022811195
           },
           {
            "line": {
             "color": "white",
             "width": 3
            },
            "type": "line",
            "x0": 7,
            "x1": 7.2,
            "y0": 1,
            "y1": 1
           }
          ],
          "title": {
           "text": "<b>Hirai & Tarui, 1975  |  Number of Agents: 2</b>",
           "x": 0.5
          }
         },
         "name": "87"
        },
        {
         "data": [
          {
           "hoverinfo": "name",
           "line": {
            "color": "grey"
           },
           "mode": "lines",
           "name": "Exterior",
           "showlegend": false,
           "type": "scatter",
           "x": {
            "bdata": "AAAAAAAAAAAAAAAAAAAoQAAAAAAAAChAAAAAAAAAJEAAAAAAAAAkQAAAAAAAAAAAAAAAAAAAAAA=",
            "dtype": "f8"
           },
           "y": {
            "bdata": "AAAAAAAAAAAAAAAAAAAAAAAAAAAAAChAAAAAAAAAKEAAAAAAAAAAQAAAAAAAAABAAAAAAAAAAAA=",
            "dtype": "f8"
           }
          },
          {
           "hoverinfo": "text",
           "marker": {
            "opacity": 1,
            "size": 1
           },
           "mode": "markers",
           "showlegend": false,
           "text": [
            "ID: 0, Pos(6.05,1.00)"
           ],
           "type": "scatter",
           "x": [
            6.051560322589916
           ],
           "y": [
            0.9999785683520749
           ]
          },
          {
           "hoverinfo": "text",
           "marker": {
            "opacity": 1,
            "size": 1
           },
           "mode": "markers",
           "showlegend": false,
           "text": [
            "ID: 1, Pos(7.00,1.00)"
           ],
           "type": "scatter",
           "x": [
            7
           ],
           "y": [
            1
           ]
          }
         ],
         "layout": {
          "shapes": [
           {
            "fillcolor": "rgba(0, 220, 254, 0.5)",
            "line": {
             "color": "rgba(0, 220, 254, 0.5)"
            },
            "type": "circle",
            "x0": 5.851560322589916,
            "x1": 6.251560322589916,
            "xref": "x",
            "y0": 0.7999785683520748,
            "y1": 1.199978568352075,
            "yref": "y"
           },
           {
            "fillcolor": "rgba(128, 0, 0, 0.5)",
            "line": {
             "color": "rgba(128, 0, 0, 0.5)"
            },
            "type": "circle",
            "x0": 6.8,
            "x1": 7.2,
            "xref": "x",
            "y0": 0.8,
            "y1": 1.2,
            "yref": "y"
           },
           {
            "line": {
             "color": "black",
             "width": 3
            },
            "type": "line",
            "x0": 6.051560322589916,
            "x1": 6.251394429057492,
            "y0": 0.9999785683520749,
            "y1": 0.9918342517874187
           },
           {
            "line": {
             "color": "white",
             "width": 3
            },
            "type": "line",
            "x0": 7,
            "x1": 7.2,
            "y0": 1,
            "y1": 1
           }
          ],
          "title": {
           "text": "<b>Hirai & Tarui, 1975  |  Number of Agents: 2</b>",
           "x": 0.5
          }
         },
         "name": "88"
        },
        {
         "data": [
          {
           "hoverinfo": "name",
           "line": {
            "color": "grey"
           },
           "mode": "lines",
           "name": "Exterior",
           "showlegend": false,
           "type": "scatter",
           "x": {
            "bdata": "AAAAAAAAAAAAAAAAAAAoQAAAAAAAAChAAAAAAAAAJEAAAAAAAAAkQAAAAAAAAAAAAAAAAAAAAAA=",
            "dtype": "f8"
           },
           "y": {
            "bdata": "AAAAAAAAAAAAAAAAAAAAAAAAAAAAAChAAAAAAAAAKEAAAAAAAAAAQAAAAAAAAABAAAAAAAAAAAA=",
            "dtype": "f8"
           }
          },
          {
           "hoverinfo": "text",
           "marker": {
            "opacity": 1,
            "size": 1
           },
           "mode": "markers",
           "showlegend": false,
           "text": [
            "ID: 0, Pos(6.06,1.00)"
           ],
           "type": "scatter",
           "x": [
            6.064311800408944
           ],
           "y": [
            0.9998554608925093
           ]
          },
          {
           "hoverinfo": "text",
           "marker": {
            "opacity": 1,
            "size": 1
           },
           "mode": "markers",
           "showlegend": false,
           "text": [
            "ID: 1, Pos(7.00,1.00)"
           ],
           "type": "scatter",
           "x": [
            7
           ],
           "y": [
            1
           ]
          }
         ],
         "layout": {
          "shapes": [
           {
            "fillcolor": "rgba(0, 220, 254, 0.5)",
            "line": {
             "color": "rgba(0, 220, 254, 0.5)"
            },
            "type": "circle",
            "x0": 5.864311800408943,
            "x1": 6.264311800408944,
            "xref": "x",
            "y0": 0.7998554608925093,
            "y1": 1.1998554608925094,
            "yref": "y"
           },
           {
            "fillcolor": "rgba(128, 0, 0, 0.5)",
            "line": {
             "color": "rgba(128, 0, 0, 0.5)"
            },
            "type": "circle",
            "x0": 6.8,
            "x1": 7.2,
            "xref": "x",
            "y0": 0.8,
            "y1": 1.2,
            "yref": "y"
           },
           {
            "line": {
             "color": "black",
             "width": 3
            },
            "type": "line",
            "x0": 6.064311800408944,
            "x1": 6.2643024803782845,
            "y0": 0.9998554608925093,
            "y1": 0.9979246772690559
           },
           {
            "line": {
             "color": "white",
             "width": 3
            },
            "type": "line",
            "x0": 7,
            "x1": 7.2,
            "y0": 1,
            "y1": 1
           }
          ],
          "title": {
           "text": "<b>Hirai & Tarui, 1975  |  Number of Agents: 2</b>",
           "x": 0.5
          }
         },
         "name": "89"
        },
        {
         "data": [
          {
           "hoverinfo": "name",
           "line": {
            "color": "grey"
           },
           "mode": "lines",
           "name": "Exterior",
           "showlegend": false,
           "type": "scatter",
           "x": {
            "bdata": "AAAAAAAAAAAAAAAAAAAoQAAAAAAAAChAAAAAAAAAJEAAAAAAAAAkQAAAAAAAAAAAAAAAAAAAAAA=",
            "dtype": "f8"
           },
           "y": {
            "bdata": "AAAAAAAAAAAAAAAAAAAAAAAAAAAAAChAAAAAAAAAKEAAAAAAAAAAQAAAAAAAAABAAAAAAAAAAAA=",
            "dtype": "f8"
           }
          },
          {
           "hoverinfo": "text",
           "marker": {
            "opacity": 1,
            "size": 1
           },
           "mode": "markers",
           "showlegend": false,
           "text": [
            "ID: 0, Pos(6.08,1.00)"
           ],
           "type": "scatter",
           "x": [
            6.077080430341718
           ],
           "y": [
            1.0001241417951334
           ]
          },
          {
           "hoverinfo": "text",
           "marker": {
            "opacity": 1,
            "size": 1
           },
           "mode": "markers",
           "showlegend": false,
           "text": [
            "ID: 1, Pos(7.00,1.00)"
           ],
           "type": "scatter",
           "x": [
            7
           ],
           "y": [
            1
           ]
          }
         ],
         "layout": {
          "shapes": [
           {
            "fillcolor": "rgba(0, 216, 255, 0.5)",
            "line": {
             "color": "rgba(0, 216, 255, 0.5)"
            },
            "type": "circle",
            "x0": 5.877080430341718,
            "x1": 6.2770804303417185,
            "xref": "x",
            "y0": 0.8001241417951335,
            "y1": 1.2001241417951334,
            "yref": "y"
           },
           {
            "fillcolor": "rgba(128, 0, 0, 0.5)",
            "line": {
             "color": "rgba(128, 0, 0, 0.5)"
            },
            "type": "circle",
            "x0": 6.8,
            "x1": 7.2,
            "xref": "x",
            "y0": 0.8,
            "y1": 1.2,
            "yref": "y"
           },
           {
            "line": {
             "color": "black",
             "width": 3
            },
            "type": "line",
            "x0": 6.077080430341718,
            "x1": 6.277036167345917,
            "y0": 1.0001241417951334,
            "y1": 1.0043316635250317
           },
           {
            "line": {
             "color": "white",
             "width": 3
            },
            "type": "line",
            "x0": 7,
            "x1": 7.2,
            "y0": 1,
            "y1": 1
           }
          ],
          "title": {
           "text": "<b>Hirai & Tarui, 1975  |  Number of Agents: 2</b>",
           "x": 0.5
          }
         },
         "name": "90"
        },
        {
         "data": [
          {
           "hoverinfo": "name",
           "line": {
            "color": "grey"
           },
           "mode": "lines",
           "name": "Exterior",
           "showlegend": false,
           "type": "scatter",
           "x": {
            "bdata": "AAAAAAAAAAAAAAAAAAAoQAAAAAAAAChAAAAAAAAAJEAAAAAAAAAkQAAAAAAAAAAAAAAAAAAAAAA=",
            "dtype": "f8"
           },
           "y": {
            "bdata": "AAAAAAAAAAAAAAAAAAAAAAAAAAAAAChAAAAAAAAAKEAAAAAAAAAAQAAAAAAAAABAAAAAAAAAAAA=",
            "dtype": "f8"
           }
          },
          {
           "hoverinfo": "text",
           "marker": {
            "opacity": 1,
            "size": 1
           },
           "mode": "markers",
           "showlegend": false,
           "text": [
            "ID: 0, Pos(6.09,1.00)"
           ],
           "type": "scatter",
           "x": [
            6.089867674365839
           ],
           "y": [
            1.00018052843589
           ]
          },
          {
           "hoverinfo": "text",
           "marker": {
            "opacity": 1,
            "size": 1
           },
           "mode": "markers",
           "showlegend": false,
           "text": [
            "ID: 1, Pos(7.00,1.00)"
           ],
           "type": "scatter",
           "x": [
            7
           ],
           "y": [
            1
           ]
          }
         ],
         "layout": {
          "shapes": [
           {
            "fillcolor": "rgba(0, 216, 255, 0.5)",
            "line": {
             "color": "rgba(0, 216, 255, 0.5)"
            },
            "type": "circle",
            "x0": 5.8898676743658385,
            "x1": 6.289867674365839,
            "xref": "x",
            "y0": 0.80018052843589,
            "y1": 1.20018052843589,
            "yref": "y"
           },
           {
            "fillcolor": "rgba(128, 0, 0, 0.5)",
            "line": {
             "color": "rgba(128, 0, 0, 0.5)"
            },
            "type": "circle",
            "x0": 6.8,
            "x1": 7.2,
            "xref": "x",
            "y0": 0.8,
            "y1": 1.2,
            "yref": "y"
           },
           {
            "line": {
             "color": "black",
             "width": 3
            },
            "type": "line",
            "x0": 6.089867674365839,
            "x1": 6.289865729936324,
            "y0": 1.00018052843589,
            "y1": 1.0010624400104409
           },
           {
            "line": {
             "color": "white",
             "width": 3
            },
            "type": "line",
            "x0": 7,
            "x1": 7.2,
            "y0": 1,
            "y1": 1
           }
          ],
          "title": {
           "text": "<b>Hirai & Tarui, 1975  |  Number of Agents: 2</b>",
           "x": 0.5
          }
         },
         "name": "91"
        },
        {
         "data": [
          {
           "hoverinfo": "name",
           "line": {
            "color": "grey"
           },
           "mode": "lines",
           "name": "Exterior",
           "showlegend": false,
           "type": "scatter",
           "x": {
            "bdata": "AAAAAAAAAAAAAAAAAAAoQAAAAAAAAChAAAAAAAAAJEAAAAAAAAAkQAAAAAAAAAAAAAAAAAAAAAA=",
            "dtype": "f8"
           },
           "y": {
            "bdata": "AAAAAAAAAAAAAAAAAAAAAAAAAAAAAChAAAAAAAAAKEAAAAAAAAAAQAAAAAAAAABAAAAAAAAAAAA=",
            "dtype": "f8"
           }
          },
          {
           "hoverinfo": "text",
           "marker": {
            "opacity": 1,
            "size": 1
           },
           "mode": "markers",
           "showlegend": false,
           "text": [
            "ID: 0, Pos(6.10,1.00)"
           ],
           "type": "scatter",
           "x": [
            6.102675013404438
           ],
           "y": [
            1.0000269207180557
           ]
          },
          {
           "hoverinfo": "text",
           "marker": {
            "opacity": 1,
            "size": 1
           },
           "mode": "markers",
           "showlegend": false,
           "text": [
            "ID: 1, Pos(7.00,1.00)"
           ],
           "type": "scatter",
           "x": [
            7
           ],
           "y": [
            1
           ]
          }
         ],
         "layout": {
          "shapes": [
           {
            "fillcolor": "rgba(0, 216, 255, 0.5)",
            "line": {
             "color": "rgba(0, 216, 255, 0.5)"
            },
            "type": "circle",
            "x0": 5.902675013404438,
            "x1": 6.302675013404438,
            "xref": "x",
            "y0": 0.8000269207180557,
            "y1": 1.2000269207180556,
            "yref": "y"
           },
           {
            "fillcolor": "rgba(128, 0, 0, 0.5)",
            "line": {
             "color": "rgba(128, 0, 0, 0.5)"
            },
            "type": "circle",
            "x0": 6.8,
            "x1": 7.2,
            "xref": "x",
            "y0": 0.8,
            "y1": 1.2,
            "yref": "y"
           },
           {
            "line": {
             "color": "black",
             "width": 3
            },
            "type": "line",
            "x0": 6.102675013404438,
            "x1": 6.302660630009376,
            "y0": 1.0000269207180557,
            "y1": 0.9976283479877004
           },
           {
            "line": {
             "color": "white",
             "width": 3
            },
            "type": "line",
            "x0": 7,
            "x1": 7.2,
            "y0": 1,
            "y1": 1
           }
          ],
          "title": {
           "text": "<b>Hirai & Tarui, 1975  |  Number of Agents: 2</b>",
           "x": 0.5
          }
         },
         "name": "92"
        },
        {
         "data": [
          {
           "hoverinfo": "name",
           "line": {
            "color": "grey"
           },
           "mode": "lines",
           "name": "Exterior",
           "showlegend": false,
           "type": "scatter",
           "x": {
            "bdata": "AAAAAAAAAAAAAAAAAAAoQAAAAAAAAChAAAAAAAAAJEAAAAAAAAAkQAAAAAAAAAAAAAAAAAAAAAA=",
            "dtype": "f8"
           },
           "y": {
            "bdata": "AAAAAAAAAAAAAAAAAAAAAAAAAAAAAChAAAAAAAAAKEAAAAAAAAAAQAAAAAAAAABAAAAAAAAAAAA=",
            "dtype": "f8"
           }
          },
          {
           "hoverinfo": "text",
           "marker": {
            "opacity": 1,
            "size": 1
           },
           "mode": "markers",
           "showlegend": false,
           "text": [
            "ID: 0, Pos(6.12,1.00)"
           ],
           "type": "scatter",
           "x": [
            6.115503867959329
           ],
           "y": [
            0.9996655761083925
           ]
          },
          {
           "hoverinfo": "text",
           "marker": {
            "opacity": 1,
            "size": 1
           },
           "mode": "markers",
           "showlegend": false,
           "text": [
            "ID: 1, Pos(7.00,1.00)"
           ],
           "type": "scatter",
           "x": [
            7
           ],
           "y": [
            1
           ]
          }
         ],
         "layout": {
          "shapes": [
           {
            "fillcolor": "rgba(0, 212, 255, 0.5)",
            "line": {
             "color": "rgba(0, 212, 255, 0.5)"
            },
            "type": "circle",
            "x0": 5.915503867959329,
            "x1": 6.315503867959329,
            "xref": "x",
            "y0": 0.7996655761083924,
            "y1": 1.1996655761083925,
            "yref": "y"
           },
           {
            "fillcolor": "rgba(128, 0, 0, 0.5)",
            "line": {
             "color": "rgba(128, 0, 0, 0.5)"
            },
            "type": "circle",
            "x0": 6.8,
            "x1": 7.2,
            "xref": "x",
            "y0": 0.8,
            "y1": 1.2,
            "yref": "y"
           },
           {
            "line": {
             "color": "black",
             "width": 3
            },
            "type": "line",
            "x0": 6.115503867959329,
            "x1": 6.3154245796641435,
            "y0": 0.9996655761083925,
            "y1": 0.9940344988188757
           },
           {
            "line": {
             "color": "white",
             "width": 3
            },
            "type": "line",
            "x0": 7,
            "x1": 7.2,
            "y0": 1,
            "y1": 1
           }
          ],
          "title": {
           "text": "<b>Hirai & Tarui, 1975  |  Number of Agents: 2</b>",
           "x": 0.5
          }
         },
         "name": "93"
        },
        {
         "data": [
          {
           "hoverinfo": "name",
           "line": {
            "color": "grey"
           },
           "mode": "lines",
           "name": "Exterior",
           "showlegend": false,
           "type": "scatter",
           "x": {
            "bdata": "AAAAAAAAAAAAAAAAAAAoQAAAAAAAAChAAAAAAAAAJEAAAAAAAAAkQAAAAAAAAAAAAAAAAAAAAAA=",
            "dtype": "f8"
           },
           "y": {
            "bdata": "AAAAAAAAAAAAAAAAAAAAAAAAAAAAAChAAAAAAAAAKEAAAAAAAAAAQAAAAAAAAABAAAAAAAAAAAA=",
            "dtype": "f8"
           }
          },
          {
           "hoverinfo": "text",
           "marker": {
            "opacity": 1,
            "size": 1
           },
           "mode": "markers",
           "showlegend": false,
           "text": [
            "ID: 0, Pos(6.13,1.00)"
           ],
           "type": "scatter",
           "x": [
            6.128355600900586
           ],
           "y": [
            0.9996987179159759
           ]
          },
          {
           "hoverinfo": "text",
           "marker": {
            "opacity": 1,
            "size": 1
           },
           "mode": "markers",
           "showlegend": false,
           "text": [
            "ID: 1, Pos(7.00,1.00)"
           ],
           "type": "scatter",
           "x": [
            7
           ],
           "y": [
            1
           ]
          }
         ],
         "layout": {
          "shapes": [
           {
            "fillcolor": "rgba(0, 212, 255, 0.5)",
            "line": {
             "color": "rgba(0, 212, 255, 0.5)"
            },
            "type": "circle",
            "x0": 5.928355600900586,
            "x1": 6.328355600900586,
            "xref": "x",
            "y0": 0.7996987179159758,
            "y1": 1.199698717915976,
            "yref": "y"
           },
           {
            "fillcolor": "rgba(128, 0, 0, 0.5)",
            "line": {
             "color": "rgba(128, 0, 0, 0.5)"
            },
            "type": "circle",
            "x0": 6.8,
            "x1": 7.2,
            "xref": "x",
            "y0": 0.8,
            "y1": 1.2,
            "yref": "y"
           },
           {
            "line": {
             "color": "black",
             "width": 3
            },
            "type": "line",
            "x0": 6.128355600900586,
            "x1": 6.328354935892643,
            "y0": 0.9996987179159759,
            "y1": 1.0002144724455326
           },
           {
            "line": {
             "color": "white",
             "width": 3
            },
            "type": "line",
            "x0": 7,
            "x1": 7.2,
            "y0": 1,
            "y1": 1
           }
          ],
          "title": {
           "text": "<b>Hirai & Tarui, 1975  |  Number of Agents: 2</b>",
           "x": 0.5
          }
         },
         "name": "94"
        },
        {
         "data": [
          {
           "hoverinfo": "name",
           "line": {
            "color": "grey"
           },
           "mode": "lines",
           "name": "Exterior",
           "showlegend": false,
           "type": "scatter",
           "x": {
            "bdata": "AAAAAAAAAAAAAAAAAAAoQAAAAAAAAChAAAAAAAAAJEAAAAAAAAAkQAAAAAAAAAAAAAAAAAAAAAA=",
            "dtype": "f8"
           },
           "y": {
            "bdata": "AAAAAAAAAAAAAAAAAAAAAAAAAAAAAChAAAAAAAAAKEAAAAAAAAAAQAAAAAAAAABAAAAAAAAAAAA=",
            "dtype": "f8"
           }
          },
          {
           "hoverinfo": "text",
           "marker": {
            "opacity": 1,
            "size": 1
           },
           "mode": "markers",
           "showlegend": false,
           "text": [
            "ID: 0, Pos(6.14,1.00)"
           ],
           "type": "scatter",
           "x": [
            6.14123163840761
           ],
           "y": [
            1.0001221859413996
           ]
          },
          {
           "hoverinfo": "text",
           "marker": {
            "opacity": 1,
            "size": 1
           },
           "mode": "markers",
           "showlegend": false,
           "text": [
            "ID: 1, Pos(7.00,1.00)"
           ],
           "type": "scatter",
           "x": [
            7
           ],
           "y": [
            1
           ]
          }
         ],
         "layout": {
          "shapes": [
           {
            "fillcolor": "rgba(0, 212, 255, 0.5)",
            "line": {
             "color": "rgba(0, 212, 255, 0.5)"
            },
            "type": "circle",
            "x0": 5.94123163840761,
            "x1": 6.34123163840761,
            "xref": "x",
            "y0": 0.8001221859413996,
            "y1": 1.2001221859413995,
            "yref": "y"
           },
           {
            "fillcolor": "rgba(128, 0, 0, 0.5)",
            "line": {
             "color": "rgba(128, 0, 0, 0.5)"
            },
            "type": "circle",
            "x0": 6.8,
            "x1": 7.2,
            "xref": "x",
            "y0": 0.8,
            "y1": 1.2,
            "yref": "y"
           },
           {
            "line": {
             "color": "black",
             "width": 3
            },
            "type": "line",
            "x0": 6.14123163840761,
            "x1": 6.341123563555925,
            "y0": 1.0001221859413996,
            "y1": 1.006696245608011
           },
           {
            "line": {
             "color": "white",
             "width": 3
            },
            "type": "line",
            "x0": 7,
            "x1": 7.2,
            "y0": 1,
            "y1": 1
           }
          ],
          "title": {
           "text": "<b>Hirai & Tarui, 1975  |  Number of Agents: 2</b>",
           "x": 0.5
          }
         },
         "name": "95"
        },
        {
         "data": [
          {
           "hoverinfo": "name",
           "line": {
            "color": "grey"
           },
           "mode": "lines",
           "name": "Exterior",
           "showlegend": false,
           "type": "scatter",
           "x": {
            "bdata": "AAAAAAAAAAAAAAAAAAAoQAAAAAAAAChAAAAAAAAAJEAAAAAAAAAkQAAAAAAAAAAAAAAAAAAAAAA=",
            "dtype": "f8"
           },
           "y": {
            "bdata": "AAAAAAAAAAAAAAAAAAAAAAAAAAAAAChAAAAAAAAAKEAAAAAAAAAAQAAAAAAAAABAAAAAAAAAAAA=",
            "dtype": "f8"
           }
          },
          {
           "hoverinfo": "text",
           "marker": {
            "opacity": 1,
            "size": 1
           },
           "mode": "markers",
           "showlegend": false,
           "text": [
            "ID: 0, Pos(6.15,1.00)"
           ],
           "type": "scatter",
           "x": [
            6.154133271148427
           ],
           "y": [
            1.0003318943987403
           ]
          },
          {
           "hoverinfo": "text",
           "marker": {
            "opacity": 1,
            "size": 1
           },
           "mode": "markers",
           "showlegend": false,
           "text": [
            "ID: 1, Pos(7.00,1.00)"
           ],
           "type": "scatter",
           "x": [
            7
           ],
           "y": [
            1
           ]
          }
         ],
         "layout": {
          "shapes": [
           {
            "fillcolor": "rgba(0, 208, 255, 0.5)",
            "line": {
             "color": "rgba(0, 208, 255, 0.5)"
            },
            "type": "circle",
            "x0": 5.954133271148427,
            "x1": 6.354133271148427,
            "xref": "x",
            "y0": 0.8003318943987403,
            "y1": 1.2003318943987402,
            "yref": "y"
           },
           {
            "fillcolor": "rgba(128, 0, 0, 0.5)",
            "line": {
             "color": "rgba(128, 0, 0, 0.5)"
            },
            "type": "circle",
            "x0": 6.8,
            "x1": 7.2,
            "xref": "x",
            "y0": 0.8,
            "y1": 1.2,
            "yref": "y"
           },
           {
            "line": {
             "color": "black",
             "width": 3
            },
            "type": "line",
            "x0": 6.154133271148427,
            "x1": 6.354106855790855,
            "y0": 1.0003318943987403,
            "y1": 1.0035823474837673
           },
           {
            "line": {
             "color": "white",
             "width": 3
            },
            "type": "line",
            "x0": 7,
            "x1": 7.2,
            "y0": 1,
            "y1": 1
           }
          ],
          "title": {
           "text": "<b>Hirai & Tarui, 1975  |  Number of Agents: 2</b>",
           "x": 0.5
          }
         },
         "name": "96"
        },
        {
         "data": [
          {
           "hoverinfo": "name",
           "line": {
            "color": "grey"
           },
           "mode": "lines",
           "name": "Exterior",
           "showlegend": false,
           "type": "scatter",
           "x": {
            "bdata": "AAAAAAAAAAAAAAAAAAAoQAAAAAAAAChAAAAAAAAAJEAAAAAAAAAkQAAAAAAAAAAAAAAAAAAAAAA=",
            "dtype": "f8"
           },
           "y": {
            "bdata": "AAAAAAAAAAAAAAAAAAAAAAAAAAAAAChAAAAAAAAAKEAAAAAAAAAAQAAAAAAAAABAAAAAAAAAAAA=",
            "dtype": "f8"
           }
          },
          {
           "hoverinfo": "text",
           "marker": {
            "opacity": 1,
            "size": 1
           },
           "mode": "markers",
           "showlegend": false,
           "text": [
            "ID: 0, Pos(6.17,1.00)"
           ],
           "type": "scatter",
           "x": [
            6.167061880234817
           ],
           "y": [
            1.0003301881124682
           ]
          },
          {
           "hoverinfo": "text",
           "marker": {
            "opacity": 1,
            "size": 1
           },
           "mode": "markers",
           "showlegend": false,
           "text": [
            "ID: 1, Pos(7.00,1.00)"
           ],
           "type": "scatter",
           "x": [
            7
           ],
           "y": [
            1
           ]
          }
         ],
         "layout": {
          "shapes": [
           {
            "fillcolor": "rgba(0, 208, 255, 0.5)",
            "line": {
             "color": "rgba(0, 208, 255, 0.5)"
            },
            "type": "circle",
            "x0": 5.967061880234817,
            "x1": 6.367061880234817,
            "xref": "x",
            "y0": 0.8003301881124683,
            "y1": 1.2003301881124682,
            "yref": "y"
           },
           {
            "fillcolor": "rgba(128, 0, 0, 0.5)",
            "line": {
             "color": "rgba(128, 0, 0, 0.5)"
            },
            "type": "circle",
            "x0": 6.8,
            "x1": 7.2,
            "xref": "x",
            "y0": 0.8,
            "y1": 1.2,
            "yref": "y"
           },
           {
            "line": {
             "color": "black",
             "width": 3
            },
            "type": "line",
            "x0": 6.167061880234817,
            "x1": 6.3670618784930095,
            "y0": 1.0003301881124682,
            "y1": 1.0003037926008418
           },
           {
            "line": {
             "color": "white",
             "width": 3
            },
            "type": "line",
            "x0": 7,
            "x1": 7.2,
            "y0": 1,
            "y1": 1
           }
          ],
          "title": {
           "text": "<b>Hirai & Tarui, 1975  |  Number of Agents: 2</b>",
           "x": 0.5
          }
         },
         "name": "97"
        },
        {
         "data": [
          {
           "hoverinfo": "name",
           "line": {
            "color": "grey"
           },
           "mode": "lines",
           "name": "Exterior",
           "showlegend": false,
           "type": "scatter",
           "x": {
            "bdata": "AAAAAAAAAAAAAAAAAAAoQAAAAAAAAChAAAAAAAAAJEAAAAAAAAAkQAAAAAAAAAAAAAAAAAAAAAA=",
            "dtype": "f8"
           },
           "y": {
            "bdata": "AAAAAAAAAAAAAAAAAAAAAAAAAAAAAChAAAAAAAAAKEAAAAAAAAAAQAAAAAAAAABAAAAAAAAAAAA=",
            "dtype": "f8"
           }
          },
          {
           "hoverinfo": "text",
           "marker": {
            "opacity": 1,
            "size": 1
           },
           "mode": "markers",
           "showlegend": false,
           "text": [
            "ID: 0, Pos(6.18,1.00)"
           ],
           "type": "scatter",
           "x": [
            6.1800187890405995
           ],
           "y": [
            1.000119374069072
           ]
          },
          {
           "hoverinfo": "text",
           "marker": {
            "opacity": 1,
            "size": 1
           },
           "mode": "markers",
           "showlegend": false,
           "text": [
            "ID: 1, Pos(7.00,1.00)"
           ],
           "type": "scatter",
           "x": [
            7
           ],
           "y": [
            1
           ]
          }
         ],
         "layout": {
          "shapes": [
           {
            "fillcolor": "rgba(0, 208, 255, 0.5)",
            "line": {
             "color": "rgba(0, 208, 255, 0.5)"
            },
            "type": "circle",
            "x0": 5.980018789040599,
            "x1": 6.3800187890406,
            "xref": "x",
            "y0": 0.800119374069072,
            "y1": 1.2001193740690719,
            "yref": "y"
           },
           {
            "fillcolor": "rgba(128, 0, 0, 0.5)",
            "line": {
             "color": "rgba(128, 0, 0, 0.5)"
            },
            "type": "circle",
            "x0": 6.8,
            "x1": 7.2,
            "xref": "x",
            "y0": 0.8,
            "y1": 1.2,
            "yref": "y"
           },
           {
            "line": {
             "color": "black",
             "width": 3
            },
            "type": "line",
            "x0": 6.1800187890405995,
            "x1": 6.379992321715267,
            "y0": 1.000119374069072,
            "y1": 0.996865725407395
           },
           {
            "line": {
             "color": "white",
             "width": 3
            },
            "type": "line",
            "x0": 7,
            "x1": 7.2,
            "y0": 1,
            "y1": 1
           }
          ],
          "title": {
           "text": "<b>Hirai & Tarui, 1975  |  Number of Agents: 2</b>",
           "x": 0.5
          }
         },
         "name": "98"
        },
        {
         "data": [
          {
           "hoverinfo": "name",
           "line": {
            "color": "grey"
           },
           "mode": "lines",
           "name": "Exterior",
           "showlegend": false,
           "type": "scatter",
           "x": {
            "bdata": "AAAAAAAAAAAAAAAAAAAoQAAAAAAAAChAAAAAAAAAJEAAAAAAAAAkQAAAAAAAAAAAAAAAAAAAAAA=",
            "dtype": "f8"
           },
           "y": {
            "bdata": "AAAAAAAAAAAAAAAAAAAAAAAAAAAAAChAAAAAAAAAKEAAAAAAAAAAQAAAAAAAAABAAAAAAAAAAAA=",
            "dtype": "f8"
           }
          },
          {
           "hoverinfo": "text",
           "marker": {
            "opacity": 1,
            "size": 1
           },
           "mode": "markers",
           "showlegend": false,
           "text": [
            "ID: 0, Pos(6.19,1.00)"
           ],
           "type": "scatter",
           "x": [
            6.1930052659751045
           ],
           "y": [
            0.9997017184364417
           ]
          },
          {
           "hoverinfo": "text",
           "marker": {
            "opacity": 1,
            "size": 1
           },
           "mode": "markers",
           "showlegend": false,
           "text": [
            "ID: 1, Pos(7.00,1.00)"
           ],
           "type": "scatter",
           "x": [
            7
           ],
           "y": [
            1
           ]
          }
         ],
         "layout": {
          "shapes": [
           {
            "fillcolor": "rgba(0, 204, 255, 0.5)",
            "line": {
             "color": "rgba(0, 204, 255, 0.5)"
            },
            "type": "circle",
            "x0": 5.993005265975104,
            "x1": 6.393005265975105,
            "xref": "x",
            "y0": 0.7997017184364417,
            "y1": 1.1997017184364418,
            "yref": "y"
           },
           {
            "fillcolor": "rgba(128, 0, 0, 0.5)",
            "line": {
             "color": "rgba(128, 0, 0, 0.5)"
            },
            "type": "circle",
            "x0": 6.8,
            "x1": 7.2,
            "xref": "x",
            "y0": 0.8,
            "y1": 1.2,
            "yref": "y"
           },
           {
            "line": {
             "color": "black",
             "width": 3
            },
            "type": "line",
            "x0": 6.1930052659751045,
            "x1": 6.392901914364406,
            "y0": 0.9997017184364417,
            "y1": 0.9932728800713686
           },
           {
            "line": {
             "color": "white",
             "width": 3
            },
            "type": "line",
            "x0": 7,
            "x1": 7.2,
            "y0": 1,
            "y1": 1
           }
          ],
          "title": {
           "text": "<b>Hirai & Tarui, 1975  |  Number of Agents: 2</b>",
           "x": 0.5
          }
         },
         "name": "99"
        },
        {
         "data": [
          {
           "hoverinfo": "name",
           "line": {
            "color": "grey"
           },
           "mode": "lines",
           "name": "Exterior",
           "showlegend": false,
           "type": "scatter",
           "x": {
            "bdata": "AAAAAAAAAAAAAAAAAAAoQAAAAAAAAChAAAAAAAAAJEAAAAAAAAAkQAAAAAAAAAAAAAAAAAAAAAA=",
            "dtype": "f8"
           },
           "y": {
            "bdata": "AAAAAAAAAAAAAAAAAAAAAAAAAAAAAChAAAAAAAAAKEAAAAAAAAAAQAAAAAAAAABAAAAAAAAAAAA=",
            "dtype": "f8"
           }
          },
          {
           "hoverinfo": "text",
           "marker": {
            "opacity": 1,
            "size": 1
           },
           "mode": "markers",
           "showlegend": false,
           "text": [
            "ID: 0, Pos(6.21,1.00)"
           ],
           "type": "scatter",
           "x": [
            6.206022527239173
           ],
           "y": [
            0.9996794574970648
           ]
          },
          {
           "hoverinfo": "text",
           "marker": {
            "opacity": 1,
            "size": 1
           },
           "mode": "markers",
           "showlegend": false,
           "text": [
            "ID: 1, Pos(7.00,1.00)"
           ],
           "type": "scatter",
           "x": [
            7
           ],
           "y": [
            1
           ]
          }
         ],
         "layout": {
          "shapes": [
           {
            "fillcolor": "rgba(0, 204, 255, 0.5)",
            "line": {
             "color": "rgba(0, 204, 255, 0.5)"
            },
            "type": "circle",
            "x0": 6.006022527239173,
            "x1": 6.406022527239173,
            "xref": "x",
            "y0": 0.7996794574970647,
            "y1": 1.1996794574970648,
            "yref": "y"
           },
           {
            "fillcolor": "rgba(128, 0, 0, 0.5)",
            "line": {
             "color": "rgba(128, 0, 0, 0.5)"
            },
            "type": "circle",
            "x0": 6.8,
            "x1": 7.2,
            "xref": "x",
            "y0": 0.8,
            "y1": 1.2,
            "yref": "y"
           },
           {
            "line": {
             "color": "black",
             "width": 3
            },
            "type": "line",
            "x0": 6.206022527239173,
            "x1": 6.406022234792437,
            "y0": 0.9996794574970648,
            "y1": 0.9993374361398113
           },
           {
            "line": {
             "color": "white",
             "width": 3
            },
            "type": "line",
            "x0": 7,
            "x1": 7.2,
            "y0": 1,
            "y1": 1
           }
          ],
          "title": {
           "text": "<b>Hirai & Tarui, 1975  |  Number of Agents: 2</b>",
           "x": 0.5
          }
         },
         "name": "100"
        },
        {
         "data": [
          {
           "hoverinfo": "name",
           "line": {
            "color": "grey"
           },
           "mode": "lines",
           "name": "Exterior",
           "showlegend": false,
           "type": "scatter",
           "x": {
            "bdata": "AAAAAAAAAAAAAAAAAAAoQAAAAAAAAChAAAAAAAAAJEAAAAAAAAAkQAAAAAAAAAAAAAAAAAAAAAA=",
            "dtype": "f8"
           },
           "y": {
            "bdata": "AAAAAAAAAAAAAAAAAAAAAAAAAAAAAChAAAAAAAAAKEAAAAAAAAAAQAAAAAAAAABAAAAAAAAAAAA=",
            "dtype": "f8"
           }
          },
          {
           "hoverinfo": "text",
           "marker": {
            "opacity": 1,
            "size": 1
           },
           "mode": "markers",
           "showlegend": false,
           "text": [
            "ID: 0, Pos(6.22,1.00)"
           ],
           "type": "scatter",
           "x": [
            6.219071878242153
           ],
           "y": [
            1.000048371433977
           ]
          },
          {
           "hoverinfo": "text",
           "marker": {
            "opacity": 1,
            "size": 1
           },
           "mode": "markers",
           "showlegend": false,
           "text": [
            "ID: 1, Pos(7.00,1.00)"
           ],
           "type": "scatter",
           "x": [
            7
           ],
           "y": [
            1
           ]
          }
         ],
         "layout": {
          "shapes": [
           {
            "fillcolor": "rgba(0, 200, 255, 0.5)",
            "line": {
             "color": "rgba(0, 200, 255, 0.5)"
            },
            "type": "circle",
            "x0": 6.019071878242153,
            "x1": 6.419071878242153,
            "xref": "x",
            "y0": 0.800048371433977,
            "y1": 1.200048371433977,
            "yref": "y"
           },
           {
            "fillcolor": "rgba(128, 0, 0, 0.5)",
            "line": {
             "color": "rgba(128, 0, 0, 0.5)"
            },
            "type": "circle",
            "x0": 6.8,
            "x1": 7.2,
            "xref": "x",
            "y0": 0.8,
            "y1": 1.2,
            "yref": "y"
           },
           {
            "line": {
             "color": "black",
             "width": 3
            },
            "type": "line",
            "x0": 6.219071878242153,
            "x1": 6.418992003022041,
            "y0": 1.000048371433977,
            "y1": 1.0057002479360093
           },
           {
            "line": {
             "color": "white",
             "width": 3
            },
            "type": "line",
            "x0": 7,
            "x1": 7.2,
            "y0": 1,
            "y1": 1
           }
          ],
          "title": {
           "text": "<b>Hirai & Tarui, 1975  |  Number of Agents: 2</b>",
           "x": 0.5
          }
         },
         "name": "101"
        },
        {
         "data": [
          {
           "hoverinfo": "name",
           "line": {
            "color": "grey"
           },
           "mode": "lines",
           "name": "Exterior",
           "showlegend": false,
           "type": "scatter",
           "x": {
            "bdata": "AAAAAAAAAAAAAAAAAAAoQAAAAAAAAChAAAAAAAAAJEAAAAAAAAAkQAAAAAAAAAAAAAAAAAAAAAA=",
            "dtype": "f8"
           },
           "y": {
            "bdata": "AAAAAAAAAAAAAAAAAAAAAAAAAAAAAChAAAAAAAAAKEAAAAAAAAAAQAAAAAAAAABAAAAAAAAAAAA=",
            "dtype": "f8"
           }
          },
          {
           "hoverinfo": "text",
           "marker": {
            "opacity": 1,
            "size": 1
           },
           "mode": "markers",
           "showlegend": false,
           "text": [
            "ID: 0, Pos(6.23,1.00)"
           ],
           "type": "scatter",
           "x": [
            6.232154494435658
           ],
           "y": [
            1.0002043122200444
           ]
          },
          {
           "hoverinfo": "text",
           "marker": {
            "opacity": 1,
            "size": 1
           },
           "mode": "markers",
           "showlegend": false,
           "text": [
            "ID: 1, Pos(7.00,1.00)"
           ],
           "type": "scatter",
           "x": [
            7
           ],
           "y": [
            1
           ]
          }
         ],
         "layout": {
          "shapes": [
           {
            "fillcolor": "rgba(0, 200, 255, 0.5)",
            "line": {
             "color": "rgba(0, 200, 255, 0.5)"
            },
            "type": "circle",
            "x0": 6.032154494435658,
            "x1": 6.432154494435658,
            "xref": "x",
            "y0": 0.8002043122200444,
            "y1": 1.2002043122200443,
            "yref": "y"
           },
           {
            "fillcolor": "rgba(128, 0, 0, 0.5)",
            "line": {
             "color": "rgba(128, 0, 0, 0.5)"
            },
            "type": "circle",
            "x0": 6.8,
            "x1": 7.2,
            "xref": "x",
            "y0": 0.8,
            "y1": 1.2,
            "yref": "y"
           },
           {
            "line": {
             "color": "black",
             "width": 3
            },
            "type": "line",
            "x0": 6.232154494435658,
            "x1": 6.4321402880381715,
            "y0": 1.0002043122200444,
            "y1": 1.0025880817501924
           },
           {
            "line": {
             "color": "white",
             "width": 3
            },
            "type": "line",
            "x0": 7,
            "x1": 7.2,
            "y0": 1,
            "y1": 1
           }
          ],
          "title": {
           "text": "<b>Hirai & Tarui, 1975  |  Number of Agents: 2</b>",
           "x": 0.5
          }
         },
         "name": "102"
        },
        {
         "data": [
          {
           "hoverinfo": "name",
           "line": {
            "color": "grey"
           },
           "mode": "lines",
           "name": "Exterior",
           "showlegend": false,
           "type": "scatter",
           "x": {
            "bdata": "AAAAAAAAAAAAAAAAAAAoQAAAAAAAAChAAAAAAAAAJEAAAAAAAAAkQAAAAAAAAAAAAAAAAAAAAAA=",
            "dtype": "f8"
           },
           "y": {
            "bdata": "AAAAAAAAAAAAAAAAAAAAAAAAAAAAAChAAAAAAAAAKEAAAAAAAAAAQAAAAAAAAABAAAAAAAAAAAA=",
            "dtype": "f8"
           }
          },
          {
           "hoverinfo": "text",
           "marker": {
            "opacity": 1,
            "size": 1
           },
           "mode": "markers",
           "showlegend": false,
           "text": [
            "ID: 0, Pos(6.25,1.00)"
           ],
           "type": "scatter",
           "x": [
            6.245271618827865
           ],
           "y": [
            1.0001496360841353
           ]
          },
          {
           "hoverinfo": "text",
           "marker": {
            "opacity": 1,
            "size": 1
           },
           "mode": "markers",
           "showlegend": false,
           "text": [
            "ID: 1, Pos(7.00,1.00)"
           ],
           "type": "scatter",
           "x": [
            7
           ],
           "y": [
            1
           ]
          }
         ],
         "layout": {
          "shapes": [
           {
            "fillcolor": "rgba(0, 200, 255, 0.5)",
            "line": {
             "color": "rgba(0, 200, 255, 0.5)"
            },
            "type": "circle",
            "x0": 6.045271618827865,
            "x1": 6.445271618827865,
            "xref": "x",
            "y0": 0.8001496360841354,
            "y1": 1.2001496360841353,
            "yref": "y"
           },
           {
            "fillcolor": "rgba(128, 0, 0, 0.5)",
            "line": {
             "color": "rgba(128, 0, 0, 0.5)"
            },
            "type": "circle",
            "x0": 6.8,
            "x1": 7.2,
            "xref": "x",
            "y0": 0.8,
            "y1": 1.2,
            "yref": "y"
           },
           {
            "line": {
             "color": "black",
             "width": 3
            },
            "type": "line",
            "x0": 6.245271618827865,
            "x1": 6.445269881376345,
            "y0": 1.0001496360841353,
            "y1": 0.9993159829252783
           },
           {
            "line": {
             "color": "white",
             "width": 3
            },
            "type": "line",
            "x0": 7,
            "x1": 7.2,
            "y0": 1,
            "y1": 1
           }
          ],
          "title": {
           "text": "<b>Hirai & Tarui, 1975  |  Number of Agents: 2</b>",
           "x": 0.5
          }
         },
         "name": "103"
        },
        {
         "data": [
          {
           "hoverinfo": "name",
           "line": {
            "color": "grey"
           },
           "mode": "lines",
           "name": "Exterior",
           "showlegend": false,
           "type": "scatter",
           "x": {
            "bdata": "AAAAAAAAAAAAAAAAAAAoQAAAAAAAAChAAAAAAAAAJEAAAAAAAAAkQAAAAAAAAAAAAAAAAAAAAAA=",
            "dtype": "f8"
           },
           "y": {
            "bdata": "AAAAAAAAAAAAAAAAAAAAAAAAAAAAAChAAAAAAAAAKEAAAAAAAAAAQAAAAAAAAABAAAAAAAAAAAA=",
            "dtype": "f8"
           }
          },
          {
           "hoverinfo": "text",
           "marker": {
            "opacity": 1,
            "size": 1
           },
           "mode": "markers",
           "showlegend": false,
           "text": [
            "ID: 0, Pos(6.26,1.00)"
           ],
           "type": "scatter",
           "x": [
            6.258424441756815
           ],
           "y": [
            0.9998866633671569
           ]
          },
          {
           "hoverinfo": "text",
           "marker": {
            "opacity": 1,
            "size": 1
           },
           "mode": "markers",
           "showlegend": false,
           "text": [
            "ID: 1, Pos(7.00,1.00)"
           ],
           "type": "scatter",
           "x": [
            7
           ],
           "y": [
            1
           ]
          }
         ],
         "layout": {
          "shapes": [
           {
            "fillcolor": "rgba(0, 196, 255, 0.5)",
            "line": {
             "color": "rgba(0, 196, 255, 0.5)"
            },
            "type": "circle",
            "x0": 6.058424441756815,
            "x1": 6.458424441756815,
            "xref": "x",
            "y0": 0.7998866633671569,
            "y1": 1.199886663367157,
            "yref": "y"
           },
           {
            "fillcolor": "rgba(128, 0, 0, 0.5)",
            "line": {
             "color": "rgba(128, 0, 0, 0.5)"
            },
            "type": "circle",
            "x0": 6.8,
            "x1": 7.2,
            "xref": "x",
            "y0": 0.8,
            "y1": 1.2,
            "yref": "y"
           },
           {
            "line": {
             "color": "black",
             "width": 3
            },
            "type": "line",
            "x0": 6.258424441756815,
            "x1": 6.4583844792007605,
            "y0": 0.9998866633671569,
            "y1": 0.9958887357270002
           },
           {
            "line": {
             "color": "white",
             "width": 3
            },
            "type": "line",
            "x0": 7,
            "x1": 7.2,
            "y0": 1,
            "y1": 1
           }
          ],
          "title": {
           "text": "<b>Hirai & Tarui, 1975  |  Number of Agents: 2</b>",
           "x": 0.5
          }
         },
         "name": "104"
        },
        {
         "data": [
          {
           "hoverinfo": "name",
           "line": {
            "color": "grey"
           },
           "mode": "lines",
           "name": "Exterior",
           "showlegend": false,
           "type": "scatter",
           "x": {
            "bdata": "AAAAAAAAAAAAAAAAAAAoQAAAAAAAAChAAAAAAAAAJEAAAAAAAAAkQAAAAAAAAAAAAAAAAAAAAAA=",
            "dtype": "f8"
           },
           "y": {
            "bdata": "AAAAAAAAAAAAAAAAAAAAAAAAAAAAAChAAAAAAAAAKEAAAAAAAAAAQAAAAAAAAABAAAAAAAAAAAA=",
            "dtype": "f8"
           }
          },
          {
           "hoverinfo": "text",
           "marker": {
            "opacity": 1,
            "size": 1
           },
           "mode": "markers",
           "showlegend": false,
           "text": [
            "ID: 0, Pos(6.27,1.00)"
           ],
           "type": "scatter",
           "x": [
            6.271614103623691
           ],
           "y": [
            1.0000176797687101
           ]
          },
          {
           "hoverinfo": "text",
           "marker": {
            "opacity": 1,
            "size": 1
           },
           "mode": "markers",
           "showlegend": false,
           "text": [
            "ID: 1, Pos(7.00,1.00)"
           ],
           "type": "scatter",
           "x": [
            7
           ],
           "y": [
            1
           ]
          }
         ],
         "layout": {
          "shapes": [
           {
            "fillcolor": "rgba(0, 196, 255, 0.5)",
            "line": {
             "color": "rgba(0, 196, 255, 0.5)"
            },
            "type": "circle",
            "x0": 6.071614103623691,
            "x1": 6.471614103623692,
            "xref": "x",
            "y0": 0.8000176797687102,
            "y1": 1.20001767976871,
            "yref": "y"
           },
           {
            "fillcolor": "rgba(128, 0, 0, 0.5)",
            "line": {
             "color": "rgba(128, 0, 0, 0.5)"
            },
            "type": "circle",
            "x0": 6.8,
            "x1": 7.2,
            "xref": "x",
            "y0": 0.8,
            "y1": 1.2,
            "yref": "y"
           },
           {
            "line": {
             "color": "black",
             "width": 3
            },
            "type": "line",
            "x0": 6.271614103623691,
            "x1": 6.471604237379212,
            "y0": 1.0000176797687101,
            "y1": 1.0020042346884082
           },
           {
            "line": {
             "color": "white",
             "width": 3
            },
            "type": "line",
            "x0": 7,
            "x1": 7.2,
            "y0": 1,
            "y1": 1
           }
          ],
          "title": {
           "text": "<b>Hirai & Tarui, 1975  |  Number of Agents: 2</b>",
           "x": 0.5
          }
         },
         "name": "105"
        },
        {
         "data": [
          {
           "hoverinfo": "name",
           "line": {
            "color": "grey"
           },
           "mode": "lines",
           "name": "Exterior",
           "showlegend": false,
           "type": "scatter",
           "x": {
            "bdata": "AAAAAAAAAAAAAAAAAAAoQAAAAAAAAChAAAAAAAAAJEAAAAAAAAAkQAAAAAAAAAAAAAAAAAAAAAA=",
            "dtype": "f8"
           },
           "y": {
            "bdata": "AAAAAAAAAAAAAAAAAAAAAAAAAAAAAChAAAAAAAAAKEAAAAAAAAAAQAAAAAAAAABAAAAAAAAAAAA=",
            "dtype": "f8"
           }
          },
          {
           "hoverinfo": "text",
           "marker": {
            "opacity": 1,
            "size": 1
           },
           "mode": "markers",
           "showlegend": false,
           "text": [
            "ID: 0, Pos(6.28,1.00)"
           ],
           "type": "scatter",
           "x": [
            6.284841769424184
           ],
           "y": [
            0.9999384505209802
           ]
          },
          {
           "hoverinfo": "text",
           "marker": {
            "opacity": 1,
            "size": 1
           },
           "mode": "markers",
           "showlegend": false,
           "text": [
            "ID: 1, Pos(7.00,1.00)"
           ],
           "type": "scatter",
           "x": [
            7
           ],
           "y": [
            1
           ]
          }
         ],
         "layout": {
          "shapes": [
           {
            "fillcolor": "rgba(0, 192, 255, 0.5)",
            "line": {
             "color": "rgba(0, 192, 255, 0.5)"
            },
            "type": "circle",
            "x0": 6.084841769424184,
            "x1": 6.484841769424184,
            "xref": "x",
            "y0": 0.7999384505209801,
            "y1": 1.1999384505209802,
            "yref": "y"
           },
           {
            "fillcolor": "rgba(128, 0, 0, 0.5)",
            "line": {
             "color": "rgba(128, 0, 0, 0.5)"
            },
            "type": "circle",
            "x0": 6.8,
            "x1": 7.2,
            "xref": "x",
            "y0": 0.8,
            "y1": 1.2,
            "yref": "y"
           },
           {
            "line": {
             "color": "black",
             "width": 3
            },
            "type": "line",
            "x0": 6.284841769424184,
            "x1": 6.484838181915577,
            "y0": 0.9999384505209802,
            "y1": 0.9987405396008394
           },
           {
            "line": {
             "color": "white",
             "width": 3
            },
            "type": "line",
            "x0": 7,
            "x1": 7.2,
            "y0": 1,
            "y1": 1
           }
          ],
          "title": {
           "text": "<b>Hirai & Tarui, 1975  |  Number of Agents: 2</b>",
           "x": 0.5
          }
         },
         "name": "106"
        },
        {
         "data": [
          {
           "hoverinfo": "name",
           "line": {
            "color": "grey"
           },
           "mode": "lines",
           "name": "Exterior",
           "showlegend": false,
           "type": "scatter",
           "x": {
            "bdata": "AAAAAAAAAAAAAAAAAAAoQAAAAAAAAChAAAAAAAAAJEAAAAAAAAAkQAAAAAAAAAAAAAAAAAAAAAA=",
            "dtype": "f8"
           },
           "y": {
            "bdata": "AAAAAAAAAAAAAAAAAAAAAAAAAAAAAChAAAAAAAAAKEAAAAAAAAAAQAAAAAAAAABAAAAAAAAAAAA=",
            "dtype": "f8"
           }
          },
          {
           "hoverinfo": "text",
           "marker": {
            "opacity": 1,
            "size": 1
           },
           "mode": "markers",
           "showlegend": false,
           "text": [
            "ID: 0, Pos(6.30,1.00)"
           ],
           "type": "scatter",
           "x": [
            6.2981085711704425
           ],
           "y": [
            1.0002513056085645
           ]
          },
          {
           "hoverinfo": "text",
           "marker": {
            "opacity": 1,
            "size": 1
           },
           "mode": "markers",
           "showlegend": false,
           "text": [
            "ID: 1, Pos(7.00,1.00)"
           ],
           "type": "scatter",
           "x": [
            7
           ],
           "y": [
            1
           ]
          }
         ],
         "layout": {
          "shapes": [
           {
            "fillcolor": "rgba(0, 192, 255, 0.5)",
            "line": {
             "color": "rgba(0, 192, 255, 0.5)"
            },
            "type": "circle",
            "x0": 6.098108571170442,
            "x1": 6.498108571170443,
            "xref": "x",
            "y0": 0.8002513056085645,
            "y1": 1.2002513056085644,
            "yref": "y"
           },
           {
            "fillcolor": "rgba(128, 0, 0, 0.5)",
            "line": {
             "color": "rgba(128, 0, 0, 0.5)"
            },
            "type": "circle",
            "x0": 6.8,
            "x1": 7.2,
            "xref": "x",
            "y0": 0.8,
            "y1": 1.2,
            "yref": "y"
           },
           {
            "line": {
             "color": "black",
             "width": 3
            },
            "type": "line",
            "x0": 6.2981085711704425,
            "x1": 6.4980529842163515,
            "y0": 1.0002513056085645,
            "y1": 1.0049663551021686
           },
           {
            "line": {
             "color": "white",
             "width": 3
            },
            "type": "line",
            "x0": 7,
            "x1": 7.2,
            "y0": 1,
            "y1": 1
           }
          ],
          "title": {
           "text": "<b>Hirai & Tarui, 1975  |  Number of Agents: 2</b>",
           "x": 0.5
          }
         },
         "name": "107"
        },
        {
         "data": [
          {
           "hoverinfo": "name",
           "line": {
            "color": "grey"
           },
           "mode": "lines",
           "name": "Exterior",
           "showlegend": false,
           "type": "scatter",
           "x": {
            "bdata": "AAAAAAAAAAAAAAAAAAAoQAAAAAAAAChAAAAAAAAAJEAAAAAAAAAkQAAAAAAAAAAAAAAAAAAAAAA=",
            "dtype": "f8"
           },
           "y": {
            "bdata": "AAAAAAAAAAAAAAAAAAAAAAAAAAAAAChAAAAAAAAAKEAAAAAAAAAAQAAAAAAAAABAAAAAAAAAAAA=",
            "dtype": "f8"
           }
          },
          {
           "hoverinfo": "text",
           "marker": {
            "opacity": 1,
            "size": 1
           },
           "mode": "markers",
           "showlegend": false,
           "text": [
            "ID: 0, Pos(6.31,1.00)"
           ],
           "type": "scatter",
           "x": [
            6.311415589988455
           ],
           "y": [
            1.0003520200626121
           ]
          },
          {
           "hoverinfo": "text",
           "marker": {
            "opacity": 1,
            "size": 1
           },
           "mode": "markers",
           "showlegend": false,
           "text": [
            "ID: 1, Pos(7.00,1.00)"
           ],
           "type": "scatter",
           "x": [
            7
           ],
           "y": [
            1
           ]
          }
         ],
         "layout": {
          "shapes": [
           {
            "fillcolor": "rgba(0, 188, 255, 0.5)",
            "line": {
             "color": "rgba(0, 188, 255, 0.5)"
            },
            "type": "circle",
            "x0": 6.111415589988455,
            "x1": 6.511415589988455,
            "xref": "x",
            "y0": 0.8003520200626122,
            "y1": 1.200352020062612,
            "yref": "y"
           },
           {
            "fillcolor": "rgba(128, 0, 0, 0.5)",
            "line": {
             "color": "rgba(128, 0, 0, 0.5)"
            },
            "type": "circle",
            "x0": 6.8,
            "x1": 7.2,
            "xref": "x",
            "y0": 0.8,
            "y1": 1.2,
            "yref": "y"
           },
           {
            "line": {
             "color": "black",
             "width": 3
            },
            "type": "line",
            "x0": 6.311415589988455,
            "x1": 6.511409861983222,
            "y0": 1.0003520200626121,
            "y1": 1.0018656809503035
           },
           {
            "line": {
             "color": "white",
             "width": 3
            },
            "type": "line",
            "x0": 7,
            "x1": 7.2,
            "y0": 1,
            "y1": 1
           }
          ],
          "title": {
           "text": "<b>Hirai & Tarui, 1975  |  Number of Agents: 2</b>",
           "x": 0.5
          }
         },
         "name": "108"
        },
        {
         "data": [
          {
           "hoverinfo": "name",
           "line": {
            "color": "grey"
           },
           "mode": "lines",
           "name": "Exterior",
           "showlegend": false,
           "type": "scatter",
           "x": {
            "bdata": "AAAAAAAAAAAAAAAAAAAoQAAAAAAAAChAAAAAAAAAJEAAAAAAAAAkQAAAAAAAAAAAAAAAAAAAAAA=",
            "dtype": "f8"
           },
           "y": {
            "bdata": "AAAAAAAAAAAAAAAAAAAAAAAAAAAAAChAAAAAAAAAKEAAAAAAAAAAQAAAAAAAAABAAAAAAAAAAAA=",
            "dtype": "f8"
           }
          },
          {
           "hoverinfo": "text",
           "marker": {
            "opacity": 1,
            "size": 1
           },
           "mode": "markers",
           "showlegend": false,
           "text": [
            "ID: 0, Pos(6.32,1.00)"
           ],
           "type": "scatter",
           "x": [
            6.324763951411875
           ],
           "y": [
            1.000242969593994
           ]
          },
          {
           "hoverinfo": "text",
           "marker": {
            "opacity": 1,
            "size": 1
           },
           "mode": "markers",
           "showlegend": false,
           "text": [
            "ID: 1, Pos(7.00,1.00)"
           ],
           "type": "scatter",
           "x": [
            7
           ],
           "y": [
            1
           ]
          }
         ],
         "layout": {
          "shapes": [
           {
            "fillcolor": "rgba(0, 184, 255, 0.5)",
            "line": {
             "color": "rgba(0, 184, 255, 0.5)"
            },
            "type": "circle",
            "x0": 6.124763951411875,
            "x1": 6.524763951411876,
            "xref": "x",
            "y0": 0.8002429695939941,
            "y1": 1.200242969593994,
            "yref": "y"
           },
           {
            "fillcolor": "rgba(128, 0, 0, 0.5)",
            "line": {
             "color": "rgba(128, 0, 0, 0.5)"
            },
            "type": "circle",
            "x0": 6.8,
            "x1": 7.2,
            "xref": "x",
            "y0": 0.8,
            "y1": 1.2,
            "yref": "y"
           },
           {
            "line": {
             "color": "black",
             "width": 3
            },
            "type": "line",
            "x0": 6.324763951411875,
            "x1": 6.524757277546845,
            "y0": 1.000242969593994,
            "y1": 0.9986091086845003
           },
           {
            "line": {
             "color": "white",
             "width": 3
            },
            "type": "line",
            "x0": 7,
            "x1": 7.2,
            "y0": 1,
            "y1": 1
           }
          ],
          "title": {
           "text": "<b>Hirai & Tarui, 1975  |  Number of Agents: 2</b>",
           "x": 0.5
          }
         },
         "name": "109"
        },
        {
         "data": [
          {
           "hoverinfo": "name",
           "line": {
            "color": "grey"
           },
           "mode": "lines",
           "name": "Exterior",
           "showlegend": false,
           "type": "scatter",
           "x": {
            "bdata": "AAAAAAAAAAAAAAAAAAAoQAAAAAAAAChAAAAAAAAAJEAAAAAAAAAkQAAAAAAAAAAAAAAAAAAAAAA=",
            "dtype": "f8"
           },
           "y": {
            "bdata": "AAAAAAAAAAAAAAAAAAAAAAAAAAAAAChAAAAAAAAAKEAAAAAAAAAAQAAAAAAAAABAAAAAAAAAAAA=",
            "dtype": "f8"
           }
          },
          {
           "hoverinfo": "text",
           "marker": {
            "opacity": 1,
            "size": 1
           },
           "mode": "markers",
           "showlegend": false,
           "text": [
            "ID: 0, Pos(6.34,1.00)"
           ],
           "type": "scatter",
           "x": [
            6.338154733073091
           ],
           "y": [
            0.9999264952271985
           ]
          },
          {
           "hoverinfo": "text",
           "marker": {
            "opacity": 1,
            "size": 1
           },
           "mode": "markers",
           "showlegend": false,
           "text": [
            "ID: 1, Pos(7.00,1.00)"
           ],
           "type": "scatter",
           "x": [
            7
           ],
           "y": [
            1
           ]
          }
         ],
         "layout": {
          "shapes": [
           {
            "fillcolor": "rgba(0, 184, 255, 0.5)",
            "line": {
             "color": "rgba(0, 184, 255, 0.5)"
            },
            "type": "circle",
            "x0": 6.138154733073091,
            "x1": 6.538154733073092,
            "xref": "x",
            "y0": 0.7999264952271985,
            "y1": 1.1999264952271984,
            "yref": "y"
           },
           {
            "fillcolor": "rgba(128, 0, 0, 0.5)",
            "line": {
             "color": "rgba(128, 0, 0, 0.5)"
            },
            "type": "circle",
            "x0": 6.8,
            "x1": 7.2,
            "xref": "x",
            "y0": 0.8,
            "y1": 1.2,
            "yref": "y"
           },
           {
            "line": {
             "color": "black",
             "width": 3
            },
            "type": "line",
            "x0": 6.338154733073091,
            "x1": 6.538098901053807,
            "y0": 0.9999264952271985,
            "y1": 0.9952010650352151
           },
           {
            "line": {
             "color": "white",
             "width": 3
            },
            "type": "line",
            "x0": 7,
            "x1": 7.2,
            "y0": 1,
            "y1": 1
           }
          ],
          "title": {
           "text": "<b>Hirai & Tarui, 1975  |  Number of Agents: 2</b>",
           "x": 0.5
          }
         },
         "name": "110"
        },
        {
         "data": [
          {
           "hoverinfo": "name",
           "line": {
            "color": "grey"
           },
           "mode": "lines",
           "name": "Exterior",
           "showlegend": false,
           "type": "scatter",
           "x": {
            "bdata": "AAAAAAAAAAAAAAAAAAAoQAAAAAAAAChAAAAAAAAAJEAAAAAAAAAkQAAAAAAAAAAAAAAAAAAAAAA=",
            "dtype": "f8"
           },
           "y": {
            "bdata": "AAAAAAAAAAAAAAAAAAAAAAAAAAAAAChAAAAAAAAAKEAAAAAAAAAAQAAAAAAAAABAAAAAAAAAAAA=",
            "dtype": "f8"
           }
          },
          {
           "hoverinfo": "text",
           "marker": {
            "opacity": 1,
            "size": 1
           },
           "mode": "markers",
           "showlegend": false,
           "text": [
            "ID: 0, Pos(6.35,1.00)"
           ],
           "type": "scatter",
           "x": [
            6.351588967372707
           ],
           "y": [
            1.0000049062168141
           ]
          },
          {
           "hoverinfo": "text",
           "marker": {
            "opacity": 1,
            "size": 1
           },
           "mode": "markers",
           "showlegend": false,
           "text": [
            "ID: 1, Pos(7.00,1.00)"
           ],
           "type": "scatter",
           "x": [
            7
           ],
           "y": [
            1
           ]
          }
         ],
         "layout": {
          "shapes": [
           {
            "fillcolor": "rgba(0, 180, 255, 0.5)",
            "line": {
             "color": "rgba(0, 180, 255, 0.5)"
            },
            "type": "circle",
            "x0": 6.151588967372707,
            "x1": 6.551588967372707,
            "xref": "x",
            "y0": 0.8000049062168142,
            "y1": 1.200004906216814,
            "yref": "y"
           },
           {
            "fillcolor": "rgba(128, 0, 0, 0.5)",
            "line": {
             "color": "rgba(128, 0, 0, 0.5)"
            },
            "type": "circle",
            "x0": 6.8,
            "x1": 7.2,
            "xref": "x",
            "y0": 0.8,
            "y1": 1.2,
            "yref": "y"
           },
           {
            "line": {
             "color": "black",
             "width": 3
            },
            "type": "line",
            "x0": 6.351588967372707,
            "x1": 6.551585560805687,
            "y0": 1.0000049062168141,
            "y1": 1.0011722173162854
           },
           {
            "line": {
             "color": "white",
             "width": 3
            },
            "type": "line",
            "x0": 7,
            "x1": 7.2,
            "y0": 1,
            "y1": 1
           }
          ],
          "title": {
           "text": "<b>Hirai & Tarui, 1975  |  Number of Agents: 2</b>",
           "x": 0.5
          }
         },
         "name": "111"
        },
        {
         "data": [
          {
           "hoverinfo": "name",
           "line": {
            "color": "grey"
           },
           "mode": "lines",
           "name": "Exterior",
           "showlegend": false,
           "type": "scatter",
           "x": {
            "bdata": "AAAAAAAAAAAAAAAAAAAoQAAAAAAAAChAAAAAAAAAJEAAAAAAAAAkQAAAAAAAAAAAAAAAAAAAAAA=",
            "dtype": "f8"
           },
           "y": {
            "bdata": "AAAAAAAAAAAAAAAAAAAAAAAAAAAAAChAAAAAAAAAKEAAAAAAAAAAQAAAAAAAAABAAAAAAAAAAAA=",
            "dtype": "f8"
           }
          },
          {
           "hoverinfo": "text",
           "marker": {
            "opacity": 1,
            "size": 1
           },
           "mode": "markers",
           "showlegend": false,
           "text": [
            "ID: 0, Pos(6.37,1.00)"
           ],
           "type": "scatter",
           "x": [
            6.36506773435006
           ],
           "y": [
            0.9998738898472955
           ]
          },
          {
           "hoverinfo": "text",
           "marker": {
            "opacity": 1,
            "size": 1
           },
           "mode": "markers",
           "showlegend": false,
           "text": [
            "ID: 1, Pos(7.00,1.00)"
           ],
           "type": "scatter",
           "x": [
            7
           ],
           "y": [
            1
           ]
          }
         ],
         "layout": {
          "shapes": [
           {
            "fillcolor": "rgba(0, 180, 255, 0.5)",
            "line": {
             "color": "rgba(0, 180, 255, 0.5)"
            },
            "type": "circle",
            "x0": 6.1650677343500595,
            "x1": 6.56506773435006,
            "xref": "x",
            "y0": 0.7998738898472955,
            "y1": 1.1998738898472956,
            "yref": "y"
           },
           {
            "fillcolor": "rgba(128, 0, 0, 0.5)",
            "line": {
             "color": "rgba(128, 0, 0, 0.5)"
            },
            "type": "circle",
            "x0": 6.8,
            "x1": 7.2,
            "xref": "x",
            "y0": 0.8,
            "y1": 1.2,
            "yref": "y"
           },
           {
            "line": {
             "color": "black",
             "width": 3
            },
            "type": "line",
            "x0": 6.36506773435006,
            "x1": 6.565058286782249,
            "y0": 0.9998738898472955,
            "y1": 0.9979299408079125
           },
           {
            "line": {
             "color": "white",
             "width": 3
            },
            "type": "line",
            "x0": 7,
            "x1": 7.2,
            "y0": 1,
            "y1": 1
           }
          ],
          "title": {
           "text": "<b>Hirai & Tarui, 1975  |  Number of Agents: 2</b>",
           "x": 0.5
          }
         },
         "name": "112"
        },
        {
         "data": [
          {
           "hoverinfo": "name",
           "line": {
            "color": "grey"
           },
           "mode": "lines",
           "name": "Exterior",
           "showlegend": false,
           "type": "scatter",
           "x": {
            "bdata": "AAAAAAAAAAAAAAAAAAAoQAAAAAAAAChAAAAAAAAAJEAAAAAAAAAkQAAAAAAAAAAAAAAAAAAAAAA=",
            "dtype": "f8"
           },
           "y": {
            "bdata": "AAAAAAAAAAAAAAAAAAAAAAAAAAAAAChAAAAAAAAAKEAAAAAAAAAAQAAAAAAAAABAAAAAAAAAAAA=",
            "dtype": "f8"
           }
          },
          {
           "hoverinfo": "text",
           "marker": {
            "opacity": 1,
            "size": 1
           },
           "mode": "markers",
           "showlegend": false,
           "text": [
            "ID: 0, Pos(6.38,1.00)"
           ],
           "type": "scatter",
           "x": [
            6.378592062903861
           ],
           "y": [
            1.0001358007880385
           ]
          },
          {
           "hoverinfo": "text",
           "marker": {
            "opacity": 1,
            "size": 1
           },
           "mode": "markers",
           "showlegend": false,
           "text": [
            "ID: 1, Pos(7.00,1.00)"
           ],
           "type": "scatter",
           "x": [
            7
           ],
           "y": [
            1
           ]
          }
         ],
         "layout": {
          "shapes": [
           {
            "fillcolor": "rgba(0, 176, 255, 0.5)",
            "line": {
             "color": "rgba(0, 176, 255, 0.5)"
            },
            "type": "circle",
            "x0": 6.178592062903861,
            "x1": 6.578592062903861,
            "xref": "x",
            "y0": 0.8001358007880386,
            "y1": 1.2001358007880385,
            "yref": "y"
           },
           {
            "fillcolor": "rgba(128, 0, 0, 0.5)",
            "line": {
             "color": "rgba(128, 0, 0, 0.5)"
            },
            "type": "circle",
            "x0": 6.8,
            "x1": 7.2,
            "xref": "x",
            "y0": 0.8,
            "y1": 1.2,
            "yref": "y"
           },
           {
            "line": {
             "color": "black",
             "width": 3
            },
            "type": "line",
            "x0": 6.378592062903861,
            "x1": 6.578554569599397,
            "y0": 1.0001358007880385,
            "y1": 1.00400825686108
           },
           {
            "line": {
             "color": "white",
             "width": 3
            },
            "type": "line",
            "x0": 7,
            "x1": 7.2,
            "y0": 1,
            "y1": 1
           }
          ],
          "title": {
           "text": "<b>Hirai & Tarui, 1975  |  Number of Agents: 2</b>",
           "x": 0.5
          }
         },
         "name": "113"
        },
        {
         "data": [
          {
           "hoverinfo": "name",
           "line": {
            "color": "grey"
           },
           "mode": "lines",
           "name": "Exterior",
           "showlegend": false,
           "type": "scatter",
           "x": {
            "bdata": "AAAAAAAAAAAAAAAAAAAoQAAAAAAAAChAAAAAAAAAJEAAAAAAAAAkQAAAAAAAAAAAAAAAAAAAAAA=",
            "dtype": "f8"
           },
           "y": {
            "bdata": "AAAAAAAAAAAAAAAAAAAAAAAAAAAAAChAAAAAAAAAKEAAAAAAAAAAQAAAAAAAAABAAAAAAAAAAAA=",
            "dtype": "f8"
           }
          },
          {
           "hoverinfo": "text",
           "marker": {
            "opacity": 1,
            "size": 1
           },
           "mode": "markers",
           "showlegend": false,
           "text": [
            "ID: 0, Pos(6.39,1.00)"
           ],
           "type": "scatter",
           "x": [
            6.392162955778618
           ],
           "y": [
            1.0001863339195771
           ]
          },
          {
           "hoverinfo": "text",
           "marker": {
            "opacity": 1,
            "size": 1
           },
           "mode": "markers",
           "showlegend": false,
           "text": [
            "ID: 1, Pos(7.00,1.00)"
           ],
           "type": "scatter",
           "x": [
            7
           ],
           "y": [
            1
           ]
          }
         ],
         "layout": {
          "shapes": [
           {
            "fillcolor": "rgba(0, 173, 255, 0.5)",
            "line": {
             "color": "rgba(0, 173, 255, 0.5)"
            },
            "type": "circle",
            "x0": 6.192162955778618,
            "x1": 6.592162955778618,
            "xref": "x",
            "y0": 0.8001863339195772,
            "y1": 1.200186333919577,
            "yref": "y"
           },
           {
            "fillcolor": "rgba(128, 0, 0, 0.5)",
            "line": {
             "color": "rgba(128, 0, 0, 0.5)"
            },
            "type": "circle",
            "x0": 6.8,
            "x1": 7.2,
            "xref": "x",
            "y0": 0.8,
            "y1": 1.2,
            "yref": "y"
           },
           {
            "line": {
             "color": "black",
             "width": 3
            },
            "type": "line",
            "x0": 6.392162955778618,
            "x1": 6.592161569242894,
            "y0": 1.0001863339195771,
            "y1": 1.0009310569333845
           },
           {
            "line": {
             "color": "white",
             "width": 3
            },
            "type": "line",
            "x0": 7,
            "x1": 7.2,
            "y0": 1,
            "y1": 1
           }
          ],
          "title": {
           "text": "<b>Hirai & Tarui, 1975  |  Number of Agents: 2</b>",
           "x": 0.5
          }
         },
         "name": "114"
        },
        {
         "data": [
          {
           "hoverinfo": "name",
           "line": {
            "color": "grey"
           },
           "mode": "lines",
           "name": "Exterior",
           "showlegend": false,
           "type": "scatter",
           "x": {
            "bdata": "AAAAAAAAAAAAAAAAAAAoQAAAAAAAAChAAAAAAAAAJEAAAAAAAAAkQAAAAAAAAAAAAAAAAAAAAAA=",
            "dtype": "f8"
           },
           "y": {
            "bdata": "AAAAAAAAAAAAAAAAAAAAAAAAAAAAAChAAAAAAAAAKEAAAAAAAAAAQAAAAAAAAABAAAAAAAAAAAA=",
            "dtype": "f8"
           }
          },
          {
           "hoverinfo": "text",
           "marker": {
            "opacity": 1,
            "size": 1
           },
           "mode": "markers",
           "showlegend": false,
           "text": [
            "ID: 0, Pos(6.41,1.00)"
           ],
           "type": "scatter",
           "x": [
            6.405781439977049
           ],
           "y": [
            1.0000278886828926
           ]
          },
          {
           "hoverinfo": "text",
           "marker": {
            "opacity": 1,
            "size": 1
           },
           "mode": "markers",
           "showlegend": false,
           "text": [
            "ID: 1, Pos(7.00,1.00)"
           ],
           "type": "scatter",
           "x": [
            7
           ],
           "y": [
            1
           ]
          }
         ],
         "layout": {
          "shapes": [
           {
            "fillcolor": "rgba(0, 173, 255, 0.5)",
            "line": {
             "color": "rgba(0, 173, 255, 0.5)"
            },
            "type": "circle",
            "x0": 6.205781439977049,
            "x1": 6.605781439977049,
            "xref": "x",
            "y0": 0.8000278886828927,
            "y1": 1.2000278886828926,
            "yref": "y"
           },
           {
            "fillcolor": "rgba(128, 0, 0, 0.5)",
            "line": {
             "color": "rgba(128, 0, 0, 0.5)"
            },
            "type": "circle",
            "x0": 6.8,
            "x1": 7.2,
            "xref": "x",
            "y0": 0.8,
            "y1": 1.2,
            "yref": "y"
           },
           {
            "line": {
             "color": "black",
             "width": 3
            },
            "type": "line",
            "x0": 6.405781439977049,
            "x1": 6.605767905024274,
            "y0": 1.0000278886828926,
            "y1": 0.9977011317306193
           },
           {
            "line": {
             "color": "white",
             "width": 3
            },
            "type": "line",
            "x0": 7,
            "x1": 7.2,
            "y0": 1,
            "y1": 1
           }
          ],
          "title": {
           "text": "<b>Hirai & Tarui, 1975  |  Number of Agents: 2</b>",
           "x": 0.5
          }
         },
         "name": "115"
        },
        {
         "data": [
          {
           "hoverinfo": "name",
           "line": {
            "color": "grey"
           },
           "mode": "lines",
           "name": "Exterior",
           "showlegend": false,
           "type": "scatter",
           "x": {
            "bdata": "AAAAAAAAAAAAAAAAAAAoQAAAAAAAAChAAAAAAAAAJEAAAAAAAAAkQAAAAAAAAAAAAAAAAAAAAAA=",
            "dtype": "f8"
           },
           "y": {
            "bdata": "AAAAAAAAAAAAAAAAAAAAAAAAAAAAAChAAAAAAAAAKEAAAAAAAAAAQAAAAAAAAABAAAAAAAAAAAA=",
            "dtype": "f8"
           }
          },
          {
           "hoverinfo": "text",
           "marker": {
            "opacity": 1,
            "size": 1
           },
           "mode": "markers",
           "showlegend": false,
           "text": [
            "ID: 0, Pos(6.42,1.00)"
           ],
           "type": "scatter",
           "x": [
            6.4194484989906755
           ],
           "y": [
            0.9996628327618337
           ]
          },
          {
           "hoverinfo": "text",
           "marker": {
            "opacity": 1,
            "size": 1
           },
           "mode": "markers",
           "showlegend": false,
           "text": [
            "ID: 1, Pos(7.00,1.00)"
           ],
           "type": "scatter",
           "x": [
            7
           ],
           "y": [
            1
           ]
          }
         ],
         "layout": {
          "shapes": [
           {
            "fillcolor": "rgba(0, 168, 255, 0.5)",
            "line": {
             "color": "rgba(0, 168, 255, 0.5)"
            },
            "type": "circle",
            "x0": 6.219448498990675,
            "x1": 6.619448498990676,
            "xref": "x",
            "y0": 0.7996628327618336,
            "y1": 1.1996628327618337,
            "yref": "y"
           },
           {
            "fillcolor": "rgba(128, 0, 0, 0.5)",
            "line": {
             "color": "rgba(128, 0, 0, 0.5)"
            },
            "type": "circle",
            "x0": 6.8,
            "x1": 7.2,
            "xref": "x",
            "y0": 0.8,
            "y1": 1.2,
            "yref": "y"
           },
           {
            "line": {
             "color": "black",
             "width": 3
            },
            "type": "line",
            "x0": 6.4194484989906755,
            "x1": 6.619377191304887,
            "y0": 0.9996628327618337,
            "y1": 0.9943226090278094
           },
           {
            "line": {
             "color": "white",
             "width": 3
            },
            "type": "line",
            "x0": 7,
            "x1": 7.2,
            "y0": 1,
            "y1": 1
           }
          ],
          "title": {
           "text": "<b>Hirai & Tarui, 1975  |  Number of Agents: 2</b>",
           "x": 0.5
          }
         },
         "name": "116"
        },
        {
         "data": [
          {
           "hoverinfo": "name",
           "line": {
            "color": "grey"
           },
           "mode": "lines",
           "name": "Exterior",
           "showlegend": false,
           "type": "scatter",
           "x": {
            "bdata": "AAAAAAAAAAAAAAAAAAAoQAAAAAAAAChAAAAAAAAAJEAAAAAAAAAkQAAAAAAAAAAAAAAAAAAAAAA=",
            "dtype": "f8"
           },
           "y": {
            "bdata": "AAAAAAAAAAAAAAAAAAAAAAAAAAAAAChAAAAAAAAAKEAAAAAAAAAAQAAAAAAAAABAAAAAAAAAAAA=",
            "dtype": "f8"
           }
          },
          {
           "hoverinfo": "text",
           "marker": {
            "opacity": 1,
            "size": 1
           },
           "mode": "markers",
           "showlegend": false,
           "text": [
            "ID: 0, Pos(6.43,1.00)"
           ],
           "type": "scatter",
           "x": [
            6.433165075383827
           ],
           "y": [
            0.9996935104206393
           ]
          },
          {
           "hoverinfo": "text",
           "marker": {
            "opacity": 1,
            "size": 1
           },
           "mode": "markers",
           "showlegend": false,
           "text": [
            "ID: 1, Pos(7.00,1.00)"
           ],
           "type": "scatter",
           "x": [
            7
           ],
           "y": [
            1
           ]
          }
         ],
         "layout": {
          "shapes": [
           {
            "fillcolor": "rgba(0, 168, 255, 0.5)",
            "line": {
             "color": "rgba(0, 168, 255, 0.5)"
            },
            "type": "circle",
            "x0": 6.233165075383827,
            "x1": 6.633165075383827,
            "xref": "x",
            "y0": 0.7996935104206393,
            "y1": 1.1996935104206392,
            "yref": "y"
           },
           {
            "fillcolor": "rgba(128, 0, 0, 0.5)",
            "line": {
             "color": "rgba(128, 0, 0, 0.5)"
            },
            "type": "circle",
            "x0": 6.8,
            "x1": 7.2,
            "xref": "x",
            "y0": 0.8,
            "y1": 1.2,
            "yref": "y"
           },
           {
            "line": {
             "color": "black",
             "width": 3
            },
            "type": "line",
            "x0": 6.433165075383827,
            "x1": 6.633164575175009,
            "y0": 0.9996935104206393,
            "y1": 1.0001408171129231
           },
           {
            "line": {
             "color": "white",
             "width": 3
            },
            "type": "line",
            "x0": 7,
            "x1": 7.2,
            "y0": 1,
            "y1": 1
           }
          ],
          "title": {
           "text": "<b>Hirai & Tarui, 1975  |  Number of Agents: 2</b>",
           "x": 0.5
          }
         },
         "name": "117"
        },
        {
         "data": [
          {
           "hoverinfo": "name",
           "line": {
            "color": "grey"
           },
           "mode": "lines",
           "name": "Exterior",
           "showlegend": false,
           "type": "scatter",
           "x": {
            "bdata": "AAAAAAAAAAAAAAAAAAAoQAAAAAAAAChAAAAAAAAAJEAAAAAAAAAkQAAAAAAAAAAAAAAAAAAAAAA=",
            "dtype": "f8"
           },
           "y": {
            "bdata": "AAAAAAAAAAAAAAAAAAAAAAAAAAAAAChAAAAAAAAAKEAAAAAAAAAAQAAAAAAAAABAAAAAAAAAAAA=",
            "dtype": "f8"
           }
          },
          {
           "hoverinfo": "text",
           "marker": {
            "opacity": 1,
            "size": 1
           },
           "mode": "markers",
           "showlegend": false,
           "text": [
            "ID: 0, Pos(6.45,1.00)"
           ],
           "type": "scatter",
           "x": [
            6.4469321782155316
           ],
           "y": [
            1.0001155214728685
           ]
          },
          {
           "hoverinfo": "text",
           "marker": {
            "opacity": 1,
            "size": 1
           },
           "mode": "markers",
           "showlegend": false,
           "text": [
            "ID: 1, Pos(7.00,1.00)"
           ],
           "type": "scatter",
           "x": [
            7
           ],
           "y": [
            1
           ]
          }
         ],
         "layout": {
          "shapes": [
           {
            "fillcolor": "rgba(0, 164, 255, 0.5)",
            "line": {
             "color": "rgba(0, 164, 255, 0.5)"
            },
            "type": "circle",
            "x0": 6.246932178215531,
            "x1": 6.646932178215532,
            "xref": "x",
            "y0": 0.8001155214728686,
            "y1": 1.2001155214728685,
            "yref": "y"
           },
           {
            "fillcolor": "rgba(128, 0, 0, 0.5)",
            "line": {
             "color": "rgba(128, 0, 0, 0.5)"
            },
            "type": "circle",
            "x0": 6.8,
            "x1": 7.2,
            "xref": "x",
            "y0": 0.8,
            "y1": 1.2,
            "yref": "y"
           },
           {
            "line": {
             "color": "white",
             "width": 3
            },
            "type": "line",
            "x0": 6.4469321782155316,
            "x1": 6.646838280158014,
            "y0": 1.0001155214728685,
            "y1": 1.0062433600936074
           },
           {
            "line": {
             "color": "white",
             "width": 3
            },
            "type": "line",
            "x0": 7,
            "x1": 7.2,
            "y0": 1,
            "y1": 1
           }
          ],
          "title": {
           "text": "<b>Hirai & Tarui, 1975  |  Number of Agents: 2</b>",
           "x": 0.5
          }
         },
         "name": "118"
        },
        {
         "data": [
          {
           "hoverinfo": "name",
           "line": {
            "color": "grey"
           },
           "mode": "lines",
           "name": "Exterior",
           "showlegend": false,
           "type": "scatter",
           "x": {
            "bdata": "AAAAAAAAAAAAAAAAAAAoQAAAAAAAAChAAAAAAAAAJEAAAAAAAAAkQAAAAAAAAAAAAAAAAAAAAAA=",
            "dtype": "f8"
           },
           "y": {
            "bdata": "AAAAAAAAAAAAAAAAAAAAAAAAAAAAAChAAAAAAAAAKEAAAAAAAAAAQAAAAAAAAABAAAAAAAAAAAA=",
            "dtype": "f8"
           }
          },
          {
           "hoverinfo": "text",
           "marker": {
            "opacity": 1,
            "size": 1
           },
           "mode": "markers",
           "showlegend": false,
           "text": [
            "ID: 0, Pos(6.46,1.00)"
           ],
           "type": "scatter",
           "x": [
            6.46075070615631
           ],
           "y": [
            1.000324521354137
           ]
          },
          {
           "hoverinfo": "text",
           "marker": {
            "opacity": 1,
            "size": 1
           },
           "mode": "markers",
           "showlegend": false,
           "text": [
            "ID: 1, Pos(7.00,1.00)"
           ],
           "type": "scatter",
           "x": [
            7
           ],
           "y": [
            1
           ]
          }
         ],
         "layout": {
          "shapes": [
           {
            "fillcolor": "rgba(0, 160, 255, 0.5)",
            "line": {
             "color": "rgba(0, 160, 255, 0.5)"
            },
            "type": "circle",
            "x0": 6.26075070615631,
            "x1": 6.6607507061563105,
            "xref": "x",
            "y0": 0.800324521354137,
            "y1": 1.200324521354137,
            "yref": "y"
           },
           {
            "fillcolor": "rgba(128, 0, 0, 0.5)",
            "line": {
             "color": "rgba(128, 0, 0, 0.5)"
            },
            "type": "circle",
            "x0": 6.8,
            "x1": 7.2,
            "xref": "x",
            "y0": 0.8,
            "y1": 1.2,
            "yref": "y"
           },
           {
            "line": {
             "color": "white",
             "width": 3
            },
            "type": "line",
            "x0": 6.46075070615631,
            "x1": 6.660727834689676,
            "y0": 1.000324521354137,
            "y1": 1.0033490979442772
           },
           {
            "line": {
             "color": "white",
             "width": 3
            },
            "type": "line",
            "x0": 7,
            "x1": 7.2,
            "y0": 1,
            "y1": 1
           }
          ],
          "title": {
           "text": "<b>Hirai & Tarui, 1975  |  Number of Agents: 2</b>",
           "x": 0.5
          }
         },
         "name": "119"
        },
        {
         "data": [
          {
           "hoverinfo": "name",
           "line": {
            "color": "grey"
           },
           "mode": "lines",
           "name": "Exterior",
           "showlegend": false,
           "type": "scatter",
           "x": {
            "bdata": "AAAAAAAAAAAAAAAAAAAoQAAAAAAAAChAAAAAAAAAJEAAAAAAAAAkQAAAAAAAAAAAAAAAAAAAAAA=",
            "dtype": "f8"
           },
           "y": {
            "bdata": "AAAAAAAAAAAAAAAAAAAAAAAAAAAAAChAAAAAAAAAKEAAAAAAAAAAQAAAAAAAAABAAAAAAAAAAAA=",
            "dtype": "f8"
           }
          },
          {
           "hoverinfo": "text",
           "marker": {
            "opacity": 1,
            "size": 1
           },
           "mode": "markers",
           "showlegend": false,
           "text": [
            "ID: 0, Pos(6.47,1.00)"
           ],
           "type": "scatter",
           "x": [
            6.47462164505068
           ],
           "y": [
            1.0003229662504631
           ]
          },
          {
           "hoverinfo": "text",
           "marker": {
            "opacity": 1,
            "size": 1
           },
           "mode": "markers",
           "showlegend": false,
           "text": [
            "ID: 1, Pos(7.00,1.00)"
           ],
           "type": "scatter",
           "x": [
            7
           ],
           "y": [
            1
           ]
          }
         ],
         "layout": {
          "shapes": [
           {
            "fillcolor": "rgba(0, 156, 255, 0.5)",
            "line": {
             "color": "rgba(0, 156, 255, 0.5)"
            },
            "type": "circle",
            "x0": 6.27462164505068,
            "x1": 6.674621645050681,
            "xref": "x",
            "y0": 0.8003229662504632,
            "y1": 1.200322966250463,
            "yref": "y"
           },
           {
            "fillcolor": "rgba(128, 0, 0, 0.5)",
            "line": {
             "color": "rgba(128, 0, 0, 0.5)"
            },
            "type": "circle",
            "x0": 6.8,
            "x1": 7.2,
            "xref": "x",
            "y0": 0.8,
            "y1": 1.2,
            "yref": "y"
           },
           {
            "line": {
             "color": "white",
             "width": 3
            },
            "type": "line",
            "x0": 6.47462164505068,
            "x1": 6.674621643793762,
            "y0": 1.0003229662504631,
            "y1": 1.000300543778907
           },
           {
            "line": {
             "color": "white",
             "width": 3
            },
            "type": "line",
            "x0": 7,
            "x1": 7.2,
            "y0": 1,
            "y1": 1
           }
          ],
          "title": {
           "text": "<b>Hirai & Tarui, 1975  |  Number of Agents: 2</b>",
           "x": 0.5
          }
         },
         "name": "120"
        },
        {
         "data": [
          {
           "hoverinfo": "name",
           "line": {
            "color": "grey"
           },
           "mode": "lines",
           "name": "Exterior",
           "showlegend": false,
           "type": "scatter",
           "x": {
            "bdata": "AAAAAAAAAAAAAAAAAAAoQAAAAAAAAChAAAAAAAAAJEAAAAAAAAAkQAAAAAAAAAAAAAAAAAAAAAA=",
            "dtype": "f8"
           },
           "y": {
            "bdata": "AAAAAAAAAAAAAAAAAAAAAAAAAAAAAChAAAAAAAAAKEAAAAAAAAAAQAAAAAAAAABAAAAAAAAAAAA=",
            "dtype": "f8"
           }
          },
          {
           "hoverinfo": "text",
           "marker": {
            "opacity": 1,
            "size": 1
           },
           "mode": "markers",
           "showlegend": false,
           "text": [
            "ID: 0, Pos(6.49,1.00)"
           ],
           "type": "scatter",
           "x": [
            6.488545938797294
           ],
           "y": [
            1.0001132849958496
           ]
          },
          {
           "hoverinfo": "text",
           "marker": {
            "opacity": 1,
            "size": 1
           },
           "mode": "markers",
           "showlegend": false,
           "text": [
            "ID: 1, Pos(7.00,1.00)"
           ],
           "type": "scatter",
           "x": [
            7
           ],
           "y": [
            1
           ]
          }
         ],
         "layout": {
          "shapes": [
           {
            "fillcolor": "rgba(0, 156, 255, 0.5)",
            "line": {
             "color": "rgba(0, 156, 255, 0.5)"
            },
            "type": "circle",
            "x0": 6.288545938797294,
            "x1": 6.6885459387972945,
            "xref": "x",
            "y0": 0.8001132849958497,
            "y1": 1.2001132849958496,
            "yref": "y"
           },
           {
            "fillcolor": "rgba(128, 0, 0, 0.5)",
            "line": {
             "color": "rgba(128, 0, 0, 0.5)"
            },
            "type": "circle",
            "x0": 6.8,
            "x1": 7.2,
            "xref": "x",
            "y0": 0.8,
            "y1": 1.2,
            "yref": "y"
           },
           {
            "line": {
             "color": "white",
             "width": 3
            },
            "type": "line",
            "x0": 6.488545938797294,
            "x1": 6.688523266318414,
            "y0": 1.0001132849958496,
            "y1": 0.9971018937043452
           },
           {
            "line": {
             "color": "white",
             "width": 3
            },
            "type": "line",
            "x0": 7,
            "x1": 7.2,
            "y0": 1,
            "y1": 1
           }
          ],
          "title": {
           "text": "<b>Hirai & Tarui, 1975  |  Number of Agents: 2</b>",
           "x": 0.5
          }
         },
         "name": "121"
        },
        {
         "data": [
          {
           "hoverinfo": "name",
           "line": {
            "color": "grey"
           },
           "mode": "lines",
           "name": "Exterior",
           "showlegend": false,
           "type": "scatter",
           "x": {
            "bdata": "AAAAAAAAAAAAAAAAAAAoQAAAAAAAAChAAAAAAAAAJEAAAAAAAAAkQAAAAAAAAAAAAAAAAAAAAAA=",
            "dtype": "f8"
           },
           "y": {
            "bdata": "AAAAAAAAAAAAAAAAAAAAAAAAAAAAAChAAAAAAAAAKEAAAAAAAAAAQAAAAAAAAABAAAAAAAAAAAA=",
            "dtype": "f8"
           }
          },
          {
           "hoverinfo": "text",
           "marker": {
            "opacity": 1,
            "size": 1
           },
           "mode": "markers",
           "showlegend": false,
           "text": [
            "ID: 0, Pos(6.50,1.00)"
           ],
           "type": "scatter",
           "x": [
            6.502524491901863
           ],
           "y": [
            0.9996978762160409
           ]
          },
          {
           "hoverinfo": "text",
           "marker": {
            "opacity": 1,
            "size": 1
           },
           "mode": "markers",
           "showlegend": false,
           "text": [
            "ID: 1, Pos(7.00,1.00)"
           ],
           "type": "scatter",
           "x": [
            7
           ],
           "y": [
            1
           ]
          }
         ],
         "layout": {
          "shapes": [
           {
            "fillcolor": "rgba(0, 152, 255, 0.5)",
            "line": {
             "color": "rgba(0, 152, 255, 0.5)"
            },
            "type": "circle",
            "x0": 6.302524491901863,
            "x1": 6.702524491901864,
            "xref": "x",
            "y0": 0.7996978762160409,
            "y1": 1.1996978762160408,
            "yref": "y"
           },
           {
            "fillcolor": "rgba(128, 0, 0, 0.5)",
            "line": {
             "color": "rgba(128, 0, 0, 0.5)"
            },
            "type": "circle",
            "x0": 6.8,
            "x1": 7.2,
            "xref": "x",
            "y0": 0.8,
            "y1": 1.2,
            "yref": "y"
           },
           {
            "line": {
             "color": "white",
             "width": 3
            },
            "type": "line",
            "x0": 6.502524491901863,
            "x1": 6.702436236893148,
            "y0": 0.9996978762160409,
            "y1": 0.9937569828034662
           },
           {
            "line": {
             "color": "white",
             "width": 3
            },
            "type": "line",
            "x0": 7,
            "x1": 7.2,
            "y0": 1,
            "y1": 1
           }
          ],
          "title": {
           "text": "<b>Hirai & Tarui, 1975  |  Number of Agents: 2</b>",
           "x": 0.5
          }
         },
         "name": "122"
        },
        {
         "data": [
          {
           "hoverinfo": "name",
           "line": {
            "color": "grey"
           },
           "mode": "lines",
           "name": "Exterior",
           "showlegend": false,
           "type": "scatter",
           "x": {
            "bdata": "AAAAAAAAAAAAAAAAAAAoQAAAAAAAAChAAAAAAAAAJEAAAAAAAAAkQAAAAAAAAAAAAAAAAAAAAAA=",
            "dtype": "f8"
           },
           "y": {
            "bdata": "AAAAAAAAAAAAAAAAAAAAAAAAAAAAAChAAAAAAAAAKEAAAAAAAAAAQAAAAAAAAABAAAAAAAAAAAA=",
            "dtype": "f8"
           }
          },
          {
           "hoverinfo": "text",
           "marker": {
            "opacity": 1,
            "size": 1
           },
           "mode": "markers",
           "showlegend": false,
           "text": [
            "ID: 0, Pos(6.52,1.00)"
           ],
           "type": "scatter",
           "x": [
            6.516558171956273
           ],
           "y": [
            0.9996791194099546
           ]
          },
          {
           "hoverinfo": "text",
           "marker": {
            "opacity": 1,
            "size": 1
           },
           "mode": "markers",
           "showlegend": false,
           "text": [
            "ID: 1, Pos(7.00,1.00)"
           ],
           "type": "scatter",
           "x": [
            7
           ],
           "y": [
            1
           ]
          }
         ],
         "layout": {
          "shapes": [
           {
            "fillcolor": "rgba(0, 148, 255, 0.5)",
            "line": {
             "color": "rgba(0, 148, 255, 0.5)"
            },
            "type": "circle",
            "x0": 6.316558171956273,
            "x1": 6.716558171956273,
            "xref": "x",
            "y0": 0.7996791194099546,
            "y1": 1.1996791194099545,
            "yref": "y"
           },
           {
            "fillcolor": "rgba(128, 0, 0, 0.5)",
            "line": {
             "color": "rgba(128, 0, 0, 0.5)"
            },
            "type": "circle",
            "x0": 6.8,
            "x1": 7.2,
            "xref": "x",
            "y0": 0.8,
            "y1": 1.2,
            "yref": "y"
           },
           {
            "line": {
             "color": "white",
             "width": 3
            },
            "type": "line",
            "x0": 6.516558171956273,
            "x1": 6.7165579933181885,
            "y0": 0.9996791194099546,
            "y1": 0.999411808351697
           },
           {
            "line": {
             "color": "white",
             "width": 3
            },
            "type": "line",
            "x0": 7,
            "x1": 7.2,
            "y0": 1,
            "y1": 1
           }
          ],
          "title": {
           "text": "<b>Hirai & Tarui, 1975  |  Number of Agents: 2</b>",
           "x": 0.5
          }
         },
         "name": "123"
        },
        {
         "data": [
          {
           "hoverinfo": "name",
           "line": {
            "color": "grey"
           },
           "mode": "lines",
           "name": "Exterior",
           "showlegend": false,
           "type": "scatter",
           "x": {
            "bdata": "AAAAAAAAAAAAAAAAAAAoQAAAAAAAAChAAAAAAAAAJEAAAAAAAAAkQAAAAAAAAAAAAAAAAAAAAAA=",
            "dtype": "f8"
           },
           "y": {
            "bdata": "AAAAAAAAAAAAAAAAAAAAAAAAAAAAAChAAAAAAAAAKEAAAAAAAAAAQAAAAAAAAABAAAAAAAAAAAA=",
            "dtype": "f8"
           }
          },
          {
           "hoverinfo": "text",
           "marker": {
            "opacity": 1,
            "size": 1
           },
           "mode": "markers",
           "showlegend": false,
           "text": [
            "ID: 0, Pos(6.53,1.00)"
           ],
           "type": "scatter",
           "x": [
            6.530647930372458
           ],
           "y": [
            1.0000525250902381
           ]
          },
          {
           "hoverinfo": "text",
           "marker": {
            "opacity": 1,
            "size": 1
           },
           "mode": "markers",
           "showlegend": false,
           "text": [
            "ID: 1, Pos(7.00,1.00)"
           ],
           "type": "scatter",
           "x": [
            7
           ],
           "y": [
            1
           ]
          }
         ],
         "layout": {
          "shapes": [
           {
            "fillcolor": "rgba(0, 148, 255, 0.5)",
            "line": {
             "color": "rgba(0, 148, 255, 0.5)"
            },
            "type": "circle",
            "x0": 6.330647930372458,
            "x1": 6.7306479303724585,
            "xref": "x",
            "y0": 0.8000525250902382,
            "y1": 1.200052525090238,
            "yref": "y"
           },
           {
            "fillcolor": "rgba(128, 0, 0, 0.5)",
            "line": {
             "color": "rgba(128, 0, 0, 0.5)"
            },
            "type": "circle",
            "x0": 6.8,
            "x1": 7.2,
            "xref": "x",
            "y0": 0.8,
            "y1": 1.2,
            "yref": "y"
           },
           {
            "line": {
             "color": "white",
             "width": 3
            },
            "type": "line",
            "x0": 6.530647930372458,
            "x1": 6.7305777321605555,
            "y0": 1.0000525250902381,
            "y1": 1.0053510491273767
           },
           {
            "line": {
             "color": "white",
             "width": 3
            },
            "type": "line",
            "x0": 7,
            "x1": 7.2,
            "y0": 1,
            "y1": 1
           }
          ],
          "title": {
           "text": "<b>Hirai & Tarui, 1975  |  Number of Agents: 2</b>",
           "x": 0.5
          }
         },
         "name": "124"
        },
        {
         "data": [
          {
           "hoverinfo": "name",
           "line": {
            "color": "grey"
           },
           "mode": "lines",
           "name": "Exterior",
           "showlegend": false,
           "type": "scatter",
           "x": {
            "bdata": "AAAAAAAAAAAAAAAAAAAoQAAAAAAAAChAAAAAAAAAJEAAAAAAAAAkQAAAAAAAAAAAAAAAAAAAAAA=",
            "dtype": "f8"
           },
           "y": {
            "bdata": "AAAAAAAAAAAAAAAAAAAAAAAAAAAAAChAAAAAAAAAKEAAAAAAAAAAQAAAAAAAAABAAAAAAAAAAAA=",
            "dtype": "f8"
           }
          },
          {
           "hoverinfo": "text",
           "marker": {
            "opacity": 1,
            "size": 1
           },
           "mode": "markers",
           "showlegend": false,
           "text": [
            "ID: 0, Pos(6.54,1.00)"
           ],
           "type": "scatter",
           "x": [
            6.544794613772931
           ],
           "y": [
            1.0002136554667564
           ]
          },
          {
           "hoverinfo": "text",
           "marker": {
            "opacity": 1,
            "size": 1
           },
           "mode": "markers",
           "showlegend": false,
           "text": [
            "ID: 1, Pos(7.00,1.00)"
           ],
           "type": "scatter",
           "x": [
            7
           ],
           "y": [
            1
           ]
          }
         ],
         "layout": {
          "shapes": [
           {
            "fillcolor": "rgba(0, 144, 255, 0.5)",
            "line": {
             "color": "rgba(0, 144, 255, 0.5)"
            },
            "type": "circle",
            "x0": 6.3447946137729305,
            "x1": 6.744794613772931,
            "xref": "x",
            "y0": 0.8002136554667565,
            "y1": 1.2002136554667564,
            "yref": "y"
           },
           {
            "fillcolor": "rgba(128, 0, 0, 0.5)",
            "line": {
             "color": "rgba(128, 0, 0, 0.5)"
            },
            "type": "circle",
            "x0": 6.8,
            "x1": 7.2,
            "xref": "x",
            "y0": 0.8,
            "y1": 1.2,
            "yref": "y"
           },
           {
            "line": {
             "color": "white",
             "width": 3
            },
            "type": "line",
            "x0": 6.544794613772931,
            "x1": 6.744781641881008,
            "y0": 1.0002136554667564,
            "y1": 1.0024915028056434
           },
           {
            "line": {
             "color": "white",
             "width": 3
            },
            "type": "line",
            "x0": 7,
            "x1": 7.2,
            "y0": 1,
            "y1": 1
           }
          ],
          "title": {
           "text": "<b>Hirai & Tarui, 1975  |  Number of Agents: 2</b>",
           "x": 0.5
          }
         },
         "name": "125"
        },
        {
         "data": [
          {
           "hoverinfo": "name",
           "line": {
            "color": "grey"
           },
           "mode": "lines",
           "name": "Exterior",
           "showlegend": false,
           "type": "scatter",
           "x": {
            "bdata": "AAAAAAAAAAAAAAAAAAAoQAAAAAAAAChAAAAAAAAAJEAAAAAAAAAkQAAAAAAAAAAAAAAAAAAAAAA=",
            "dtype": "f8"
           },
           "y": {
            "bdata": "AAAAAAAAAAAAAAAAAAAAAAAAAAAAAChAAAAAAAAAKEAAAAAAAAAAQAAAAAAAAABAAAAAAAAAAAA=",
            "dtype": "f8"
           }
          },
          {
           "hoverinfo": "text",
           "marker": {
            "opacity": 1,
            "size": 1
           },
           "mode": "markers",
           "showlegend": false,
           "text": [
            "ID: 0, Pos(6.56,1.00)"
           ],
           "type": "scatter",
           "x": [
            6.558999135470224
           ],
           "y": [
            1.0001649962239794
           ]
          },
          {
           "hoverinfo": "text",
           "marker": {
            "opacity": 1,
            "size": 1
           },
           "mode": "markers",
           "showlegend": false,
           "text": [
            "ID: 1, Pos(7.00,1.00)"
           ],
           "type": "scatter",
           "x": [
            7
           ],
           "y": [
            1
           ]
          }
         ],
         "layout": {
          "shapes": [
           {
            "fillcolor": "rgba(0, 140, 255, 0.5)",
            "line": {
             "color": "rgba(0, 140, 255, 0.5)"
            },
            "type": "circle",
            "x0": 6.358999135470224,
            "x1": 6.758999135470225,
            "xref": "x",
            "y0": 0.8001649962239794,
            "y1": 1.2001649962239793,
            "yref": "y"
           },
           {
            "fillcolor": "rgba(128, 0, 0, 0.5)",
            "line": {
             "color": "rgba(128, 0, 0, 0.5)"
            },
            "type": "circle",
            "x0": 6.8,
            "x1": 7.2,
            "xref": "x",
            "y0": 0.8,
            "y1": 1.2,
            "yref": "y"
           },
           {
            "line": {
             "color": "white",
             "width": 3
            },
            "type": "line",
            "x0": 6.558999135470224,
            "x1": 6.758997961995766,
            "y0": 1.0001649962239794,
            "y1": 0.9994798769596754
           },
           {
            "line": {
             "color": "white",
             "width": 3
            },
            "type": "line",
            "x0": 7,
            "x1": 7.2,
            "y0": 1,
            "y1": 1
           }
          ],
          "title": {
           "text": "<b>Hirai & Tarui, 1975  |  Number of Agents: 2</b>",
           "x": 0.5
          }
         },
         "name": "126"
        },
        {
         "data": [
          {
           "hoverinfo": "name",
           "line": {
            "color": "grey"
           },
           "mode": "lines",
           "name": "Exterior",
           "showlegend": false,
           "type": "scatter",
           "x": {
            "bdata": "AAAAAAAAAAAAAAAAAAAoQAAAAAAAAChAAAAAAAAAJEAAAAAAAAAkQAAAAAAAAAAAAAAAAAAAAAA=",
            "dtype": "f8"
           },
           "y": {
            "bdata": "AAAAAAAAAAAAAAAAAAAAAAAAAAAAAChAAAAAAAAAKEAAAAAAAAAAQAAAAAAAAABAAAAAAAAAAAA=",
            "dtype": "f8"
           }
          },
          {
           "hoverinfo": "text",
           "marker": {
            "opacity": 1,
            "size": 1
           },
           "mode": "markers",
           "showlegend": false,
           "text": [
            "ID: 0, Pos(6.57,1.00)"
           ],
           "type": "scatter",
           "x": [
            6.573262370691819
           ],
           "y": [
            0.9999090082708565
           ]
          },
          {
           "hoverinfo": "text",
           "marker": {
            "opacity": 1,
            "size": 1
           },
           "mode": "markers",
           "showlegend": false,
           "text": [
            "ID: 1, Pos(7.00,1.00)"
           ],
           "type": "scatter",
           "x": [
            7
           ],
           "y": [
            1
           ]
          }
         ],
         "layout": {
          "shapes": [
           {
            "fillcolor": "rgba(0, 136, 255, 0.5)",
            "line": {
             "color": "rgba(0, 136, 255, 0.5)"
            },
            "type": "circle",
            "x0": 6.373262370691819,
            "x1": 6.773262370691819,
            "xref": "x",
            "y0": 0.7999090082708564,
            "y1": 1.1999090082708566,
            "yref": "y"
           },
           {
            "fillcolor": "rgba(128, 0, 0, 0.5)",
            "line": {
             "color": "rgba(128, 0, 0, 0.5)"
            },
            "type": "circle",
            "x0": 6.8,
            "x1": 7.2,
            "xref": "x",
            "y0": 0.8,
            "y1": 1.2,
            "yref": "y"
           },
           {
            "line": {
             "color": "white",
             "width": 3
            },
            "type": "line",
            "x0": 6.573262370691819,
            "x1": 6.773230167563355,
            "y0": 0.9999090082708565,
            "y1": 0.9963201067196757
           },
           {
            "line": {
             "color": "white",
             "width": 3
            },
            "type": "line",
            "x0": 7,
            "x1": 7.2,
            "y0": 1,
            "y1": 1
           }
          ],
          "title": {
           "text": "<b>Hirai & Tarui, 1975  |  Number of Agents: 2</b>",
           "x": 0.5
          }
         },
         "name": "127"
        },
        {
         "data": [
          {
           "hoverinfo": "name",
           "line": {
            "color": "grey"
           },
           "mode": "lines",
           "name": "Exterior",
           "showlegend": false,
           "type": "scatter",
           "x": {
            "bdata": "AAAAAAAAAAAAAAAAAAAoQAAAAAAAAChAAAAAAAAAJEAAAAAAAAAkQAAAAAAAAAAAAAAAAAAAAAA=",
            "dtype": "f8"
           },
           "y": {
            "bdata": "AAAAAAAAAAAAAAAAAAAAAAAAAAAAAChAAAAAAAAAKEAAAAAAAAAAQAAAAAAAAABAAAAAAAAAAAA=",
            "dtype": "f8"
           }
          },
          {
           "hoverinfo": "text",
           "marker": {
            "opacity": 1,
            "size": 1
           },
           "mode": "markers",
           "showlegend": false,
           "text": [
            "ID: 0, Pos(6.59,1.00)"
           ],
           "type": "scatter",
           "x": [
            6.587585159029019
           ],
           "y": [
            1.0000481291010332
           ]
          },
          {
           "hoverinfo": "text",
           "marker": {
            "opacity": 1,
            "size": 1
           },
           "mode": "markers",
           "showlegend": false,
           "text": [
            "ID: 1, Pos(7.00,1.00)"
           ],
           "type": "scatter",
           "x": [
            7
           ],
           "y": [
            1
           ]
          }
         ],
         "layout": {
          "shapes": [
           {
            "fillcolor": "rgba(0, 132, 255, 0.5)",
            "line": {
             "color": "rgba(0, 132, 255, 0.5)"
            },
            "type": "circle",
            "x0": 6.387585159029019,
            "x1": 6.787585159029019,
            "xref": "x",
            "y0": 0.8000481291010333,
            "y1": 1.2000481291010332,
            "yref": "y"
           },
           {
            "fillcolor": "rgba(128, 0, 0, 0.5)",
            "line": {
             "color": "rgba(128, 0, 0, 0.5)"
            },
            "type": "circle",
            "x0": 6.8,
            "x1": 7.2,
            "xref": "x",
            "y0": 0.8,
            "y1": 1.2,
            "yref": "y"
           },
           {
            "line": {
             "color": "white",
             "width": 3
            },
            "type": "line",
            "x0": 6.587585159029019,
            "x1": 6.787575724973153,
            "y0": 1.0000481291010332,
            "y1": 1.001990687554503
           },
           {
            "line": {
             "color": "white",
             "width": 3
            },
            "type": "line",
            "x0": 7,
            "x1": 7.2,
            "y0": 1,
            "y1": 1
           }
          ],
          "title": {
           "text": "<b>Hirai & Tarui, 1975  |  Number of Agents: 2</b>",
           "x": 0.5
          }
         },
         "name": "128"
        },
        {
         "data": [
          {
           "hoverinfo": "name",
           "line": {
            "color": "grey"
           },
           "mode": "lines",
           "name": "Exterior",
           "showlegend": false,
           "type": "scatter",
           "x": {
            "bdata": "AAAAAAAAAAAAAAAAAAAoQAAAAAAAAChAAAAAAAAAJEAAAAAAAAAkQAAAAAAAAAAAAAAAAAAAAAA=",
            "dtype": "f8"
           },
           "y": {
            "bdata": "AAAAAAAAAAAAAAAAAAAAAAAAAAAAAChAAAAAAAAAKEAAAAAAAAAAQAAAAAAAAABAAAAAAAAAAAA=",
            "dtype": "f8"
           }
          },
          {
           "hoverinfo": "text",
           "marker": {
            "opacity": 1,
            "size": 1
           },
           "mode": "markers",
           "showlegend": false,
           "text": [
            "ID: 0, Pos(6.60,1.00)"
           ],
           "type": "scatter",
           "x": [
            6.60196836513434
           ],
           "y": [
            0.9999778254724272
           ]
          },
          {
           "hoverinfo": "text",
           "marker": {
            "opacity": 1,
            "size": 1
           },
           "mode": "markers",
           "showlegend": false,
           "text": [
            "ID: 1, Pos(7.00,1.00)"
           ],
           "type": "scatter",
           "x": [
            7
           ],
           "y": [
            1
           ]
          }
         ],
         "layout": {
          "shapes": [
           {
            "fillcolor": "rgba(0, 132, 255, 0.5)",
            "line": {
             "color": "rgba(0, 132, 255, 0.5)"
            },
            "type": "circle",
            "x0": 6.40196836513434,
            "x1": 6.80196836513434,
            "xref": "x",
            "y0": 0.7999778254724272,
            "y1": 1.1999778254724272,
            "yref": "y"
           },
           {
            "fillcolor": "rgba(128, 0, 0, 0.5)",
            "line": {
             "color": "rgba(128, 0, 0, 0.5)"
            },
            "type": "circle",
            "x0": 6.8,
            "x1": 7.2,
            "xref": "x",
            "y0": 0.8,
            "y1": 1.2,
            "yref": "y"
           },
           {
            "line": {
             "color": "white",
             "width": 3
            },
            "type": "line",
            "x0": 6.60196836513434,
            "x1": 6.801965976023534,
            "y0": 0.9999778254724272,
            "y1": 0.9990002577691567
           },
           {
            "line": {
             "color": "white",
             "width": 3
            },
            "type": "line",
            "x0": 7,
            "x1": 7.2,
            "y0": 1,
            "y1": 1
           }
          ],
          "title": {
           "text": "<b>Hirai & Tarui, 1975  |  Number of Agents: 2</b>",
           "x": 0.5
          }
         },
         "name": "129"
        },
        {
         "data": [
          {
           "hoverinfo": "name",
           "line": {
            "color": "grey"
           },
           "mode": "lines",
           "name": "Exterior",
           "showlegend": false,
           "type": "scatter",
           "x": {
            "bdata": "AAAAAAAAAAAAAAAAAAAoQAAAAAAAAChAAAAAAAAAJEAAAAAAAAAkQAAAAAAAAAAAAAAAAAAAAAA=",
            "dtype": "f8"
           },
           "y": {
            "bdata": "AAAAAAAAAAAAAAAAAAAAAAAAAAAAAChAAAAAAAAAKEAAAAAAAAAAQAAAAAAAAABAAAAAAAAAAAA=",
            "dtype": "f8"
           }
          },
          {
           "hoverinfo": "text",
           "marker": {
            "opacity": 1,
            "size": 1
           },
           "mode": "markers",
           "showlegend": false,
           "text": [
            "ID: 0, Pos(6.62,1.00)"
           ],
           "type": "scatter",
           "x": [
            6.6164128347300615
           ],
           "y": [
            1.0003005762931279
           ]
          },
          {
           "hoverinfo": "text",
           "marker": {
            "opacity": 1,
            "size": 1
           },
           "mode": "markers",
           "showlegend": false,
           "text": [
            "ID: 1, Pos(7.00,1.00)"
           ],
           "type": "scatter",
           "x": [
            7
           ],
           "y": [
            1
           ]
          }
         ],
         "layout": {
          "shapes": [
           {
            "fillcolor": "rgba(0, 128, 255, 0.5)",
            "line": {
             "color": "rgba(0, 128, 255, 0.5)"
            },
            "type": "circle",
            "x0": 6.416412834730061,
            "x1": 6.816412834730062,
            "xref": "x",
            "y0": 0.8003005762931279,
            "y1": 1.2003005762931278,
            "yref": "y"
           },
           {
            "fillcolor": "rgba(128, 0, 0, 0.5)",
            "line": {
             "color": "rgba(128, 0, 0, 0.5)"
            },
            "type": "circle",
            "x0": 6.8,
            "x1": 7.2,
            "xref": "x",
            "y0": 0.8,
            "y1": 1.2,
            "yref": "y"
           },
           {
            "line": {
             "color": "white",
             "width": 3
            },
            "type": "line",
            "x0": 6.6164128347300615,
            "x1": 6.816362926872328,
            "y0": 1.0003005762931279,
            "y1": 1.0047683108755863
           },
           {
            "line": {
             "color": "white",
             "width": 3
            },
            "type": "line",
            "x0": 7,
            "x1": 7.2,
            "y0": 1,
            "y1": 1
           }
          ],
          "title": {
           "text": "<b>Hirai & Tarui, 1975  |  Number of Agents: 2</b>",
           "x": 0.5
          }
         },
         "name": "130"
        },
        {
         "data": [
          {
           "hoverinfo": "name",
           "line": {
            "color": "grey"
           },
           "mode": "lines",
           "name": "Exterior",
           "showlegend": false,
           "type": "scatter",
           "x": {
            "bdata": "AAAAAAAAAAAAAAAAAAAoQAAAAAAAAChAAAAAAAAAJEAAAAAAAAAkQAAAAAAAAAAAAAAAAAAAAAA=",
            "dtype": "f8"
           },
           "y": {
            "bdata": "AAAAAAAAAAAAAAAAAAAAAAAAAAAAAChAAAAAAAAAKEAAAAAAAAAAQAAAAAAAAABAAAAAAAAAAAA=",
            "dtype": "f8"
           }
          },
          {
           "hoverinfo": "text",
           "marker": {
            "opacity": 1,
            "size": 1
           },
           "mode": "markers",
           "showlegend": false,
           "text": [
            "ID: 0, Pos(6.63,1.00)"
           ],
           "type": "scatter",
           "x": [
            6.630919373672707
           ],
           "y": [
            1.0004118397912556
           ]
          },
          {
           "hoverinfo": "text",
           "marker": {
            "opacity": 1,
            "size": 1
           },
           "mode": "markers",
           "showlegend": false,
           "text": [
            "ID: 1, Pos(7.00,1.00)"
           ],
           "type": "scatter",
           "x": [
            7
           ],
           "y": [
            1
           ]
          }
         ],
         "layout": {
          "shapes": [
           {
            "fillcolor": "rgba(0, 125, 255, 0.5)",
            "line": {
             "color": "rgba(0, 125, 255, 0.5)"
            },
            "type": "circle",
            "x0": 6.430919373672706,
            "x1": 6.830919373672707,
            "xref": "x",
            "y0": 0.8004118397912556,
            "y1": 1.2004118397912555,
            "yref": "y"
           },
           {
            "fillcolor": "rgba(128, 0, 0, 0.5)",
            "line": {
             "color": "rgba(128, 0, 0, 0.5)"
            },
            "type": "circle",
            "x0": 6.8,
            "x1": 7.2,
            "xref": "x",
            "y0": 0.8,
            "y1": 1.2,
            "yref": "y"
           },
           {
            "line": {
             "color": "white",
             "width": 3
            },
            "type": "line",
            "x0": 6.630919373672707,
            "x1": 6.830913491217308,
            "y0": 1.0004118397912556,
            "y1": 1.001945771848445
           },
           {
            "line": {
             "color": "white",
             "width": 3
            },
            "type": "line",
            "x0": 7,
            "x1": 7.2,
            "y0": 1,
            "y1": 1
           }
          ],
          "title": {
           "text": "<b>Hirai & Tarui, 1975  |  Number of Agents: 2</b>",
           "x": 0.5
          }
         },
         "name": "131"
        },
        {
         "data": [
          {
           "hoverinfo": "name",
           "line": {
            "color": "grey"
           },
           "mode": "lines",
           "name": "Exterior",
           "showlegend": false,
           "type": "scatter",
           "x": {
            "bdata": "AAAAAAAAAAAAAAAAAAAoQAAAAAAAAChAAAAAAAAAJEAAAAAAAAAkQAAAAAAAAAAAAAAAAAAAAAA=",
            "dtype": "f8"
           },
           "y": {
            "bdata": "AAAAAAAAAAAAAAAAAAAAAAAAAAAAAChAAAAAAAAAKEAAAAAAAAAAQAAAAAAAAABAAAAAAAAAAAA=",
            "dtype": "f8"
           }
          },
          {
           "hoverinfo": "text",
           "marker": {
            "opacity": 1,
            "size": 1
           },
           "mode": "markers",
           "showlegend": false,
           "text": [
            "ID: 0, Pos(6.65,1.00)"
           ],
           "type": "scatter",
           "x": [
            6.645488834650933
           ],
           "y": [
            1.0003141343660436
           ]
          },
          {
           "hoverinfo": "text",
           "marker": {
            "opacity": 1,
            "size": 1
           },
           "mode": "markers",
           "showlegend": false,
           "text": [
            "ID: 1, Pos(7.00,1.00)"
           ],
           "type": "scatter",
           "x": [
            7
           ],
           "y": [
            1
           ]
          }
         ],
         "layout": {
          "shapes": [
           {
            "fillcolor": "rgba(0, 120, 255, 0.5)",
            "line": {
             "color": "rgba(0, 120, 255, 0.5)"
            },
            "type": "circle",
            "x0": 6.4454888346509325,
            "x1": 6.845488834650933,
            "xref": "x",
            "y0": 0.8003141343660436,
            "y1": 1.2003141343660435,
            "yref": "y"
           },
           {
            "fillcolor": "rgba(128, 0, 0, 0.5)",
            "line": {
             "color": "rgba(128, 0, 0, 0.5)"
            },
            "type": "circle",
            "x0": 6.8,
            "x1": 7.2,
            "xref": "x",
            "y0": 0.8,
            "y1": 1.2,
            "yref": "y"
           },
           {
            "line": {
             "color": "white",
             "width": 3
            },
            "type": "line",
            "x0": 6.645488834650933,
            "x1": 6.84548433751784,
            "y0": 1.0003141343660436,
            "y1": 0.9989729285604668
           },
           {
            "line": {
             "color": "white",
             "width": 3
            },
            "type": "line",
            "x0": 7,
            "x1": 7.2,
            "y0": 1,
            "y1": 1
           }
          ],
          "title": {
           "text": "<b>Hirai & Tarui, 1975  |  Number of Agents: 2</b>",
           "x": 0.5
          }
         },
         "name": "132"
        },
        {
         "data": [
          {
           "hoverinfo": "name",
           "line": {
            "color": "grey"
           },
           "mode": "lines",
           "name": "Exterior",
           "showlegend": false,
           "type": "scatter",
           "x": {
            "bdata": "AAAAAAAAAAAAAAAAAAAoQAAAAAAAAChAAAAAAAAAJEAAAAAAAAAkQAAAAAAAAAAAAAAAAAAAAAA=",
            "dtype": "f8"
           },
           "y": {
            "bdata": "AAAAAAAAAAAAAAAAAAAAAAAAAAAAAChAAAAAAAAAKEAAAAAAAAAAQAAAAAAAAABAAAAAAAAAAAA=",
            "dtype": "f8"
           }
          },
          {
           "hoverinfo": "text",
           "marker": {
            "opacity": 1,
            "size": 1
           },
           "mode": "markers",
           "showlegend": false,
           "text": [
            "ID: 0, Pos(6.66,1.00)"
           ],
           "type": "scatter",
           "x": [
            6.660122035897313
           ],
           "y": [
            1.0000099570194994
           ]
          },
          {
           "hoverinfo": "text",
           "marker": {
            "opacity": 1,
            "size": 1
           },
           "mode": "markers",
           "showlegend": false,
           "text": [
            "ID: 1, Pos(7.00,1.00)"
           ],
           "type": "scatter",
           "x": [
            7
           ],
           "y": [
            1
           ]
          }
         ],
         "layout": {
          "shapes": [
           {
            "fillcolor": "rgba(0, 117, 255, 0.5)",
            "line": {
             "color": "rgba(0, 117, 255, 0.5)"
            },
            "type": "circle",
            "x0": 6.460122035897313,
            "x1": 6.860122035897313,
            "xref": "x",
            "y0": 0.8000099570194994,
            "y1": 1.2000099570194993,
            "yref": "y"
           },
           {
            "fillcolor": "rgba(128, 0, 0, 0.5)",
            "line": {
             "color": "rgba(128, 0, 0, 0.5)"
            },
            "type": "circle",
            "x0": 6.8,
            "x1": 7.2,
            "xref": "x",
            "y0": 0.8,
            "y1": 1.2,
            "yref": "y"
           },
           {
            "line": {
             "color": "white",
             "width": 3
            },
            "type": "line",
            "x0": 6.660122035897313,
            "x1": 6.860078840812583,
            "y0": 1.0000099570194994,
            "y1": 0.9958534960156147
           },
           {
            "line": {
             "color": "white",
             "width": 3
            },
            "type": "line",
            "x0": 7,
            "x1": 7.2,
            "y0": 1,
            "y1": 1
           }
          ],
          "title": {
           "text": "<b>Hirai & Tarui, 1975  |  Number of Agents: 2</b>",
           "x": 0.5
          }
         },
         "name": "133"
        },
        {
         "data": [
          {
           "hoverinfo": "name",
           "line": {
            "color": "grey"
           },
           "mode": "lines",
           "name": "Exterior",
           "showlegend": false,
           "type": "scatter",
           "x": {
            "bdata": "AAAAAAAAAAAAAAAAAAAoQAAAAAAAAChAAAAAAAAAJEAAAAAAAAAkQAAAAAAAAAAAAAAAAAAAAAA=",
            "dtype": "f8"
           },
           "y": {
            "bdata": "AAAAAAAAAAAAAAAAAAAAAAAAAAAAAChAAAAAAAAAKEAAAAAAAAAAQAAAAAAAAABAAAAAAAAAAAA=",
            "dtype": "f8"
           }
          },
          {
           "hoverinfo": "text",
           "marker": {
            "opacity": 1,
            "size": 1
           },
           "mode": "markers",
           "showlegend": false,
           "text": [
            "ID: 0, Pos(6.67,1.00)"
           ],
           "type": "scatter",
           "x": [
            6.674819763518323
           ],
           "y": [
            0.9995017865759074
           ]
          },
          {
           "hoverinfo": "text",
           "marker": {
            "opacity": 1,
            "size": 1
           },
           "mode": "markers",
           "showlegend": false,
           "text": [
            "ID: 1, Pos(7.00,1.00)"
           ],
           "type": "scatter",
           "x": [
            7
           ],
           "y": [
            1
           ]
          }
         ],
         "layout": {
          "shapes": [
           {
            "fillcolor": "rgba(0, 112, 255, 0.5)",
            "line": {
             "color": "rgba(0, 112, 255, 0.5)"
            },
            "type": "circle",
            "x0": 6.4748197635183224,
            "x1": 6.874819763518323,
            "xref": "x",
            "y0": 0.7995017865759073,
            "y1": 1.1995017865759074,
            "yref": "y"
           },
           {
            "fillcolor": "rgba(128, 0, 0, 0.5)",
            "line": {
             "color": "rgba(128, 0, 0, 0.5)"
            },
            "type": "circle",
            "x0": 6.8,
            "x1": 7.2,
            "xref": "x",
            "y0": 0.8,
            "y1": 1.2,
            "yref": "y"
           },
           {
            "line": {
             "color": "white",
             "width": 3
            },
            "type": "line",
            "x0": 6.674819763518323,
            "x1": 6.87470032916676,
            "y0": 0.9995017865759074,
            "y1": 0.9925909634656874
           },
           {
            "line": {
             "color": "white",
             "width": 3
            },
            "type": "line",
            "x0": 7,
            "x1": 7.2,
            "y0": 1,
            "y1": 1
           }
          ],
          "title": {
           "text": "<b>Hirai & Tarui, 1975  |  Number of Agents: 2</b>",
           "x": 0.5
          }
         },
         "name": "134"
        },
        {
         "data": [
          {
           "hoverinfo": "name",
           "line": {
            "color": "grey"
           },
           "mode": "lines",
           "name": "Exterior",
           "showlegend": false,
           "type": "scatter",
           "x": {
            "bdata": "AAAAAAAAAAAAAAAAAAAoQAAAAAAAAChAAAAAAAAAJEAAAAAAAAAkQAAAAAAAAAAAAAAAAAAAAAA=",
            "dtype": "f8"
           },
           "y": {
            "bdata": "AAAAAAAAAAAAAAAAAAAAAAAAAAAAAChAAAAAAAAAKEAAAAAAAAAAQAAAAAAAAABAAAAAAAAAAAA=",
            "dtype": "f8"
           }
          },
          {
           "hoverinfo": "text",
           "marker": {
            "opacity": 1,
            "size": 1
           },
           "mode": "markers",
           "showlegend": false,
           "text": [
            "ID: 0, Pos(6.69,1.00)"
           ],
           "type": "scatter",
           "x": [
            6.689582773696724
           ],
           "y": [
            0.9993921009112877
           ]
          },
          {
           "hoverinfo": "text",
           "marker": {
            "opacity": 1,
            "size": 1
           },
           "mode": "markers",
           "showlegend": false,
           "text": [
            "ID: 1, Pos(7.00,1.00)"
           ],
           "type": "scatter",
           "x": [
            7
           ],
           "y": [
            1
           ]
          }
         ],
         "layout": {
          "shapes": [
           {
            "fillcolor": "rgba(0, 112, 255, 0.5)",
            "line": {
             "color": "rgba(0, 112, 255, 0.5)"
            },
            "type": "circle",
            "x0": 6.489582773696724,
            "x1": 6.889582773696724,
            "xref": "x",
            "y0": 0.7993921009112877,
            "y1": 1.1993921009112878,
            "yref": "y"
           },
           {
            "fillcolor": "rgba(128, 0, 0, 0.5)",
            "line": {
             "color": "rgba(128, 0, 0, 0.5)"
            },
            "type": "circle",
            "x0": 6.8,
            "x1": 7.2,
            "xref": "x",
            "y0": 0.8,
            "y1": 1.2,
            "yref": "y"
           },
           {
            "line": {
             "color": "white",
             "width": 3
            },
            "type": "line",
            "x0": 6.689582773696724,
            "x1": 6.889577253787648,
            "y0": 0.9993921009112877,
            "y1": 0.9979061893523343
           },
           {
            "line": {
             "color": "white",
             "width": 3
            },
            "type": "line",
            "x0": 7,
            "x1": 7.2,
            "y0": 1,
            "y1": 1
           }
          ],
          "title": {
           "text": "<b>Hirai & Tarui, 1975  |  Number of Agents: 2</b>",
           "x": 0.5
          }
         },
         "name": "135"
        },
        {
         "data": [
          {
           "hoverinfo": "name",
           "line": {
            "color": "grey"
           },
           "mode": "lines",
           "name": "Exterior",
           "showlegend": false,
           "type": "scatter",
           "x": {
            "bdata": "AAAAAAAAAAAAAAAAAAAoQAAAAAAAAChAAAAAAAAAJEAAAAAAAAAkQAAAAAAAAAAAAAAAAAAAAAA=",
            "dtype": "f8"
           },
           "y": {
            "bdata": "AAAAAAAAAAAAAAAAAAAAAAAAAAAAAChAAAAAAAAAKEAAAAAAAAAAQAAAAAAAAABAAAAAAAAAAAA=",
            "dtype": "f8"
           }
          },
          {
           "hoverinfo": "text",
           "marker": {
            "opacity": 1,
            "size": 1
           },
           "mode": "markers",
           "showlegend": false,
           "text": [
            "ID: 0, Pos(6.70,1.00)"
           ],
           "type": "scatter",
           "x": [
            6.704411931981442
           ],
           "y": [
            0.9996762269259034
           ]
          },
          {
           "hoverinfo": "text",
           "marker": {
            "opacity": 1,
            "size": 1
           },
           "mode": "markers",
           "showlegend": false,
           "text": [
            "ID: 1, Pos(7.00,1.00)"
           ],
           "type": "scatter",
           "x": [
            7
           ],
           "y": [
            1
           ]
          }
         ],
         "layout": {
          "shapes": [
           {
            "fillcolor": "rgba(0, 109, 255, 0.5)",
            "line": {
             "color": "rgba(0, 109, 255, 0.5)"
            },
            "type": "circle",
            "x0": 6.5044119319814415,
            "x1": 6.904411931981442,
            "xref": "x",
            "y0": 0.7996762269259035,
            "y1": 1.1996762269259034,
            "yref": "y"
           },
           {
            "fillcolor": "rgba(128, 0, 0, 0.5)",
            "line": {
             "color": "rgba(128, 0, 0, 0.5)"
            },
            "type": "circle",
            "x0": 6.8,
            "x1": 7.2,
            "xref": "x",
            "y0": 0.8,
            "y1": 1.2,
            "yref": "y"
           },
           {
            "line": {
             "color": "white",
             "width": 3
            },
            "type": "line",
            "x0": 6.704411931981442,
            "x1": 6.90437523169581,
            "y0": 0.9996762269259034,
            "y1": 1.0035075148740404
           },
           {
            "line": {
             "color": "white",
             "width": 3
            },
            "type": "line",
            "x0": 7,
            "x1": 7.2,
            "y0": 1,
            "y1": 1
           }
          ],
          "title": {
           "text": "<b>Hirai & Tarui, 1975  |  Number of Agents: 2</b>",
           "x": 0.5
          }
         },
         "name": "136"
        },
        {
         "data": [
          {
           "hoverinfo": "name",
           "line": {
            "color": "grey"
           },
           "mode": "lines",
           "name": "Exterior",
           "showlegend": false,
           "type": "scatter",
           "x": {
            "bdata": "AAAAAAAAAAAAAAAAAAAoQAAAAAAAAChAAAAAAAAAJEAAAAAAAAAkQAAAAAAAAAAAAAAAAAAAAAA=",
            "dtype": "f8"
           },
           "y": {
            "bdata": "AAAAAAAAAAAAAAAAAAAAAAAAAAAAAChAAAAAAAAAKEAAAAAAAAAAQAAAAAAAAABAAAAAAAAAAAA=",
            "dtype": "f8"
           }
          },
          {
           "hoverinfo": "text",
           "marker": {
            "opacity": 1,
            "size": 1
           },
           "mode": "markers",
           "showlegend": false,
           "text": [
            "ID: 0, Pos(6.72,1.00)"
           ],
           "type": "scatter",
           "x": [
            6.719308010132631
           ],
           "y": [
            1.000349525257679
           ]
          },
          {
           "hoverinfo": "text",
           "marker": {
            "opacity": 1,
            "size": 1
           },
           "mode": "markers",
           "showlegend": false,
           "text": [
            "ID: 1, Pos(7.00,1.00)"
           ],
           "type": "scatter",
           "x": [
            7
           ],
           "y": [
            1
           ]
          }
         ],
         "layout": {
          "shapes": [
           {
            "fillcolor": "rgba(0, 104, 255, 0.5)",
            "line": {
             "color": "rgba(0, 104, 255, 0.5)"
            },
            "type": "circle",
            "x0": 6.51930801013263,
            "x1": 6.919308010132631,
            "xref": "x",
            "y0": 0.8003495252576791,
            "y1": 1.200349525257679,
            "yref": "y"
           },
           {
            "fillcolor": "rgba(128, 0, 0, 0.5)",
            "line": {
             "color": "rgba(128, 0, 0, 0.5)"
            },
            "type": "circle",
            "x0": 6.8,
            "x1": 7.2,
            "xref": "x",
            "y0": 0.8,
            "y1": 1.2,
            "yref": "y"
           },
           {
            "line": {
             "color": "white",
             "width": 3
            },
            "type": "line",
            "x0": 6.719308010132631,
            "x1": 6.919104021313995,
            "y0": 1.000349525257679,
            "y1": 1.0093802459385524
           },
           {
            "line": {
             "color": "white",
             "width": 3
            },
            "type": "line",
            "x0": 7,
            "x1": 7.2,
            "y0": 1,
            "y1": 1
           }
          ],
          "title": {
           "text": "<b>Hirai & Tarui, 1975  |  Number of Agents: 2</b>",
           "x": 0.5
          }
         },
         "name": "137"
        },
        {
         "data": [
          {
           "hoverinfo": "name",
           "line": {
            "color": "grey"
           },
           "mode": "lines",
           "name": "Exterior",
           "showlegend": false,
           "type": "scatter",
           "x": {
            "bdata": "AAAAAAAAAAAAAAAAAAAoQAAAAAAAAChAAAAAAAAAJEAAAAAAAAAkQAAAAAAAAAAAAAAAAAAAAAA=",
            "dtype": "f8"
           },
           "y": {
            "bdata": "AAAAAAAAAAAAAAAAAAAAAAAAAAAAAChAAAAAAAAAKEAAAAAAAAAAQAAAAAAAAABAAAAAAAAAAAA=",
            "dtype": "f8"
           }
          },
          {
           "hoverinfo": "text",
           "marker": {
            "opacity": 1,
            "size": 1
           },
           "mode": "markers",
           "showlegend": false,
           "text": [
            "ID: 0, Pos(6.73,1.00)"
           ],
           "type": "scatter",
           "x": [
            6.73427169329748
           ],
           "y": [
            1.0008073618250388
           ]
          },
          {
           "hoverinfo": "text",
           "marker": {
            "opacity": 1,
            "size": 1
           },
           "mode": "markers",
           "showlegend": false,
           "text": [
            "ID: 1, Pos(7.00,1.00)"
           ],
           "type": "scatter",
           "x": [
            7
           ],
           "y": [
            1
           ]
          }
         ],
         "layout": {
          "shapes": [
           {
            "fillcolor": "rgba(0, 101, 255, 0.5)",
            "line": {
             "color": "rgba(0, 101, 255, 0.5)"
            },
            "type": "circle",
            "x0": 6.53427169329748,
            "x1": 6.934271693297481,
            "xref": "x",
            "y0": 0.8008073618250389,
            "y1": 1.2008073618250388,
            "yref": "y"
           },
           {
            "fillcolor": "rgba(128, 0, 0, 0.5)",
            "line": {
             "color": "rgba(128, 0, 0, 0.5)"
            },
            "type": "circle",
            "x0": 6.8,
            "x1": 7.2,
            "xref": "x",
            "y0": 0.8,
            "y1": 1.2,
            "yref": "y"
           },
           {
            "line": {
             "color": "white",
             "width": 3
            },
            "type": "line",
            "x0": 6.73427169329748,
            "x1": 6.934178144296562,
            "y0": 1.0008073618250388,
            "y1": 1.00692380269793
           },
           {
            "line": {
             "color": "white",
             "width": 3
            },
            "type": "line",
            "x0": 7,
            "x1": 7.2,
            "y0": 1,
            "y1": 1
           }
          ],
          "title": {
           "text": "<b>Hirai & Tarui, 1975  |  Number of Agents: 2</b>",
           "x": 0.5
          }
         },
         "name": "138"
        },
        {
         "data": [
          {
           "hoverinfo": "name",
           "line": {
            "color": "grey"
           },
           "mode": "lines",
           "name": "Exterior",
           "showlegend": false,
           "type": "scatter",
           "x": {
            "bdata": "AAAAAAAAAAAAAAAAAAAoQAAAAAAAAChAAAAAAAAAJEAAAAAAAAAkQAAAAAAAAAAAAAAAAAAAAAA=",
            "dtype": "f8"
           },
           "y": {
            "bdata": "AAAAAAAAAAAAAAAAAAAAAAAAAAAAAChAAAAAAAAAKEAAAAAAAAAAQAAAAAAAAABAAAAAAAAAAAA=",
            "dtype": "f8"
           }
          },
          {
           "hoverinfo": "text",
           "marker": {
            "opacity": 1,
            "size": 1
           },
           "mode": "markers",
           "showlegend": false,
           "text": [
            "ID: 0, Pos(6.75,1.00)"
           ],
           "type": "scatter",
           "x": [
            6.749303828163462
           ],
           "y": [
            1.0010523232494764
           ]
          },
          {
           "hoverinfo": "text",
           "marker": {
            "opacity": 1,
            "size": 1
           },
           "mode": "markers",
           "showlegend": false,
           "text": [
            "ID: 1, Pos(7.00,1.00)"
           ],
           "type": "scatter",
           "x": [
            7
           ],
           "y": [
            1
           ]
          }
         ],
         "layout": {
          "shapes": [
           {
            "fillcolor": "rgba(0, 96, 255, 0.5)",
            "line": {
             "color": "rgba(0, 96, 255, 0.5)"
            },
            "type": "circle",
            "x0": 6.5493038281634615,
            "x1": 6.949303828163462,
            "xref": "x",
            "y0": 0.8010523232494764,
            "y1": 1.2010523232494763,
            "yref": "y"
           },
           {
            "fillcolor": "rgba(128, 0, 0, 0.5)",
            "line": {
             "color": "rgba(128, 0, 0, 0.5)"
            },
            "type": "circle",
            "x0": 6.8,
            "x1": 7.2,
            "xref": "x",
            "y0": 0.8,
            "y1": 1.2,
            "yref": "y"
           },
           {
            "line": {
             "color": "white",
             "width": 3
            },
            "type": "line",
            "x0": 6.749303828163462,
            "x1": 6.949277277976463,
            "y0": 1.0010523232494764,
            "y1": 1.0043110607177483
           },
           {
            "line": {
             "color": "white",
             "width": 3
            },
            "type": "line",
            "x0": 7,
            "x1": 7.2,
            "y0": 1,
            "y1": 1
           }
          ],
          "title": {
           "text": "<b>Hirai & Tarui, 1975  |  Number of Agents: 2</b>",
           "x": 0.5
          }
         },
         "name": "139"
        },
        {
         "data": [
          {
           "hoverinfo": "name",
           "line": {
            "color": "grey"
           },
           "mode": "lines",
           "name": "Exterior",
           "showlegend": false,
           "type": "scatter",
           "x": {
            "bdata": "AAAAAAAAAAAAAAAAAAAoQAAAAAAAAChAAAAAAAAAJEAAAAAAAAAkQAAAAAAAAAAAAAAAAAAAAAA=",
            "dtype": "f8"
           },
           "y": {
            "bdata": "AAAAAAAAAAAAAAAAAAAAAAAAAAAAAChAAAAAAAAAKEAAAAAAAAAAQAAAAAAAAABAAAAAAAAAAAA=",
            "dtype": "f8"
           }
          },
          {
           "hoverinfo": "text",
           "marker": {
            "opacity": 1,
            "size": 1
           },
           "mode": "markers",
           "showlegend": false,
           "text": [
            "ID: 0, Pos(6.76,1.00)"
           ],
           "type": "scatter",
           "x": [
            6.764405227322285
           ],
           "y": [
            1.0010869851740223
           ]
          },
          {
           "hoverinfo": "text",
           "marker": {
            "opacity": 1,
            "size": 1
           },
           "mode": "markers",
           "showlegend": false,
           "text": [
            "ID: 1, Pos(7.00,1.00)"
           ],
           "type": "scatter",
           "x": [
            7
           ],
           "y": [
            1
           ]
          }
         ],
         "layout": {
          "shapes": [
           {
            "fillcolor": "rgba(0, 93, 255, 0.5)",
            "line": {
             "color": "rgba(0, 93, 255, 0.5)"
            },
            "type": "circle",
            "x0": 6.564405227322285,
            "x1": 6.964405227322286,
            "xref": "x",
            "y0": 0.8010869851740223,
            "y1": 1.2010869851740222,
            "yref": "y"
           },
           {
            "fillcolor": "rgba(128, 0, 0, 0.5)",
            "line": {
             "color": "rgba(128, 0, 0, 0.5)"
            },
            "type": "circle",
            "x0": 6.8,
            "x1": 7.2,
            "xref": "x",
            "y0": 0.8,
            "y1": 1.2,
            "yref": "y"
           },
           {
            "line": {
             "color": "white",
             "width": 3
            },
            "type": "line",
            "x0": 6.764405227322285,
            "x1": 6.964404700493793,
            "y0": 1.0010869851740223,
            "y1": 1.0015460397672682
           },
           {
            "line": {
             "color": "white",
             "width": 3
            },
            "type": "line",
            "x0": 7,
            "x1": 7.2,
            "y0": 1,
            "y1": 1
           }
          ],
          "title": {
           "text": "<b>Hirai & Tarui, 1975  |  Number of Agents: 2</b>",
           "x": 0.5
          }
         },
         "name": "140"
        },
        {
         "data": [
          {
           "hoverinfo": "name",
           "line": {
            "color": "grey"
           },
           "mode": "lines",
           "name": "Exterior",
           "showlegend": false,
           "type": "scatter",
           "x": {
            "bdata": "AAAAAAAAAAAAAAAAAAAoQAAAAAAAAChAAAAAAAAAJEAAAAAAAAAkQAAAAAAAAAAAAAAAAAAAAAA=",
            "dtype": "f8"
           },
           "y": {
            "bdata": "AAAAAAAAAAAAAAAAAAAAAAAAAAAAAChAAAAAAAAAKEAAAAAAAAAAQAAAAAAAAABAAAAAAAAAAAA=",
            "dtype": "f8"
           }
          },
          {
           "hoverinfo": "text",
           "marker": {
            "opacity": 1,
            "size": 1
           },
           "mode": "markers",
           "showlegend": false,
           "text": [
            "ID: 0, Pos(6.78,1.00)"
           ],
           "type": "scatter",
           "x": [
            6.779576671692542
           ],
           "y": [
            1.000913913737513
           ]
          },
          {
           "hoverinfo": "text",
           "marker": {
            "opacity": 1,
            "size": 1
           },
           "mode": "markers",
           "showlegend": false,
           "text": [
            "ID: 1, Pos(7.00,1.00)"
           ],
           "type": "scatter",
           "x": [
            7
           ],
           "y": [
            1
           ]
          }
         ],
         "layout": {
          "shapes": [
           {
            "fillcolor": "rgba(0, 88, 255, 0.5)",
            "line": {
             "color": "rgba(0, 88, 255, 0.5)"
            },
            "type": "circle",
            "x0": 6.579576671692542,
            "x1": 6.979576671692542,
            "xref": "x",
            "y0": 0.800913913737513,
            "y1": 1.2009139137375129,
            "yref": "y"
           },
           {
            "fillcolor": "rgba(128, 0, 0, 0.5)",
            "line": {
             "color": "rgba(128, 0, 0, 0.5)"
            },
            "type": "circle",
            "x0": 6.8,
            "x1": 7.2,
            "xref": "x",
            "y0": 0.8,
            "y1": 1.2,
            "yref": "y"
           },
           {
            "line": {
             "color": "white",
             "width": 3
            },
            "type": "line",
            "x0": 6.779576671692542,
            "x1": 6.979563659377983,
            "y0": 1.000913913737513,
            "y1": 0.9986325201933516
           },
           {
            "line": {
             "color": "white",
             "width": 3
            },
            "type": "line",
            "x0": 7,
            "x1": 7.2,
            "y0": 1,
            "y1": 1
           }
          ],
          "title": {
           "text": "<b>Hirai & Tarui, 1975  |  Number of Agents: 2</b>",
           "x": 0.5
          }
         },
         "name": "141"
        },
        {
         "data": [
          {
           "hoverinfo": "name",
           "line": {
            "color": "grey"
           },
           "mode": "lines",
           "name": "Exterior",
           "showlegend": false,
           "type": "scatter",
           "x": {
            "bdata": "AAAAAAAAAAAAAAAAAAAoQAAAAAAAAChAAAAAAAAAJEAAAAAAAAAkQAAAAAAAAAAAAAAAAAAAAAA=",
            "dtype": "f8"
           },
           "y": {
            "bdata": "AAAAAAAAAAAAAAAAAAAAAAAAAAAAAChAAAAAAAAAKEAAAAAAAAAAQAAAAAAAAABAAAAAAAAAAAA=",
            "dtype": "f8"
           }
          },
          {
           "hoverinfo": "text",
           "marker": {
            "opacity": 1,
            "size": 1
           },
           "mode": "markers",
           "showlegend": false,
           "text": [
            "ID: 0, Pos(6.79,1.00)"
           ],
           "type": "scatter",
           "x": [
            6.79481891283005
           ],
           "y": [
            1.0005356623367494
           ]
          },
          {
           "hoverinfo": "text",
           "marker": {
            "opacity": 1,
            "size": 1
           },
           "mode": "markers",
           "showlegend": false,
           "text": [
            "ID: 1, Pos(7.00,1.00)"
           ],
           "type": "scatter",
           "x": [
            7
           ],
           "y": [
            1
           ]
          }
         ],
         "layout": {
          "shapes": [
           {
            "fillcolor": "rgba(0, 85, 255, 0.5)",
            "line": {
             "color": "rgba(0, 85, 255, 0.5)"
            },
            "type": "circle",
            "x0": 6.59481891283005,
            "x1": 6.99481891283005,
            "xref": "x",
            "y0": 0.8005356623367494,
            "y1": 1.2005356623367494,
            "yref": "y"
           },
           {
            "fillcolor": "rgba(128, 0, 0, 0.5)",
            "line": {
             "color": "rgba(128, 0, 0, 0.5)"
            },
            "type": "circle",
            "x0": 6.8,
            "x1": 7.2,
            "xref": "x",
            "y0": 0.8,
            "y1": 1.2,
            "yref": "y"
           },
           {
            "line": {
             "color": "white",
             "width": 3
            },
            "type": "line",
            "x0": 6.79481891283005,
            "x1": 6.994757357891703,
            "y0": 1.0005356623367494,
            "y1": 0.9955739906095562
           },
           {
            "line": {
             "color": "white",
             "width": 3
            },
            "type": "line",
            "x0": 7,
            "x1": 7.2,
            "y0": 1,
            "y1": 1
           }
          ],
          "title": {
           "text": "<b>Hirai & Tarui, 1975  |  Number of Agents: 2</b>",
           "x": 0.5
          }
         },
         "name": "142"
        },
        {
         "data": [
          {
           "hoverinfo": "name",
           "line": {
            "color": "grey"
           },
           "mode": "lines",
           "name": "Exterior",
           "showlegend": false,
           "type": "scatter",
           "x": {
            "bdata": "AAAAAAAAAAAAAAAAAAAoQAAAAAAAAChAAAAAAAAAJEAAAAAAAAAkQAAAAAAAAAAAAAAAAAAAAAA=",
            "dtype": "f8"
           },
           "y": {
            "bdata": "AAAAAAAAAAAAAAAAAAAAAAAAAAAAAChAAAAAAAAAKEAAAAAAAAAAQAAAAAAAAABAAAAAAAAAAAA=",
            "dtype": "f8"
           }
          },
          {
           "hoverinfo": "text",
           "marker": {
            "opacity": 1,
            "size": 1
           },
           "mode": "markers",
           "showlegend": false,
           "text": [
            "ID: 0, Pos(6.81,1.00)"
           ],
           "type": "scatter",
           "x": [
            6.810132675065429
           ],
           "y": [
            0.9999547878707455
           ]
          },
          {
           "hoverinfo": "text",
           "marker": {
            "opacity": 1,
            "size": 1
           },
           "mode": "markers",
           "showlegend": false,
           "text": [
            "ID: 1, Pos(7.00,1.00)"
           ],
           "type": "scatter",
           "x": [
            7
           ],
           "y": [
            1
           ]
          }
         ],
         "layout": {
          "shapes": [
           {
            "fillcolor": "rgba(0, 80, 255, 0.5)",
            "line": {
             "color": "rgba(0, 80, 255, 0.5)"
            },
            "type": "circle",
            "x0": 6.610132675065429,
            "x1": 7.010132675065429,
            "xref": "x",
            "y0": 0.7999547878707456,
            "y1": 1.1999547878707455,
            "yref": "y"
           },
           {
            "fillcolor": "rgba(128, 0, 0, 0.5)",
            "line": {
             "color": "rgba(128, 0, 0, 0.5)"
            },
            "type": "circle",
            "x0": 6.8,
            "x1": 7.2,
            "xref": "x",
            "y0": 0.8,
            "y1": 1.2,
            "yref": "y"
           },
           {
            "line": {
             "color": "white",
             "width": 3
            },
            "type": "line",
            "x0": 6.810132675065429,
            "x1": 7.009988950026822,
            "y0": 0.9999547878707455,
            "y1": 0.9923739331329385
           },
           {
            "line": {
             "color": "white",
             "width": 3
            },
            "type": "line",
            "x0": 7,
            "x1": 7.2,
            "y0": 1,
            "y1": 1
           }
          ],
          "title": {
           "text": "<b>Hirai & Tarui, 1975  |  Number of Agents: 2</b>",
           "x": 0.5
          }
         },
         "name": "143"
        },
        {
         "data": [
          {
           "hoverinfo": "name",
           "line": {
            "color": "grey"
           },
           "mode": "lines",
           "name": "Exterior",
           "showlegend": false,
           "type": "scatter",
           "x": {
            "bdata": "AAAAAAAAAAAAAAAAAAAoQAAAAAAAAChAAAAAAAAAJEAAAAAAAAAkQAAAAAAAAAAAAAAAAAAAAAA=",
            "dtype": "f8"
           },
           "y": {
            "bdata": "AAAAAAAAAAAAAAAAAAAAAAAAAAAAAChAAAAAAAAAKEAAAAAAAAAAQAAAAAAAAABAAAAAAAAAAAA=",
            "dtype": "f8"
           }
          },
          {
           "hoverinfo": "text",
           "marker": {
            "opacity": 1,
            "size": 1
           },
           "mode": "markers",
           "showlegend": false,
           "text": [
            "ID: 0, Pos(6.83,1.00)"
           ],
           "type": "scatter",
           "x": [
            6.825518657371353
           ],
           "y": [
            0.9997738664907911
           ]
          },
          {
           "hoverinfo": "text",
           "marker": {
            "opacity": 1,
            "size": 1
           },
           "mode": "markers",
           "showlegend": false,
           "text": [
            "ID: 1, Pos(7.00,1.00)"
           ],
           "type": "scatter",
           "x": [
            7
           ],
           "y": [
            1
           ]
          }
         ],
         "layout": {
          "shapes": [
           {
            "fillcolor": "rgba(0, 77, 255, 0.5)",
            "line": {
             "color": "rgba(0, 77, 255, 0.5)"
            },
            "type": "circle",
            "x0": 6.6255186573713525,
            "x1": 7.025518657371353,
            "xref": "x",
            "y0": 0.7997738664907912,
            "y1": 1.199773866490791,
            "yref": "y"
           },
           {
            "fillcolor": "rgba(128, 0, 0, 0.5)",
            "line": {
             "color": "rgba(128, 0, 0, 0.5)"
            },
            "type": "circle",
            "x0": 6.8,
            "x1": 7.2,
            "xref": "x",
            "y0": 0.8,
            "y1": 1.2,
            "yref": "y"
           },
           {
            "line": {
             "color": "white",
             "width": 3
            },
            "type": "line",
            "x0": 6.825518657371353,
            "x1": 7.025504831761694,
            "y0": 0.9997738664907911,
            "y1": 0.9974222600789876
           },
           {
            "line": {
             "color": "white",
             "width": 3
            },
            "type": "line",
            "x0": 7,
            "x1": 7.2,
            "y0": 1,
            "y1": 1
           }
          ],
          "title": {
           "text": "<b>Hirai & Tarui, 1975  |  Number of Agents: 2</b>",
           "x": 0.5
          }
         },
         "name": "144"
        },
        {
         "data": [
          {
           "hoverinfo": "name",
           "line": {
            "color": "grey"
           },
           "mode": "lines",
           "name": "Exterior",
           "showlegend": false,
           "type": "scatter",
           "x": {
            "bdata": "AAAAAAAAAAAAAAAAAAAoQAAAAAAAAChAAAAAAAAAJEAAAAAAAAAkQAAAAAAAAAAAAAAAAAAAAAA=",
            "dtype": "f8"
           },
           "y": {
            "bdata": "AAAAAAAAAAAAAAAAAAAAAAAAAAAAAChAAAAAAAAAKEAAAAAAAAAAQAAAAAAAAABAAAAAAAAAAAA=",
            "dtype": "f8"
           }
          },
          {
           "hoverinfo": "text",
           "marker": {
            "opacity": 1,
            "size": 1
           },
           "mode": "markers",
           "showlegend": false,
           "text": [
            "ID: 0, Pos(6.84,1.00)"
           ],
           "type": "scatter",
           "x": [
            6.840977683100823
           ],
           "y": [
            0.999988107393874
           ]
          },
          {
           "hoverinfo": "text",
           "marker": {
            "opacity": 1,
            "size": 1
           },
           "mode": "markers",
           "showlegend": false,
           "text": [
            "ID: 1, Pos(7.00,1.00)"
           ],
           "type": "scatter",
           "x": [
            7
           ],
           "y": [
            1
           ]
          }
         ],
         "layout": {
          "shapes": [
           {
            "fillcolor": "rgba(0, 72, 255, 0.5)",
            "line": {
             "color": "rgba(0, 72, 255, 0.5)"
            },
            "type": "circle",
            "x0": 6.6409776831008225,
            "x1": 7.040977683100823,
            "xref": "x",
            "y0": 0.7999881073938739,
            "y1": 1.199988107393874,
            "yref": "y"
           },
           {
            "fillcolor": "rgba(128, 0, 0, 0.5)",
            "line": {
             "color": "rgba(128, 0, 0, 0.5)"
            },
            "type": "circle",
            "x0": 6.8,
            "x1": 7.2,
            "xref": "x",
            "y0": 0.8,
            "y1": 1.2,
            "yref": "y"
           },
           {
            "line": {
             "color": "white",
             "width": 3
            },
            "type": "line",
            "x0": 6.840977683100823,
            "x1": 7.040958479707036,
            "y0": 0.999988107393874,
            "y1": 1.00275956707147
           },
           {
            "line": {
             "color": "white",
             "width": 3
            },
            "type": "line",
            "x0": 7,
            "x1": 7.2,
            "y0": 1,
            "y1": 1
           }
          ],
          "title": {
           "text": "<b>Hirai & Tarui, 1975  |  Number of Agents: 2</b>",
           "x": 0.5
          }
         },
         "name": "145"
        },
        {
         "data": [
          {
           "hoverinfo": "name",
           "line": {
            "color": "grey"
           },
           "mode": "lines",
           "name": "Exterior",
           "showlegend": false,
           "type": "scatter",
           "x": {
            "bdata": "AAAAAAAAAAAAAAAAAAAoQAAAAAAAAChAAAAAAAAAJEAAAAAAAAAkQAAAAAAAAAAAAAAAAAAAAAA=",
            "dtype": "f8"
           },
           "y": {
            "bdata": "AAAAAAAAAAAAAAAAAAAAAAAAAAAAAChAAAAAAAAAKEAAAAAAAAAAQAAAAAAAAABAAAAAAAAAAAA=",
            "dtype": "f8"
           }
          },
          {
           "hoverinfo": "text",
           "marker": {
            "opacity": 1,
            "size": 1
           },
           "mode": "markers",
           "showlegend": false,
           "text": [
            "ID: 0, Pos(6.86,1.00)"
           ],
           "type": "scatter",
           "x": [
            6.85651048947637
           ],
           "y": [
            1.0005927004089323
           ]
          },
          {
           "hoverinfo": "text",
           "marker": {
            "opacity": 1,
            "size": 1
           },
           "mode": "markers",
           "showlegend": false,
           "text": [
            "ID: 1, Pos(7.00,1.00)"
           ],
           "type": "scatter",
           "x": [
            7
           ],
           "y": [
            1
           ]
          }
         ],
         "layout": {
          "shapes": [
           {
            "fillcolor": "rgba(0, 69, 255, 0.5)",
            "line": {
             "color": "rgba(0, 69, 255, 0.5)"
            },
            "type": "circle",
            "x0": 6.65651048947637,
            "x1": 7.05651048947637,
            "xref": "x",
            "y0": 0.8005927004089324,
            "y1": 1.2005927004089323,
            "yref": "y"
           },
           {
            "fillcolor": "rgba(128, 0, 0, 0.5)",
            "line": {
             "color": "rgba(128, 0, 0, 0.5)"
            },
            "type": "circle",
            "x0": 6.8,
            "x1": 7.2,
            "xref": "x",
            "y0": 0.8,
            "y1": 1.2,
            "yref": "y"
           },
           {
            "line": {
             "color": "white",
             "width": 3
            },
            "type": "line",
            "x0": 6.85651048947637,
            "x1": 7.056359156611665,
            "y0": 1.0005927004089323,
            "y1": 1.008371533499193
           },
           {
            "line": {
             "color": "white",
             "width": 3
            },
            "type": "line",
            "x0": 7,
            "x1": 7.2,
            "y0": 1,
            "y1": 1
           }
          ],
          "title": {
           "text": "<b>Hirai & Tarui, 1975  |  Number of Agents: 2</b>",
           "x": 0.5
          }
         },
         "name": "146"
        },
        {
         "data": [
          {
           "hoverinfo": "name",
           "line": {
            "color": "grey"
           },
           "mode": "lines",
           "name": "Exterior",
           "showlegend": false,
           "type": "scatter",
           "x": {
            "bdata": "AAAAAAAAAAAAAAAAAAAoQAAAAAAAAChAAAAAAAAAJEAAAAAAAAAkQAAAAAAAAAAAAAAAAAAAAAA=",
            "dtype": "f8"
           },
           "y": {
            "bdata": "AAAAAAAAAAAAAAAAAAAAAAAAAAAAAChAAAAAAAAAKEAAAAAAAAAAQAAAAAAAAABAAAAAAAAAAAA=",
            "dtype": "f8"
           }
          },
          {
           "hoverinfo": "text",
           "marker": {
            "opacity": 1,
            "size": 1
           },
           "mode": "markers",
           "showlegend": false,
           "text": [
            "ID: 0, Pos(6.87,1.00)"
           ],
           "type": "scatter",
           "x": [
            6.872117733956982
           ],
           "y": [
            1.00098276413804
           ]
          },
          {
           "hoverinfo": "text",
           "marker": {
            "opacity": 1,
            "size": 1
           },
           "mode": "markers",
           "showlegend": false,
           "text": [
            "ID: 1, Pos(7.00,1.00)"
           ],
           "type": "scatter",
           "x": [
            7
           ],
           "y": [
            1
           ]
          }
         ],
         "layout": {
          "shapes": [
           {
            "fillcolor": "rgba(0, 64, 255, 0.5)",
            "line": {
             "color": "rgba(0, 64, 255, 0.5)"
            },
            "type": "circle",
            "x0": 6.6721177339569815,
            "x1": 7.072117733956982,
            "xref": "x",
            "y0": 0.80098276413804,
            "y1": 1.20098276413804,
            "yref": "y"
           },
           {
            "fillcolor": "rgba(128, 0, 0, 0.5)",
            "line": {
             "color": "rgba(128, 0, 0, 0.5)"
            },
            "type": "circle",
            "x0": 6.8,
            "x1": 7.2,
            "xref": "x",
            "y0": 0.8,
            "y1": 1.2,
            "yref": "y"
           },
           {
            "line": {
             "color": "white",
             "width": 3
            },
            "type": "line",
            "x0": 6.872117733956982,
            "x1": 7.072055300803001,
            "y0": 1.00098276413804,
            "y1": 1.0059796995682215
           },
           {
            "line": {
             "color": "white",
             "width": 3
            },
            "type": "line",
            "x0": 7,
            "x1": 7.2,
            "y0": 1,
            "y1": 1
           }
          ],
          "title": {
           "text": "<b>Hirai & Tarui, 1975  |  Number of Agents: 2</b>",
           "x": 0.5
          }
         },
         "name": "147"
        },
        {
         "data": [
          {
           "hoverinfo": "name",
           "line": {
            "color": "grey"
           },
           "mode": "lines",
           "name": "Exterior",
           "showlegend": false,
           "type": "scatter",
           "x": {
            "bdata": "AAAAAAAAAAAAAAAAAAAoQAAAAAAAAChAAAAAAAAAJEAAAAAAAAAkQAAAAAAAAAAAAAAAAAAAAAA=",
            "dtype": "f8"
           },
           "y": {
            "bdata": "AAAAAAAAAAAAAAAAAAAAAAAAAAAAAChAAAAAAAAAKEAAAAAAAAAAQAAAAAAAAABAAAAAAAAAAAA=",
            "dtype": "f8"
           }
          },
          {
           "hoverinfo": "text",
           "marker": {
            "opacity": 1,
            "size": 1
           },
           "mode": "markers",
           "showlegend": false,
           "text": [
            "ID: 0, Pos(6.89,1.00)"
           ],
           "type": "scatter",
           "x": [
            6.887800202604475
           ],
           "y": [
            1.0011608521873583
           ]
          },
          {
           "hoverinfo": "text",
           "marker": {
            "opacity": 1,
            "size": 1
           },
           "mode": "markers",
           "showlegend": false,
           "text": [
            "ID: 1, Pos(7.00,1.00)"
           ],
           "type": "scatter",
           "x": [
            7
           ],
           "y": [
            1
           ]
          }
         ],
         "layout": {
          "shapes": [
           {
            "fillcolor": "rgba(0, 61, 255, 0.5)",
            "line": {
             "color": "rgba(0, 61, 255, 0.5)"
            },
            "type": "circle",
            "x0": 6.687800202604475,
            "x1": 7.087800202604475,
            "xref": "x",
            "y0": 0.8011608521873583,
            "y1": 1.2011608521873582,
            "yref": "y"
           },
           {
            "fillcolor": "rgba(128, 0, 0, 0.5)",
            "line": {
             "color": "rgba(128, 0, 0, 0.5)"
            },
            "type": "circle",
            "x0": 6.8,
            "x1": 7.2,
            "xref": "x",
            "y0": 0.8,
            "y1": 1.2,
            "yref": "y"
           },
           {
            "line": {
             "color": "white",
             "width": 3
            },
            "type": "line",
            "x0": 6.887800202604475,
            "x1": 7.087787308276968,
            "y0": 1.0011608521873583,
            "y1": 1.0034318794304902
           },
           {
            "line": {
             "color": "white",
             "width": 3
            },
            "type": "line",
            "x0": 7,
            "x1": 7.2,
            "y0": 1,
            "y1": 1
           }
          ],
          "title": {
           "text": "<b>Hirai & Tarui, 1975  |  Number of Agents: 2</b>",
           "x": 0.5
          }
         },
         "name": "148"
        },
        {
         "data": [
          {
           "hoverinfo": "name",
           "line": {
            "color": "grey"
           },
           "mode": "lines",
           "name": "Exterior",
           "showlegend": false,
           "type": "scatter",
           "x": {
            "bdata": "AAAAAAAAAAAAAAAAAAAoQAAAAAAAAChAAAAAAAAAJEAAAAAAAAAkQAAAAAAAAAAAAAAAAAAAAAA=",
            "dtype": "f8"
           },
           "y": {
            "bdata": "AAAAAAAAAAAAAAAAAAAAAAAAAAAAAChAAAAAAAAAKEAAAAAAAAAAQAAAAAAAAABAAAAAAAAAAAA=",
            "dtype": "f8"
           }
          },
          {
           "hoverinfo": "text",
           "marker": {
            "opacity": 1,
            "size": 1
           },
           "mode": "markers",
           "showlegend": false,
           "text": [
            "ID: 0, Pos(6.90,1.00)"
           ],
           "type": "scatter",
           "x": [
            6.903558651872999
           ],
           "y": [
            1.0011295188770735
           ]
          },
          {
           "hoverinfo": "text",
           "marker": {
            "opacity": 1,
            "size": 1
           },
           "mode": "markers",
           "showlegend": false,
           "text": [
            "ID: 1, Pos(7.00,1.00)"
           ],
           "type": "scatter",
           "x": [
            7
           ],
           "y": [
            1
           ]
          }
         ],
         "layout": {
          "shapes": [
           {
            "fillcolor": "rgba(0, 56, 255, 0.5)",
            "line": {
             "color": "rgba(0, 56, 255, 0.5)"
            },
            "type": "circle",
            "x0": 6.703558651872999,
            "x1": 7.103558651873,
            "xref": "x",
            "y0": 0.8011295188770735,
            "y1": 1.2011295188770734,
            "yref": "y"
           },
           {
            "fillcolor": "rgba(128, 0, 0, 0.5)",
            "line": {
             "color": "rgba(128, 0, 0, 0.5)"
            },
            "type": "circle",
            "x0": 6.8,
            "x1": 7.2,
            "xref": "x",
            "y0": 0.8,
            "y1": 1.2,
            "yref": "y"
           },
           {
            "line": {
             "color": "white",
             "width": 3
            },
            "type": "line",
            "x0": 6.903558651872999,
            "x1": 7.103558256520658,
            "y0": 1.0011295188770735,
            "y1": 1.0007318496925934
           },
           {
            "line": {
             "color": "white",
             "width": 3
            },
            "type": "line",
            "x0": 7,
            "x1": 7.2,
            "y0": 1,
            "y1": 1
           }
          ],
          "title": {
           "text": "<b>Hirai & Tarui, 1975  |  Number of Agents: 2</b>",
           "x": 0.5
          }
         },
         "name": "149"
        },
        {
         "data": [
          {
           "hoverinfo": "name",
           "line": {
            "color": "grey"
           },
           "mode": "lines",
           "name": "Exterior",
           "showlegend": false,
           "type": "scatter",
           "x": {
            "bdata": "AAAAAAAAAAAAAAAAAAAoQAAAAAAAAChAAAAAAAAAJEAAAAAAAAAkQAAAAAAAAAAAAAAAAAAAAAA=",
            "dtype": "f8"
           },
           "y": {
            "bdata": "AAAAAAAAAAAAAAAAAAAAAAAAAAAAAChAAAAAAAAAKEAAAAAAAAAAQAAAAAAAAABAAAAAAAAAAAA=",
            "dtype": "f8"
           }
          },
          {
           "hoverinfo": "text",
           "marker": {
            "opacity": 1,
            "size": 1
           },
           "mode": "markers",
           "showlegend": false,
           "text": [
            "ID: 0, Pos(6.92,1.00)"
           ],
           "type": "scatter",
           "x": [
            6.919393811307518
           ],
           "y": [
            1.0008913336638
           ]
          },
          {
           "hoverinfo": "text",
           "marker": {
            "opacity": 1,
            "size": 1
           },
           "mode": "markers",
           "showlegend": false,
           "text": [
            "ID: 1, Pos(7.00,1.00)"
           ],
           "type": "scatter",
           "x": [
            7
           ],
           "y": [
            1
           ]
          }
         ],
         "layout": {
          "shapes": [
           {
            "fillcolor": "rgba(0, 53, 255, 0.5)",
            "line": {
             "color": "rgba(0, 53, 255, 0.5)"
            },
            "type": "circle",
            "x0": 6.719393811307518,
            "x1": 7.119393811307519,
            "xref": "x",
            "y0": 0.8008913336637999,
            "y1": 1.2008913336637999,
            "yref": "y"
           },
           {
            "fillcolor": "rgba(128, 0, 0, 0.5)",
            "line": {
             "color": "rgba(128, 0, 0, 0.5)"
            },
            "type": "circle",
            "x0": 6.8,
            "x1": 7.2,
            "xref": "x",
            "y0": 0.8,
            "y1": 1.2,
            "yref": "y"
           },
           {
            "line": {
             "color": "white",
             "width": 3
            },
            "type": "line",
            "x0": 6.919393811307518,
            "x1": 7.119371190347795,
            "y0": 1.0008913336638,
            "y1": 0.9978833655486983
           },
           {
            "line": {
             "color": "white",
             "width": 3
            },
            "type": "line",
            "x0": 7,
            "x1": 7.2,
            "y0": 1,
            "y1": 1
           }
          ],
          "title": {
           "text": "<b>Hirai & Tarui, 1975  |  Number of Agents: 2</b>",
           "x": 0.5
          }
         },
         "name": "150"
        },
        {
         "data": [
          {
           "hoverinfo": "name",
           "line": {
            "color": "grey"
           },
           "mode": "lines",
           "name": "Exterior",
           "showlegend": false,
           "type": "scatter",
           "x": {
            "bdata": "AAAAAAAAAAAAAAAAAAAoQAAAAAAAAChAAAAAAAAAJEAAAAAAAAAkQAAAAAAAAAAAAAAAAAAAAAA=",
            "dtype": "f8"
           },
           "y": {
            "bdata": "AAAAAAAAAAAAAAAAAAAAAAAAAAAAAChAAAAAAAAAKEAAAAAAAAAAQAAAAAAAAABAAAAAAAAAAAA=",
            "dtype": "f8"
           }
          },
          {
           "hoverinfo": "text",
           "marker": {
            "opacity": 1,
            "size": 1
           },
           "mode": "markers",
           "showlegend": false,
           "text": [
            "ID: 0, Pos(6.94,1.00)"
           ],
           "type": "scatter",
           "x": [
            6.935306386263231
           ],
           "y": [
            1.0004489086996318
           ]
          },
          {
           "hoverinfo": "text",
           "marker": {
            "opacity": 1,
            "size": 1
           },
           "mode": "markers",
           "showlegend": false,
           "text": [
            "ID: 1, Pos(7.00,1.00)"
           ],
           "type": "scatter",
           "x": [
            7
           ],
           "y": [
            1
           ]
          }
         ],
         "layout": {
          "shapes": [
           {
            "fillcolor": "rgba(0, 48, 255, 0.5)",
            "line": {
             "color": "rgba(0, 48, 255, 0.5)"
            },
            "type": "circle",
            "x0": 6.735306386263231,
            "x1": 7.135306386263231,
            "xref": "x",
            "y0": 0.8004489086996318,
            "y1": 1.2004489086996317,
            "yref": "y"
           },
           {
            "fillcolor": "rgba(128, 0, 0, 0.5)",
            "line": {
             "color": "rgba(128, 0, 0, 0.5)"
            },
            "type": "circle",
            "x0": 6.8,
            "x1": 7.2,
            "xref": "x",
            "y0": 0.8,
            "y1": 1.2,
            "yref": "y"
           },
           {
            "line": {
             "color": "white",
             "width": 3
            },
            "type": "line",
            "x0": 6.935306386263231,
            "x1": 7.135229127701308,
            "y0": 1.0004489086996318,
            "y1": 0.9948903606982353
           },
           {
            "line": {
             "color": "white",
             "width": 3
            },
            "type": "line",
            "x0": 7,
            "x1": 7.2,
            "y0": 1,
            "y1": 1
           }
          ],
          "title": {
           "text": "<b>Hirai & Tarui, 1975  |  Number of Agents: 2</b>",
           "x": 0.5
          }
         },
         "name": "151"
        },
        {
         "data": [
          {
           "hoverinfo": "name",
           "line": {
            "color": "grey"
           },
           "mode": "lines",
           "name": "Exterior",
           "showlegend": false,
           "type": "scatter",
           "x": {
            "bdata": "AAAAAAAAAAAAAAAAAAAoQAAAAAAAAChAAAAAAAAAJEAAAAAAAAAkQAAAAAAAAAAAAAAAAAAAAAA=",
            "dtype": "f8"
           },
           "y": {
            "bdata": "AAAAAAAAAAAAAAAAAAAAAAAAAAAAAChAAAAAAAAAKEAAAAAAAAAAQAAAAAAAAABAAAAAAAAAAAA=",
            "dtype": "f8"
           }
          },
          {
           "hoverinfo": "text",
           "marker": {
            "opacity": 1,
            "size": 1
           },
           "mode": "markers",
           "showlegend": false,
           "text": [
            "ID: 0, Pos(6.95,1.00)"
           ],
           "type": "scatter",
           "x": [
            6.951297060242213
           ],
           "y": [
            0.9998049797331255
           ]
          },
          {
           "hoverinfo": "text",
           "marker": {
            "opacity": 1,
            "size": 1
           },
           "mode": "markers",
           "showlegend": false,
           "text": [
            "ID: 1, Pos(7.00,1.00)"
           ],
           "type": "scatter",
           "x": [
            7
           ],
           "y": [
            1
           ]
          }
         ],
         "layout": {
          "shapes": [
           {
            "fillcolor": "rgba(0, 45, 255, 0.5)",
            "line": {
             "color": "rgba(0, 45, 255, 0.5)"
            },
            "type": "circle",
            "x0": 6.751297060242213,
            "x1": 7.1512970602422135,
            "xref": "x",
            "y0": 0.7998049797331255,
            "y1": 1.1998049797331256,
            "yref": "y"
           },
           {
            "fillcolor": "rgba(128, 0, 0, 0.5)",
            "line": {
             "color": "rgba(128, 0, 0, 0.5)"
            },
            "type": "circle",
            "x0": 6.8,
            "x1": 7.2,
            "xref": "x",
            "y0": 0.8,
            "y1": 1.2,
            "yref": "y"
           },
           {
            "line": {
             "color": "white",
             "width": 3
            },
            "type": "line",
            "x0": 6.951297060242213,
            "x1": 7.151135097697841,
            "y0": 0.9998049797331255,
            "y1": 0.991757695353707
           },
           {
            "line": {
             "color": "white",
             "width": 3
            },
            "type": "line",
            "x0": 7,
            "x1": 7.2,
            "y0": 1,
            "y1": 1
           }
          ],
          "title": {
           "text": "<b>Hirai & Tarui, 1975  |  Number of Agents: 2</b>",
           "x": 0.5
          }
         },
         "name": "152"
        },
        {
         "data": [
          {
           "hoverinfo": "name",
           "line": {
            "color": "grey"
           },
           "mode": "lines",
           "name": "Exterior",
           "showlegend": false,
           "type": "scatter",
           "x": {
            "bdata": "AAAAAAAAAAAAAAAAAAAoQAAAAAAAAChAAAAAAAAAJEAAAAAAAAAkQAAAAAAAAAAAAAAAAAAAAAA=",
            "dtype": "f8"
           },
           "y": {
            "bdata": "AAAAAAAAAAAAAAAAAAAAAAAAAAAAAChAAAAAAAAAKEAAAAAAAAAAQAAAAAAAAABAAAAAAAAAAAA=",
            "dtype": "f8"
           }
          },
          {
           "hoverinfo": "text",
           "marker": {
            "opacity": 1,
            "size": 1
           },
           "mode": "markers",
           "showlegend": false,
           "text": [
            "ID: 0, Pos(6.97,1.00)"
           ],
           "type": "scatter",
           "x": [
            6.9673664943140095
           ],
           "y": [
            0.9995625784119002
           ]
          },
          {
           "hoverinfo": "text",
           "marker": {
            "opacity": 1,
            "size": 1
           },
           "mode": "markers",
           "showlegend": false,
           "text": [
            "ID: 1, Pos(7.00,1.00)"
           ],
           "type": "scatter",
           "x": [
            7
           ],
           "y": [
            1
           ]
          }
         ],
         "layout": {
          "shapes": [
           {
            "fillcolor": "rgba(0, 40, 255, 0.5)",
            "line": {
             "color": "rgba(0, 40, 255, 0.5)"
            },
            "type": "circle",
            "x0": 6.767366494314009,
            "x1": 7.16736649431401,
            "xref": "x",
            "y0": 0.7995625784119003,
            "y1": 1.1995625784119002,
            "yref": "y"
           },
           {
            "fillcolor": "rgba(128, 0, 0, 0.5)",
            "line": {
             "color": "rgba(128, 0, 0, 0.5)"
            },
            "type": "circle",
            "x0": 6.8,
            "x1": 7.2,
            "xref": "x",
            "y0": 0.8,
            "y1": 1.2,
            "yref": "y"
           },
           {
            "line": {
             "color": "white",
             "width": 3
            },
            "type": "line",
            "x0": 6.9673664943140095,
            "x1": 7.167343743617752,
            "y0": 0.9995625784119002,
            "y1": 0.9965459974153541
           },
           {
            "line": {
             "color": "white",
             "width": 3
            },
            "type": "line",
            "x0": 7,
            "x1": 7.2,
            "y0": 1,
            "y1": 1
           }
          ],
          "title": {
           "text": "<b>Hirai & Tarui, 1975  |  Number of Agents: 2</b>",
           "x": 0.5
          }
         },
         "name": "153"
        },
        {
         "data": [
          {
           "hoverinfo": "name",
           "line": {
            "color": "grey"
           },
           "mode": "lines",
           "name": "Exterior",
           "showlegend": false,
           "type": "scatter",
           "x": {
            "bdata": "AAAAAAAAAAAAAAAAAAAoQAAAAAAAAChAAAAAAAAAJEAAAAAAAAAkQAAAAAAAAAAAAAAAAAAAAAA=",
            "dtype": "f8"
           },
           "y": {
            "bdata": "AAAAAAAAAAAAAAAAAAAAAAAAAAAAAChAAAAAAAAAKEAAAAAAAAAAQAAAAAAAAABAAAAAAAAAAAA=",
            "dtype": "f8"
           }
          },
          {
           "hoverinfo": "text",
           "marker": {
            "opacity": 1,
            "size": 1
           },
           "mode": "markers",
           "showlegend": false,
           "text": [
            "ID: 0, Pos(6.98,1.00)"
           ],
           "type": "scatter",
           "x": [
            6.983515478001103
           ],
           "y": [
            0.9997171700716483
           ]
          },
          {
           "hoverinfo": "text",
           "marker": {
            "opacity": 1,
            "size": 1
           },
           "mode": "markers",
           "showlegend": false,
           "text": [
            "ID: 1, Pos(7.00,1.00)"
           ],
           "type": "scatter",
           "x": [
            7
           ],
           "y": [
            1
           ]
          }
         ],
         "layout": {
          "shapes": [
           {
            "fillcolor": "rgba(0, 37, 255, 0.5)",
            "line": {
             "color": "rgba(0, 37, 255, 0.5)"
            },
            "type": "circle",
            "x0": 6.783515478001103,
            "x1": 7.1835154780011035,
            "xref": "x",
            "y0": 0.7997171700716483,
            "y1": 1.1997171700716482,
            "yref": "y"
           },
           {
            "fillcolor": "rgba(128, 0, 0, 0.5)",
            "line": {
             "color": "rgba(128, 0, 0, 0.5)"
            },
            "type": "circle",
            "x0": 6.8,
            "x1": 7.2,
            "xref": "x",
            "y0": 0.8,
            "y1": 1.2,
            "yref": "y"
           },
           {
            "line": {
             "color": "white",
             "width": 3
            },
            "type": "line",
            "x0": 6.983515478001103,
            "x1": 7.183506314701623,
            "y0": 0.9997171700716483,
            "y1": 1.0016316506345735
           },
           {
            "line": {
             "color": "white",
             "width": 3
            },
            "type": "line",
            "x0": 7,
            "x1": 7.2,
            "y0": 1,
            "y1": 1
           }
          ],
          "title": {
           "text": "<b>Hirai & Tarui, 1975  |  Number of Agents: 2</b>",
           "x": 0.5
          }
         },
         "name": "154"
        },
        {
         "data": [
          {
           "hoverinfo": "name",
           "line": {
            "color": "grey"
           },
           "mode": "lines",
           "name": "Exterior",
           "showlegend": false,
           "type": "scatter",
           "x": {
            "bdata": "AAAAAAAAAAAAAAAAAAAoQAAAAAAAAChAAAAAAAAAJEAAAAAAAAAkQAAAAAAAAAAAAAAAAAAAAAA=",
            "dtype": "f8"
           },
           "y": {
            "bdata": "AAAAAAAAAAAAAAAAAAAAAAAAAAAAAChAAAAAAAAAKEAAAAAAAAAAQAAAAAAAAABAAAAAAAAAAAA=",
            "dtype": "f8"
           }
          },
          {
           "hoverinfo": "text",
           "marker": {
            "opacity": 1,
            "size": 1
           },
           "mode": "markers",
           "showlegend": false,
           "text": [
            "ID: 0, Pos(7.00,1.00)"
           ],
           "type": "scatter",
           "x": [
            6.999744723190556
           ],
           "y": [
            1.0002640300767724
           ]
          },
          {
           "hoverinfo": "text",
           "marker": {
            "opacity": 1,
            "size": 1
           },
           "mode": "markers",
           "showlegend": false,
           "text": [
            "ID: 1, Pos(7.00,1.00)"
           ],
           "type": "scatter",
           "x": [
            7
           ],
           "y": [
            1
           ]
          }
         ],
         "layout": {
          "shapes": [
           {
            "fillcolor": "rgba(0, 32, 255, 0.5)",
            "line": {
             "color": "rgba(0, 32, 255, 0.5)"
            },
            "type": "circle",
            "x0": 6.799744723190556,
            "x1": 7.199744723190556,
            "xref": "x",
            "y0": 0.8002640300767725,
            "y1": 1.2002640300767724,
            "yref": "y"
           },
           {
            "fillcolor": "rgba(128, 0, 0, 0.5)",
            "line": {
             "color": "rgba(128, 0, 0, 0.5)"
            },
            "type": "circle",
            "x0": 6.8,
            "x1": 7.2,
            "xref": "x",
            "y0": 0.8,
            "y1": 1.2,
            "yref": "y"
           },
           {
            "line": {
             "color": "white",
             "width": 3
            },
            "type": "line",
            "x0": 6.999744723190556,
            "x1": 7.199631278011657,
            "y0": 1.0002640300767724,
            "y1": 1.0069993995358983
           },
           {
            "line": {
             "color": "white",
             "width": 3
            },
            "type": "line",
            "x0": 7,
            "x1": 7.2,
            "y0": 1,
            "y1": 1
           }
          ],
          "title": {
           "text": "<b>Hirai & Tarui, 1975  |  Number of Agents: 2</b>",
           "x": 0.5
          }
         },
         "name": "155"
        },
        {
         "data": [
          {
           "hoverinfo": "name",
           "line": {
            "color": "grey"
           },
           "mode": "lines",
           "name": "Exterior",
           "showlegend": false,
           "type": "scatter",
           "x": {
            "bdata": "AAAAAAAAAAAAAAAAAAAoQAAAAAAAAChAAAAAAAAAJEAAAAAAAAAkQAAAAAAAAAAAAAAAAAAAAAA=",
            "dtype": "f8"
           },
           "y": {
            "bdata": "AAAAAAAAAAAAAAAAAAAAAAAAAAAAAChAAAAAAAAAKEAAAAAAAAAAQAAAAAAAAABAAAAAAAAAAAA=",
            "dtype": "f8"
           }
          },
          {
           "hoverinfo": "text",
           "marker": {
            "opacity": 1,
            "size": 1
           },
           "mode": "markers",
           "showlegend": false,
           "text": [
            "ID: 0, Pos(7.02,1.00)"
           ],
           "type": "scatter",
           "x": [
            7.01604785876919
           ],
           "y": [
            1.0005738737922418
           ]
          },
          {
           "hoverinfo": "text",
           "marker": {
            "opacity": 1,
            "size": 1
           },
           "mode": "markers",
           "showlegend": false,
           "text": [
            "ID: 1, Pos(7.00,1.00)"
           ],
           "type": "scatter",
           "x": [
            7
           ],
           "y": [
            1
           ]
          }
         ],
         "layout": {
          "shapes": [
           {
            "fillcolor": "rgba(0, 29, 255, 0.5)",
            "line": {
             "color": "rgba(0, 29, 255, 0.5)"
            },
            "type": "circle",
            "x0": 6.81604785876919,
            "x1": 7.2160478587691905,
            "xref": "x",
            "y0": 0.8005738737922419,
            "y1": 1.2005738737922418,
            "yref": "y"
           },
           {
            "fillcolor": "rgba(128, 0, 0, 0.5)",
            "line": {
             "color": "rgba(128, 0, 0, 0.5)"
            },
            "type": "circle",
            "x0": 6.8,
            "x1": 7.2,
            "xref": "x",
            "y0": 0.8,
            "y1": 1.2,
            "yref": "y"
           },
           {
            "line": {
             "color": "white",
             "width": 3
            },
            "type": "line",
            "x0": 7.01604785876919,
            "x1": 7.216011748936716,
            "y0": 1.0005738737922418,
            "y1": 1.0043742197067063
           },
           {
            "line": {
             "color": "white",
             "width": 3
            },
            "type": "line",
            "x0": 7,
            "x1": 7.2,
            "y0": 1,
            "y1": 1
           }
          ],
          "title": {
           "text": "<b>Hirai & Tarui, 1975  |  Number of Agents: 2</b>",
           "x": 0.5
          }
         },
         "name": "156"
        },
        {
         "data": [
          {
           "hoverinfo": "name",
           "line": {
            "color": "grey"
           },
           "mode": "lines",
           "name": "Exterior",
           "showlegend": false,
           "type": "scatter",
           "x": {
            "bdata": "AAAAAAAAAAAAAAAAAAAoQAAAAAAAAChAAAAAAAAAJEAAAAAAAAAkQAAAAAAAAAAAAAAAAAAAAAA=",
            "dtype": "f8"
           },
           "y": {
            "bdata": "AAAAAAAAAAAAAAAAAAAAAAAAAAAAAChAAAAAAAAAKEAAAAAAAAAAQAAAAAAAAABAAAAAAAAAAAA=",
            "dtype": "f8"
           }
          },
          {
           "hoverinfo": "text",
           "marker": {
            "opacity": 1,
            "size": 1
           },
           "mode": "markers",
           "showlegend": false,
           "text": [
            "ID: 0, Pos(7.03,1.00)"
           ],
           "type": "scatter",
           "x": [
            7.032443417734831
           ],
           "y": [
            1.000676395930039
           ]
          },
          {
           "hoverinfo": "text",
           "marker": {
            "opacity": 1,
            "size": 1
           },
           "mode": "markers",
           "showlegend": false,
           "text": [
            "ID: 1, Pos(7.00,1.00)"
           ],
           "type": "scatter",
           "x": [
            7
           ],
           "y": [
            1
           ]
          }
         ],
         "layout": {
          "shapes": [
           {
            "fillcolor": "rgba(0, 24, 255, 0.5)",
            "line": {
             "color": "rgba(0, 24, 255, 0.5)"
            },
            "type": "circle",
            "x0": 6.832443417734831,
            "x1": 7.232443417734832,
            "xref": "x",
            "y0": 0.8006763959300391,
            "y1": 1.200676395930039,
            "yref": "y"
           },
           {
            "fillcolor": "rgba(128, 0, 0, 0.5)",
            "line": {
             "color": "rgba(128, 0, 0, 0.5)"
            },
            "type": "circle",
            "x0": 6.8,
            "x1": 7.2,
            "xref": "x",
            "y0": 0.8,
            "y1": 1.2,
            "yref": "y"
           },
           {
            "line": {
             "color": "white",
             "width": 3
            },
            "type": "line",
            "x0": 7.032443417734831,
            "x1": 7.232439507794619,
            "y0": 1.000676395930039,
            "y1": 1.0019269801124377
           },
           {
            "line": {
             "color": "white",
             "width": 3
            },
            "type": "line",
            "x0": 7,
            "x1": 7.2,
            "y0": 1,
            "y1": 1
           }
          ],
          "title": {
           "text": "<b>Hirai & Tarui, 1975  |  Number of Agents: 2</b>",
           "x": 0.5
          }
         },
         "name": "157"
        },
        {
         "data": [
          {
           "hoverinfo": "name",
           "line": {
            "color": "grey"
           },
           "mode": "lines",
           "name": "Exterior",
           "showlegend": false,
           "type": "scatter",
           "x": {
            "bdata": "AAAAAAAAAAAAAAAAAAAoQAAAAAAAAChAAAAAAAAAJEAAAAAAAAAkQAAAAAAAAAAAAAAAAAAAAAA=",
            "dtype": "f8"
           },
           "y": {
            "bdata": "AAAAAAAAAAAAAAAAAAAAAAAAAAAAAChAAAAAAAAAKEAAAAAAAAAAQAAAAAAAAABAAAAAAAAAAAA=",
            "dtype": "f8"
           }
          },
          {
           "hoverinfo": "text",
           "marker": {
            "opacity": 1,
            "size": 1
           },
           "mode": "markers",
           "showlegend": false,
           "text": [
            "ID: 0, Pos(7.05,1.00)"
           ],
           "type": "scatter",
           "x": [
            7.048930367751872
           ],
           "y": [
            1.0005721938764596
           ]
          },
          {
           "hoverinfo": "text",
           "marker": {
            "opacity": 1,
            "size": 1
           },
           "mode": "markers",
           "showlegend": false,
           "text": [
            "ID: 1, Pos(7.00,1.00)"
           ],
           "type": "scatter",
           "x": [
            7
           ],
           "y": [
            1
           ]
          }
         ],
         "layout": {
          "shapes": [
           {
            "fillcolor": "rgba(0, 21, 255, 0.5)",
            "line": {
             "color": "rgba(0, 21, 255, 0.5)"
            },
            "type": "circle",
            "x0": 6.848930367751872,
            "x1": 7.248930367751872,
            "xref": "x",
            "y0": 0.8005721938764596,
            "y1": 1.2005721938764595,
            "yref": "y"
           },
           {
            "fillcolor": "rgba(128, 0, 0, 0.5)",
            "line": {
             "color": "rgba(128, 0, 0, 0.5)"
            },
            "type": "circle",
            "x0": 6.8,
            "x1": 7.2,
            "xref": "x",
            "y0": 0.8,
            "y1": 1.2,
            "yref": "y"
           },
           {
            "line": {
             "color": "white",
             "width": 3
            },
            "type": "line",
            "x0": 7.048930367751872,
            "x1": 7.248926373284276,
            "y0": 1.0005721938764596,
            "y1": 0.9993081641764452
           },
           {
            "line": {
             "color": "white",
             "width": 3
            },
            "type": "line",
            "x0": 7,
            "x1": 7.2,
            "y0": 1,
            "y1": 1
           }
          ],
          "title": {
           "text": "<b>Hirai & Tarui, 1975  |  Number of Agents: 2</b>",
           "x": 0.5
          }
         },
         "name": "158"
        },
        {
         "data": [
          {
           "hoverinfo": "name",
           "line": {
            "color": "grey"
           },
           "mode": "lines",
           "name": "Exterior",
           "showlegend": false,
           "type": "scatter",
           "x": {
            "bdata": "AAAAAAAAAAAAAAAAAAAoQAAAAAAAAChAAAAAAAAAJEAAAAAAAAAkQAAAAAAAAAAAAAAAAAAAAAA=",
            "dtype": "f8"
           },
           "y": {
            "bdata": "AAAAAAAAAAAAAAAAAAAAAAAAAAAAAChAAAAAAAAAKEAAAAAAAAAAQAAAAAAAAABAAAAAAAAAAAA=",
            "dtype": "f8"
           }
          },
          {
           "hoverinfo": "text",
           "marker": {
            "opacity": 1,
            "size": 1
           },
           "mode": "markers",
           "showlegend": false,
           "text": [
            "ID: 0, Pos(7.07,1.00)"
           ],
           "type": "scatter",
           "x": [
            7.065507665917048
           ],
           "y": [
            1.000261876002193
           ]
          },
          {
           "hoverinfo": "text",
           "marker": {
            "opacity": 1,
            "size": 1
           },
           "mode": "markers",
           "showlegend": false,
           "text": [
            "ID: 1, Pos(7.00,1.00)"
           ],
           "type": "scatter",
           "x": [
            7
           ],
           "y": [
            1
           ]
          }
         ],
         "layout": {
          "shapes": [
           {
            "fillcolor": "rgba(0, 13, 255, 0.5)",
            "line": {
             "color": "rgba(0, 13, 255, 0.5)"
            },
            "type": "circle",
            "x0": 6.865507665917048,
            "x1": 7.265507665917048,
            "xref": "x",
            "y0": 0.8002618760021931,
            "y1": 1.200261876002193,
            "yref": "y"
           },
           {
            "fillcolor": "rgba(128, 0, 0, 0.5)",
            "line": {
             "color": "rgba(128, 0, 0, 0.5)"
            },
            "type": "circle",
            "x0": 6.8,
            "x1": 7.2,
            "xref": "x",
            "y0": 0.8,
            "y1": 1.2,
            "yref": "y"
           },
           {
            "line": {
             "color": "white",
             "width": 3
            },
            "type": "line",
            "x0": 7.065507665917048,
            "x1": 7.26547263334972,
            "y0": 1.000261876002193,
            "y1": 0.9965186421529143
           },
           {
            "line": {
             "color": "white",
             "width": 3
            },
            "type": "line",
            "x0": 7,
            "x1": 7.2,
            "y0": 1,
            "y1": 1
           }
          ],
          "title": {
           "text": "<b>Hirai & Tarui, 1975  |  Number of Agents: 2</b>",
           "x": 0.5
          }
         },
         "name": "159"
        },
        {
         "data": [
          {
           "hoverinfo": "name",
           "line": {
            "color": "grey"
           },
           "mode": "lines",
           "name": "Exterior",
           "showlegend": false,
           "type": "scatter",
           "x": {
            "bdata": "AAAAAAAAAAAAAAAAAAAoQAAAAAAAAChAAAAAAAAAJEAAAAAAAAAkQAAAAAAAAAAAAAAAAAAAAAA=",
            "dtype": "f8"
           },
           "y": {
            "bdata": "AAAAAAAAAAAAAAAAAAAAAAAAAAAAAChAAAAAAAAAKEAAAAAAAAAAQAAAAAAAAABAAAAAAAAAAAA=",
            "dtype": "f8"
           }
          },
          {
           "hoverinfo": "text",
           "marker": {
            "opacity": 1,
            "size": 1
           },
           "mode": "markers",
           "showlegend": false,
           "text": [
            "ID: 0, Pos(7.08,1.00)"
           ],
           "type": "scatter",
           "x": [
            7.082174259675232
           ],
           "y": [
            0.9997460605185734
           ]
          },
          {
           "hoverinfo": "text",
           "marker": {
            "opacity": 1,
            "size": 1
           },
           "mode": "markers",
           "showlegend": false,
           "text": [
            "ID: 1, Pos(7.00,1.00)"
           ],
           "type": "scatter",
           "x": [
            7
           ],
           "y": [
            1
           ]
          }
         ],
         "layout": {
          "shapes": [
           {
            "fillcolor": "rgba(0, 8, 255, 0.5)",
            "line": {
             "color": "rgba(0, 8, 255, 0.5)"
            },
            "type": "circle",
            "x0": 6.8821742596752316,
            "x1": 7.282174259675232,
            "xref": "x",
            "y0": 0.7997460605185733,
            "y1": 1.1997460605185735,
            "yref": "y"
           },
           {
            "fillcolor": "rgba(128, 0, 0, 0.5)",
            "line": {
             "color": "rgba(128, 0, 0, 0.5)"
            },
            "type": "circle",
            "x0": 6.8,
            "x1": 7.2,
            "xref": "x",
            "y0": 0.8,
            "y1": 1.2,
            "yref": "y"
           },
           {
            "line": {
             "color": "white",
             "width": 3
            },
            "type": "line",
            "x0": 7.082174259675232,
            "x1": 7.282078543971573,
            "y0": 0.9997460605185734,
            "y1": 0.9935592099492226
           },
           {
            "line": {
             "color": "white",
             "width": 3
            },
            "type": "line",
            "x0": 7,
            "x1": 7.2,
            "y0": 1,
            "y1": 1
           }
          ],
          "title": {
           "text": "<b>Hirai & Tarui, 1975  |  Number of Agents: 2</b>",
           "x": 0.5
          }
         },
         "name": "160"
        },
        {
         "data": [
          {
           "hoverinfo": "name",
           "line": {
            "color": "grey"
           },
           "mode": "lines",
           "name": "Exterior",
           "showlegend": false,
           "type": "scatter",
           "x": {
            "bdata": "AAAAAAAAAAAAAAAAAAAoQAAAAAAAAChAAAAAAAAAJEAAAAAAAAAkQAAAAAAAAAAAAAAAAAAAAAA=",
            "dtype": "f8"
           },
           "y": {
            "bdata": "AAAAAAAAAAAAAAAAAAAAAAAAAAAAAChAAAAAAAAAKEAAAAAAAAAAQAAAAAAAAABAAAAAAAAAAAA=",
            "dtype": "f8"
           }
          },
          {
           "hoverinfo": "text",
           "marker": {
            "opacity": 1,
            "size": 1
           },
           "mode": "markers",
           "showlegend": false,
           "text": [
            "ID: 0, Pos(7.10,1.00)"
           ],
           "type": "scatter",
           "x": [
            7.098929087712735
           ],
           "y": [
            0.9996253835170169
           ]
          },
          {
           "hoverinfo": "text",
           "marker": {
            "opacity": 1,
            "size": 1
           },
           "mode": "markers",
           "showlegend": false,
           "text": [
            "ID: 1, Pos(7.00,1.00)"
           ],
           "type": "scatter",
           "x": [
            7
           ],
           "y": [
            1
           ]
          }
         ],
         "layout": {
          "shapes": [
           {
            "fillcolor": "rgba(0, 5, 255, 0.5)",
            "line": {
             "color": "rgba(0, 5, 255, 0.5)"
            },
            "type": "circle",
            "x0": 6.898929087712735,
            "x1": 7.298929087712735,
            "xref": "x",
            "y0": 0.7996253835170168,
            "y1": 1.199625383517017,
            "yref": "y"
           },
           {
            "fillcolor": "rgba(128, 0, 0, 0.5)",
            "line": {
             "color": "rgba(128, 0, 0, 0.5)"
            },
            "type": "circle",
            "x0": 6.8,
            "x1": 7.2,
            "xref": "x",
            "y0": 0.8,
            "y1": 1.2,
            "yref": "y"
           },
           {
            "line": {
             "color": "white",
             "width": 3
            },
            "type": "line",
            "x0": 7.098929087712735,
            "x1": 7.298923900283621,
            "y0": 0.9996253835170169,
            "y1": 0.9981849166704527
           },
           {
            "line": {
             "color": "white",
             "width": 3
            },
            "type": "line",
            "x0": 7,
            "x1": 7.2,
            "y0": 1,
            "y1": 1
           }
          ],
          "title": {
           "text": "<b>Hirai & Tarui, 1975  |  Number of Agents: 2</b>",
           "x": 0.5
          }
         },
         "name": "161"
        },
        {
         "data": [
          {
           "hoverinfo": "name",
           "line": {
            "color": "grey"
           },
           "mode": "lines",
           "name": "Exterior",
           "showlegend": false,
           "type": "scatter",
           "x": {
            "bdata": "AAAAAAAAAAAAAAAAAAAoQAAAAAAAAChAAAAAAAAAJEAAAAAAAAAkQAAAAAAAAAAAAAAAAAAAAAA=",
            "dtype": "f8"
           },
           "y": {
            "bdata": "AAAAAAAAAAAAAAAAAAAAAAAAAAAAAChAAAAAAAAAKEAAAAAAAAAAQAAAAAAAAABAAAAAAAAAAAA=",
            "dtype": "f8"
           }
          },
          {
           "hoverinfo": "text",
           "marker": {
            "opacity": 1,
            "size": 1
           },
           "mode": "markers",
           "showlegend": false,
           "text": [
            "ID: 0, Pos(7.12,1.00)"
           ],
           "type": "scatter",
           "x": [
            7.115771190319843
           ],
           "y": [
            0.9998987853484637
           ]
          },
          {
           "hoverinfo": "text",
           "marker": {
            "opacity": 1,
            "size": 1
           },
           "mode": "markers",
           "showlegend": false,
           "text": [
            "ID: 1, Pos(7.00,1.00)"
           ],
           "type": "scatter",
           "x": [
            7
           ],
           "y": [
            1
           ]
          }
         ],
         "layout": {
          "shapes": [
           {
            "fillcolor": "rgba(0, 0, 255, 0.5)",
            "line": {
             "color": "rgba(0, 0, 255, 0.5)"
            },
            "type": "circle",
            "x0": 6.915771190319843,
            "x1": 7.315771190319843,
            "xref": "x",
            "y0": 0.7998987853484636,
            "y1": 1.1998987853484637,
            "yref": "y"
           },
           {
            "fillcolor": "rgba(128, 0, 0, 0.5)",
            "line": {
             "color": "rgba(128, 0, 0, 0.5)"
            },
            "type": "circle",
            "x0": 6.8,
            "x1": 7.2,
            "xref": "x",
            "y0": 0.8,
            "y1": 1.2,
            "yref": "y"
           },
           {
            "line": {
             "color": "white",
             "width": 3
            },
            "type": "line",
            "x0": 7.115771190319843,
            "x1": 7.315744843730744,
            "y0": 0.9998987853484637,
            "y1": 1.0031450049184936
           },
           {
            "line": {
             "color": "white",
             "width": 3
            },
            "type": "line",
            "x0": 7,
            "x1": 7.2,
            "y0": 1,
            "y1": 1
           }
          ],
          "title": {
           "text": "<b>Hirai & Tarui, 1975  |  Number of Agents: 2</b>",
           "x": 0.5
          }
         },
         "name": "162"
        },
        {
         "data": [
          {
           "hoverinfo": "name",
           "line": {
            "color": "grey"
           },
           "mode": "lines",
           "name": "Exterior",
           "showlegend": false,
           "type": "scatter",
           "x": {
            "bdata": "AAAAAAAAAAAAAAAAAAAoQAAAAAAAAChAAAAAAAAAJEAAAAAAAAAkQAAAAAAAAAAAAAAAAAAAAAA=",
            "dtype": "f8"
           },
           "y": {
            "bdata": "AAAAAAAAAAAAAAAAAAAAAAAAAAAAAChAAAAAAAAAKEAAAAAAAAAAQAAAAAAAAABAAAAAAAAAAAA=",
            "dtype": "f8"
           }
          },
          {
           "hoverinfo": "text",
           "marker": {
            "opacity": 1,
            "size": 1
           },
           "mode": "markers",
           "showlegend": false,
           "text": [
            "ID: 0, Pos(7.13,1.00)"
           ],
           "type": "scatter",
           "x": [
            7.1326995506278665
           ],
           "y": [
            1.0005651880056574
           ]
          },
          {
           "hoverinfo": "text",
           "marker": {
            "opacity": 1,
            "size": 1
           },
           "mode": "markers",
           "showlegend": false,
           "text": [
            "ID: 1, Pos(7.00,1.00)"
           ],
           "type": "scatter",
           "x": [
            7
           ],
           "y": [
            1
           ]
          }
         ],
         "layout": {
          "shapes": [
           {
            "fillcolor": "rgba(0, 0, 255, 0.5)",
            "line": {
             "color": "rgba(0, 0, 255, 0.5)"
            },
            "type": "circle",
            "x0": 6.932699550627866,
            "x1": 7.332699550627867,
            "xref": "x",
            "y0": 0.8005651880056575,
            "y1": 1.2005651880056574,
            "yref": "y"
           },
           {
            "fillcolor": "rgba(128, 0, 0, 0.5)",
            "line": {
             "color": "rgba(128, 0, 0, 0.5)"
            },
            "type": "circle",
            "x0": 6.8,
            "x1": 7.2,
            "xref": "x",
            "y0": 0.8,
            "y1": 1.2,
            "yref": "y"
           },
           {
            "line": {
             "color": "white",
             "width": 3
            },
            "type": "line",
            "x0": 7.1326995506278665,
            "x1": 7.332544761930594,
            "y0": 1.0005651880056574,
            "y1": 1.0084323043368508
           },
           {
            "line": {
             "color": "white",
             "width": 3
            },
            "type": "line",
            "x0": 7,
            "x1": 7.2,
            "y0": 1,
            "y1": 1
           }
          ],
          "title": {
           "text": "<b>Hirai & Tarui, 1975  |  Number of Agents: 2</b>",
           "x": 0.5
          }
         },
         "name": "163"
        },
        {
         "data": [
          {
           "hoverinfo": "name",
           "line": {
            "color": "grey"
           },
           "mode": "lines",
           "name": "Exterior",
           "showlegend": false,
           "type": "scatter",
           "x": {
            "bdata": "AAAAAAAAAAAAAAAAAAAoQAAAAAAAAChAAAAAAAAAJEAAAAAAAAAkQAAAAAAAAAAAAAAAAAAAAAA=",
            "dtype": "f8"
           },
           "y": {
            "bdata": "AAAAAAAAAAAAAAAAAAAAAAAAAAAAAChAAAAAAAAAKEAAAAAAAAAAQAAAAAAAAABAAAAAAAAAAAA=",
            "dtype": "f8"
           }
          },
          {
           "hoverinfo": "text",
           "marker": {
            "opacity": 1,
            "size": 1
           },
           "mode": "markers",
           "showlegend": false,
           "text": [
            "ID: 0, Pos(7.15,1.00)"
           ],
           "type": "scatter",
           "x": [
            7.1497130978153765
           ],
           "y": [
            1.00102347672082
           ]
          },
          {
           "hoverinfo": "text",
           "marker": {
            "opacity": 1,
            "size": 1
           },
           "mode": "markers",
           "showlegend": false,
           "text": [
            "ID: 1, Pos(7.00,1.00)"
           ],
           "type": "scatter",
           "x": [
            7
           ],
           "y": [
            1
           ]
          }
         ],
         "layout": {
          "shapes": [
           {
            "fillcolor": "rgba(0, 0, 255, 0.5)",
            "line": {
             "color": "rgba(0, 0, 255, 0.5)"
            },
            "type": "circle",
            "x0": 6.949713097815376,
            "x1": 7.349713097815377,
            "xref": "x",
            "y0": 0.80102347672082,
            "y1": 1.2010234767208199,
            "yref": "y"
           },
           {
            "fillcolor": "rgba(128, 0, 0, 0.5)",
            "line": {
             "color": "rgba(128, 0, 0, 0.5)"
            },
            "type": "circle",
            "x0": 6.8,
            "x1": 7.2,
            "xref": "x",
            "y0": 0.8,
            "y1": 1.2,
            "yref": "y"
           },
           {
            "line": {
             "color": "white",
             "width": 3
            },
            "type": "line",
            "x0": 7.1497130978153765,
            "x1": 7.349640578728496,
            "y0": 1.00102347672082,
            "y1": 1.0064088621048044
           },
           {
            "line": {
             "color": "white",
             "width": 3
            },
            "type": "line",
            "x0": 7,
            "x1": 7.2,
            "y0": 1,
            "y1": 1
           }
          ],
          "title": {
           "text": "<b>Hirai & Tarui, 1975  |  Number of Agents: 2</b>",
           "x": 0.5
          }
         },
         "name": "164"
        },
        {
         "data": [
          {
           "hoverinfo": "name",
           "line": {
            "color": "grey"
           },
           "mode": "lines",
           "name": "Exterior",
           "showlegend": false,
           "type": "scatter",
           "x": {
            "bdata": "AAAAAAAAAAAAAAAAAAAoQAAAAAAAAChAAAAAAAAAJEAAAAAAAAAkQAAAAAAAAAAAAAAAAAAAAAA=",
            "dtype": "f8"
           },
           "y": {
            "bdata": "AAAAAAAAAAAAAAAAAAAAAAAAAAAAAChAAAAAAAAAKEAAAAAAAAAAQAAAAAAAAABAAAAAAAAAAAA=",
            "dtype": "f8"
           }
          },
          {
           "hoverinfo": "text",
           "marker": {
            "opacity": 1,
            "size": 1
           },
           "mode": "markers",
           "showlegend": false,
           "text": [
            "ID: 0, Pos(7.17,1.00)"
           ],
           "type": "scatter",
           "x": [
            7.166810896703072
           ],
           "y": [
            1.0012742950506448
           ]
          },
          {
           "hoverinfo": "text",
           "marker": {
            "opacity": 1,
            "size": 1
           },
           "mode": "markers",
           "showlegend": false,
           "text": [
            "ID: 1, Pos(7.00,1.00)"
           ],
           "type": "scatter",
           "x": [
            7
           ],
           "y": [
            1
           ]
          }
         ],
         "layout": {
          "shapes": [
           {
            "fillcolor": "rgba(0, 0, 255, 0.5)",
            "line": {
             "color": "rgba(0, 0, 255, 0.5)"
            },
            "type": "circle",
            "x0": 6.9668108967030715,
            "x1": 7.366810896703072,
            "xref": "x",
            "y0": 0.8012742950506448,
            "y1": 1.2012742950506448,
            "yref": "y"
           },
           {
            "fillcolor": "rgba(128, 0, 0, 0.5)",
            "line": {
             "color": "rgba(128, 0, 0, 0.5)"
            },
            "type": "circle",
            "x0": 6.8,
            "x1": 7.2,
            "xref": "x",
            "y0": 0.8,
            "y1": 1.2,
            "yref": "y"
           },
           {
            "line": {
             "color": "white",
             "width": 3
            },
            "type": "line",
            "x0": 7.166810896703072,
            "x1": 7.366789380380487,
            "y0": 1.0012742950506448,
            "y1": 1.004207904786398
           },
           {
            "line": {
             "color": "white",
             "width": 3
            },
            "type": "line",
            "x0": 7,
            "x1": 7.2,
            "y0": 1,
            "y1": 1
           }
          ],
          "title": {
           "text": "<b>Hirai & Tarui, 1975  |  Number of Agents: 2</b>",
           "x": 0.5
          }
         },
         "name": "165"
        },
        {
         "data": [
          {
           "hoverinfo": "name",
           "line": {
            "color": "grey"
           },
           "mode": "lines",
           "name": "Exterior",
           "showlegend": false,
           "type": "scatter",
           "x": {
            "bdata": "AAAAAAAAAAAAAAAAAAAoQAAAAAAAAChAAAAAAAAAJEAAAAAAAAAkQAAAAAAAAAAAAAAAAAAAAAA=",
            "dtype": "f8"
           },
           "y": {
            "bdata": "AAAAAAAAAAAAAAAAAAAAAAAAAAAAAChAAAAAAAAAKEAAAAAAAAAAQAAAAAAAAABAAAAAAAAAAAA=",
            "dtype": "f8"
           }
          },
          {
           "hoverinfo": "text",
           "marker": {
            "opacity": 1,
            "size": 1
           },
           "mode": "markers",
           "showlegend": false,
           "text": [
            "ID: 0, Pos(7.18,1.00)"
           ],
           "type": "scatter",
           "x": [
            7.183992001222097
           ],
           "y": [
            1.0013183051656163
           ]
          },
          {
           "hoverinfo": "text",
           "marker": {
            "opacity": 1,
            "size": 1
           },
           "mode": "markers",
           "showlegend": false,
           "text": [
            "ID: 1, Pos(7.00,1.00)"
           ],
           "type": "scatter",
           "x": [
            7
           ],
           "y": [
            1
           ]
          }
         ],
         "layout": {
          "shapes": [
           {
            "fillcolor": "rgba(0, 0, 255, 0.5)",
            "line": {
             "color": "rgba(0, 0, 255, 0.5)"
            },
            "type": "circle",
            "x0": 6.983992001222097,
            "x1": 7.383992001222097,
            "xref": "x",
            "y0": 0.8013183051656163,
            "y1": 1.2013183051656162,
            "yref": "y"
           },
           {
            "fillcolor": "rgba(128, 0, 0, 0.5)",
            "line": {
             "color": "rgba(128, 0, 0, 0.5)"
            },
            "type": "circle",
            "x0": 6.8,
            "x1": 7.2,
            "xref": "x",
            "y0": 0.8,
            "y1": 1.2,
            "yref": "y"
           },
           {
            "line": {
             "color": "white",
             "width": 3
            },
            "type": "line",
            "x0": 7.183992001222097,
            "x1": 7.383991345075759,
            "y0": 1.0013183051656163,
            "y1": 1.0018306118166502
           },
           {
            "line": {
             "color": "white",
             "width": 3
            },
            "type": "line",
            "x0": 7,
            "x1": 7.2,
            "y0": 1,
            "y1": 1
           }
          ],
          "title": {
           "text": "<b>Hirai & Tarui, 1975  |  Number of Agents: 2</b>",
           "x": 0.5
          }
         },
         "name": "166"
        },
        {
         "data": [
          {
           "hoverinfo": "name",
           "line": {
            "color": "grey"
           },
           "mode": "lines",
           "name": "Exterior",
           "showlegend": false,
           "type": "scatter",
           "x": {
            "bdata": "AAAAAAAAAAAAAAAAAAAoQAAAAAAAAChAAAAAAAAAJEAAAAAAAAAkQAAAAAAAAAAAAAAAAAAAAAA=",
            "dtype": "f8"
           },
           "y": {
            "bdata": "AAAAAAAAAAAAAAAAAAAAAAAAAAAAAChAAAAAAAAAKEAAAAAAAAAAQAAAAAAAAABAAAAAAAAAAAA=",
            "dtype": "f8"
           }
          },
          {
           "hoverinfo": "text",
           "marker": {
            "opacity": 1,
            "size": 1
           },
           "mode": "markers",
           "showlegend": false,
           "text": [
            "ID: 0, Pos(7.20,1.00)"
           ],
           "type": "scatter",
           "x": [
            7.201255455209445
           ],
           "y": [
            1.0011561828063293
           ]
          },
          {
           "hoverinfo": "text",
           "marker": {
            "opacity": 1,
            "size": 1
           },
           "mode": "markers",
           "showlegend": false,
           "text": [
            "ID: 1, Pos(7.00,1.00)"
           ],
           "type": "scatter",
           "x": [
            7
           ],
           "y": [
            1
           ]
          }
         ],
         "layout": {
          "shapes": [
           {
            "fillcolor": "rgba(0, 0, 246, 0.5)",
            "line": {
             "color": "rgba(0, 0, 246, 0.5)"
            },
            "type": "circle",
            "x0": 7.001255455209445,
            "x1": 7.401255455209445,
            "xref": "x",
            "y0": 0.8011561828063294,
            "y1": 1.2011561828063293,
            "yref": "y"
           },
           {
            "fillcolor": "rgba(128, 0, 0, 0.5)",
            "line": {
             "color": "rgba(128, 0, 0, 0.5)"
            },
            "type": "circle",
            "x0": 6.8,
            "x1": 7.2,
            "xref": "x",
            "y0": 0.8,
            "y1": 1.2,
            "yref": "y"
           },
           {
            "line": {
             "color": "white",
             "width": 3
            },
            "type": "line",
            "x0": 7.201255455209445,
            "x1": 7.401246636567244,
            "y0": 1.0011561828063293,
            "y1": 0.999278050992032
           },
           {
            "line": {
             "color": "white",
             "width": 3
            },
            "type": "line",
            "x0": 7,
            "x1": 7.2,
            "y0": 1,
            "y1": 1
           }
          ],
          "title": {
           "text": "<b>Hirai & Tarui, 1975  |  Number of Agents: 2</b>",
           "x": 0.5
          }
         },
         "name": "167"
        },
        {
         "data": [
          {
           "hoverinfo": "name",
           "line": {
            "color": "grey"
           },
           "mode": "lines",
           "name": "Exterior",
           "showlegend": false,
           "type": "scatter",
           "x": {
            "bdata": "AAAAAAAAAAAAAAAAAAAoQAAAAAAAAChAAAAAAAAAJEAAAAAAAAAkQAAAAAAAAAAAAAAAAAAAAAA=",
            "dtype": "f8"
           },
           "y": {
            "bdata": "AAAAAAAAAAAAAAAAAAAAAAAAAAAAAChAAAAAAAAAKEAAAAAAAAAAQAAAAAAAAABAAAAAAAAAAAA=",
            "dtype": "f8"
           }
          },
          {
           "hoverinfo": "text",
           "marker": {
            "opacity": 1,
            "size": 1
           },
           "mode": "markers",
           "showlegend": false,
           "text": [
            "ID: 0, Pos(7.22,1.00)"
           ],
           "type": "scatter",
           "x": [
            7.218600293192862
           ],
           "y": [
            1.000788604772102
           ]
          },
          {
           "hoverinfo": "text",
           "marker": {
            "opacity": 1,
            "size": 1
           },
           "mode": "markers",
           "showlegend": false,
           "text": [
            "ID: 1, Pos(7.00,1.00)"
           ],
           "type": "scatter",
           "x": [
            7
           ],
           "y": [
            1
           ]
          }
         ],
         "layout": {
          "shapes": [
           {
            "fillcolor": "rgba(0, 0, 241, 0.5)",
            "line": {
             "color": "rgba(0, 0, 241, 0.5)"
            },
            "type": "circle",
            "x0": 7.018600293192862,
            "x1": 7.4186002931928625,
            "xref": "x",
            "y0": 0.800788604772102,
            "y1": 1.200788604772102,
            "yref": "y"
           },
           {
            "fillcolor": "rgba(128, 0, 0, 0.5)",
            "line": {
             "color": "rgba(128, 0, 0, 0.5)"
            },
            "type": "circle",
            "x0": 6.8,
            "x1": 7.2,
            "xref": "x",
            "y0": 0.8,
            "y1": 1.2,
            "yref": "y"
           },
           {
            "line": {
             "color": "white",
             "width": 3
            },
            "type": "line",
            "x0": 7.218600293192862,
            "x1": 7.418555396706882,
            "y0": 1.000788604772102,
            "y1": 0.9965510844243369
           },
           {
            "line": {
             "color": "white",
             "width": 3
            },
            "type": "line",
            "x0": 7,
            "x1": 7.2,
            "y0": 1,
            "y1": 1
           }
          ],
          "title": {
           "text": "<b>Hirai & Tarui, 1975  |  Number of Agents: 2</b>",
           "x": 0.5
          }
         },
         "name": "168"
        },
        {
         "data": [
          {
           "hoverinfo": "name",
           "line": {
            "color": "grey"
           },
           "mode": "lines",
           "name": "Exterior",
           "showlegend": false,
           "type": "scatter",
           "x": {
            "bdata": "AAAAAAAAAAAAAAAAAAAoQAAAAAAAAChAAAAAAAAAJEAAAAAAAAAkQAAAAAAAAAAAAAAAAAAAAAA=",
            "dtype": "f8"
           },
           "y": {
            "bdata": "AAAAAAAAAAAAAAAAAAAAAAAAAAAAAChAAAAAAAAAKEAAAAAAAAAAQAAAAAAAAABAAAAAAAAAAAA=",
            "dtype": "f8"
           }
          },
          {
           "hoverinfo": "text",
           "marker": {
            "opacity": 1,
            "size": 1
           },
           "mode": "markers",
           "showlegend": false,
           "text": [
            "ID: 0, Pos(7.24,1.00)"
           ],
           "type": "scatter",
           "x": [
            7.236025541160374
           ],
           "y": [
            1.0002162548627334
           ]
          },
          {
           "hoverinfo": "text",
           "marker": {
            "opacity": 1,
            "size": 1
           },
           "mode": "markers",
           "showlegend": false,
           "text": [
            "ID: 1, Pos(7.00,1.00)"
           ],
           "type": "scatter",
           "x": [
            7
           ],
           "y": [
            1
           ]
          }
         ],
         "layout": {
          "shapes": [
           {
            "fillcolor": "rgba(0, 0, 237, 0.5)",
            "line": {
             "color": "rgba(0, 0, 237, 0.5)"
            },
            "type": "circle",
            "x0": 7.036025541160374,
            "x1": 7.436025541160374,
            "xref": "x",
            "y0": 0.8002162548627334,
            "y1": 1.2002162548627333,
            "yref": "y"
           },
           {
            "fillcolor": "rgba(128, 0, 0, 0.5)",
            "line": {
             "color": "rgba(128, 0, 0, 0.5)"
            },
            "type": "circle",
            "x0": 6.8,
            "x1": 7.2,
            "xref": "x",
            "y0": 0.8,
            "y1": 1.2,
            "yref": "y"
           },
           {
            "line": {
             "color": "white",
             "width": 3
            },
            "type": "line",
            "x0": 7.236025541160374,
            "x1": 7.435917742324954,
            "y0": 1.0002162548627334,
            "y1": 0.9936505931611994
           },
           {
            "line": {
             "color": "white",
             "width": 3
            },
            "type": "line",
            "x0": 7,
            "x1": 7.2,
            "y0": 1,
            "y1": 1
           }
          ],
          "title": {
           "text": "<b>Hirai & Tarui, 1975  |  Number of Agents: 2</b>",
           "x": 0.5
          }
         },
         "name": "169"
        },
        {
         "data": [
          {
           "hoverinfo": "name",
           "line": {
            "color": "grey"
           },
           "mode": "lines",
           "name": "Exterior",
           "showlegend": false,
           "type": "scatter",
           "x": {
            "bdata": "AAAAAAAAAAAAAAAAAAAoQAAAAAAAAChAAAAAAAAAJEAAAAAAAAAkQAAAAAAAAAAAAAAAAAAAAAA=",
            "dtype": "f8"
           },
           "y": {
            "bdata": "AAAAAAAAAAAAAAAAAAAAAAAAAAAAAChAAAAAAAAAKEAAAAAAAAAAQAAAAAAAAABAAAAAAAAAAAA=",
            "dtype": "f8"
           }
          },
          {
           "hoverinfo": "text",
           "marker": {
            "opacity": 1,
            "size": 1
           },
           "mode": "markers",
           "showlegend": false,
           "text": [
            "ID: 0, Pos(7.25,1.00)"
           ],
           "type": "scatter",
           "x": [
            7.253530217312278
           ],
           "y": [
            0.9994398262662704
           ]
          },
          {
           "hoverinfo": "text",
           "marker": {
            "opacity": 1,
            "size": 1
           },
           "mode": "markers",
           "showlegend": false,
           "text": [
            "ID: 1, Pos(7.00,1.00)"
           ],
           "type": "scatter",
           "x": [
            7
           ],
           "y": [
            1
           ]
          }
         ],
         "layout": {
          "shapes": [
           {
            "fillcolor": "rgba(0, 0, 232, 0.5)",
            "line": {
             "color": "rgba(0, 0, 232, 0.5)"
            },
            "type": "circle",
            "x0": 7.053530217312278,
            "x1": 7.453530217312278,
            "xref": "x",
            "y0": 0.7994398262662703,
            "y1": 1.1994398262662704,
            "yref": "y"
           },
           {
            "fillcolor": "rgba(128, 0, 0, 0.5)",
            "line": {
             "color": "rgba(128, 0, 0, 0.5)"
            },
            "type": "circle",
            "x0": 6.8,
            "x1": 7.2,
            "xref": "x",
            "y0": 0.8,
            "y1": 1.2,
            "yref": "y"
           },
           {
            "line": {
             "color": "white",
             "width": 3
            },
            "type": "line",
            "x0": 7.253530217312278,
            "x1": 7.453333766135536,
            "y0": 0.9994398262662704,
            "y1": 0.9905774407165496
           },
           {
            "line": {
             "color": "white",
             "width": 3
            },
            "type": "line",
            "x0": 7,
            "x1": 7.2,
            "y0": 1,
            "y1": 1
           }
          ],
          "title": {
           "text": "<b>Hirai & Tarui, 1975  |  Number of Agents: 2</b>",
           "x": 0.5
          }
         },
         "name": "170"
        },
        {
         "data": [
          {
           "hoverinfo": "name",
           "line": {
            "color": "grey"
           },
           "mode": "lines",
           "name": "Exterior",
           "showlegend": false,
           "type": "scatter",
           "x": {
            "bdata": "AAAAAAAAAAAAAAAAAAAoQAAAAAAAAChAAAAAAAAAJEAAAAAAAAAkQAAAAAAAAAAAAAAAAAAAAAA=",
            "dtype": "f8"
           },
           "y": {
            "bdata": "AAAAAAAAAAAAAAAAAAAAAAAAAAAAAChAAAAAAAAAKEAAAAAAAAAAQAAAAAAAAABAAAAAAAAAAAA=",
            "dtype": "f8"
           }
          },
          {
           "hoverinfo": "text",
           "marker": {
            "opacity": 1,
            "size": 1
           },
           "mode": "markers",
           "showlegend": false,
           "text": [
            "ID: 0, Pos(7.27,1.00)"
           ],
           "type": "scatter",
           "x": [
            7.271113332795871
           ],
           "y": [
            0.9990600389833413
           ]
          },
          {
           "hoverinfo": "text",
           "marker": {
            "opacity": 1,
            "size": 1
           },
           "mode": "markers",
           "showlegend": false,
           "text": [
            "ID: 1, Pos(7.00,1.00)"
           ],
           "type": "scatter",
           "x": [
            7
           ],
           "y": [
            1
           ]
          }
         ],
         "layout": {
          "shapes": [
           {
            "fillcolor": "rgba(0, 0, 228, 0.5)",
            "line": {
             "color": "rgba(0, 0, 228, 0.5)"
            },
            "type": "circle",
            "x0": 7.07111333279587,
            "x1": 7.471113332795871,
            "xref": "x",
            "y0": 0.7990600389833413,
            "y1": 1.1990600389833412,
            "yref": "y"
           },
           {
            "fillcolor": "rgba(128, 0, 0, 0.5)",
            "line": {
             "color": "rgba(128, 0, 0, 0.5)"
            },
            "type": "circle",
            "x0": 6.8,
            "x1": 7.2,
            "xref": "x",
            "y0": 0.8,
            "y1": 1.2,
            "yref": "y"
           },
           {
            "line": {
             "color": "white",
             "width": 3
            },
            "type": "line",
            "x0": 7.271113332795871,
            "x1": 7.471066695082348,
            "y0": 0.9990600389833413,
            "y1": 0.9947411374640868
           },
           {
            "line": {
             "color": "white",
             "width": 3
            },
            "type": "line",
            "x0": 7,
            "x1": 7.2,
            "y0": 1,
            "y1": 1
           }
          ],
          "title": {
           "text": "<b>Hirai & Tarui, 1975  |  Number of Agents: 2</b>",
           "x": 0.5
          }
         },
         "name": "171"
        },
        {
         "data": [
          {
           "hoverinfo": "name",
           "line": {
            "color": "grey"
           },
           "mode": "lines",
           "name": "Exterior",
           "showlegend": false,
           "type": "scatter",
           "x": {
            "bdata": "AAAAAAAAAAAAAAAAAAAoQAAAAAAAAChAAAAAAAAAJEAAAAAAAAAkQAAAAAAAAAAAAAAAAAAAAAA=",
            "dtype": "f8"
           },
           "y": {
            "bdata": "AAAAAAAAAAAAAAAAAAAAAAAAAAAAAChAAAAAAAAAKEAAAAAAAAAAQAAAAAAAAABAAAAAAAAAAAA=",
            "dtype": "f8"
           }
          },
          {
           "hoverinfo": "text",
           "marker": {
            "opacity": 1,
            "size": 1
           },
           "mode": "markers",
           "showlegend": false,
           "text": [
            "ID: 0, Pos(7.29,1.00)"
           ],
           "type": "scatter",
           "x": [
            7.288774052016929
           ],
           "y": [
            0.9990756945882298
           ]
          },
          {
           "hoverinfo": "text",
           "marker": {
            "opacity": 1,
            "size": 1
           },
           "mode": "markers",
           "showlegend": false,
           "text": [
            "ID: 1, Pos(7.00,1.00)"
           ],
           "type": "scatter",
           "x": [
            7
           ],
           "y": [
            1
           ]
          }
         ],
         "layout": {
          "shapes": [
           {
            "fillcolor": "rgba(0, 0, 223, 0.5)",
            "line": {
             "color": "rgba(0, 0, 223, 0.5)"
            },
            "type": "circle",
            "x0": 7.0887740520169285,
            "x1": 7.488774052016929,
            "xref": "x",
            "y0": 0.7990756945882298,
            "y1": 1.1990756945882297,
            "yref": "y"
           },
           {
            "fillcolor": "rgba(128, 0, 0, 0.5)",
            "line": {
             "color": "rgba(128, 0, 0, 0.5)"
            },
            "type": "circle",
            "x0": 6.8,
            "x1": 7.2,
            "xref": "x",
            "y0": 0.8,
            "y1": 1.2,
            "yref": "y"
           },
           {
            "line": {
             "color": "white",
             "width": 3
            },
            "type": "line",
            "x0": 7.288774052016929,
            "x1": 7.488773973435001,
            "y0": 0.9990756945882298,
            "y1": 0.9992529874667502
           },
           {
            "line": {
             "color": "white",
             "width": 3
            },
            "type": "line",
            "x0": 7,
            "x1": 7.2,
            "y0": 1,
            "y1": 1
           }
          ],
          "title": {
           "text": "<b>Hirai & Tarui, 1975  |  Number of Agents: 2</b>",
           "x": 0.5
          }
         },
         "name": "172"
        },
        {
         "data": [
          {
           "hoverinfo": "name",
           "line": {
            "color": "grey"
           },
           "mode": "lines",
           "name": "Exterior",
           "showlegend": false,
           "type": "scatter",
           "x": {
            "bdata": "AAAAAAAAAAAAAAAAAAAoQAAAAAAAAChAAAAAAAAAJEAAAAAAAAAkQAAAAAAAAAAAAAAAAAAAAAA=",
            "dtype": "f8"
           },
           "y": {
            "bdata": "AAAAAAAAAAAAAAAAAAAAAAAAAAAAAChAAAAAAAAAKEAAAAAAAAAAQAAAAAAAAABAAAAAAAAAAAA=",
            "dtype": "f8"
           }
          },
          {
           "hoverinfo": "text",
           "marker": {
            "opacity": 1,
            "size": 1
           },
           "mode": "markers",
           "showlegend": false,
           "text": [
            "ID: 0, Pos(7.31,1.00)"
           ],
           "type": "scatter",
           "x": [
            7.306511486066057
           ],
           "y": [
            0.9994855722177926
           ]
          },
          {
           "hoverinfo": "text",
           "marker": {
            "opacity": 1,
            "size": 1
           },
           "mode": "markers",
           "showlegend": false,
           "text": [
            "ID: 1, Pos(7.00,1.00)"
           ],
           "type": "scatter",
           "x": [
            7
           ],
           "y": [
            1
           ]
          }
         ],
         "layout": {
          "shapes": [
           {
            "fillcolor": "rgba(0, 0, 218, 0.5)",
            "line": {
             "color": "rgba(0, 0, 218, 0.5)"
            },
            "type": "circle",
            "x0": 7.106511486066057,
            "x1": 7.506511486066057,
            "xref": "x",
            "y0": 0.7994855722177925,
            "y1": 1.1994855722177926,
            "yref": "y"
           },
           {
            "fillcolor": "rgba(128, 0, 0, 0.5)",
            "line": {
             "color": "rgba(128, 0, 0, 0.5)"
            },
            "type": "circle",
            "x0": 6.8,
            "x1": 7.2,
            "xref": "x",
            "y0": 0.8,
            "y1": 1.2,
            "yref": "y"
           },
           {
            "line": {
             "color": "white",
             "width": 3
            },
            "type": "line",
            "x0": 7.306511486066057,
            "x1": 7.506458109213943,
            "y0": 0.9994855722177926,
            "y1": 1.0041059500981528
           },
           {
            "line": {
             "color": "white",
             "width": 3
            },
            "type": "line",
            "x0": 7,
            "x1": 7.2,
            "y0": 1,
            "y1": 1
           }
          ],
          "title": {
           "text": "<b>Hirai & Tarui, 1975  |  Number of Agents: 2</b>",
           "x": 0.5
          }
         },
         "name": "173"
        },
        {
         "data": [
          {
           "hoverinfo": "name",
           "line": {
            "color": "grey"
           },
           "mode": "lines",
           "name": "Exterior",
           "showlegend": false,
           "type": "scatter",
           "x": {
            "bdata": "AAAAAAAAAAAAAAAAAAAoQAAAAAAAAChAAAAAAAAAJEAAAAAAAAAkQAAAAAAAAAAAAAAAAAAAAAA=",
            "dtype": "f8"
           },
           "y": {
            "bdata": "AAAAAAAAAAAAAAAAAAAAAAAAAAAAAChAAAAAAAAAKEAAAAAAAAAAQAAAAAAAAABAAAAAAAAAAAA=",
            "dtype": "f8"
           }
          },
          {
           "hoverinfo": "text",
           "marker": {
            "opacity": 1,
            "size": 1
           },
           "mode": "markers",
           "showlegend": false,
           "text": [
            "ID: 0, Pos(7.32,1.00)"
           ],
           "type": "scatter",
           "x": [
            7.32432469528056
           ],
           "y": [
            1.0002884506936622
           ]
          },
          {
           "hoverinfo": "text",
           "marker": {
            "opacity": 1,
            "size": 1
           },
           "mode": "markers",
           "showlegend": false,
           "text": [
            "ID: 1, Pos(7.00,1.00)"
           ],
           "type": "scatter",
           "x": [
            7
           ],
           "y": [
            1
           ]
          }
         ],
         "layout": {
          "shapes": [
           {
            "fillcolor": "rgba(0, 0, 214, 0.5)",
            "line": {
             "color": "rgba(0, 0, 214, 0.5)"
            },
            "type": "circle",
            "x0": 7.12432469528056,
            "x1": 7.52432469528056,
            "xref": "x",
            "y0": 0.8002884506936623,
            "y1": 1.2002884506936622,
            "yref": "y"
           },
           {
            "fillcolor": "rgba(128, 0, 0, 0.5)",
            "line": {
             "color": "rgba(128, 0, 0, 0.5)"
            },
            "type": "circle",
            "x0": 6.8,
            "x1": 7.2,
            "xref": "x",
            "y0": 0.8,
            "y1": 1.2,
            "yref": "y"
           },
           {
            "line": {
             "color": "white",
             "width": 3
            },
            "type": "line",
            "x0": 7.32432469528056,
            "x1": 7.524121854997113,
            "y0": 1.0002884506936622,
            "y1": 1.009293725214645
           },
           {
            "line": {
             "color": "white",
             "width": 3
            },
            "type": "line",
            "x0": 7,
            "x1": 7.2,
            "y0": 1,
            "y1": 1
           }
          ],
          "title": {
           "text": "<b>Hirai & Tarui, 1975  |  Number of Agents: 2</b>",
           "x": 0.5
          }
         },
         "name": "174"
        },
        {
         "data": [
          {
           "hoverinfo": "name",
           "line": {
            "color": "grey"
           },
           "mode": "lines",
           "name": "Exterior",
           "showlegend": false,
           "type": "scatter",
           "x": {
            "bdata": "AAAAAAAAAAAAAAAAAAAoQAAAAAAAAChAAAAAAAAAJEAAAAAAAAAkQAAAAAAAAAAAAAAAAAAAAAA=",
            "dtype": "f8"
           },
           "y": {
            "bdata": "AAAAAAAAAAAAAAAAAAAAAAAAAAAAAChAAAAAAAAAKEAAAAAAAAAAQAAAAAAAAABAAAAAAAAAAAA=",
            "dtype": "f8"
           }
          },
          {
           "hoverinfo": "text",
           "marker": {
            "opacity": 1,
            "size": 1
           },
           "mode": "markers",
           "showlegend": false,
           "text": [
            "ID: 0, Pos(7.34,1.00)"
           ],
           "type": "scatter",
           "x": [
            7.342212691957511
           ],
           "y": [
            1.0008830818837864
           ]
          },
          {
           "hoverinfo": "text",
           "marker": {
            "opacity": 1,
            "size": 1
           },
           "mode": "markers",
           "showlegend": false,
           "text": [
            "ID: 1, Pos(7.00,1.00)"
           ],
           "type": "scatter",
           "x": [
            7
           ],
           "y": [
            1
           ]
          }
         ],
         "layout": {
          "shapes": [
           {
            "fillcolor": "rgba(0, 0, 209, 0.5)",
            "line": {
             "color": "rgba(0, 0, 209, 0.5)"
            },
            "type": "circle",
            "x0": 7.142212691957511,
            "x1": 7.542212691957511,
            "xref": "x",
            "y0": 0.8008830818837864,
            "y1": 1.2008830818837863,
            "yref": "y"
           },
           {
            "fillcolor": "rgba(128, 0, 0, 0.5)",
            "line": {
             "color": "rgba(128, 0, 0, 0.5)"
            },
            "type": "circle",
            "x0": 6.8,
            "x1": 7.2,
            "xref": "x",
            "y0": 0.8,
            "y1": 1.2,
            "yref": "y"
           },
           {
            "line": {
             "color": "white",
             "width": 3
            },
            "type": "line",
            "x0": 7.342212691957511,
            "x1": 7.542102280990781,
            "y0": 1.0008830818837864,
            "y1": 1.0075277937744938
           },
           {
            "line": {
             "color": "white",
             "width": 3
            },
            "type": "line",
            "x0": 7,
            "x1": 7.2,
            "y0": 1,
            "y1": 1
           }
          ],
          "title": {
           "text": "<b>Hirai & Tarui, 1975  |  Number of Agents: 2</b>",
           "x": 0.5
          }
         },
         "name": "175"
        },
        {
         "data": [
          {
           "hoverinfo": "name",
           "line": {
            "color": "grey"
           },
           "mode": "lines",
           "name": "Exterior",
           "showlegend": false,
           "type": "scatter",
           "x": {
            "bdata": "AAAAAAAAAAAAAAAAAAAoQAAAAAAAAChAAAAAAAAAJEAAAAAAAAAkQAAAAAAAAAAAAAAAAAAAAAA=",
            "dtype": "f8"
           },
           "y": {
            "bdata": "AAAAAAAAAAAAAAAAAAAAAAAAAAAAAChAAAAAAAAAKEAAAAAAAAAAQAAAAAAAAABAAAAAAAAAAAA=",
            "dtype": "f8"
           }
          },
          {
           "hoverinfo": "text",
           "marker": {
            "opacity": 1,
            "size": 1
           },
           "mode": "markers",
           "showlegend": false,
           "text": [
            "ID: 0, Pos(7.36,1.00)"
           ],
           "type": "scatter",
           "x": [
            7.360174641983255
           ],
           "y": [
            1.0012701777566952
           ]
          },
          {
           "hoverinfo": "text",
           "marker": {
            "opacity": 1,
            "size": 1
           },
           "mode": "markers",
           "showlegend": false,
           "text": [
            "ID: 1, Pos(7.00,1.00)"
           ],
           "type": "scatter",
           "x": [
            7
           ],
           "y": [
            1
           ]
          }
         ],
         "layout": {
          "shapes": [
           {
            "fillcolor": "rgba(0, 0, 205, 0.5)",
            "line": {
             "color": "rgba(0, 0, 205, 0.5)"
            },
            "type": "circle",
            "x0": 7.160174641983255,
            "x1": 7.560174641983255,
            "xref": "x",
            "y0": 0.8012701777566953,
            "y1": 1.2012701777566952,
            "yref": "y"
           },
           {
            "fillcolor": "rgba(128, 0, 0, 0.5)",
            "line": {
             "color": "rgba(128, 0, 0, 0.5)"
            },
            "type": "circle",
            "x0": 6.8,
            "x1": 7.2,
            "xref": "x",
            "y0": 0.8,
            "y1": 1.2,
            "yref": "y"
           },
           {
            "line": {
             "color": "white",
             "width": 3
            },
            "type": "line",
            "x0": 7.360174641983255,
            "x1": 7.560128214101595,
            "y0": 1.0012701777566952,
            "y1": 1.0055793536774316
           },
           {
            "line": {
             "color": "white",
             "width": 3
            },
            "type": "line",
            "x0": 7,
            "x1": 7.2,
            "y0": 1,
            "y1": 1
           }
          ],
          "title": {
           "text": "<b>Hirai & Tarui, 1975  |  Number of Agents: 2</b>",
           "x": 0.5
          }
         },
         "name": "176"
        },
        {
         "data": [
          {
           "hoverinfo": "name",
           "line": {
            "color": "grey"
           },
           "mode": "lines",
           "name": "Exterior",
           "showlegend": false,
           "type": "scatter",
           "x": {
            "bdata": "AAAAAAAAAAAAAAAAAAAoQAAAAAAAAChAAAAAAAAAJEAAAAAAAAAkQAAAAAAAAAAAAAAAAAAAAAA=",
            "dtype": "f8"
           },
           "y": {
            "bdata": "AAAAAAAAAAAAAAAAAAAAAAAAAAAAAChAAAAAAAAAKEAAAAAAAAAAQAAAAAAAAABAAAAAAAAAAAA=",
            "dtype": "f8"
           }
          },
          {
           "hoverinfo": "text",
           "marker": {
            "opacity": 1,
            "size": 1
           },
           "mode": "markers",
           "showlegend": false,
           "text": [
            "ID: 0, Pos(7.38,1.00)"
           ],
           "type": "scatter",
           "x": [
            7.378209701106575
           ],
           "y": [
            1.0014504686465067
           ]
          },
          {
           "hoverinfo": "text",
           "marker": {
            "opacity": 1,
            "size": 1
           },
           "mode": "markers",
           "showlegend": false,
           "text": [
            "ID: 1, Pos(7.00,1.00)"
           ],
           "type": "scatter",
           "x": [
            7
           ],
           "y": [
            1
           ]
          }
         ],
         "layout": {
          "shapes": [
           {
            "fillcolor": "rgba(0, 0, 200, 0.5)",
            "line": {
             "color": "rgba(0, 0, 200, 0.5)"
            },
            "type": "circle",
            "x0": 7.178209701106574,
            "x1": 7.578209701106575,
            "xref": "x",
            "y0": 0.8014504686465067,
            "y1": 1.2014504686465066,
            "yref": "y"
           },
           {
            "fillcolor": "rgba(128, 0, 0, 0.5)",
            "line": {
             "color": "rgba(128, 0, 0, 0.5)"
            },
            "type": "circle",
            "x0": 6.8,
            "x1": 7.2,
            "xref": "x",
            "y0": 0.8,
            "y1": 1.2,
            "yref": "y"
           },
           {
            "line": {
             "color": "white",
             "width": 3
            },
            "type": "line",
            "x0": 7.378209701106575,
            "x1": 7.57819970847502,
            "y0": 1.0014504686465067,
            "y1": 1.0034497066936514
           },
           {
            "line": {
             "color": "white",
             "width": 3
            },
            "type": "line",
            "x0": 7,
            "x1": 7.2,
            "y0": 1,
            "y1": 1
           }
          ],
          "title": {
           "text": "<b>Hirai & Tarui, 1975  |  Number of Agents: 2</b>",
           "x": 0.5
          }
         },
         "name": "177"
        },
        {
         "data": [
          {
           "hoverinfo": "name",
           "line": {
            "color": "grey"
           },
           "mode": "lines",
           "name": "Exterior",
           "showlegend": false,
           "type": "scatter",
           "x": {
            "bdata": "AAAAAAAAAAAAAAAAAAAoQAAAAAAAAChAAAAAAAAAJEAAAAAAAAAkQAAAAAAAAAAAAAAAAAAAAAA=",
            "dtype": "f8"
           },
           "y": {
            "bdata": "AAAAAAAAAAAAAAAAAAAAAAAAAAAAAChAAAAAAAAAKEAAAAAAAAAAQAAAAAAAAABAAAAAAAAAAAA=",
            "dtype": "f8"
           }
          },
          {
           "hoverinfo": "text",
           "marker": {
            "opacity": 1,
            "size": 1
           },
           "mode": "markers",
           "showlegend": false,
           "text": [
            "ID: 0, Pos(7.40,1.00)"
           ],
           "type": "scatter",
           "x": [
            7.3963170155916265
           ],
           "y": [
            1.001424698223874
           ]
          },
          {
           "hoverinfo": "text",
           "marker": {
            "opacity": 1,
            "size": 1
           },
           "mode": "markers",
           "showlegend": false,
           "text": [
            "ID: 1, Pos(7.00,1.00)"
           ],
           "type": "scatter",
           "x": [
            7
           ],
           "y": [
            1
           ]
          }
         ],
         "layout": {
          "shapes": [
           {
            "fillcolor": "rgba(0, 0, 196, 0.5)",
            "line": {
             "color": "rgba(0, 0, 196, 0.5)"
            },
            "type": "circle",
            "x0": 7.196317015591626,
            "x1": 7.596317015591627,
            "xref": "x",
            "y0": 0.801424698223874,
            "y1": 1.2014246982238739,
            "yref": "y"
           },
           {
            "fillcolor": "rgba(128, 0, 0, 0.5)",
            "line": {
             "color": "rgba(128, 0, 0, 0.5)"
            },
            "type": "circle",
            "x0": 6.8,
            "x1": 7.2,
            "xref": "x",
            "y0": 0.8,
            "y1": 1.2,
            "yref": "y"
           },
           {
            "line": {
             "color": "white",
             "width": 3
            },
            "type": "line",
            "x0": 7.3963170155916265,
            "x1": 7.596316813040653,
            "y0": 1.001424698223874,
            "y1": 1.001140057488719
           },
           {
            "line": {
             "color": "white",
             "width": 3
            },
            "type": "line",
            "x0": 7,
            "x1": 7.2,
            "y0": 1,
            "y1": 1
           }
          ],
          "title": {
           "text": "<b>Hirai & Tarui, 1975  |  Number of Agents: 2</b>",
           "x": 0.5
          }
         },
         "name": "178"
        },
        {
         "data": [
          {
           "hoverinfo": "name",
           "line": {
            "color": "grey"
           },
           "mode": "lines",
           "name": "Exterior",
           "showlegend": false,
           "type": "scatter",
           "x": {
            "bdata": "AAAAAAAAAAAAAAAAAAAoQAAAAAAAAChAAAAAAAAAJEAAAAAAAAAkQAAAAAAAAAAAAAAAAAAAAAA=",
            "dtype": "f8"
           },
           "y": {
            "bdata": "AAAAAAAAAAAAAAAAAAAAAAAAAAAAAChAAAAAAAAAKEAAAAAAAAAAQAAAAAAAAABAAAAAAAAAAAA=",
            "dtype": "f8"
           }
          },
          {
           "hoverinfo": "text",
           "marker": {
            "opacity": 1,
            "size": 1
           },
           "mode": "markers",
           "showlegend": false,
           "text": [
            "ID: 0, Pos(7.41,1.00)"
           ],
           "type": "scatter",
           "x": [
            7.41449572286697
           ],
           "y": [
            1.001193617042259
           ]
          },
          {
           "hoverinfo": "text",
           "marker": {
            "opacity": 1,
            "size": 1
           },
           "mode": "markers",
           "showlegend": false,
           "text": [
            "ID: 1, Pos(7.00,1.00)"
           ],
           "type": "scatter",
           "x": [
            7
           ],
           "y": [
            1
           ]
          }
         ],
         "layout": {
          "shapes": [
           {
            "fillcolor": "rgba(0, 0, 191, 0.5)",
            "line": {
             "color": "rgba(0, 0, 191, 0.5)"
            },
            "type": "circle",
            "x0": 7.21449572286697,
            "x1": 7.6144957228669705,
            "xref": "x",
            "y0": 0.8011936170422591,
            "y1": 1.201193617042259,
            "yref": "y"
           },
           {
            "fillcolor": "rgba(128, 0, 0, 0.5)",
            "line": {
             "color": "rgba(128, 0, 0, 0.5)"
            },
            "type": "circle",
            "x0": 6.8,
            "x1": 7.2,
            "xref": "x",
            "y0": 0.8,
            "y1": 1.2,
            "yref": "y"
           },
           {
            "line": {
             "color": "white",
             "width": 3
            },
            "type": "line",
            "x0": 7.41449572286697,
            "x1": 7.614479566245936,
            "y0": 1.001193617042259,
            "y1": 0.9986514944296915
           },
           {
            "line": {
             "color": "white",
             "width": 3
            },
            "type": "line",
            "x0": 7,
            "x1": 7.2,
            "y0": 1,
            "y1": 1
           }
          ],
          "title": {
           "text": "<b>Hirai & Tarui, 1975  |  Number of Agents: 2</b>",
           "x": 0.5
          }
         },
         "name": "179"
        },
        {
         "data": [
          {
           "hoverinfo": "name",
           "line": {
            "color": "grey"
           },
           "mode": "lines",
           "name": "Exterior",
           "showlegend": false,
           "type": "scatter",
           "x": {
            "bdata": "AAAAAAAAAAAAAAAAAAAoQAAAAAAAAChAAAAAAAAAJEAAAAAAAAAkQAAAAAAAAAAAAAAAAAAAAAA=",
            "dtype": "f8"
           },
           "y": {
            "bdata": "AAAAAAAAAAAAAAAAAAAAAAAAAAAAAChAAAAAAAAAKEAAAAAAAAAAQAAAAAAAAABAAAAAAAAAAAA=",
            "dtype": "f8"
           }
          },
          {
           "hoverinfo": "text",
           "marker": {
            "opacity": 1,
            "size": 1
           },
           "mode": "markers",
           "showlegend": false,
           "text": [
            "ID: 0, Pos(7.43,1.00)"
           ],
           "type": "scatter",
           "x": [
            7.432744952167174
           ],
           "y": [
            1.0007579709777918
           ]
          },
          {
           "hoverinfo": "text",
           "marker": {
            "opacity": 1,
            "size": 1
           },
           "mode": "markers",
           "showlegend": false,
           "text": [
            "ID: 1, Pos(7.00,1.00)"
           ],
           "type": "scatter",
           "x": [
            7
           ],
           "y": [
            1
           ]
          }
         ],
         "layout": {
          "shapes": [
           {
            "fillcolor": "rgba(0, 0, 187, 0.5)",
            "line": {
             "color": "rgba(0, 0, 187, 0.5)"
            },
            "type": "circle",
            "x0": 7.232744952167174,
            "x1": 7.632744952167174,
            "xref": "x",
            "y0": 0.8007579709777919,
            "y1": 1.2007579709777918,
            "yref": "y"
           },
           {
            "fillcolor": "rgba(128, 0, 0, 0.5)",
            "line": {
             "color": "rgba(128, 0, 0, 0.5)"
            },
            "type": "circle",
            "x0": 6.8,
            "x1": 7.2,
            "xref": "x",
            "y0": 0.8,
            "y1": 1.2,
            "yref": "y"
           },
           {
            "line": {
             "color": "white",
             "width": 3
            },
            "type": "line",
            "x0": 7.432744952167174,
            "x1": 7.632687989152877,
            "y0": 1.0007579709777918,
            "y1": 0.99598492573037
           },
           {
            "line": {
             "color": "white",
             "width": 3
            },
            "type": "line",
            "x0": 7,
            "x1": 7.2,
            "y0": 1,
            "y1": 1
           }
          ],
          "title": {
           "text": "<b>Hirai & Tarui, 1975  |  Number of Agents: 2</b>",
           "x": 0.5
          }
         },
         "name": "180"
        },
        {
         "data": [
          {
           "hoverinfo": "name",
           "line": {
            "color": "grey"
           },
           "mode": "lines",
           "name": "Exterior",
           "showlegend": false,
           "type": "scatter",
           "x": {
            "bdata": "AAAAAAAAAAAAAAAAAAAoQAAAAAAAAChAAAAAAAAAJEAAAAAAAAAkQAAAAAAAAAAAAAAAAAAAAAA=",
            "dtype": "f8"
           },
           "y": {
            "bdata": "AAAAAAAAAAAAAAAAAAAAAAAAAAAAAChAAAAAAAAAKEAAAAAAAAAAQAAAAAAAAABAAAAAAAAAAAA=",
            "dtype": "f8"
           }
          },
          {
           "hoverinfo": "text",
           "marker": {
            "opacity": 1,
            "size": 1
           },
           "mode": "markers",
           "showlegend": false,
           "text": [
            "ID: 0, Pos(7.45,1.00)"
           ],
           "type": "scatter",
           "x": [
            7.451063825162506
           ],
           "y": [
            1.0001185118529814
           ]
          },
          {
           "hoverinfo": "text",
           "marker": {
            "opacity": 1,
            "size": 1
           },
           "mode": "markers",
           "showlegend": false,
           "text": [
            "ID: 1, Pos(7.00,1.00)"
           ],
           "type": "scatter",
           "x": [
            7
           ],
           "y": [
            1
           ]
          }
         ],
         "layout": {
          "shapes": [
           {
            "fillcolor": "rgba(0, 0, 187, 0.5)",
            "line": {
             "color": "rgba(0, 0, 187, 0.5)"
            },
            "type": "circle",
            "x0": 7.251063825162506,
            "x1": 7.651063825162506,
            "xref": "x",
            "y0": 0.8001185118529814,
            "y1": 1.2001185118529814,
            "yref": "y"
           },
           {
            "fillcolor": "rgba(128, 0, 0, 0.5)",
            "line": {
             "color": "rgba(128, 0, 0, 0.5)"
            },
            "type": "circle",
            "x0": 6.8,
            "x1": 7.2,
            "xref": "x",
            "y0": 0.8,
            "y1": 1.2,
            "yref": "y"
           },
           {
            "line": {
             "color": "white",
             "width": 3
            },
            "type": "line",
            "x0": 7.451063825162506,
            "x1": 7.650942085693604,
            "y0": 1.0001185118529814,
            "y1": 0.9931413371337495
           },
           {
            "line": {
             "color": "white",
             "width": 3
            },
            "type": "line",
            "x0": 7,
            "x1": 7.2,
            "y0": 1,
            "y1": 1
           }
          ],
          "title": {
           "text": "<b>Hirai & Tarui, 1975  |  Number of Agents: 2</b>",
           "x": 0.5
          }
         },
         "name": "181"
        },
        {
         "data": [
          {
           "hoverinfo": "name",
           "line": {
            "color": "grey"
           },
           "mode": "lines",
           "name": "Exterior",
           "showlegend": false,
           "type": "scatter",
           "x": {
            "bdata": "AAAAAAAAAAAAAAAAAAAoQAAAAAAAAChAAAAAAAAAJEAAAAAAAAAkQAAAAAAAAAAAAAAAAAAAAAA=",
            "dtype": "f8"
           },
           "y": {
            "bdata": "AAAAAAAAAAAAAAAAAAAAAAAAAAAAAChAAAAAAAAAKEAAAAAAAAAAQAAAAAAAAABAAAAAAAAAAAA=",
            "dtype": "f8"
           }
          },
          {
           "hoverinfo": "text",
           "marker": {
            "opacity": 1,
            "size": 1
           },
           "mode": "markers",
           "showlegend": false,
           "text": [
            "ID: 0, Pos(7.47,1.00)"
           ],
           "type": "scatter",
           "x": [
            7.469451456576642
           ],
           "y": [
            0.999275997536777
           ]
          },
          {
           "hoverinfo": "text",
           "marker": {
            "opacity": 1,
            "size": 1
           },
           "mode": "markers",
           "showlegend": false,
           "text": [
            "ID: 1, Pos(7.00,1.00)"
           ],
           "type": "scatter",
           "x": [
            7
           ],
           "y": [
            1
           ]
          }
         ],
         "layout": {
          "shapes": [
           {
            "fillcolor": "rgba(0, 0, 182, 0.5)",
            "line": {
             "color": "rgba(0, 0, 182, 0.5)"
            },
            "type": "circle",
            "x0": 7.2694514565766415,
            "x1": 7.669451456576642,
            "xref": "x",
            "y0": 0.7992759975367769,
            "y1": 1.199275997536777,
            "yref": "y"
           },
           {
            "fillcolor": "rgba(128, 0, 0, 0.5)",
            "line": {
             "color": "rgba(128, 0, 0, 0.5)"
            },
            "type": "circle",
            "x0": 6.8,
            "x1": 7.2,
            "xref": "x",
            "y0": 0.8,
            "y1": 1.2,
            "yref": "y"
           },
           {
            "line": {
             "color": "white",
             "width": 3
            },
            "type": "line",
            "x0": 7.469451456576642,
            "x1": 7.669241842798568,
            "y0": 0.999275997536777,
            "y1": 0.9901216776115593
           },
           {
            "line": {
             "color": "white",
             "width": 3
            },
            "type": "line",
            "x0": 7,
            "x1": 7.2,
            "y0": 1,
            "y1": 1
           }
          ],
          "title": {
           "text": "<b>Hirai & Tarui, 1975  |  Number of Agents: 2</b>",
           "x": 0.5
          }
         },
         "name": "182"
        },
        {
         "data": [
          {
           "hoverinfo": "name",
           "line": {
            "color": "grey"
           },
           "mode": "lines",
           "name": "Exterior",
           "showlegend": false,
           "type": "scatter",
           "x": {
            "bdata": "AAAAAAAAAAAAAAAAAAAoQAAAAAAAAChAAAAAAAAAJEAAAAAAAAAkQAAAAAAAAAAAAAAAAAAAAAA=",
            "dtype": "f8"
           },
           "y": {
            "bdata": "AAAAAAAAAAAAAAAAAAAAAAAAAAAAAChAAAAAAAAAKEAAAAAAAAAAQAAAAAAAAABAAAAAAAAAAAA=",
            "dtype": "f8"
           }
          },
          {
           "hoverinfo": "text",
           "marker": {
            "opacity": 1,
            "size": 1
           },
           "mode": "markers",
           "showlegend": false,
           "text": [
            "ID: 0, Pos(7.49,1.00)"
           ],
           "type": "scatter",
           "x": [
            7.487906954792219
           ],
           "y": [
            0.9988312164171258
           ]
          },
          {
           "hoverinfo": "text",
           "marker": {
            "opacity": 1,
            "size": 1
           },
           "mode": "markers",
           "showlegend": false,
           "text": [
            "ID: 1, Pos(7.00,1.00)"
           ],
           "type": "scatter",
           "x": [
            7
           ],
           "y": [
            1
           ]
          }
         ],
         "layout": {
          "shapes": [
           {
            "fillcolor": "rgba(0, 0, 178, 0.5)",
            "line": {
             "color": "rgba(0, 0, 178, 0.5)"
            },
            "type": "circle",
            "x0": 7.287906954792219,
            "x1": 7.687906954792219,
            "xref": "x",
            "y0": 0.7988312164171258,
            "y1": 1.1988312164171258,
            "yref": "y"
           },
           {
            "fillcolor": "rgba(128, 0, 0, 0.5)",
            "line": {
             "color": "rgba(128, 0, 0, 0.5)"
            },
            "type": "circle",
            "x0": 6.8,
            "x1": 7.2,
            "xref": "x",
            "y0": 0.8,
            "y1": 1.2,
            "yref": "y"
           },
           {
            "line": {
             "color": "white",
             "width": 3
            },
            "type": "line",
            "x0": 7.487906954792219,
            "x1": 7.687848898137804,
            "y0": 0.9988312164171258,
            "y1": 0.9940125764439489
           },
           {
            "line": {
             "color": "white",
             "width": 3
            },
            "type": "line",
            "x0": 7,
            "x1": 7.2,
            "y0": 1,
            "y1": 1
           }
          ],
          "title": {
           "text": "<b>Hirai & Tarui, 1975  |  Number of Agents: 2</b>",
           "x": 0.5
          }
         },
         "name": "183"
        },
        {
         "data": [
          {
           "hoverinfo": "name",
           "line": {
            "color": "grey"
           },
           "mode": "lines",
           "name": "Exterior",
           "showlegend": false,
           "type": "scatter",
           "x": {
            "bdata": "AAAAAAAAAAAAAAAAAAAoQAAAAAAAAChAAAAAAAAAJEAAAAAAAAAkQAAAAAAAAAAAAAAAAAAAAAA=",
            "dtype": "f8"
           },
           "y": {
            "bdata": "AAAAAAAAAAAAAAAAAAAAAAAAAAAAAChAAAAAAAAAKEAAAAAAAAAAQAAAAAAAAABAAAAAAAAAAAA=",
            "dtype": "f8"
           }
          },
          {
           "hoverinfo": "text",
           "marker": {
            "opacity": 1,
            "size": 1
           },
           "mode": "markers",
           "showlegend": false,
           "text": [
            "ID: 0, Pos(7.51,1.00)"
           ],
           "type": "scatter",
           "x": [
            7.506429581076131
           ],
           "y": [
            0.9987828336836347
           ]
          },
          {
           "hoverinfo": "text",
           "marker": {
            "opacity": 1,
            "size": 1
           },
           "mode": "markers",
           "showlegend": false,
           "text": [
            "ID: 1, Pos(7.00,1.00)"
           ],
           "type": "scatter",
           "x": [
            7
           ],
           "y": [
            1
           ]
          }
         ],
         "layout": {
          "shapes": [
           {
            "fillcolor": "rgba(0, 0, 173, 0.5)",
            "line": {
             "color": "rgba(0, 0, 173, 0.5)"
            },
            "type": "circle",
            "x0": 7.306429581076131,
            "x1": 7.706429581076131,
            "xref": "x",
            "y0": 0.7987828336836347,
            "y1": 1.1987828336836348,
            "yref": "y"
           },
           {
            "fillcolor": "rgba(128, 0, 0, 0.5)",
            "line": {
             "color": "rgba(128, 0, 0, 0.5)"
            },
            "type": "circle",
            "x0": 6.8,
            "x1": 7.2,
            "xref": "x",
            "y0": 0.8,
            "y1": 1.2,
            "yref": "y"
           },
           {
            "line": {
             "color": "white",
             "width": 3
            },
            "type": "line",
            "x0": 7.506429581076131,
            "x1": 7.706428898779148,
            "y0": 0.9987828336836347,
            "y1": 0.998260417826483
           },
           {
            "line": {
             "color": "white",
             "width": 3
            },
            "type": "line",
            "x0": 7,
            "x1": 7.2,
            "y0": 1,
            "y1": 1
           }
          ],
          "title": {
           "text": "<b>Hirai & Tarui, 1975  |  Number of Agents: 2</b>",
           "x": 0.5
          }
         },
         "name": "184"
        },
        {
         "data": [
          {
           "hoverinfo": "name",
           "line": {
            "color": "grey"
           },
           "mode": "lines",
           "name": "Exterior",
           "showlegend": false,
           "type": "scatter",
           "x": {
            "bdata": "AAAAAAAAAAAAAAAAAAAoQAAAAAAAAChAAAAAAAAAJEAAAAAAAAAkQAAAAAAAAAAAAAAAAAAAAAA=",
            "dtype": "f8"
           },
           "y": {
            "bdata": "AAAAAAAAAAAAAAAAAAAAAAAAAAAAAChAAAAAAAAAKEAAAAAAAAAAQAAAAAAAAABAAAAAAAAAAAA=",
            "dtype": "f8"
           }
          },
          {
           "hoverinfo": "text",
           "marker": {
            "opacity": 1,
            "size": 1
           },
           "mode": "markers",
           "showlegend": false,
           "text": [
            "ID: 0, Pos(7.53,1.00)"
           ],
           "type": "scatter",
           "x": [
            7.525018547871528
           ],
           "y": [
            0.9991294943108135
           ]
          },
          {
           "hoverinfo": "text",
           "marker": {
            "opacity": 1,
            "size": 1
           },
           "mode": "markers",
           "showlegend": false,
           "text": [
            "ID: 1, Pos(7.00,1.00)"
           ],
           "type": "scatter",
           "x": [
            7
           ],
           "y": [
            1
           ]
          }
         ],
         "layout": {
          "shapes": [
           {
            "fillcolor": "rgba(0, 0, 168, 0.5)",
            "line": {
             "color": "rgba(0, 0, 168, 0.5)"
            },
            "type": "circle",
            "x0": 7.325018547871528,
            "x1": 7.725018547871528,
            "xref": "x",
            "y0": 0.7991294943108136,
            "y1": 1.1991294943108135,
            "yref": "y"
           },
           {
            "fillcolor": "rgba(128, 0, 0, 0.5)",
            "line": {
             "color": "rgba(128, 0, 0, 0.5)"
            },
            "type": "circle",
            "x0": 6.8,
            "x1": 7.2,
            "xref": "x",
            "y0": 0.8,
            "y1": 1.2,
            "yref": "y"
           },
           {
            "line": {
             "color": "white",
             "width": 3
            },
            "type": "line",
            "x0": 7.525018547871528,
            "x1": 7.724983779426015,
            "y0": 0.9991294943108135,
            "y1": 1.0028585919711415
           },
           {
            "line": {
             "color": "white",
             "width": 3
            },
            "type": "line",
            "x0": 7,
            "x1": 7.2,
            "y0": 1,
            "y1": 1
           }
          ],
          "title": {
           "text": "<b>Hirai & Tarui, 1975  |  Number of Agents: 2</b>",
           "x": 0.5
          }
         },
         "name": "185"
        },
        {
         "data": [
          {
           "hoverinfo": "name",
           "line": {
            "color": "grey"
           },
           "mode": "lines",
           "name": "Exterior",
           "showlegend": false,
           "type": "scatter",
           "x": {
            "bdata": "AAAAAAAAAAAAAAAAAAAoQAAAAAAAAChAAAAAAAAAJEAAAAAAAAAkQAAAAAAAAAAAAAAAAAAAAAA=",
            "dtype": "f8"
           },
           "y": {
            "bdata": "AAAAAAAAAAAAAAAAAAAAAAAAAAAAAChAAAAAAAAAKEAAAAAAAAAAQAAAAAAAAABAAAAAAAAAAAA=",
            "dtype": "f8"
           }
          },
          {
           "hoverinfo": "text",
           "marker": {
            "opacity": 1,
            "size": 1
           },
           "mode": "markers",
           "showlegend": false,
           "text": [
            "ID: 0, Pos(7.54,1.00)"
           ],
           "type": "scatter",
           "x": [
            7.543673020908353
           ],
           "y": [
            0.9998698509721208
           ]
          },
          {
           "hoverinfo": "text",
           "marker": {
            "opacity": 1,
            "size": 1
           },
           "mode": "markers",
           "showlegend": false,
           "text": [
            "ID: 1, Pos(7.00,1.00)"
           ],
           "type": "scatter",
           "x": [
            7
           ],
           "y": [
            1
           ]
          }
         ],
         "layout": {
          "shapes": [
           {
            "fillcolor": "rgba(0, 0, 164, 0.5)",
            "line": {
             "color": "rgba(0, 0, 164, 0.5)"
            },
            "type": "circle",
            "x0": 7.343673020908353,
            "x1": 7.7436730209083535,
            "xref": "x",
            "y0": 0.7998698509721207,
            "y1": 1.1998698509721208,
            "yref": "y"
           },
           {
            "fillcolor": "rgba(128, 0, 0, 0.5)",
            "line": {
             "color": "rgba(128, 0, 0, 0.5)"
            },
            "type": "circle",
            "x0": 6.8,
            "x1": 7.2,
            "xref": "x",
            "y0": 0.8,
            "y1": 1.2,
            "yref": "y"
           },
           {
            "line": {
             "color": "white",
             "width": 3
            },
            "type": "line",
            "x0": 7.543673020908353,
            "x1": 7.743515693885782,
            "y0": 0.9998698509721208,
            "y1": 1.0078011848597197
           },
           {
            "line": {
             "color": "white",
             "width": 3
            },
            "type": "line",
            "x0": 7,
            "x1": 7.2,
            "y0": 1,
            "y1": 1
           }
          ],
          "title": {
           "text": "<b>Hirai & Tarui, 1975  |  Number of Agents: 2</b>",
           "x": 0.5
          }
         },
         "name": "186"
        },
        {
         "data": [
          {
           "hoverinfo": "name",
           "line": {
            "color": "grey"
           },
           "mode": "lines",
           "name": "Exterior",
           "showlegend": false,
           "type": "scatter",
           "x": {
            "bdata": "AAAAAAAAAAAAAAAAAAAoQAAAAAAAAChAAAAAAAAAJEAAAAAAAAAkQAAAAAAAAAAAAAAAAAAAAAA=",
            "dtype": "f8"
           },
           "y": {
            "bdata": "AAAAAAAAAAAAAAAAAAAAAAAAAAAAAChAAAAAAAAAKEAAAAAAAAAAQAAAAAAAAABAAAAAAAAAAAA=",
            "dtype": "f8"
           }
          },
          {
           "hoverinfo": "text",
           "marker": {
            "opacity": 1,
            "size": 1
           },
           "mode": "markers",
           "showlegend": false,
           "text": [
            "ID: 0, Pos(7.56,1.00)"
           ],
           "type": "scatter",
           "x": [
            7.5623921214519365
           ],
           "y": [
            1.0010025474442477
           ]
          },
          {
           "hoverinfo": "text",
           "marker": {
            "opacity": 1,
            "size": 1
           },
           "mode": "markers",
           "showlegend": false,
           "text": [
            "ID: 1, Pos(7.00,1.00)"
           ],
           "type": "scatter",
           "x": [
            7
           ],
           "y": [
            1
           ]
          }
         ],
         "layout": {
          "shapes": [
           {
            "fillcolor": "rgba(0, 0, 159, 0.5)",
            "line": {
             "color": "rgba(0, 0, 159, 0.5)"
            },
            "type": "circle",
            "x0": 7.362392121451936,
            "x1": 7.762392121451937,
            "xref": "x",
            "y0": 0.8010025474442477,
            "y1": 1.2010025474442476,
            "yref": "y"
           },
           {
            "fillcolor": "rgba(128, 0, 0, 0.5)",
            "line": {
             "color": "rgba(128, 0, 0, 0.5)"
            },
            "type": "circle",
            "x0": 6.8,
            "x1": 7.2,
            "xref": "x",
            "y0": 0.8,
            "y1": 1.2,
            "yref": "y"
           },
           {
            "line": {
             "color": "white",
             "width": 3
            },
            "type": "line",
            "x0": 7.5623921214519365,
            "x1": 7.762026975477715,
            "y0": 1.0010025474442477,
            "y1": 1.0130824919021593
           },
           {
            "line": {
             "color": "white",
             "width": 3
            },
            "type": "line",
            "x0": 7,
            "x1": 7.2,
            "y0": 1,
            "y1": 1
           }
          ],
          "title": {
           "text": "<b>Hirai & Tarui, 1975  |  Number of Agents: 2</b>",
           "x": 0.5
          }
         },
         "name": "187"
        },
        {
         "data": [
          {
           "hoverinfo": "name",
           "line": {
            "color": "grey"
           },
           "mode": "lines",
           "name": "Exterior",
           "showlegend": false,
           "type": "scatter",
           "x": {
            "bdata": "AAAAAAAAAAAAAAAAAAAoQAAAAAAAAChAAAAAAAAAJEAAAAAAAAAkQAAAAAAAAAAAAAAAAAAAAAA=",
            "dtype": "f8"
           },
           "y": {
            "bdata": "AAAAAAAAAAAAAAAAAAAAAAAAAAAAAChAAAAAAAAAKEAAAAAAAAAAQAAAAAAAAABAAAAAAAAAAAA=",
            "dtype": "f8"
           }
          },
          {
           "hoverinfo": "text",
           "marker": {
            "opacity": 1,
            "size": 1
           },
           "mode": "markers",
           "showlegend": false,
           "text": [
            "ID: 0, Pos(7.58,1.00)"
           ],
           "type": "scatter",
           "x": [
            7.581174928663119
           ],
           "y": [
            1.001926168256766
           ]
          },
          {
           "hoverinfo": "text",
           "marker": {
            "opacity": 1,
            "size": 1
           },
           "mode": "markers",
           "showlegend": false,
           "text": [
            "ID: 1, Pos(7.00,1.00)"
           ],
           "type": "scatter",
           "x": [
            7
           ],
           "y": [
            1
           ]
          }
         ],
         "layout": {
          "shapes": [
           {
            "fillcolor": "rgba(0, 0, 155, 0.5)",
            "line": {
             "color": "rgba(0, 0, 155, 0.5)"
            },
            "type": "circle",
            "x0": 7.3811749286631185,
            "x1": 7.781174928663119,
            "xref": "x",
            "y0": 0.801926168256766,
            "y1": 1.201926168256766,
            "yref": "y"
           },
           {
            "fillcolor": "rgba(128, 0, 0, 0.5)",
            "line": {
             "color": "rgba(128, 0, 0, 0.5)"
            },
            "type": "circle",
            "x0": 6.8,
            "x1": 7.2,
            "xref": "x",
            "y0": 0.8,
            "y1": 1.2,
            "yref": "y"
           },
           {
            "line": {
             "color": "white",
             "width": 3
            },
            "type": "line",
            "x0": 7.581174928663119,
            "x1": 7.78093356066995,
            "y0": 1.001926168256766,
            "y1": 1.0117490465905137
           },
           {
            "line": {
             "color": "white",
             "width": 3
            },
            "type": "line",
            "x0": 7,
            "x1": 7.2,
            "y0": 1,
            "y1": 1
           }
          ],
          "title": {
           "text": "<b>Hirai & Tarui, 1975  |  Number of Agents: 2</b>",
           "x": 0.5
          }
         },
         "name": "188"
        },
        {
         "data": [
          {
           "hoverinfo": "name",
           "line": {
            "color": "grey"
           },
           "mode": "lines",
           "name": "Exterior",
           "showlegend": false,
           "type": "scatter",
           "x": {
            "bdata": "AAAAAAAAAAAAAAAAAAAoQAAAAAAAAChAAAAAAAAAJEAAAAAAAAAkQAAAAAAAAAAAAAAAAAAAAAA=",
            "dtype": "f8"
           },
           "y": {
            "bdata": "AAAAAAAAAAAAAAAAAAAAAAAAAAAAAChAAAAAAAAAKEAAAAAAAAAAQAAAAAAAAABAAAAAAAAAAAA=",
            "dtype": "f8"
           }
          },
          {
           "hoverinfo": "text",
           "marker": {
            "opacity": 1,
            "size": 1
           },
           "mode": "markers",
           "showlegend": false,
           "text": [
            "ID: 0, Pos(7.60,1.00)"
           ],
           "type": "scatter",
           "x": [
            7.600020728523606
           ],
           "y": [
            1.0026414857165549
           ]
          },
          {
           "hoverinfo": "text",
           "marker": {
            "opacity": 1,
            "size": 1
           },
           "mode": "markers",
           "showlegend": false,
           "text": [
            "ID: 1, Pos(7.00,1.00)"
           ],
           "type": "scatter",
           "x": [
            7
           ],
           "y": [
            1
           ]
          }
         ],
         "layout": {
          "shapes": [
           {
            "fillcolor": "rgba(0, 0, 155, 0.5)",
            "line": {
             "color": "rgba(0, 0, 155, 0.5)"
            },
            "type": "circle",
            "x0": 7.4000207285236055,
            "x1": 7.800020728523606,
            "xref": "x",
            "y0": 0.8026414857165549,
            "y1": 1.2026414857165548,
            "yref": "y"
           },
           {
            "fillcolor": "rgba(128, 0, 0, 0.5)",
            "line": {
             "color": "rgba(128, 0, 0, 0.5)"
            },
            "type": "circle",
            "x0": 6.8,
            "x1": 7.2,
            "xref": "x",
            "y0": 0.8,
            "y1": 1.2,
            "yref": "y"
           },
           {
            "line": {
             "color": "white",
             "width": 3
            },
            "type": "line",
            "x0": 7.600020728523606,
            "x1": 7.799876815681218,
            "y0": 1.0026414857165549,
            "y1": 1.0102272899619178
           },
           {
            "line": {
             "color": "white",
             "width": 3
            },
            "type": "line",
            "x0": 7,
            "x1": 7.2,
            "y0": 1,
            "y1": 1
           }
          ],
          "title": {
           "text": "<b>Hirai & Tarui, 1975  |  Number of Agents: 2</b>",
           "x": 0.5
          }
         },
         "name": "189"
        },
        {
         "data": [
          {
           "hoverinfo": "name",
           "line": {
            "color": "grey"
           },
           "mode": "lines",
           "name": "Exterior",
           "showlegend": false,
           "type": "scatter",
           "x": {
            "bdata": "AAAAAAAAAAAAAAAAAAAoQAAAAAAAAChAAAAAAAAAJEAAAAAAAAAkQAAAAAAAAAAAAAAAAAAAAAA=",
            "dtype": "f8"
           },
           "y": {
            "bdata": "AAAAAAAAAAAAAAAAAAAAAAAAAAAAAChAAAAAAAAAKEAAAAAAAAAAQAAAAAAAAABAAAAAAAAAAAA=",
            "dtype": "f8"
           }
          },
          {
           "hoverinfo": "text",
           "marker": {
            "opacity": 1,
            "size": 1
           },
           "mode": "markers",
           "showlegend": false,
           "text": [
            "ID: 0, Pos(7.62,1.00)"
           ],
           "type": "scatter",
           "x": [
            7.618928797029059
           ],
           "y": [
            1.003149295087531
           ]
          },
          {
           "hoverinfo": "text",
           "marker": {
            "opacity": 1,
            "size": 1
           },
           "mode": "markers",
           "showlegend": false,
           "text": [
            "ID: 1, Pos(7.00,1.00)"
           ],
           "type": "scatter",
           "x": [
            7
           ],
           "y": [
            1
           ]
          }
         ],
         "layout": {
          "shapes": [
           {
            "fillcolor": "rgba(0, 0, 150, 0.5)",
            "line": {
             "color": "rgba(0, 0, 150, 0.5)"
            },
            "type": "circle",
            "x0": 7.418928797029059,
            "x1": 7.818928797029059,
            "xref": "x",
            "y0": 0.803149295087531,
            "y1": 1.2031492950875309,
            "yref": "y"
           },
           {
            "fillcolor": "rgba(128, 0, 0, 0.5)",
            "line": {
             "color": "rgba(128, 0, 0, 0.5)"
            },
            "type": "circle",
            "x0": 6.8,
            "x1": 7.2,
            "xref": "x",
            "y0": 0.8,
            "y1": 1.2,
            "yref": "y"
           },
           {
            "line": {
             "color": "white",
             "width": 3
            },
            "type": "line",
            "x0": 7.618928797029059,
            "x1": 7.818856707493485,
            "y0": 1.003149295087531,
            "y1": 1.008518710076916
           },
           {
            "line": {
             "color": "white",
             "width": 3
            },
            "type": "line",
            "x0": 7,
            "x1": 7.2,
            "y0": 1,
            "y1": 1
           }
          ],
          "title": {
           "text": "<b>Hirai & Tarui, 1975  |  Number of Agents: 2</b>",
           "x": 0.5
          }
         },
         "name": "190"
        },
        {
         "data": [
          {
           "hoverinfo": "name",
           "line": {
            "color": "grey"
           },
           "mode": "lines",
           "name": "Exterior",
           "showlegend": false,
           "type": "scatter",
           "x": {
            "bdata": "AAAAAAAAAAAAAAAAAAAoQAAAAAAAAChAAAAAAAAAJEAAAAAAAAAkQAAAAAAAAAAAAAAAAAAAAAA=",
            "dtype": "f8"
           },
           "y": {
            "bdata": "AAAAAAAAAAAAAAAAAAAAAAAAAAAAAChAAAAAAAAAKEAAAAAAAAAAQAAAAAAAAABAAAAAAAAAAAA=",
            "dtype": "f8"
           }
          },
          {
           "hoverinfo": "text",
           "marker": {
            "opacity": 1,
            "size": 1
           },
           "mode": "markers",
           "showlegend": false,
           "text": [
            "ID: 0, Pos(7.64,1.00)"
           ],
           "type": "scatter",
           "x": [
            7.637898400716793
           ],
           "y": [
            1.0034504095048988
           ]
          },
          {
           "hoverinfo": "text",
           "marker": {
            "opacity": 1,
            "size": 1
           },
           "mode": "markers",
           "showlegend": false,
           "text": [
            "ID: 1, Pos(7.00,1.00)"
           ],
           "type": "scatter",
           "x": [
            7
           ],
           "y": [
            1
           ]
          }
         ],
         "layout": {
          "shapes": [
           {
            "fillcolor": "rgba(0, 0, 146, 0.5)",
            "line": {
             "color": "rgba(0, 0, 146, 0.5)"
            },
            "type": "circle",
            "x0": 7.437898400716793,
            "x1": 7.837898400716793,
            "xref": "x",
            "y0": 0.8034504095048989,
            "y1": 1.2034504095048988,
            "yref": "y"
           },
           {
            "fillcolor": "rgba(128, 0, 0, 0.5)",
            "line": {
             "color": "rgba(128, 0, 0, 0.5)"
            },
            "type": "circle",
            "x0": 6.8,
            "x1": 7.2,
            "xref": "x",
            "y0": 0.8,
            "y1": 1.2,
            "yref": "y"
           },
           {
            "line": {
             "color": "white",
             "width": 3
            },
            "type": "line",
            "x0": 7.637898400716793,
            "x1": 7.837873208608028,
            "y0": 1.0034504095048988,
            "y1": 1.0066247139741789
           },
           {
            "line": {
             "color": "white",
             "width": 3
            },
            "type": "line",
            "x0": 7,
            "x1": 7.2,
            "y0": 1,
            "y1": 1
           }
          ],
          "title": {
           "text": "<b>Hirai & Tarui, 1975  |  Number of Agents: 2</b>",
           "x": 0.5
          }
         },
         "name": "191"
        },
        {
         "data": [
          {
           "hoverinfo": "name",
           "line": {
            "color": "grey"
           },
           "mode": "lines",
           "name": "Exterior",
           "showlegend": false,
           "type": "scatter",
           "x": {
            "bdata": "AAAAAAAAAAAAAAAAAAAoQAAAAAAAAChAAAAAAAAAJEAAAAAAAAAkQAAAAAAAAAAAAAAAAAAAAAA=",
            "dtype": "f8"
           },
           "y": {
            "bdata": "AAAAAAAAAAAAAAAAAAAAAAAAAAAAAChAAAAAAAAAKEAAAAAAAAAAQAAAAAAAAABAAAAAAAAAAAA=",
            "dtype": "f8"
           }
          },
          {
           "hoverinfo": "text",
           "marker": {
            "opacity": 1,
            "size": 1
           },
           "mode": "markers",
           "showlegend": false,
           "text": [
            "ID: 0, Pos(7.66,1.00)"
           ],
           "type": "scatter",
           "x": [
            7.6569287971972635
           ],
           "y": [
            1.003545654945235
           ]
          },
          {
           "hoverinfo": "text",
           "marker": {
            "opacity": 1,
            "size": 1
           },
           "mode": "markers",
           "showlegend": false,
           "text": [
            "ID: 1, Pos(7.00,1.00)"
           ],
           "type": "scatter",
           "x": [
            7
           ],
           "y": [
            1
           ]
          }
         ],
         "layout": {
          "shapes": [
           {
            "fillcolor": "rgba(0, 0, 141, 0.5)",
            "line": {
             "color": "rgba(0, 0, 141, 0.5)"
            },
            "type": "circle",
            "x0": 7.456928797197263,
            "x1": 7.856928797197264,
            "xref": "x",
            "y0": 0.8035456549452351,
            "y1": 1.203545654945235,
            "yref": "y"
           },
           {
            "fillcolor": "rgba(128, 0, 0, 0.5)",
            "line": {
             "color": "rgba(128, 0, 0, 0.5)"
            },
            "type": "circle",
            "x0": 6.8,
            "x1": 7.2,
            "xref": "x",
            "y0": 0.8,
            "y1": 1.2,
            "yref": "y"
           },
           {
            "line": {
             "color": "white",
             "width": 3
            },
            "type": "line",
            "x0": 7.6569287971972635,
            "x1": 7.856926292330928,
            "y0": 1.003545654945235,
            "y1": 1.0045466246049948
           },
           {
            "line": {
             "color": "white",
             "width": 3
            },
            "type": "line",
            "x0": 7,
            "x1": 7.2,
            "y0": 1,
            "y1": 1
           }
          ],
          "title": {
           "text": "<b>Hirai & Tarui, 1975  |  Number of Agents: 2</b>",
           "x": 0.5
          }
         },
         "name": "192"
        },
        {
         "data": [
          {
           "hoverinfo": "name",
           "line": {
            "color": "grey"
           },
           "mode": "lines",
           "name": "Exterior",
           "showlegend": false,
           "type": "scatter",
           "x": {
            "bdata": "AAAAAAAAAAAAAAAAAAAoQAAAAAAAAChAAAAAAAAAJEAAAAAAAAAkQAAAAAAAAAAAAAAAAAAAAAA=",
            "dtype": "f8"
           },
           "y": {
            "bdata": "AAAAAAAAAAAAAAAAAAAAAAAAAAAAAChAAAAAAAAAKEAAAAAAAAAAQAAAAAAAAABAAAAAAAAAAAA=",
            "dtype": "f8"
           }
          },
          {
           "hoverinfo": "text",
           "marker": {
            "opacity": 1,
            "size": 1
           },
           "mode": "markers",
           "showlegend": false,
           "text": [
            "ID: 0, Pos(7.68,1.00)"
           ],
           "type": "scatter",
           "x": [
            7.676019235686145
           ],
           "y": [
            1.0034358652554505
           ]
          },
          {
           "hoverinfo": "text",
           "marker": {
            "opacity": 1,
            "size": 1
           },
           "mode": "markers",
           "showlegend": false,
           "text": [
            "ID: 1, Pos(7.00,1.00)"
           ],
           "type": "scatter",
           "x": [
            7
           ],
           "y": [
            1
           ]
          }
         ],
         "layout": {
          "shapes": [
           {
            "fillcolor": "rgba(0, 0, 137, 0.5)",
            "line": {
             "color": "rgba(0, 0, 137, 0.5)"
            },
            "type": "circle",
            "x0": 7.476019235686145,
            "x1": 7.876019235686146,
            "xref": "x",
            "y0": 0.8034358652554505,
            "y1": 1.2034358652554504,
            "yref": "y"
           },
           {
            "fillcolor": "rgba(128, 0, 0, 0.5)",
            "line": {
             "color": "rgba(128, 0, 0, 0.5)"
            },
            "type": "circle",
            "x0": 6.8,
            "x1": 7.2,
            "xref": "x",
            "y0": 0.8,
            "y1": 1.2,
            "yref": "y"
           },
           {
            "line": {
             "color": "white",
             "width": 3
            },
            "type": "line",
            "x0": 7.676019235686145,
            "x1": 7.87601592833326,
            "y0": 1.0034358652554505,
            "y1": 1.002285678220382
           },
           {
            "line": {
             "color": "white",
             "width": 3
            },
            "type": "line",
            "x0": 7,
            "x1": 7.2,
            "y0": 1,
            "y1": 1
           }
          ],
          "title": {
           "text": "<b>Hirai & Tarui, 1975  |  Number of Agents: 2</b>",
           "x": 0.5
          }
         },
         "name": "193"
        },
        {
         "data": [
          {
           "hoverinfo": "name",
           "line": {
            "color": "grey"
           },
           "mode": "lines",
           "name": "Exterior",
           "showlegend": false,
           "type": "scatter",
           "x": {
            "bdata": "AAAAAAAAAAAAAAAAAAAoQAAAAAAAAChAAAAAAAAAJEAAAAAAAAAkQAAAAAAAAAAAAAAAAAAAAAA=",
            "dtype": "f8"
           },
           "y": {
            "bdata": "AAAAAAAAAAAAAAAAAAAAAAAAAAAAAChAAAAAAAAAKEAAAAAAAAAAQAAAAAAAAABAAAAAAAAAAAA=",
            "dtype": "f8"
           }
          },
          {
           "hoverinfo": "text",
           "marker": {
            "opacity": 1,
            "size": 1
           },
           "mode": "markers",
           "showlegend": false,
           "text": [
            "ID: 0, Pos(7.70,1.00)"
           ],
           "type": "scatter",
           "x": [
            7.695168957534001
           ],
           "y": [
            1.0031218621540907
           ]
          },
          {
           "hoverinfo": "text",
           "marker": {
            "opacity": 1,
            "size": 1
           },
           "mode": "markers",
           "showlegend": false,
           "text": [
            "ID: 1, Pos(7.00,1.00)"
           ],
           "type": "scatter",
           "x": [
            7
           ],
           "y": [
            1
           ]
          }
         ],
         "layout": {
          "shapes": [
           {
            "fillcolor": "rgba(0, 0, 137, 0.5)",
            "line": {
             "color": "rgba(0, 0, 137, 0.5)"
            },
            "type": "circle",
            "x0": 7.495168957534001,
            "x1": 7.895168957534001,
            "xref": "x",
            "y0": 0.8031218621540908,
            "y1": 1.2031218621540907,
            "yref": "y"
           },
           {
            "fillcolor": "rgba(128, 0, 0, 0.5)",
            "line": {
             "color": "rgba(128, 0, 0, 0.5)"
            },
            "type": "circle",
            "x0": 6.8,
            "x1": 7.2,
            "xref": "x",
            "y0": 0.8,
            "y1": 1.2,
            "yref": "y"
           },
           {
            "line": {
             "color": "white",
             "width": 3
            },
            "type": "line",
            "x0": 7.695168957534001,
            "x1": 7.895142075918255,
            "y0": 1.0031218621540907,
            "y1": 0.9998428495470073
           },
           {
            "line": {
             "color": "white",
             "width": 3
            },
            "type": "line",
            "x0": 7,
            "x1": 7.2,
            "y0": 1,
            "y1": 1
           }
          ],
          "title": {
           "text": "<b>Hirai & Tarui, 1975  |  Number of Agents: 2</b>",
           "x": 0.5
          }
         },
         "name": "194"
        },
        {
         "data": [
          {
           "hoverinfo": "name",
           "line": {
            "color": "grey"
           },
           "mode": "lines",
           "name": "Exterior",
           "showlegend": false,
           "type": "scatter",
           "x": {
            "bdata": "AAAAAAAAAAAAAAAAAAAoQAAAAAAAAChAAAAAAAAAJEAAAAAAAAAkQAAAAAAAAAAAAAAAAAAAAAA=",
            "dtype": "f8"
           },
           "y": {
            "bdata": "AAAAAAAAAAAAAAAAAAAAAAAAAAAAAChAAAAAAAAAKEAAAAAAAAAAQAAAAAAAAABAAAAAAAAAAAA=",
            "dtype": "f8"
           }
          },
          {
           "hoverinfo": "text",
           "marker": {
            "opacity": 1,
            "size": 1
           },
           "mode": "markers",
           "showlegend": false,
           "text": [
            "ID: 0, Pos(7.71,1.00)"
           ],
           "type": "scatter",
           "x": [
            7.714377196749161
           ],
           "y": [
            1.0026044564980683
           ]
          },
          {
           "hoverinfo": "text",
           "marker": {
            "opacity": 1,
            "size": 1
           },
           "mode": "markers",
           "showlegend": false,
           "text": [
            "ID: 1, Pos(7.00,1.00)"
           ],
           "type": "scatter",
           "x": [
            7
           ],
           "y": [
            1
           ]
          }
         ],
         "layout": {
          "shapes": [
           {
            "fillcolor": "rgba(0, 0, 141, 0.5)",
            "line": {
             "color": "rgba(0, 0, 141, 0.5)"
            },
            "type": "circle",
            "x0": 7.514377196749161,
            "x1": 7.914377196749161,
            "xref": "x",
            "y0": 0.8026044564980683,
            "y1": 1.2026044564980682,
            "yref": "y"
           },
           {
            "fillcolor": "rgba(128, 0, 0, 0.5)",
            "line": {
             "color": "rgba(128, 0, 0, 0.5)"
            },
            "type": "circle",
            "x0": 6.8,
            "x1": 7.2,
            "xref": "x",
            "y0": 0.8,
            "y1": 1.2,
            "yref": "y"
           },
           {
            "line": {
             "color": "white",
             "width": 3
            },
            "type": "line",
            "x0": 7.714377196749161,
            "x1": 7.914304677888319,
            "y0": 1.0026044564980683,
            "y1": 0.9972190795055708
           },
           {
            "line": {
             "color": "white",
             "width": 3
            },
            "type": "line",
            "x0": 7,
            "x1": 7.2,
            "y0": 1,
            "y1": 1
           }
          ],
          "title": {
           "text": "<b>Hirai & Tarui, 1975  |  Number of Agents: 2</b>",
           "x": 0.5
          }
         },
         "name": "195"
        },
        {
         "data": [
          {
           "hoverinfo": "name",
           "line": {
            "color": "grey"
           },
           "mode": "lines",
           "name": "Exterior",
           "showlegend": false,
           "type": "scatter",
           "x": {
            "bdata": "AAAAAAAAAAAAAAAAAAAoQAAAAAAAAChAAAAAAAAAJEAAAAAAAAAkQAAAAAAAAAAAAAAAAAAAAAA=",
            "dtype": "f8"
           },
           "y": {
            "bdata": "AAAAAAAAAAAAAAAAAAAAAAAAAAAAAChAAAAAAAAAKEAAAAAAAAAAQAAAAAAAAABAAAAAAAAAAAA=",
            "dtype": "f8"
           }
          },
          {
           "hoverinfo": "text",
           "marker": {
            "opacity": 1,
            "size": 1
           },
           "mode": "markers",
           "showlegend": false,
           "text": [
            "ID: 0, Pos(7.73,1.00)"
           ],
           "type": "scatter",
           "x": [
            7.733643180509892
           ],
           "y": [
            1.0018844619971035
           ]
          },
          {
           "hoverinfo": "text",
           "marker": {
            "opacity": 1,
            "size": 1
           },
           "mode": "markers",
           "showlegend": false,
           "text": [
            "ID: 1, Pos(7.00,1.00)"
           ],
           "type": "scatter",
           "x": [
            7
           ],
           "y": [
            1
           ]
          }
         ],
         "layout": {
          "shapes": [
           {
            "fillcolor": "rgba(0, 0, 137, 0.5)",
            "line": {
             "color": "rgba(0, 0, 137, 0.5)"
            },
            "type": "circle",
            "x0": 7.533643180509892,
            "x1": 7.933643180509892,
            "xref": "x",
            "y0": 0.8018844619971035,
            "y1": 1.2018844619971034,
            "yref": "y"
           },
           {
            "fillcolor": "rgba(128, 0, 0, 0.5)",
            "line": {
             "color": "rgba(128, 0, 0, 0.5)"
            },
            "type": "circle",
            "x0": 6.8,
            "x1": 7.2,
            "xref": "x",
            "y0": 0.8,
            "y1": 1.2,
            "yref": "y"
           },
           {
            "line": {
             "color": "white",
             "width": 3
            },
            "type": "line",
            "x0": 7.733643180509892,
            "x1": 7.933503665361863,
            "y0": 1.0018844619971035,
            "y1": 0.994415419572865
           },
           {
            "line": {
             "color": "white",
             "width": 3
            },
            "type": "line",
            "x0": 7,
            "x1": 7.2,
            "y0": 1,
            "y1": 1
           }
          ],
          "title": {
           "text": "<b>Hirai & Tarui, 1975  |  Number of Agents: 2</b>",
           "x": 0.5
          }
         },
         "name": "196"
        },
        {
         "data": [
          {
           "hoverinfo": "name",
           "line": {
            "color": "grey"
           },
           "mode": "lines",
           "name": "Exterior",
           "showlegend": false,
           "type": "scatter",
           "x": {
            "bdata": "AAAAAAAAAAAAAAAAAAAoQAAAAAAAAChAAAAAAAAAJEAAAAAAAAAkQAAAAAAAAAAAAAAAAAAAAAA=",
            "dtype": "f8"
           },
           "y": {
            "bdata": "AAAAAAAAAAAAAAAAAAAAAAAAAAAAAChAAAAAAAAAKEAAAAAAAAAAQAAAAAAAAABAAAAAAAAAAAA=",
            "dtype": "f8"
           }
          },
          {
           "hoverinfo": "text",
           "marker": {
            "opacity": 1,
            "size": 1
           },
           "mode": "markers",
           "showlegend": false,
           "text": [
            "ID: 0, Pos(7.75,1.00)"
           ],
           "type": "scatter",
           "x": [
            7.752966129668586
           ],
           "y": [
            1.0009626953471829
           ]
          },
          {
           "hoverinfo": "text",
           "marker": {
            "opacity": 1,
            "size": 1
           },
           "mode": "markers",
           "showlegend": false,
           "text": [
            "ID: 1, Pos(7.00,1.00)"
           ],
           "type": "scatter",
           "x": [
            7
           ],
           "y": [
            1
           ]
          }
         ],
         "layout": {
          "shapes": [
           {
            "fillcolor": "rgba(0, 0, 132, 0.5)",
            "line": {
             "color": "rgba(0, 0, 132, 0.5)"
            },
            "type": "circle",
            "x0": 7.552966129668586,
            "x1": 7.952966129668586,
            "xref": "x",
            "y0": 0.8009626953471829,
            "y1": 1.2009626953471828,
            "yref": "y"
           },
           {
            "fillcolor": "rgba(128, 0, 0, 0.5)",
            "line": {
             "color": "rgba(128, 0, 0, 0.5)"
            },
            "type": "circle",
            "x0": 6.8,
            "x1": 7.2,
            "xref": "x",
            "y0": 0.8,
            "y1": 1.2,
            "yref": "y"
           },
           {
            "line": {
             "color": "white",
             "width": 3
            },
            "type": "line",
            "x0": 7.752966129668586,
            "x1": 7.952738957709899,
            "y0": 1.0009626953471829,
            "y1": 0.9914328907124718
           },
           {
            "line": {
             "color": "white",
             "width": 3
            },
            "type": "line",
            "x0": 7,
            "x1": 7.2,
            "y0": 1,
            "y1": 1
           }
          ],
          "title": {
           "text": "<b>Hirai & Tarui, 1975  |  Number of Agents: 2</b>",
           "x": 0.5
          }
         },
         "name": "197"
        },
        {
         "data": [
          {
           "hoverinfo": "name",
           "line": {
            "color": "grey"
           },
           "mode": "lines",
           "name": "Exterior",
           "showlegend": false,
           "type": "scatter",
           "x": {
            "bdata": "AAAAAAAAAAAAAAAAAAAoQAAAAAAAAChAAAAAAAAAJEAAAAAAAAAkQAAAAAAAAAAAAAAAAAAAAAA=",
            "dtype": "f8"
           },
           "y": {
            "bdata": "AAAAAAAAAAAAAAAAAAAAAAAAAAAAAChAAAAAAAAAKEAAAAAAAAAAQAAAAAAAAABAAAAAAAAAAAA=",
            "dtype": "f8"
           }
          },
          {
           "hoverinfo": "text",
           "marker": {
            "opacity": 1,
            "size": 1
           },
           "mode": "markers",
           "showlegend": false,
           "text": [
            "ID: 0, Pos(7.77,1.00)"
           ],
           "type": "scatter",
           "x": [
            7.772345259247704
           ],
           "y": [
            0.9998399763424299
           ]
          },
          {
           "hoverinfo": "text",
           "marker": {
            "opacity": 1,
            "size": 1
           },
           "mode": "markers",
           "showlegend": false,
           "text": [
            "ID: 1, Pos(7.00,1.00)"
           ],
           "type": "scatter",
           "x": [
            7
           ],
           "y": [
            1
           ]
          }
         ],
         "layout": {
          "shapes": [
           {
            "fillcolor": "rgba(0, 0, 128, 0.5)",
            "line": {
             "color": "rgba(0, 0, 128, 0.5)"
            },
            "type": "circle",
            "x0": 7.572345259247704,
            "x1": 7.972345259247704,
            "xref": "x",
            "y0": 0.79983997634243,
            "y1": 1.19983997634243,
            "yref": "y"
           },
           {
            "fillcolor": "rgba(128, 0, 0, 0.5)",
            "line": {
             "color": "rgba(128, 0, 0, 0.5)"
            },
            "type": "circle",
            "x0": 6.8,
            "x1": 7.2,
            "xref": "x",
            "y0": 0.8,
            "y1": 1.2,
            "yref": "y"
           },
           {
            "line": {
             "color": "white",
             "width": 3
            },
            "type": "line",
            "x0": 7.772345259247704,
            "x1": 7.972010461872832,
            "y0": 0.9998399763424299,
            "y1": 0.9882724847964403
           },
           {
            "line": {
             "color": "white",
             "width": 3
            },
            "type": "line",
            "x0": 7,
            "x1": 7.2,
            "y0": 1,
            "y1": 1
           }
          ],
          "title": {
           "text": "<b>Hirai & Tarui, 1975  |  Number of Agents: 2</b>",
           "x": 0.5
          }
         },
         "name": "198"
        },
        {
         "data": [
          {
           "hoverinfo": "name",
           "line": {
            "color": "grey"
           },
           "mode": "lines",
           "name": "Exterior",
           "showlegend": false,
           "type": "scatter",
           "x": {
            "bdata": "AAAAAAAAAAAAAAAAAAAoQAAAAAAAAChAAAAAAAAAJEAAAAAAAAAkQAAAAAAAAAAAAAAAAAAAAAA=",
            "dtype": "f8"
           },
           "y": {
            "bdata": "AAAAAAAAAAAAAAAAAAAAAAAAAAAAAChAAAAAAAAAKEAAAAAAAAAAQAAAAAAAAABAAAAAAAAAAAA=",
            "dtype": "f8"
           }
          },
          {
           "hoverinfo": "text",
           "marker": {
            "opacity": 1,
            "size": 1
           },
           "mode": "markers",
           "showlegend": false,
           "text": [
            "ID: 0, Pos(7.79,1.00)"
           ],
           "type": "scatter",
           "x": [
            7.791779778926862
           ],
           "y": [
            0.9991171351528553
           ]
          },
          {
           "hoverinfo": "text",
           "marker": {
            "opacity": 1,
            "size": 1
           },
           "mode": "markers",
           "showlegend": false,
           "text": [
            "ID: 1, Pos(7.00,1.00)"
           ],
           "type": "scatter",
           "x": [
            7
           ],
           "y": [
            1
           ]
          }
         ],
         "layout": {
          "shapes": [
           {
            "fillcolor": "rgba(0, 0, 128, 0.5)",
            "line": {
             "color": "rgba(0, 0, 128, 0.5)"
            },
            "type": "circle",
            "x0": 7.5917797789268615,
            "x1": 7.991779778926862,
            "xref": "x",
            "y0": 0.7991171351528552,
            "y1": 1.1991171351528553,
            "yref": "y"
           },
           {
            "fillcolor": "rgba(128, 0, 0, 0.5)",
            "line": {
             "color": "rgba(128, 0, 0, 0.5)"
            },
            "type": "circle",
            "x0": 6.8,
            "x1": 7.2,
            "xref": "x",
            "y0": 0.8,
            "y1": 1.2,
            "yref": "y"
           },
           {
            "line": {
             "color": "white",
             "width": 3
            },
            "type": "line",
            "x0": 7.791779778926862,
            "x1": 7.991641585351246,
            "y0": 0.9991171351528553,
            "y1": 0.9916835402767609
           },
           {
            "line": {
             "color": "white",
             "width": 3
            },
            "type": "line",
            "x0": 7,
            "x1": 7.2,
            "y0": 1,
            "y1": 1
           }
          ],
          "title": {
           "text": "<b>Hirai & Tarui, 1975  |  Number of Agents: 2</b>",
           "x": 0.5
          }
         },
         "name": "199"
        }
       ],
       "layout": {
        "autosize": false,
        "height": 800,
        "shapes": [
         {
          "fillcolor": "rgba(99, 255, 148, 0.5)",
          "line": {
           "color": "rgba(99, 255, 148, 0.5)"
          },
          "type": "circle",
          "x0": 4.810069613893836,
          "x1": 5.210069613893836,
          "xref": "x",
          "y0": 0.8000868243142125,
          "y1": 1.2000868243142124,
          "yref": "y"
         },
         {
          "fillcolor": "rgba(128, 0, 0, 0.5)",
          "line": {
           "color": "rgba(128, 0, 0, 0.5)"
          },
          "type": "circle",
          "x0": 6.8,
          "x1": 7.2,
          "xref": "x",
          "y0": 0.8,
          "y1": 1.2,
          "yref": "y"
         },
         {
          "line": {
           "color": "black",
           "width": 3
          },
          "type": "line",
          "x0": 5.010069613893836,
          "x1": 5.210062179717275,
          "y0": 1.0000868243142125,
          "y1": 1.0018112417107758
         },
         {
          "line": {
           "color": "white",
           "width": 3
          },
          "type": "line",
          "x0": 7,
          "x1": 7.2,
          "y0": 1,
          "y1": 1
         }
        ],
        "sliders": [
         {
          "active": 0,
          "currentvalue": {
           "font": {
            "size": 20
           },
           "prefix": "Frame:",
           "visible": true,
           "xanchor": "right"
          },
          "len": 0.9,
          "pad": {
           "b": 10,
           "t": 50
          },
          "steps": [
           {
            "args": [
             [
              "0"
             ],
             {
              "frame": {
               "duration": 100,
               "redraw": true
              },
              "mode": "immediate",
              "transition": {
               "duration": 500
              }
             }
            ],
            "label": "0",
            "method": "animate"
           },
           {
            "args": [
             [
              "1"
             ],
             {
              "frame": {
               "duration": 100,
               "redraw": true
              },
              "mode": "immediate",
              "transition": {
               "duration": 500
              }
             }
            ],
            "label": "1",
            "method": "animate"
           },
           {
            "args": [
             [
              "2"
             ],
             {
              "frame": {
               "duration": 100,
               "redraw": true
              },
              "mode": "immediate",
              "transition": {
               "duration": 500
              }
             }
            ],
            "label": "2",
            "method": "animate"
           },
           {
            "args": [
             [
              "3"
             ],
             {
              "frame": {
               "duration": 100,
               "redraw": true
              },
              "mode": "immediate",
              "transition": {
               "duration": 500
              }
             }
            ],
            "label": "3",
            "method": "animate"
           },
           {
            "args": [
             [
              "4"
             ],
             {
              "frame": {
               "duration": 100,
               "redraw": true
              },
              "mode": "immediate",
              "transition": {
               "duration": 500
              }
             }
            ],
            "label": "4",
            "method": "animate"
           },
           {
            "args": [
             [
              "5"
             ],
             {
              "frame": {
               "duration": 100,
               "redraw": true
              },
              "mode": "immediate",
              "transition": {
               "duration": 500
              }
             }
            ],
            "label": "5",
            "method": "animate"
           },
           {
            "args": [
             [
              "6"
             ],
             {
              "frame": {
               "duration": 100,
               "redraw": true
              },
              "mode": "immediate",
              "transition": {
               "duration": 500
              }
             }
            ],
            "label": "6",
            "method": "animate"
           },
           {
            "args": [
             [
              "7"
             ],
             {
              "frame": {
               "duration": 100,
               "redraw": true
              },
              "mode": "immediate",
              "transition": {
               "duration": 500
              }
             }
            ],
            "label": "7",
            "method": "animate"
           },
           {
            "args": [
             [
              "8"
             ],
             {
              "frame": {
               "duration": 100,
               "redraw": true
              },
              "mode": "immediate",
              "transition": {
               "duration": 500
              }
             }
            ],
            "label": "8",
            "method": "animate"
           },
           {
            "args": [
             [
              "9"
             ],
             {
              "frame": {
               "duration": 100,
               "redraw": true
              },
              "mode": "immediate",
              "transition": {
               "duration": 500
              }
             }
            ],
            "label": "9",
            "method": "animate"
           },
           {
            "args": [
             [
              "10"
             ],
             {
              "frame": {
               "duration": 100,
               "redraw": true
              },
              "mode": "immediate",
              "transition": {
               "duration": 500
              }
             }
            ],
            "label": "10",
            "method": "animate"
           },
           {
            "args": [
             [
              "11"
             ],
             {
              "frame": {
               "duration": 100,
               "redraw": true
              },
              "mode": "immediate",
              "transition": {
               "duration": 500
              }
             }
            ],
            "label": "11",
            "method": "animate"
           },
           {
            "args": [
             [
              "12"
             ],
             {
              "frame": {
               "duration": 100,
               "redraw": true
              },
              "mode": "immediate",
              "transition": {
               "duration": 500
              }
             }
            ],
            "label": "12",
            "method": "animate"
           },
           {
            "args": [
             [
              "13"
             ],
             {
              "frame": {
               "duration": 100,
               "redraw": true
              },
              "mode": "immediate",
              "transition": {
               "duration": 500
              }
             }
            ],
            "label": "13",
            "method": "animate"
           },
           {
            "args": [
             [
              "14"
             ],
             {
              "frame": {
               "duration": 100,
               "redraw": true
              },
              "mode": "immediate",
              "transition": {
               "duration": 500
              }
             }
            ],
            "label": "14",
            "method": "animate"
           },
           {
            "args": [
             [
              "15"
             ],
             {
              "frame": {
               "duration": 100,
               "redraw": true
              },
              "mode": "immediate",
              "transition": {
               "duration": 500
              }
             }
            ],
            "label": "15",
            "method": "animate"
           },
           {
            "args": [
             [
              "16"
             ],
             {
              "frame": {
               "duration": 100,
               "redraw": true
              },
              "mode": "immediate",
              "transition": {
               "duration": 500
              }
             }
            ],
            "label": "16",
            "method": "animate"
           },
           {
            "args": [
             [
              "17"
             ],
             {
              "frame": {
               "duration": 100,
               "redraw": true
              },
              "mode": "immediate",
              "transition": {
               "duration": 500
              }
             }
            ],
            "label": "17",
            "method": "animate"
           },
           {
            "args": [
             [
              "18"
             ],
             {
              "frame": {
               "duration": 100,
               "redraw": true
              },
              "mode": "immediate",
              "transition": {
               "duration": 500
              }
             }
            ],
            "label": "18",
            "method": "animate"
           },
           {
            "args": [
             [
              "19"
             ],
             {
              "frame": {
               "duration": 100,
               "redraw": true
              },
              "mode": "immediate",
              "transition": {
               "duration": 500
              }
             }
            ],
            "label": "19",
            "method": "animate"
           },
           {
            "args": [
             [
              "20"
             ],
             {
              "frame": {
               "duration": 100,
               "redraw": true
              },
              "mode": "immediate",
              "transition": {
               "duration": 500
              }
             }
            ],
            "label": "20",
            "method": "animate"
           },
           {
            "args": [
             [
              "21"
             ],
             {
              "frame": {
               "duration": 100,
               "redraw": true
              },
              "mode": "immediate",
              "transition": {
               "duration": 500
              }
             }
            ],
            "label": "21",
            "method": "animate"
           },
           {
            "args": [
             [
              "22"
             ],
             {
              "frame": {
               "duration": 100,
               "redraw": true
              },
              "mode": "immediate",
              "transition": {
               "duration": 500
              }
             }
            ],
            "label": "22",
            "method": "animate"
           },
           {
            "args": [
             [
              "23"
             ],
             {
              "frame": {
               "duration": 100,
               "redraw": true
              },
              "mode": "immediate",
              "transition": {
               "duration": 500
              }
             }
            ],
            "label": "23",
            "method": "animate"
           },
           {
            "args": [
             [
              "24"
             ],
             {
              "frame": {
               "duration": 100,
               "redraw": true
              },
              "mode": "immediate",
              "transition": {
               "duration": 500
              }
             }
            ],
            "label": "24",
            "method": "animate"
           },
           {
            "args": [
             [
              "25"
             ],
             {
              "frame": {
               "duration": 100,
               "redraw": true
              },
              "mode": "immediate",
              "transition": {
               "duration": 500
              }
             }
            ],
            "label": "25",
            "method": "animate"
           },
           {
            "args": [
             [
              "26"
             ],
             {
              "frame": {
               "duration": 100,
               "redraw": true
              },
              "mode": "immediate",
              "transition": {
               "duration": 500
              }
             }
            ],
            "label": "26",
            "method": "animate"
           },
           {
            "args": [
             [
              "27"
             ],
             {
              "frame": {
               "duration": 100,
               "redraw": true
              },
              "mode": "immediate",
              "transition": {
               "duration": 500
              }
             }
            ],
            "label": "27",
            "method": "animate"
           },
           {
            "args": [
             [
              "28"
             ],
             {
              "frame": {
               "duration": 100,
               "redraw": true
              },
              "mode": "immediate",
              "transition": {
               "duration": 500
              }
             }
            ],
            "label": "28",
            "method": "animate"
           },
           {
            "args": [
             [
              "29"
             ],
             {
              "frame": {
               "duration": 100,
               "redraw": true
              },
              "mode": "immediate",
              "transition": {
               "duration": 500
              }
             }
            ],
            "label": "29",
            "method": "animate"
           },
           {
            "args": [
             [
              "30"
             ],
             {
              "frame": {
               "duration": 100,
               "redraw": true
              },
              "mode": "immediate",
              "transition": {
               "duration": 500
              }
             }
            ],
            "label": "30",
            "method": "animate"
           },
           {
            "args": [
             [
              "31"
             ],
             {
              "frame": {
               "duration": 100,
               "redraw": true
              },
              "mode": "immediate",
              "transition": {
               "duration": 500
              }
             }
            ],
            "label": "31",
            "method": "animate"
           },
           {
            "args": [
             [
              "32"
             ],
             {
              "frame": {
               "duration": 100,
               "redraw": true
              },
              "mode": "immediate",
              "transition": {
               "duration": 500
              }
             }
            ],
            "label": "32",
            "method": "animate"
           },
           {
            "args": [
             [
              "33"
             ],
             {
              "frame": {
               "duration": 100,
               "redraw": true
              },
              "mode": "immediate",
              "transition": {
               "duration": 500
              }
             }
            ],
            "label": "33",
            "method": "animate"
           },
           {
            "args": [
             [
              "34"
             ],
             {
              "frame": {
               "duration": 100,
               "redraw": true
              },
              "mode": "immediate",
              "transition": {
               "duration": 500
              }
             }
            ],
            "label": "34",
            "method": "animate"
           },
           {
            "args": [
             [
              "35"
             ],
             {
              "frame": {
               "duration": 100,
               "redraw": true
              },
              "mode": "immediate",
              "transition": {
               "duration": 500
              }
             }
            ],
            "label": "35",
            "method": "animate"
           },
           {
            "args": [
             [
              "36"
             ],
             {
              "frame": {
               "duration": 100,
               "redraw": true
              },
              "mode": "immediate",
              "transition": {
               "duration": 500
              }
             }
            ],
            "label": "36",
            "method": "animate"
           },
           {
            "args": [
             [
              "37"
             ],
             {
              "frame": {
               "duration": 100,
               "redraw": true
              },
              "mode": "immediate",
              "transition": {
               "duration": 500
              }
             }
            ],
            "label": "37",
            "method": "animate"
           },
           {
            "args": [
             [
              "38"
             ],
             {
              "frame": {
               "duration": 100,
               "redraw": true
              },
              "mode": "immediate",
              "transition": {
               "duration": 500
              }
             }
            ],
            "label": "38",
            "method": "animate"
           },
           {
            "args": [
             [
              "39"
             ],
             {
              "frame": {
               "duration": 100,
               "redraw": true
              },
              "mode": "immediate",
              "transition": {
               "duration": 500
              }
             }
            ],
            "label": "39",
            "method": "animate"
           },
           {
            "args": [
             [
              "40"
             ],
             {
              "frame": {
               "duration": 100,
               "redraw": true
              },
              "mode": "immediate",
              "transition": {
               "duration": 500
              }
             }
            ],
            "label": "40",
            "method": "animate"
           },
           {
            "args": [
             [
              "41"
             ],
             {
              "frame": {
               "duration": 100,
               "redraw": true
              },
              "mode": "immediate",
              "transition": {
               "duration": 500
              }
             }
            ],
            "label": "41",
            "method": "animate"
           },
           {
            "args": [
             [
              "42"
             ],
             {
              "frame": {
               "duration": 100,
               "redraw": true
              },
              "mode": "immediate",
              "transition": {
               "duration": 500
              }
             }
            ],
            "label": "42",
            "method": "animate"
           },
           {
            "args": [
             [
              "43"
             ],
             {
              "frame": {
               "duration": 100,
               "redraw": true
              },
              "mode": "immediate",
              "transition": {
               "duration": 500
              }
             }
            ],
            "label": "43",
            "method": "animate"
           },
           {
            "args": [
             [
              "44"
             ],
             {
              "frame": {
               "duration": 100,
               "redraw": true
              },
              "mode": "immediate",
              "transition": {
               "duration": 500
              }
             }
            ],
            "label": "44",
            "method": "animate"
           },
           {
            "args": [
             [
              "45"
             ],
             {
              "frame": {
               "duration": 100,
               "redraw": true
              },
              "mode": "immediate",
              "transition": {
               "duration": 500
              }
             }
            ],
            "label": "45",
            "method": "animate"
           },
           {
            "args": [
             [
              "46"
             ],
             {
              "frame": {
               "duration": 100,
               "redraw": true
              },
              "mode": "immediate",
              "transition": {
               "duration": 500
              }
             }
            ],
            "label": "46",
            "method": "animate"
           },
           {
            "args": [
             [
              "47"
             ],
             {
              "frame": {
               "duration": 100,
               "redraw": true
              },
              "mode": "immediate",
              "transition": {
               "duration": 500
              }
             }
            ],
            "label": "47",
            "method": "animate"
           },
           {
            "args": [
             [
              "48"
             ],
             {
              "frame": {
               "duration": 100,
               "redraw": true
              },
              "mode": "immediate",
              "transition": {
               "duration": 500
              }
             }
            ],
            "label": "48",
            "method": "animate"
           },
           {
            "args": [
             [
              "49"
             ],
             {
              "frame": {
               "duration": 100,
               "redraw": true
              },
              "mode": "immediate",
              "transition": {
               "duration": 500
              }
             }
            ],
            "label": "49",
            "method": "animate"
           },
           {
            "args": [
             [
              "50"
             ],
             {
              "frame": {
               "duration": 100,
               "redraw": true
              },
              "mode": "immediate",
              "transition": {
               "duration": 500
              }
             }
            ],
            "label": "50",
            "method": "animate"
           },
           {
            "args": [
             [
              "51"
             ],
             {
              "frame": {
               "duration": 100,
               "redraw": true
              },
              "mode": "immediate",
              "transition": {
               "duration": 500
              }
             }
            ],
            "label": "51",
            "method": "animate"
           },
           {
            "args": [
             [
              "52"
             ],
             {
              "frame": {
               "duration": 100,
               "redraw": true
              },
              "mode": "immediate",
              "transition": {
               "duration": 500
              }
             }
            ],
            "label": "52",
            "method": "animate"
           },
           {
            "args": [
             [
              "53"
             ],
             {
              "frame": {
               "duration": 100,
               "redraw": true
              },
              "mode": "immediate",
              "transition": {
               "duration": 500
              }
             }
            ],
            "label": "53",
            "method": "animate"
           },
           {
            "args": [
             [
              "54"
             ],
             {
              "frame": {
               "duration": 100,
               "redraw": true
              },
              "mode": "immediate",
              "transition": {
               "duration": 500
              }
             }
            ],
            "label": "54",
            "method": "animate"
           },
           {
            "args": [
             [
              "55"
             ],
             {
              "frame": {
               "duration": 100,
               "redraw": true
              },
              "mode": "immediate",
              "transition": {
               "duration": 500
              }
             }
            ],
            "label": "55",
            "method": "animate"
           },
           {
            "args": [
             [
              "56"
             ],
             {
              "frame": {
               "duration": 100,
               "redraw": true
              },
              "mode": "immediate",
              "transition": {
               "duration": 500
              }
             }
            ],
            "label": "56",
            "method": "animate"
           },
           {
            "args": [
             [
              "57"
             ],
             {
              "frame": {
               "duration": 100,
               "redraw": true
              },
              "mode": "immediate",
              "transition": {
               "duration": 500
              }
             }
            ],
            "label": "57",
            "method": "animate"
           },
           {
            "args": [
             [
              "58"
             ],
             {
              "frame": {
               "duration": 100,
               "redraw": true
              },
              "mode": "immediate",
              "transition": {
               "duration": 500
              }
             }
            ],
            "label": "58",
            "method": "animate"
           },
           {
            "args": [
             [
              "59"
             ],
             {
              "frame": {
               "duration": 100,
               "redraw": true
              },
              "mode": "immediate",
              "transition": {
               "duration": 500
              }
             }
            ],
            "label": "59",
            "method": "animate"
           },
           {
            "args": [
             [
              "60"
             ],
             {
              "frame": {
               "duration": 100,
               "redraw": true
              },
              "mode": "immediate",
              "transition": {
               "duration": 500
              }
             }
            ],
            "label": "60",
            "method": "animate"
           },
           {
            "args": [
             [
              "61"
             ],
             {
              "frame": {
               "duration": 100,
               "redraw": true
              },
              "mode": "immediate",
              "transition": {
               "duration": 500
              }
             }
            ],
            "label": "61",
            "method": "animate"
           },
           {
            "args": [
             [
              "62"
             ],
             {
              "frame": {
               "duration": 100,
               "redraw": true
              },
              "mode": "immediate",
              "transition": {
               "duration": 500
              }
             }
            ],
            "label": "62",
            "method": "animate"
           },
           {
            "args": [
             [
              "63"
             ],
             {
              "frame": {
               "duration": 100,
               "redraw": true
              },
              "mode": "immediate",
              "transition": {
               "duration": 500
              }
             }
            ],
            "label": "63",
            "method": "animate"
           },
           {
            "args": [
             [
              "64"
             ],
             {
              "frame": {
               "duration": 100,
               "redraw": true
              },
              "mode": "immediate",
              "transition": {
               "duration": 500
              }
             }
            ],
            "label": "64",
            "method": "animate"
           },
           {
            "args": [
             [
              "65"
             ],
             {
              "frame": {
               "duration": 100,
               "redraw": true
              },
              "mode": "immediate",
              "transition": {
               "duration": 500
              }
             }
            ],
            "label": "65",
            "method": "animate"
           },
           {
            "args": [
             [
              "66"
             ],
             {
              "frame": {
               "duration": 100,
               "redraw": true
              },
              "mode": "immediate",
              "transition": {
               "duration": 500
              }
             }
            ],
            "label": "66",
            "method": "animate"
           },
           {
            "args": [
             [
              "67"
             ],
             {
              "frame": {
               "duration": 100,
               "redraw": true
              },
              "mode": "immediate",
              "transition": {
               "duration": 500
              }
             }
            ],
            "label": "67",
            "method": "animate"
           },
           {
            "args": [
             [
              "68"
             ],
             {
              "frame": {
               "duration": 100,
               "redraw": true
              },
              "mode": "immediate",
              "transition": {
               "duration": 500
              }
             }
            ],
            "label": "68",
            "method": "animate"
           },
           {
            "args": [
             [
              "69"
             ],
             {
              "frame": {
               "duration": 100,
               "redraw": true
              },
              "mode": "immediate",
              "transition": {
               "duration": 500
              }
             }
            ],
            "label": "69",
            "method": "animate"
           },
           {
            "args": [
             [
              "70"
             ],
             {
              "frame": {
               "duration": 100,
               "redraw": true
              },
              "mode": "immediate",
              "transition": {
               "duration": 500
              }
             }
            ],
            "label": "70",
            "method": "animate"
           },
           {
            "args": [
             [
              "71"
             ],
             {
              "frame": {
               "duration": 100,
               "redraw": true
              },
              "mode": "immediate",
              "transition": {
               "duration": 500
              }
             }
            ],
            "label": "71",
            "method": "animate"
           },
           {
            "args": [
             [
              "72"
             ],
             {
              "frame": {
               "duration": 100,
               "redraw": true
              },
              "mode": "immediate",
              "transition": {
               "duration": 500
              }
             }
            ],
            "label": "72",
            "method": "animate"
           },
           {
            "args": [
             [
              "73"
             ],
             {
              "frame": {
               "duration": 100,
               "redraw": true
              },
              "mode": "immediate",
              "transition": {
               "duration": 500
              }
             }
            ],
            "label": "73",
            "method": "animate"
           },
           {
            "args": [
             [
              "74"
             ],
             {
              "frame": {
               "duration": 100,
               "redraw": true
              },
              "mode": "immediate",
              "transition": {
               "duration": 500
              }
             }
            ],
            "label": "74",
            "method": "animate"
           },
           {
            "args": [
             [
              "75"
             ],
             {
              "frame": {
               "duration": 100,
               "redraw": true
              },
              "mode": "immediate",
              "transition": {
               "duration": 500
              }
             }
            ],
            "label": "75",
            "method": "animate"
           },
           {
            "args": [
             [
              "76"
             ],
             {
              "frame": {
               "duration": 100,
               "redraw": true
              },
              "mode": "immediate",
              "transition": {
               "duration": 500
              }
             }
            ],
            "label": "76",
            "method": "animate"
           },
           {
            "args": [
             [
              "77"
             ],
             {
              "frame": {
               "duration": 100,
               "redraw": true
              },
              "mode": "immediate",
              "transition": {
               "duration": 500
              }
             }
            ],
            "label": "77",
            "method": "animate"
           },
           {
            "args": [
             [
              "78"
             ],
             {
              "frame": {
               "duration": 100,
               "redraw": true
              },
              "mode": "immediate",
              "transition": {
               "duration": 500
              }
             }
            ],
            "label": "78",
            "method": "animate"
           },
           {
            "args": [
             [
              "79"
             ],
             {
              "frame": {
               "duration": 100,
               "redraw": true
              },
              "mode": "immediate",
              "transition": {
               "duration": 500
              }
             }
            ],
            "label": "79",
            "method": "animate"
           },
           {
            "args": [
             [
              "80"
             ],
             {
              "frame": {
               "duration": 100,
               "redraw": true
              },
              "mode": "immediate",
              "transition": {
               "duration": 500
              }
             }
            ],
            "label": "80",
            "method": "animate"
           },
           {
            "args": [
             [
              "81"
             ],
             {
              "frame": {
               "duration": 100,
               "redraw": true
              },
              "mode": "immediate",
              "transition": {
               "duration": 500
              }
             }
            ],
            "label": "81",
            "method": "animate"
           },
           {
            "args": [
             [
              "82"
             ],
             {
              "frame": {
               "duration": 100,
               "redraw": true
              },
              "mode": "immediate",
              "transition": {
               "duration": 500
              }
             }
            ],
            "label": "82",
            "method": "animate"
           },
           {
            "args": [
             [
              "83"
             ],
             {
              "frame": {
               "duration": 100,
               "redraw": true
              },
              "mode": "immediate",
              "transition": {
               "duration": 500
              }
             }
            ],
            "label": "83",
            "method": "animate"
           },
           {
            "args": [
             [
              "84"
             ],
             {
              "frame": {
               "duration": 100,
               "redraw": true
              },
              "mode": "immediate",
              "transition": {
               "duration": 500
              }
             }
            ],
            "label": "84",
            "method": "animate"
           },
           {
            "args": [
             [
              "85"
             ],
             {
              "frame": {
               "duration": 100,
               "redraw": true
              },
              "mode": "immediate",
              "transition": {
               "duration": 500
              }
             }
            ],
            "label": "85",
            "method": "animate"
           },
           {
            "args": [
             [
              "86"
             ],
             {
              "frame": {
               "duration": 100,
               "redraw": true
              },
              "mode": "immediate",
              "transition": {
               "duration": 500
              }
             }
            ],
            "label": "86",
            "method": "animate"
           },
           {
            "args": [
             [
              "87"
             ],
             {
              "frame": {
               "duration": 100,
               "redraw": true
              },
              "mode": "immediate",
              "transition": {
               "duration": 500
              }
             }
            ],
            "label": "87",
            "method": "animate"
           },
           {
            "args": [
             [
              "88"
             ],
             {
              "frame": {
               "duration": 100,
               "redraw": true
              },
              "mode": "immediate",
              "transition": {
               "duration": 500
              }
             }
            ],
            "label": "88",
            "method": "animate"
           },
           {
            "args": [
             [
              "89"
             ],
             {
              "frame": {
               "duration": 100,
               "redraw": true
              },
              "mode": "immediate",
              "transition": {
               "duration": 500
              }
             }
            ],
            "label": "89",
            "method": "animate"
           },
           {
            "args": [
             [
              "90"
             ],
             {
              "frame": {
               "duration": 100,
               "redraw": true
              },
              "mode": "immediate",
              "transition": {
               "duration": 500
              }
             }
            ],
            "label": "90",
            "method": "animate"
           },
           {
            "args": [
             [
              "91"
             ],
             {
              "frame": {
               "duration": 100,
               "redraw": true
              },
              "mode": "immediate",
              "transition": {
               "duration": 500
              }
             }
            ],
            "label": "91",
            "method": "animate"
           },
           {
            "args": [
             [
              "92"
             ],
             {
              "frame": {
               "duration": 100,
               "redraw": true
              },
              "mode": "immediate",
              "transition": {
               "duration": 500
              }
             }
            ],
            "label": "92",
            "method": "animate"
           },
           {
            "args": [
             [
              "93"
             ],
             {
              "frame": {
               "duration": 100,
               "redraw": true
              },
              "mode": "immediate",
              "transition": {
               "duration": 500
              }
             }
            ],
            "label": "93",
            "method": "animate"
           },
           {
            "args": [
             [
              "94"
             ],
             {
              "frame": {
               "duration": 100,
               "redraw": true
              },
              "mode": "immediate",
              "transition": {
               "duration": 500
              }
             }
            ],
            "label": "94",
            "method": "animate"
           },
           {
            "args": [
             [
              "95"
             ],
             {
              "frame": {
               "duration": 100,
               "redraw": true
              },
              "mode": "immediate",
              "transition": {
               "duration": 500
              }
             }
            ],
            "label": "95",
            "method": "animate"
           },
           {
            "args": [
             [
              "96"
             ],
             {
              "frame": {
               "duration": 100,
               "redraw": true
              },
              "mode": "immediate",
              "transition": {
               "duration": 500
              }
             }
            ],
            "label": "96",
            "method": "animate"
           },
           {
            "args": [
             [
              "97"
             ],
             {
              "frame": {
               "duration": 100,
               "redraw": true
              },
              "mode": "immediate",
              "transition": {
               "duration": 500
              }
             }
            ],
            "label": "97",
            "method": "animate"
           },
           {
            "args": [
             [
              "98"
             ],
             {
              "frame": {
               "duration": 100,
               "redraw": true
              },
              "mode": "immediate",
              "transition": {
               "duration": 500
              }
             }
            ],
            "label": "98",
            "method": "animate"
           },
           {
            "args": [
             [
              "99"
             ],
             {
              "frame": {
               "duration": 100,
               "redraw": true
              },
              "mode": "immediate",
              "transition": {
               "duration": 500
              }
             }
            ],
            "label": "99",
            "method": "animate"
           },
           {
            "args": [
             [
              "100"
             ],
             {
              "frame": {
               "duration": 100,
               "redraw": true
              },
              "mode": "immediate",
              "transition": {
               "duration": 500
              }
             }
            ],
            "label": "100",
            "method": "animate"
           },
           {
            "args": [
             [
              "101"
             ],
             {
              "frame": {
               "duration": 100,
               "redraw": true
              },
              "mode": "immediate",
              "transition": {
               "duration": 500
              }
             }
            ],
            "label": "101",
            "method": "animate"
           },
           {
            "args": [
             [
              "102"
             ],
             {
              "frame": {
               "duration": 100,
               "redraw": true
              },
              "mode": "immediate",
              "transition": {
               "duration": 500
              }
             }
            ],
            "label": "102",
            "method": "animate"
           },
           {
            "args": [
             [
              "103"
             ],
             {
              "frame": {
               "duration": 100,
               "redraw": true
              },
              "mode": "immediate",
              "transition": {
               "duration": 500
              }
             }
            ],
            "label": "103",
            "method": "animate"
           },
           {
            "args": [
             [
              "104"
             ],
             {
              "frame": {
               "duration": 100,
               "redraw": true
              },
              "mode": "immediate",
              "transition": {
               "duration": 500
              }
             }
            ],
            "label": "104",
            "method": "animate"
           },
           {
            "args": [
             [
              "105"
             ],
             {
              "frame": {
               "duration": 100,
               "redraw": true
              },
              "mode": "immediate",
              "transition": {
               "duration": 500
              }
             }
            ],
            "label": "105",
            "method": "animate"
           },
           {
            "args": [
             [
              "106"
             ],
             {
              "frame": {
               "duration": 100,
               "redraw": true
              },
              "mode": "immediate",
              "transition": {
               "duration": 500
              }
             }
            ],
            "label": "106",
            "method": "animate"
           },
           {
            "args": [
             [
              "107"
             ],
             {
              "frame": {
               "duration": 100,
               "redraw": true
              },
              "mode": "immediate",
              "transition": {
               "duration": 500
              }
             }
            ],
            "label": "107",
            "method": "animate"
           },
           {
            "args": [
             [
              "108"
             ],
             {
              "frame": {
               "duration": 100,
               "redraw": true
              },
              "mode": "immediate",
              "transition": {
               "duration": 500
              }
             }
            ],
            "label": "108",
            "method": "animate"
           },
           {
            "args": [
             [
              "109"
             ],
             {
              "frame": {
               "duration": 100,
               "redraw": true
              },
              "mode": "immediate",
              "transition": {
               "duration": 500
              }
             }
            ],
            "label": "109",
            "method": "animate"
           },
           {
            "args": [
             [
              "110"
             ],
             {
              "frame": {
               "duration": 100,
               "redraw": true
              },
              "mode": "immediate",
              "transition": {
               "duration": 500
              }
             }
            ],
            "label": "110",
            "method": "animate"
           },
           {
            "args": [
             [
              "111"
             ],
             {
              "frame": {
               "duration": 100,
               "redraw": true
              },
              "mode": "immediate",
              "transition": {
               "duration": 500
              }
             }
            ],
            "label": "111",
            "method": "animate"
           },
           {
            "args": [
             [
              "112"
             ],
             {
              "frame": {
               "duration": 100,
               "redraw": true
              },
              "mode": "immediate",
              "transition": {
               "duration": 500
              }
             }
            ],
            "label": "112",
            "method": "animate"
           },
           {
            "args": [
             [
              "113"
             ],
             {
              "frame": {
               "duration": 100,
               "redraw": true
              },
              "mode": "immediate",
              "transition": {
               "duration": 500
              }
             }
            ],
            "label": "113",
            "method": "animate"
           },
           {
            "args": [
             [
              "114"
             ],
             {
              "frame": {
               "duration": 100,
               "redraw": true
              },
              "mode": "immediate",
              "transition": {
               "duration": 500
              }
             }
            ],
            "label": "114",
            "method": "animate"
           },
           {
            "args": [
             [
              "115"
             ],
             {
              "frame": {
               "duration": 100,
               "redraw": true
              },
              "mode": "immediate",
              "transition": {
               "duration": 500
              }
             }
            ],
            "label": "115",
            "method": "animate"
           },
           {
            "args": [
             [
              "116"
             ],
             {
              "frame": {
               "duration": 100,
               "redraw": true
              },
              "mode": "immediate",
              "transition": {
               "duration": 500
              }
             }
            ],
            "label": "116",
            "method": "animate"
           },
           {
            "args": [
             [
              "117"
             ],
             {
              "frame": {
               "duration": 100,
               "redraw": true
              },
              "mode": "immediate",
              "transition": {
               "duration": 500
              }
             }
            ],
            "label": "117",
            "method": "animate"
           },
           {
            "args": [
             [
              "118"
             ],
             {
              "frame": {
               "duration": 100,
               "redraw": true
              },
              "mode": "immediate",
              "transition": {
               "duration": 500
              }
             }
            ],
            "label": "118",
            "method": "animate"
           },
           {
            "args": [
             [
              "119"
             ],
             {
              "frame": {
               "duration": 100,
               "redraw": true
              },
              "mode": "immediate",
              "transition": {
               "duration": 500
              }
             }
            ],
            "label": "119",
            "method": "animate"
           },
           {
            "args": [
             [
              "120"
             ],
             {
              "frame": {
               "duration": 100,
               "redraw": true
              },
              "mode": "immediate",
              "transition": {
               "duration": 500
              }
             }
            ],
            "label": "120",
            "method": "animate"
           },
           {
            "args": [
             [
              "121"
             ],
             {
              "frame": {
               "duration": 100,
               "redraw": true
              },
              "mode": "immediate",
              "transition": {
               "duration": 500
              }
             }
            ],
            "label": "121",
            "method": "animate"
           },
           {
            "args": [
             [
              "122"
             ],
             {
              "frame": {
               "duration": 100,
               "redraw": true
              },
              "mode": "immediate",
              "transition": {
               "duration": 500
              }
             }
            ],
            "label": "122",
            "method": "animate"
           },
           {
            "args": [
             [
              "123"
             ],
             {
              "frame": {
               "duration": 100,
               "redraw": true
              },
              "mode": "immediate",
              "transition": {
               "duration": 500
              }
             }
            ],
            "label": "123",
            "method": "animate"
           },
           {
            "args": [
             [
              "124"
             ],
             {
              "frame": {
               "duration": 100,
               "redraw": true
              },
              "mode": "immediate",
              "transition": {
               "duration": 500
              }
             }
            ],
            "label": "124",
            "method": "animate"
           },
           {
            "args": [
             [
              "125"
             ],
             {
              "frame": {
               "duration": 100,
               "redraw": true
              },
              "mode": "immediate",
              "transition": {
               "duration": 500
              }
             }
            ],
            "label": "125",
            "method": "animate"
           },
           {
            "args": [
             [
              "126"
             ],
             {
              "frame": {
               "duration": 100,
               "redraw": true
              },
              "mode": "immediate",
              "transition": {
               "duration": 500
              }
             }
            ],
            "label": "126",
            "method": "animate"
           },
           {
            "args": [
             [
              "127"
             ],
             {
              "frame": {
               "duration": 100,
               "redraw": true
              },
              "mode": "immediate",
              "transition": {
               "duration": 500
              }
             }
            ],
            "label": "127",
            "method": "animate"
           },
           {
            "args": [
             [
              "128"
             ],
             {
              "frame": {
               "duration": 100,
               "redraw": true
              },
              "mode": "immediate",
              "transition": {
               "duration": 500
              }
             }
            ],
            "label": "128",
            "method": "animate"
           },
           {
            "args": [
             [
              "129"
             ],
             {
              "frame": {
               "duration": 100,
               "redraw": true
              },
              "mode": "immediate",
              "transition": {
               "duration": 500
              }
             }
            ],
            "label": "129",
            "method": "animate"
           },
           {
            "args": [
             [
              "130"
             ],
             {
              "frame": {
               "duration": 100,
               "redraw": true
              },
              "mode": "immediate",
              "transition": {
               "duration": 500
              }
             }
            ],
            "label": "130",
            "method": "animate"
           },
           {
            "args": [
             [
              "131"
             ],
             {
              "frame": {
               "duration": 100,
               "redraw": true
              },
              "mode": "immediate",
              "transition": {
               "duration": 500
              }
             }
            ],
            "label": "131",
            "method": "animate"
           },
           {
            "args": [
             [
              "132"
             ],
             {
              "frame": {
               "duration": 100,
               "redraw": true
              },
              "mode": "immediate",
              "transition": {
               "duration": 500
              }
             }
            ],
            "label": "132",
            "method": "animate"
           },
           {
            "args": [
             [
              "133"
             ],
             {
              "frame": {
               "duration": 100,
               "redraw": true
              },
              "mode": "immediate",
              "transition": {
               "duration": 500
              }
             }
            ],
            "label": "133",
            "method": "animate"
           },
           {
            "args": [
             [
              "134"
             ],
             {
              "frame": {
               "duration": 100,
               "redraw": true
              },
              "mode": "immediate",
              "transition": {
               "duration": 500
              }
             }
            ],
            "label": "134",
            "method": "animate"
           },
           {
            "args": [
             [
              "135"
             ],
             {
              "frame": {
               "duration": 100,
               "redraw": true
              },
              "mode": "immediate",
              "transition": {
               "duration": 500
              }
             }
            ],
            "label": "135",
            "method": "animate"
           },
           {
            "args": [
             [
              "136"
             ],
             {
              "frame": {
               "duration": 100,
               "redraw": true
              },
              "mode": "immediate",
              "transition": {
               "duration": 500
              }
             }
            ],
            "label": "136",
            "method": "animate"
           },
           {
            "args": [
             [
              "137"
             ],
             {
              "frame": {
               "duration": 100,
               "redraw": true
              },
              "mode": "immediate",
              "transition": {
               "duration": 500
              }
             }
            ],
            "label": "137",
            "method": "animate"
           },
           {
            "args": [
             [
              "138"
             ],
             {
              "frame": {
               "duration": 100,
               "redraw": true
              },
              "mode": "immediate",
              "transition": {
               "duration": 500
              }
             }
            ],
            "label": "138",
            "method": "animate"
           },
           {
            "args": [
             [
              "139"
             ],
             {
              "frame": {
               "duration": 100,
               "redraw": true
              },
              "mode": "immediate",
              "transition": {
               "duration": 500
              }
             }
            ],
            "label": "139",
            "method": "animate"
           },
           {
            "args": [
             [
              "140"
             ],
             {
              "frame": {
               "duration": 100,
               "redraw": true
              },
              "mode": "immediate",
              "transition": {
               "duration": 500
              }
             }
            ],
            "label": "140",
            "method": "animate"
           },
           {
            "args": [
             [
              "141"
             ],
             {
              "frame": {
               "duration": 100,
               "redraw": true
              },
              "mode": "immediate",
              "transition": {
               "duration": 500
              }
             }
            ],
            "label": "141",
            "method": "animate"
           },
           {
            "args": [
             [
              "142"
             ],
             {
              "frame": {
               "duration": 100,
               "redraw": true
              },
              "mode": "immediate",
              "transition": {
               "duration": 500
              }
             }
            ],
            "label": "142",
            "method": "animate"
           },
           {
            "args": [
             [
              "143"
             ],
             {
              "frame": {
               "duration": 100,
               "redraw": true
              },
              "mode": "immediate",
              "transition": {
               "duration": 500
              }
             }
            ],
            "label": "143",
            "method": "animate"
           },
           {
            "args": [
             [
              "144"
             ],
             {
              "frame": {
               "duration": 100,
               "redraw": true
              },
              "mode": "immediate",
              "transition": {
               "duration": 500
              }
             }
            ],
            "label": "144",
            "method": "animate"
           },
           {
            "args": [
             [
              "145"
             ],
             {
              "frame": {
               "duration": 100,
               "redraw": true
              },
              "mode": "immediate",
              "transition": {
               "duration": 500
              }
             }
            ],
            "label": "145",
            "method": "animate"
           },
           {
            "args": [
             [
              "146"
             ],
             {
              "frame": {
               "duration": 100,
               "redraw": true
              },
              "mode": "immediate",
              "transition": {
               "duration": 500
              }
             }
            ],
            "label": "146",
            "method": "animate"
           },
           {
            "args": [
             [
              "147"
             ],
             {
              "frame": {
               "duration": 100,
               "redraw": true
              },
              "mode": "immediate",
              "transition": {
               "duration": 500
              }
             }
            ],
            "label": "147",
            "method": "animate"
           },
           {
            "args": [
             [
              "148"
             ],
             {
              "frame": {
               "duration": 100,
               "redraw": true
              },
              "mode": "immediate",
              "transition": {
               "duration": 500
              }
             }
            ],
            "label": "148",
            "method": "animate"
           },
           {
            "args": [
             [
              "149"
             ],
             {
              "frame": {
               "duration": 100,
               "redraw": true
              },
              "mode": "immediate",
              "transition": {
               "duration": 500
              }
             }
            ],
            "label": "149",
            "method": "animate"
           },
           {
            "args": [
             [
              "150"
             ],
             {
              "frame": {
               "duration": 100,
               "redraw": true
              },
              "mode": "immediate",
              "transition": {
               "duration": 500
              }
             }
            ],
            "label": "150",
            "method": "animate"
           },
           {
            "args": [
             [
              "151"
             ],
             {
              "frame": {
               "duration": 100,
               "redraw": true
              },
              "mode": "immediate",
              "transition": {
               "duration": 500
              }
             }
            ],
            "label": "151",
            "method": "animate"
           },
           {
            "args": [
             [
              "152"
             ],
             {
              "frame": {
               "duration": 100,
               "redraw": true
              },
              "mode": "immediate",
              "transition": {
               "duration": 500
              }
             }
            ],
            "label": "152",
            "method": "animate"
           },
           {
            "args": [
             [
              "153"
             ],
             {
              "frame": {
               "duration": 100,
               "redraw": true
              },
              "mode": "immediate",
              "transition": {
               "duration": 500
              }
             }
            ],
            "label": "153",
            "method": "animate"
           },
           {
            "args": [
             [
              "154"
             ],
             {
              "frame": {
               "duration": 100,
               "redraw": true
              },
              "mode": "immediate",
              "transition": {
               "duration": 500
              }
             }
            ],
            "label": "154",
            "method": "animate"
           },
           {
            "args": [
             [
              "155"
             ],
             {
              "frame": {
               "duration": 100,
               "redraw": true
              },
              "mode": "immediate",
              "transition": {
               "duration": 500
              }
             }
            ],
            "label": "155",
            "method": "animate"
           },
           {
            "args": [
             [
              "156"
             ],
             {
              "frame": {
               "duration": 100,
               "redraw": true
              },
              "mode": "immediate",
              "transition": {
               "duration": 500
              }
             }
            ],
            "label": "156",
            "method": "animate"
           },
           {
            "args": [
             [
              "157"
             ],
             {
              "frame": {
               "duration": 100,
               "redraw": true
              },
              "mode": "immediate",
              "transition": {
               "duration": 500
              }
             }
            ],
            "label": "157",
            "method": "animate"
           },
           {
            "args": [
             [
              "158"
             ],
             {
              "frame": {
               "duration": 100,
               "redraw": true
              },
              "mode": "immediate",
              "transition": {
               "duration": 500
              }
             }
            ],
            "label": "158",
            "method": "animate"
           },
           {
            "args": [
             [
              "159"
             ],
             {
              "frame": {
               "duration": 100,
               "redraw": true
              },
              "mode": "immediate",
              "transition": {
               "duration": 500
              }
             }
            ],
            "label": "159",
            "method": "animate"
           },
           {
            "args": [
             [
              "160"
             ],
             {
              "frame": {
               "duration": 100,
               "redraw": true
              },
              "mode": "immediate",
              "transition": {
               "duration": 500
              }
             }
            ],
            "label": "160",
            "method": "animate"
           },
           {
            "args": [
             [
              "161"
             ],
             {
              "frame": {
               "duration": 100,
               "redraw": true
              },
              "mode": "immediate",
              "transition": {
               "duration": 500
              }
             }
            ],
            "label": "161",
            "method": "animate"
           },
           {
            "args": [
             [
              "162"
             ],
             {
              "frame": {
               "duration": 100,
               "redraw": true
              },
              "mode": "immediate",
              "transition": {
               "duration": 500
              }
             }
            ],
            "label": "162",
            "method": "animate"
           },
           {
            "args": [
             [
              "163"
             ],
             {
              "frame": {
               "duration": 100,
               "redraw": true
              },
              "mode": "immediate",
              "transition": {
               "duration": 500
              }
             }
            ],
            "label": "163",
            "method": "animate"
           },
           {
            "args": [
             [
              "164"
             ],
             {
              "frame": {
               "duration": 100,
               "redraw": true
              },
              "mode": "immediate",
              "transition": {
               "duration": 500
              }
             }
            ],
            "label": "164",
            "method": "animate"
           },
           {
            "args": [
             [
              "165"
             ],
             {
              "frame": {
               "duration": 100,
               "redraw": true
              },
              "mode": "immediate",
              "transition": {
               "duration": 500
              }
             }
            ],
            "label": "165",
            "method": "animate"
           },
           {
            "args": [
             [
              "166"
             ],
             {
              "frame": {
               "duration": 100,
               "redraw": true
              },
              "mode": "immediate",
              "transition": {
               "duration": 500
              }
             }
            ],
            "label": "166",
            "method": "animate"
           },
           {
            "args": [
             [
              "167"
             ],
             {
              "frame": {
               "duration": 100,
               "redraw": true
              },
              "mode": "immediate",
              "transition": {
               "duration": 500
              }
             }
            ],
            "label": "167",
            "method": "animate"
           },
           {
            "args": [
             [
              "168"
             ],
             {
              "frame": {
               "duration": 100,
               "redraw": true
              },
              "mode": "immediate",
              "transition": {
               "duration": 500
              }
             }
            ],
            "label": "168",
            "method": "animate"
           },
           {
            "args": [
             [
              "169"
             ],
             {
              "frame": {
               "duration": 100,
               "redraw": true
              },
              "mode": "immediate",
              "transition": {
               "duration": 500
              }
             }
            ],
            "label": "169",
            "method": "animate"
           },
           {
            "args": [
             [
              "170"
             ],
             {
              "frame": {
               "duration": 100,
               "redraw": true
              },
              "mode": "immediate",
              "transition": {
               "duration": 500
              }
             }
            ],
            "label": "170",
            "method": "animate"
           },
           {
            "args": [
             [
              "171"
             ],
             {
              "frame": {
               "duration": 100,
               "redraw": true
              },
              "mode": "immediate",
              "transition": {
               "duration": 500
              }
             }
            ],
            "label": "171",
            "method": "animate"
           },
           {
            "args": [
             [
              "172"
             ],
             {
              "frame": {
               "duration": 100,
               "redraw": true
              },
              "mode": "immediate",
              "transition": {
               "duration": 500
              }
             }
            ],
            "label": "172",
            "method": "animate"
           },
           {
            "args": [
             [
              "173"
             ],
             {
              "frame": {
               "duration": 100,
               "redraw": true
              },
              "mode": "immediate",
              "transition": {
               "duration": 500
              }
             }
            ],
            "label": "173",
            "method": "animate"
           },
           {
            "args": [
             [
              "174"
             ],
             {
              "frame": {
               "duration": 100,
               "redraw": true
              },
              "mode": "immediate",
              "transition": {
               "duration": 500
              }
             }
            ],
            "label": "174",
            "method": "animate"
           },
           {
            "args": [
             [
              "175"
             ],
             {
              "frame": {
               "duration": 100,
               "redraw": true
              },
              "mode": "immediate",
              "transition": {
               "duration": 500
              }
             }
            ],
            "label": "175",
            "method": "animate"
           },
           {
            "args": [
             [
              "176"
             ],
             {
              "frame": {
               "duration": 100,
               "redraw": true
              },
              "mode": "immediate",
              "transition": {
               "duration": 500
              }
             }
            ],
            "label": "176",
            "method": "animate"
           },
           {
            "args": [
             [
              "177"
             ],
             {
              "frame": {
               "duration": 100,
               "redraw": true
              },
              "mode": "immediate",
              "transition": {
               "duration": 500
              }
             }
            ],
            "label": "177",
            "method": "animate"
           },
           {
            "args": [
             [
              "178"
             ],
             {
              "frame": {
               "duration": 100,
               "redraw": true
              },
              "mode": "immediate",
              "transition": {
               "duration": 500
              }
             }
            ],
            "label": "178",
            "method": "animate"
           },
           {
            "args": [
             [
              "179"
             ],
             {
              "frame": {
               "duration": 100,
               "redraw": true
              },
              "mode": "immediate",
              "transition": {
               "duration": 500
              }
             }
            ],
            "label": "179",
            "method": "animate"
           },
           {
            "args": [
             [
              "180"
             ],
             {
              "frame": {
               "duration": 100,
               "redraw": true
              },
              "mode": "immediate",
              "transition": {
               "duration": 500
              }
             }
            ],
            "label": "180",
            "method": "animate"
           },
           {
            "args": [
             [
              "181"
             ],
             {
              "frame": {
               "duration": 100,
               "redraw": true
              },
              "mode": "immediate",
              "transition": {
               "duration": 500
              }
             }
            ],
            "label": "181",
            "method": "animate"
           },
           {
            "args": [
             [
              "182"
             ],
             {
              "frame": {
               "duration": 100,
               "redraw": true
              },
              "mode": "immediate",
              "transition": {
               "duration": 500
              }
             }
            ],
            "label": "182",
            "method": "animate"
           },
           {
            "args": [
             [
              "183"
             ],
             {
              "frame": {
               "duration": 100,
               "redraw": true
              },
              "mode": "immediate",
              "transition": {
               "duration": 500
              }
             }
            ],
            "label": "183",
            "method": "animate"
           },
           {
            "args": [
             [
              "184"
             ],
             {
              "frame": {
               "duration": 100,
               "redraw": true
              },
              "mode": "immediate",
              "transition": {
               "duration": 500
              }
             }
            ],
            "label": "184",
            "method": "animate"
           },
           {
            "args": [
             [
              "185"
             ],
             {
              "frame": {
               "duration": 100,
               "redraw": true
              },
              "mode": "immediate",
              "transition": {
               "duration": 500
              }
             }
            ],
            "label": "185",
            "method": "animate"
           },
           {
            "args": [
             [
              "186"
             ],
             {
              "frame": {
               "duration": 100,
               "redraw": true
              },
              "mode": "immediate",
              "transition": {
               "duration": 500
              }
             }
            ],
            "label": "186",
            "method": "animate"
           },
           {
            "args": [
             [
              "187"
             ],
             {
              "frame": {
               "duration": 100,
               "redraw": true
              },
              "mode": "immediate",
              "transition": {
               "duration": 500
              }
             }
            ],
            "label": "187",
            "method": "animate"
           },
           {
            "args": [
             [
              "188"
             ],
             {
              "frame": {
               "duration": 100,
               "redraw": true
              },
              "mode": "immediate",
              "transition": {
               "duration": 500
              }
             }
            ],
            "label": "188",
            "method": "animate"
           },
           {
            "args": [
             [
              "189"
             ],
             {
              "frame": {
               "duration": 100,
               "redraw": true
              },
              "mode": "immediate",
              "transition": {
               "duration": 500
              }
             }
            ],
            "label": "189",
            "method": "animate"
           },
           {
            "args": [
             [
              "190"
             ],
             {
              "frame": {
               "duration": 100,
               "redraw": true
              },
              "mode": "immediate",
              "transition": {
               "duration": 500
              }
             }
            ],
            "label": "190",
            "method": "animate"
           },
           {
            "args": [
             [
              "191"
             ],
             {
              "frame": {
               "duration": 100,
               "redraw": true
              },
              "mode": "immediate",
              "transition": {
               "duration": 500
              }
             }
            ],
            "label": "191",
            "method": "animate"
           },
           {
            "args": [
             [
              "192"
             ],
             {
              "frame": {
               "duration": 100,
               "redraw": true
              },
              "mode": "immediate",
              "transition": {
               "duration": 500
              }
             }
            ],
            "label": "192",
            "method": "animate"
           },
           {
            "args": [
             [
              "193"
             ],
             {
              "frame": {
               "duration": 100,
               "redraw": true
              },
              "mode": "immediate",
              "transition": {
               "duration": 500
              }
             }
            ],
            "label": "193",
            "method": "animate"
           },
           {
            "args": [
             [
              "194"
             ],
             {
              "frame": {
               "duration": 100,
               "redraw": true
              },
              "mode": "immediate",
              "transition": {
               "duration": 500
              }
             }
            ],
            "label": "194",
            "method": "animate"
           },
           {
            "args": [
             [
              "195"
             ],
             {
              "frame": {
               "duration": 100,
               "redraw": true
              },
              "mode": "immediate",
              "transition": {
               "duration": 500
              }
             }
            ],
            "label": "195",
            "method": "animate"
           },
           {
            "args": [
             [
              "196"
             ],
             {
              "frame": {
               "duration": 100,
               "redraw": true
              },
              "mode": "immediate",
              "transition": {
               "duration": 500
              }
             }
            ],
            "label": "196",
            "method": "animate"
           },
           {
            "args": [
             [
              "197"
             ],
             {
              "frame": {
               "duration": 100,
               "redraw": true
              },
              "mode": "immediate",
              "transition": {
               "duration": 500
              }
             }
            ],
            "label": "197",
            "method": "animate"
           },
           {
            "args": [
             [
              "198"
             ],
             {
              "frame": {
               "duration": 100,
               "redraw": true
              },
              "mode": "immediate",
              "transition": {
               "duration": 500
              }
             }
            ],
            "label": "198",
            "method": "animate"
           },
           {
            "args": [
             [
              "199"
             ],
             {
              "frame": {
               "duration": 100,
               "redraw": true
              },
              "mode": "immediate",
              "transition": {
               "duration": 500
              }
             }
            ],
            "label": "199",
            "method": "animate"
           }
          ],
          "transition": {
           "duration": 100,
           "easing": "cubic-in-out"
          },
          "x": 0.1,
          "xanchor": "left",
          "y": 0,
          "yanchor": "top"
         }
        ],
        "template": {
         "data": {
          "bar": [
           {
            "error_x": {
             "color": "#2a3f5f"
            },
            "error_y": {
             "color": "#2a3f5f"
            },
            "marker": {
             "line": {
              "color": "#E5ECF6",
              "width": 0.5
             },
             "pattern": {
              "fillmode": "overlay",
              "size": 10,
              "solidity": 0.2
             }
            },
            "type": "bar"
           }
          ],
          "barpolar": [
           {
            "marker": {
             "line": {
              "color": "#E5ECF6",
              "width": 0.5
             },
             "pattern": {
              "fillmode": "overlay",
              "size": 10,
              "solidity": 0.2
             }
            },
            "type": "barpolar"
           }
          ],
          "carpet": [
           {
            "aaxis": {
             "endlinecolor": "#2a3f5f",
             "gridcolor": "white",
             "linecolor": "white",
             "minorgridcolor": "white",
             "startlinecolor": "#2a3f5f"
            },
            "baxis": {
             "endlinecolor": "#2a3f5f",
             "gridcolor": "white",
             "linecolor": "white",
             "minorgridcolor": "white",
             "startlinecolor": "#2a3f5f"
            },
            "type": "carpet"
           }
          ],
          "choropleth": [
           {
            "colorbar": {
             "outlinewidth": 0,
             "ticks": ""
            },
            "type": "choropleth"
           }
          ],
          "contour": [
           {
            "colorbar": {
             "outlinewidth": 0,
             "ticks": ""
            },
            "colorscale": [
             [
              0,
              "#0d0887"
             ],
             [
              0.1111111111111111,
              "#46039f"
             ],
             [
              0.2222222222222222,
              "#7201a8"
             ],
             [
              0.3333333333333333,
              "#9c179e"
             ],
             [
              0.4444444444444444,
              "#bd3786"
             ],
             [
              0.5555555555555556,
              "#d8576b"
             ],
             [
              0.6666666666666666,
              "#ed7953"
             ],
             [
              0.7777777777777778,
              "#fb9f3a"
             ],
             [
              0.8888888888888888,
              "#fdca26"
             ],
             [
              1,
              "#f0f921"
             ]
            ],
            "type": "contour"
           }
          ],
          "contourcarpet": [
           {
            "colorbar": {
             "outlinewidth": 0,
             "ticks": ""
            },
            "type": "contourcarpet"
           }
          ],
          "heatmap": [
           {
            "colorbar": {
             "outlinewidth": 0,
             "ticks": ""
            },
            "colorscale": [
             [
              0,
              "#0d0887"
             ],
             [
              0.1111111111111111,
              "#46039f"
             ],
             [
              0.2222222222222222,
              "#7201a8"
             ],
             [
              0.3333333333333333,
              "#9c179e"
             ],
             [
              0.4444444444444444,
              "#bd3786"
             ],
             [
              0.5555555555555556,
              "#d8576b"
             ],
             [
              0.6666666666666666,
              "#ed7953"
             ],
             [
              0.7777777777777778,
              "#fb9f3a"
             ],
             [
              0.8888888888888888,
              "#fdca26"
             ],
             [
              1,
              "#f0f921"
             ]
            ],
            "type": "heatmap"
           }
          ],
          "histogram": [
           {
            "marker": {
             "pattern": {
              "fillmode": "overlay",
              "size": 10,
              "solidity": 0.2
             }
            },
            "type": "histogram"
           }
          ],
          "histogram2d": [
           {
            "colorbar": {
             "outlinewidth": 0,
             "ticks": ""
            },
            "colorscale": [
             [
              0,
              "#0d0887"
             ],
             [
              0.1111111111111111,
              "#46039f"
             ],
             [
              0.2222222222222222,
              "#7201a8"
             ],
             [
              0.3333333333333333,
              "#9c179e"
             ],
             [
              0.4444444444444444,
              "#bd3786"
             ],
             [
              0.5555555555555556,
              "#d8576b"
             ],
             [
              0.6666666666666666,
              "#ed7953"
             ],
             [
              0.7777777777777778,
              "#fb9f3a"
             ],
             [
              0.8888888888888888,
              "#fdca26"
             ],
             [
              1,
              "#f0f921"
             ]
            ],
            "type": "histogram2d"
           }
          ],
          "histogram2dcontour": [
           {
            "colorbar": {
             "outlinewidth": 0,
             "ticks": ""
            },
            "colorscale": [
             [
              0,
              "#0d0887"
             ],
             [
              0.1111111111111111,
              "#46039f"
             ],
             [
              0.2222222222222222,
              "#7201a8"
             ],
             [
              0.3333333333333333,
              "#9c179e"
             ],
             [
              0.4444444444444444,
              "#bd3786"
             ],
             [
              0.5555555555555556,
              "#d8576b"
             ],
             [
              0.6666666666666666,
              "#ed7953"
             ],
             [
              0.7777777777777778,
              "#fb9f3a"
             ],
             [
              0.8888888888888888,
              "#fdca26"
             ],
             [
              1,
              "#f0f921"
             ]
            ],
            "type": "histogram2dcontour"
           }
          ],
          "mesh3d": [
           {
            "colorbar": {
             "outlinewidth": 0,
             "ticks": ""
            },
            "type": "mesh3d"
           }
          ],
          "parcoords": [
           {
            "line": {
             "colorbar": {
              "outlinewidth": 0,
              "ticks": ""
             }
            },
            "type": "parcoords"
           }
          ],
          "pie": [
           {
            "automargin": true,
            "type": "pie"
           }
          ],
          "scatter": [
           {
            "fillpattern": {
             "fillmode": "overlay",
             "size": 10,
             "solidity": 0.2
            },
            "type": "scatter"
           }
          ],
          "scatter3d": [
           {
            "line": {
             "colorbar": {
              "outlinewidth": 0,
              "ticks": ""
             }
            },
            "marker": {
             "colorbar": {
              "outlinewidth": 0,
              "ticks": ""
             }
            },
            "type": "scatter3d"
           }
          ],
          "scattercarpet": [
           {
            "marker": {
             "colorbar": {
              "outlinewidth": 0,
              "ticks": ""
             }
            },
            "type": "scattercarpet"
           }
          ],
          "scattergeo": [
           {
            "marker": {
             "colorbar": {
              "outlinewidth": 0,
              "ticks": ""
             }
            },
            "type": "scattergeo"
           }
          ],
          "scattergl": [
           {
            "marker": {
             "colorbar": {
              "outlinewidth": 0,
              "ticks": ""
             }
            },
            "type": "scattergl"
           }
          ],
          "scattermap": [
           {
            "marker": {
             "colorbar": {
              "outlinewidth": 0,
              "ticks": ""
             }
            },
            "type": "scattermap"
           }
          ],
          "scattermapbox": [
           {
            "marker": {
             "colorbar": {
              "outlinewidth": 0,
              "ticks": ""
             }
            },
            "type": "scattermapbox"
           }
          ],
          "scatterpolar": [
           {
            "marker": {
             "colorbar": {
              "outlinewidth": 0,
              "ticks": ""
             }
            },
            "type": "scatterpolar"
           }
          ],
          "scatterpolargl": [
           {
            "marker": {
             "colorbar": {
              "outlinewidth": 0,
              "ticks": ""
             }
            },
            "type": "scatterpolargl"
           }
          ],
          "scatterternary": [
           {
            "marker": {
             "colorbar": {
              "outlinewidth": 0,
              "ticks": ""
             }
            },
            "type": "scatterternary"
           }
          ],
          "surface": [
           {
            "colorbar": {
             "outlinewidth": 0,
             "ticks": ""
            },
            "colorscale": [
             [
              0,
              "#0d0887"
             ],
             [
              0.1111111111111111,
              "#46039f"
             ],
             [
              0.2222222222222222,
              "#7201a8"
             ],
             [
              0.3333333333333333,
              "#9c179e"
             ],
             [
              0.4444444444444444,
              "#bd3786"
             ],
             [
              0.5555555555555556,
              "#d8576b"
             ],
             [
              0.6666666666666666,
              "#ed7953"
             ],
             [
              0.7777777777777778,
              "#fb9f3a"
             ],
             [
              0.8888888888888888,
              "#fdca26"
             ],
             [
              1,
              "#f0f921"
             ]
            ],
            "type": "surface"
           }
          ],
          "table": [
           {
            "cells": {
             "fill": {
              "color": "#EBF0F8"
             },
             "line": {
              "color": "white"
             }
            },
            "header": {
             "fill": {
              "color": "#C8D4E3"
             },
             "line": {
              "color": "white"
             }
            },
            "type": "table"
           }
          ]
         },
         "layout": {
          "annotationdefaults": {
           "arrowcolor": "#2a3f5f",
           "arrowhead": 0,
           "arrowwidth": 1
          },
          "autotypenumbers": "strict",
          "coloraxis": {
           "colorbar": {
            "outlinewidth": 0,
            "ticks": ""
           }
          },
          "colorscale": {
           "diverging": [
            [
             0,
             "#8e0152"
            ],
            [
             0.1,
             "#c51b7d"
            ],
            [
             0.2,
             "#de77ae"
            ],
            [
             0.3,
             "#f1b6da"
            ],
            [
             0.4,
             "#fde0ef"
            ],
            [
             0.5,
             "#f7f7f7"
            ],
            [
             0.6,
             "#e6f5d0"
            ],
            [
             0.7,
             "#b8e186"
            ],
            [
             0.8,
             "#7fbc41"
            ],
            [
             0.9,
             "#4d9221"
            ],
            [
             1,
             "#276419"
            ]
           ],
           "sequential": [
            [
             0,
             "#0d0887"
            ],
            [
             0.1111111111111111,
             "#46039f"
            ],
            [
             0.2222222222222222,
             "#7201a8"
            ],
            [
             0.3333333333333333,
             "#9c179e"
            ],
            [
             0.4444444444444444,
             "#bd3786"
            ],
            [
             0.5555555555555556,
             "#d8576b"
            ],
            [
             0.6666666666666666,
             "#ed7953"
            ],
            [
             0.7777777777777778,
             "#fb9f3a"
            ],
            [
             0.8888888888888888,
             "#fdca26"
            ],
            [
             1,
             "#f0f921"
            ]
           ],
           "sequentialminus": [
            [
             0,
             "#0d0887"
            ],
            [
             0.1111111111111111,
             "#46039f"
            ],
            [
             0.2222222222222222,
             "#7201a8"
            ],
            [
             0.3333333333333333,
             "#9c179e"
            ],
            [
             0.4444444444444444,
             "#bd3786"
            ],
            [
             0.5555555555555556,
             "#d8576b"
            ],
            [
             0.6666666666666666,
             "#ed7953"
            ],
            [
             0.7777777777777778,
             "#fb9f3a"
            ],
            [
             0.8888888888888888,
             "#fdca26"
            ],
            [
             1,
             "#f0f921"
            ]
           ]
          },
          "colorway": [
           "#636efa",
           "#EF553B",
           "#00cc96",
           "#ab63fa",
           "#FFA15A",
           "#19d3f3",
           "#FF6692",
           "#B6E880",
           "#FF97FF",
           "#FECB52"
          ],
          "font": {
           "color": "#2a3f5f"
          },
          "geo": {
           "bgcolor": "white",
           "lakecolor": "white",
           "landcolor": "#E5ECF6",
           "showlakes": true,
           "showland": true,
           "subunitcolor": "white"
          },
          "hoverlabel": {
           "align": "left"
          },
          "hovermode": "closest",
          "mapbox": {
           "style": "light"
          },
          "paper_bgcolor": "white",
          "plot_bgcolor": "#E5ECF6",
          "polar": {
           "angularaxis": {
            "gridcolor": "white",
            "linecolor": "white",
            "ticks": ""
           },
           "bgcolor": "#E5ECF6",
           "radialaxis": {
            "gridcolor": "white",
            "linecolor": "white",
            "ticks": ""
           }
          },
          "scene": {
           "xaxis": {
            "backgroundcolor": "#E5ECF6",
            "gridcolor": "white",
            "gridwidth": 2,
            "linecolor": "white",
            "showbackground": true,
            "ticks": "",
            "zerolinecolor": "white"
           },
           "yaxis": {
            "backgroundcolor": "#E5ECF6",
            "gridcolor": "white",
            "gridwidth": 2,
            "linecolor": "white",
            "showbackground": true,
            "ticks": "",
            "zerolinecolor": "white"
           },
           "zaxis": {
            "backgroundcolor": "#E5ECF6",
            "gridcolor": "white",
            "gridwidth": 2,
            "linecolor": "white",
            "showbackground": true,
            "ticks": "",
            "zerolinecolor": "white"
           }
          },
          "shapedefaults": {
           "line": {
            "color": "#2a3f5f"
           }
          },
          "ternary": {
           "aaxis": {
            "gridcolor": "white",
            "linecolor": "white",
            "ticks": ""
           },
           "baxis": {
            "gridcolor": "white",
            "linecolor": "white",
            "ticks": ""
           },
           "bgcolor": "#E5ECF6",
           "caxis": {
            "gridcolor": "white",
            "linecolor": "white",
            "ticks": ""
           }
          },
          "title": {
           "x": 0.05
          },
          "xaxis": {
           "automargin": true,
           "gridcolor": "white",
           "linecolor": "white",
           "ticks": "",
           "title": {
            "standoff": 15
           },
           "zerolinecolor": "white",
           "zerolinewidth": 2
          },
          "yaxis": {
           "automargin": true,
           "gridcolor": "white",
           "linecolor": "white",
           "ticks": "",
           "title": {
            "standoff": 15
           },
           "zerolinecolor": "white",
           "zerolinewidth": 2
          }
         }
        },
        "title": {
         "text": "<b>Hirai & Tarui, 1975  |  Number of Agents: 2</b>",
         "x": 0.5
        },
        "updatemenus": [
         {
          "buttons": [
           {
            "args": [
             null,
             {
              "frame": {
               "duration": 100,
               "redraw": true
              },
              "fromcurrent": true
             }
            ],
            "label": "Play",
            "method": "animate"
           }
          ],
          "direction": "left",
          "pad": {
           "r": 10,
           "t": 87
          },
          "showactive": false,
          "type": "buttons",
          "x": 0.1,
          "xanchor": "right",
          "y": 0,
          "yanchor": "top"
         }
        ],
        "width": 800,
        "xaxis": {
         "range": [
          -0.5,
          12.5
         ]
        },
        "yaxis": {
         "range": [
          -0.5,
          12.5
         ],
         "scaleanchor": "x",
         "scaleratio": 1
        }
       }
      }
     },
     "metadata": {},
     "output_type": "display_data"
    }
   ],
   "source": [
    "animate(data=traj, area=walkable_area, every_nth_frame=1, title_note=\"Hirai & Tarui, 1975\")"
   ]
  }
 ],
 "metadata": {
  "kernelspec": {
   "display_name": ".venv",
   "language": "python",
   "name": "python3"
  },
  "language_info": {
   "codemirror_mode": {
    "name": "ipython",
    "version": 3
   },
   "file_extension": ".py",
   "mimetype": "text/x-python",
   "name": "python",
   "nbconvert_exporter": "python",
   "pygments_lexer": "ipython3",
   "version": "3.13.1"
  }
 },
 "nbformat": 4,
 "nbformat_minor": 2
}
