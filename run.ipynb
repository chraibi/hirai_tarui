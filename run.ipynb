{
 "cells": [
  {
   "cell_type": "code",
   "execution_count": null,
   "metadata": {},
   "outputs": [],
   "source": [
    "from src.agents import Agent\n",
    "from src.utils import normalize, extract_walls_from_geometry\n",
    "from shapely.geometry import Polygon, Point\n",
    "import numpy as np\n",
    "import pandas as pd\n",
    "import pedpy\n",
    "import jupedsim as jps\n",
    "from jupedsim.internal.notebook_utils import animate"
   ]
  },
  {
   "cell_type": "code",
   "execution_count": null,
   "metadata": {},
   "outputs": [],
   "source": [
    "outer = [(0, 0), (10, 0), (10, 10), (0, 10)]\n",
    "hole = [(4, 4), (6, 4), (6, 6), (4, 6)]\n",
    "geometry = Polygon(shell=outer, holes=[hole])\n",
    "distribution  = [(7, 0), (10, 0), (10, 10), (7, 10)]\n",
    "walls = extract_walls_from_geometry(geometry)\n",
    "exits = [Polygon([(0, 0), (2, 0), (2, 2), (0, 2)])]\n",
    "positions = jps.distribute_by_number(\n",
    "    polygon=Polygon(distribution),\n",
    "    number_of_agents=10,\n",
    "    distance_to_agents=0.4,\n",
    "    distance_to_polygon=0.2)\n",
    "\n",
    "agents = []\n",
    "for positions in positions:\n",
    "    agent = Agent(position=positions, velocity=[-1.0, 0.0])\n",
    "    agents.append(agent)\n",
    "\n",
    "h_i = np.array([0.0, 0.0])\n",
    "dt, steps = 0.1, 200\n",
    "\n",
    "active_agents = list(range(len(agents)))  # keep track of active agent indices\n",
    "\n",
    "# Simulation\n",
    "trajectories = []\n",
    "for frame in range(steps):\n",
    "    # Store next state separately to avoid updates affecting other agents' inputs\n",
    "    next_positions = []\n",
    "    next_velocities = []\n",
    "    #for agent1 in agents: calculate the influnce of all other agents\n",
    "    print (f\"{frame = }\", end=\"\\r\")\n",
    "    for i in active_agents:\n",
    "        agent = agents[i]\n",
    "        # Gather others (positions and velocities)\n",
    "        others = [(agents[j].x, agents[j].v) for j in active_agents if j != i]\n",
    "        \n",
    "        # Compute forces and update\n",
    "        agent.compute_forces(others, walls, [], [], exits, h_i)\n",
    "        agent.update(dt)\n",
    "        \n",
    "        o = normalize(agent.v)\n",
    "        trajectories.append({\n",
    "            \"frame\": frame,\n",
    "            \"id\": i,\n",
    "            \"x\": agent.x[0],\n",
    "            \"y\": agent.x[1],\n",
    "            \"ox\": o[0],\n",
    "            \"oy\": o[1]\n",
    "        })\n",
    "    \n",
    "    # Remove agents who have reached the exit\n",
    "    still_active = []\n",
    "    for i in active_agents:\n",
    "        if not Point(agents[i].x).within(exits[0]):\n",
    "            still_active.append(i)\n",
    "        else:\n",
    "            print(f\"Agent {i} exited at frame {frame}\", end=\"\\r\")\n",
    "    \n",
    "    active_agents = still_active\n",
    "    \n",
    "    # Stop early if all agents are done\n",
    "    if not active_agents:\n",
    "        break\n",
    "# Convert to DataFrame\n",
    "df = pd.DataFrame(trajectories)"
   ]
  },
  {
   "cell_type": "code",
   "execution_count": null,
   "metadata": {},
   "outputs": [],
   "source": [
    "\n",
    "traj = pedpy.TrajectoryData(data=df, frame_rate=1/dt)\n",
    "walkable_area = pedpy.WalkableArea(polygon=geometry)\n",
    "pedpy.plot_trajectories(walkable_area=walkable_area, traj=traj)"
   ]
  },
  {
   "cell_type": "code",
   "execution_count": null,
   "metadata": {},
   "outputs": [],
   "source": [
    "animate(data=traj, area=walkable_area, every_nth_frame=1, title_note=\"Hirai&Tarui, 1975\")"
   ]
  }
 ],
 "metadata": {
  "kernelspec": {
   "display_name": ".venv",
   "language": "python",
   "name": "python3"
  },
  "language_info": {
   "codemirror_mode": {
    "name": "ipython",
    "version": 3
   },
   "file_extension": ".py",
   "mimetype": "text/x-python",
   "name": "python",
   "nbconvert_exporter": "python",
   "pygments_lexer": "ipython3",
   "version": "3.13.1"
  }
 },
 "nbformat": 4,
 "nbformat_minor": 2
}
